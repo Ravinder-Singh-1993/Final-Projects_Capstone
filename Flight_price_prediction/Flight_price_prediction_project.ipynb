{
 "cells": [
  {
   "cell_type": "markdown",
   "metadata": {
    "id": "w3oPoS9sKYUJ"
   },
   "source": [
    "# Flight Price Prediction\n",
    "Problem Statement:\n",
    "Flight ticket prices can be something hard to guess, today we might see a price, check out the price of the same flight tomorrow, it will be a different story. We might have often heard travellers saying that flight ticket prices are so unpredictable. Here you will be provided with prices of flight tickets for various airlines between the months of March and June of 2019 and between various cities.\n",
    "\n",
    "Size of training set: 10683 records\n",
    "\n",
    "Size of test set: 2671 records\n",
    "\n",
    "FEATURES:\n",
    "Airline: The name of the airline.\n",
    "\n",
    "Date_of_Journey: The date of the journey\n",
    "\n",
    "Source: The source from which the service begins.\n",
    "\n",
    "Destination: The destination where the service ends.\n",
    "\n",
    "Route: The route taken by the flight to reach the destination.\n",
    "\n",
    "Dep_Time: The time when the journey starts from the source.\n",
    "\n",
    "Arrival_Time: Time of arrival at the destination.\n",
    "\n",
    "Duration: Total duration of the flight.\n",
    "\n",
    "Total_Stops: Total stops between the source and destination.\n",
    "\n",
    "Additional_Info: Additional information about the flight\n",
    "\n",
    "Price: The price of the ticket\n",
    "\n",
    " \n",
    "\n",
    "You have to use your skills as a data scientist and build a machine learning model to predict the price of the flight ticket. "
   ]
  },
  {
   "cell_type": "markdown",
   "metadata": {
    "id": "8eToOWcVK97v"
   },
   "source": [
    "# Importing Libraries"
   ]
  },
  {
   "cell_type": "code",
   "execution_count": 140,
   "metadata": {
    "id": "2qG0-RLfJ2V9"
   },
   "outputs": [],
   "source": [
    "import pandas as pd\n",
    "import numpy as np\n",
    "import warnings\n",
    "import seaborn as sns\n",
    "import matplotlib.pyplot as plt\n",
    "warnings.filterwarnings('ignore')"
   ]
  },
  {
   "cell_type": "markdown",
   "metadata": {
    "id": "eW5UB_d-LFD5"
   },
   "source": [
    "# Importing Dataset"
   ]
  },
  {
   "cell_type": "code",
   "execution_count": 141,
   "metadata": {
    "id": "_jxRYGqfLByv"
   },
   "outputs": [],
   "source": [
    "train=pd.read_excel('Data_Train.xlsx')\n",
    "test=pd.read_excel('Test_set.xlsx')"
   ]
  },
  {
   "cell_type": "code",
   "execution_count": 142,
   "metadata": {
    "colab": {
     "base_uri": "https://localhost:8080/",
     "height": 206
    },
    "id": "RDPQK6CAUaKJ",
    "outputId": "05dd0e3a-21bb-4831-e714-d997073eb93e"
   },
   "outputs": [
    {
     "data": {
      "text/html": [
       "<div>\n",
       "<style scoped>\n",
       "    .dataframe tbody tr th:only-of-type {\n",
       "        vertical-align: middle;\n",
       "    }\n",
       "\n",
       "    .dataframe tbody tr th {\n",
       "        vertical-align: top;\n",
       "    }\n",
       "\n",
       "    .dataframe thead th {\n",
       "        text-align: right;\n",
       "    }\n",
       "</style>\n",
       "<table border=\"1\" class=\"dataframe\">\n",
       "  <thead>\n",
       "    <tr style=\"text-align: right;\">\n",
       "      <th></th>\n",
       "      <th>Airline</th>\n",
       "      <th>Date_of_Journey</th>\n",
       "      <th>Source</th>\n",
       "      <th>Destination</th>\n",
       "      <th>Route</th>\n",
       "      <th>Dep_Time</th>\n",
       "      <th>Arrival_Time</th>\n",
       "      <th>Duration</th>\n",
       "      <th>Total_Stops</th>\n",
       "      <th>Additional_Info</th>\n",
       "      <th>Price</th>\n",
       "    </tr>\n",
       "  </thead>\n",
       "  <tbody>\n",
       "    <tr>\n",
       "      <th>0</th>\n",
       "      <td>IndiGo</td>\n",
       "      <td>24/03/2019</td>\n",
       "      <td>Banglore</td>\n",
       "      <td>New Delhi</td>\n",
       "      <td>BLR → DEL</td>\n",
       "      <td>22:20</td>\n",
       "      <td>01:10 22 Mar</td>\n",
       "      <td>2h 50m</td>\n",
       "      <td>non-stop</td>\n",
       "      <td>No info</td>\n",
       "      <td>3897</td>\n",
       "    </tr>\n",
       "    <tr>\n",
       "      <th>1</th>\n",
       "      <td>Air India</td>\n",
       "      <td>1/05/2019</td>\n",
       "      <td>Kolkata</td>\n",
       "      <td>Banglore</td>\n",
       "      <td>CCU → IXR → BBI → BLR</td>\n",
       "      <td>05:50</td>\n",
       "      <td>13:15</td>\n",
       "      <td>7h 25m</td>\n",
       "      <td>2 stops</td>\n",
       "      <td>No info</td>\n",
       "      <td>7662</td>\n",
       "    </tr>\n",
       "    <tr>\n",
       "      <th>2</th>\n",
       "      <td>Jet Airways</td>\n",
       "      <td>9/06/2019</td>\n",
       "      <td>Delhi</td>\n",
       "      <td>Cochin</td>\n",
       "      <td>DEL → LKO → BOM → COK</td>\n",
       "      <td>09:25</td>\n",
       "      <td>04:25 10 Jun</td>\n",
       "      <td>19h</td>\n",
       "      <td>2 stops</td>\n",
       "      <td>No info</td>\n",
       "      <td>13882</td>\n",
       "    </tr>\n",
       "    <tr>\n",
       "      <th>3</th>\n",
       "      <td>IndiGo</td>\n",
       "      <td>12/05/2019</td>\n",
       "      <td>Kolkata</td>\n",
       "      <td>Banglore</td>\n",
       "      <td>CCU → NAG → BLR</td>\n",
       "      <td>18:05</td>\n",
       "      <td>23:30</td>\n",
       "      <td>5h 25m</td>\n",
       "      <td>1 stop</td>\n",
       "      <td>No info</td>\n",
       "      <td>6218</td>\n",
       "    </tr>\n",
       "    <tr>\n",
       "      <th>4</th>\n",
       "      <td>IndiGo</td>\n",
       "      <td>01/03/2019</td>\n",
       "      <td>Banglore</td>\n",
       "      <td>New Delhi</td>\n",
       "      <td>BLR → NAG → DEL</td>\n",
       "      <td>16:50</td>\n",
       "      <td>21:35</td>\n",
       "      <td>4h 45m</td>\n",
       "      <td>1 stop</td>\n",
       "      <td>No info</td>\n",
       "      <td>13302</td>\n",
       "    </tr>\n",
       "  </tbody>\n",
       "</table>\n",
       "</div>"
      ],
      "text/plain": [
       "       Airline Date_of_Journey    Source Destination                  Route  \\\n",
       "0       IndiGo      24/03/2019  Banglore   New Delhi              BLR → DEL   \n",
       "1    Air India       1/05/2019   Kolkata    Banglore  CCU → IXR → BBI → BLR   \n",
       "2  Jet Airways       9/06/2019     Delhi      Cochin  DEL → LKO → BOM → COK   \n",
       "3       IndiGo      12/05/2019   Kolkata    Banglore        CCU → NAG → BLR   \n",
       "4       IndiGo      01/03/2019  Banglore   New Delhi        BLR → NAG → DEL   \n",
       "\n",
       "  Dep_Time  Arrival_Time Duration Total_Stops Additional_Info  Price  \n",
       "0    22:20  01:10 22 Mar   2h 50m    non-stop         No info   3897  \n",
       "1    05:50         13:15   7h 25m     2 stops         No info   7662  \n",
       "2    09:25  04:25 10 Jun      19h     2 stops         No info  13882  \n",
       "3    18:05         23:30   5h 25m      1 stop         No info   6218  \n",
       "4    16:50         21:35   4h 45m      1 stop         No info  13302  "
      ]
     },
     "execution_count": 142,
     "metadata": {},
     "output_type": "execute_result"
    }
   ],
   "source": [
    "train.head()"
   ]
  },
  {
   "cell_type": "code",
   "execution_count": 143,
   "metadata": {
    "colab": {
     "base_uri": "https://localhost:8080/",
     "height": 206
    },
    "id": "t5qvKP5iUdtB",
    "outputId": "7edd67a6-b5d1-413b-dd4a-48b74a2cb868"
   },
   "outputs": [
    {
     "data": {
      "text/html": [
       "<div>\n",
       "<style scoped>\n",
       "    .dataframe tbody tr th:only-of-type {\n",
       "        vertical-align: middle;\n",
       "    }\n",
       "\n",
       "    .dataframe tbody tr th {\n",
       "        vertical-align: top;\n",
       "    }\n",
       "\n",
       "    .dataframe thead th {\n",
       "        text-align: right;\n",
       "    }\n",
       "</style>\n",
       "<table border=\"1\" class=\"dataframe\">\n",
       "  <thead>\n",
       "    <tr style=\"text-align: right;\">\n",
       "      <th></th>\n",
       "      <th>Airline</th>\n",
       "      <th>Date_of_Journey</th>\n",
       "      <th>Source</th>\n",
       "      <th>Destination</th>\n",
       "      <th>Route</th>\n",
       "      <th>Dep_Time</th>\n",
       "      <th>Arrival_Time</th>\n",
       "      <th>Duration</th>\n",
       "      <th>Total_Stops</th>\n",
       "      <th>Additional_Info</th>\n",
       "    </tr>\n",
       "  </thead>\n",
       "  <tbody>\n",
       "    <tr>\n",
       "      <th>0</th>\n",
       "      <td>Jet Airways</td>\n",
       "      <td>6/06/2019</td>\n",
       "      <td>Delhi</td>\n",
       "      <td>Cochin</td>\n",
       "      <td>DEL → BOM → COK</td>\n",
       "      <td>17:30</td>\n",
       "      <td>04:25 07 Jun</td>\n",
       "      <td>10h 55m</td>\n",
       "      <td>1 stop</td>\n",
       "      <td>No info</td>\n",
       "    </tr>\n",
       "    <tr>\n",
       "      <th>1</th>\n",
       "      <td>IndiGo</td>\n",
       "      <td>12/05/2019</td>\n",
       "      <td>Kolkata</td>\n",
       "      <td>Banglore</td>\n",
       "      <td>CCU → MAA → BLR</td>\n",
       "      <td>06:20</td>\n",
       "      <td>10:20</td>\n",
       "      <td>4h</td>\n",
       "      <td>1 stop</td>\n",
       "      <td>No info</td>\n",
       "    </tr>\n",
       "    <tr>\n",
       "      <th>2</th>\n",
       "      <td>Jet Airways</td>\n",
       "      <td>21/05/2019</td>\n",
       "      <td>Delhi</td>\n",
       "      <td>Cochin</td>\n",
       "      <td>DEL → BOM → COK</td>\n",
       "      <td>19:15</td>\n",
       "      <td>19:00 22 May</td>\n",
       "      <td>23h 45m</td>\n",
       "      <td>1 stop</td>\n",
       "      <td>In-flight meal not included</td>\n",
       "    </tr>\n",
       "    <tr>\n",
       "      <th>3</th>\n",
       "      <td>Multiple carriers</td>\n",
       "      <td>21/05/2019</td>\n",
       "      <td>Delhi</td>\n",
       "      <td>Cochin</td>\n",
       "      <td>DEL → BOM → COK</td>\n",
       "      <td>08:00</td>\n",
       "      <td>21:00</td>\n",
       "      <td>13h</td>\n",
       "      <td>1 stop</td>\n",
       "      <td>No info</td>\n",
       "    </tr>\n",
       "    <tr>\n",
       "      <th>4</th>\n",
       "      <td>Air Asia</td>\n",
       "      <td>24/06/2019</td>\n",
       "      <td>Banglore</td>\n",
       "      <td>Delhi</td>\n",
       "      <td>BLR → DEL</td>\n",
       "      <td>23:55</td>\n",
       "      <td>02:45 25 Jun</td>\n",
       "      <td>2h 50m</td>\n",
       "      <td>non-stop</td>\n",
       "      <td>No info</td>\n",
       "    </tr>\n",
       "  </tbody>\n",
       "</table>\n",
       "</div>"
      ],
      "text/plain": [
       "             Airline Date_of_Journey    Source Destination            Route  \\\n",
       "0        Jet Airways       6/06/2019     Delhi      Cochin  DEL → BOM → COK   \n",
       "1             IndiGo      12/05/2019   Kolkata    Banglore  CCU → MAA → BLR   \n",
       "2        Jet Airways      21/05/2019     Delhi      Cochin  DEL → BOM → COK   \n",
       "3  Multiple carriers      21/05/2019     Delhi      Cochin  DEL → BOM → COK   \n",
       "4           Air Asia      24/06/2019  Banglore       Delhi        BLR → DEL   \n",
       "\n",
       "  Dep_Time  Arrival_Time Duration Total_Stops              Additional_Info  \n",
       "0    17:30  04:25 07 Jun  10h 55m      1 stop                      No info  \n",
       "1    06:20         10:20       4h      1 stop                      No info  \n",
       "2    19:15  19:00 22 May  23h 45m      1 stop  In-flight meal not included  \n",
       "3    08:00         21:00      13h      1 stop                      No info  \n",
       "4    23:55  02:45 25 Jun   2h 50m    non-stop                      No info  "
      ]
     },
     "execution_count": 143,
     "metadata": {},
     "output_type": "execute_result"
    }
   ],
   "source": [
    "test.head()"
   ]
  },
  {
   "cell_type": "code",
   "execution_count": 144,
   "metadata": {
    "colab": {
     "base_uri": "https://localhost:8080/"
    },
    "id": "eTNCXqF5c6wS",
    "outputId": "f2b0afd5-9d2d-4af0-8b24-1ff971ab139a"
   },
   "outputs": [
    {
     "data": {
      "text/plain": [
       "220"
      ]
     },
     "execution_count": 144,
     "metadata": {},
     "output_type": "execute_result"
    }
   ],
   "source": [
    "train.duplicated().sum()"
   ]
  },
  {
   "cell_type": "markdown",
   "metadata": {
    "id": "ZU1b-G5ndtKI"
   },
   "source": [
    "### There are 220 Duplicate values present in the data"
   ]
  },
  {
   "cell_type": "code",
   "execution_count": 145,
   "metadata": {
    "colab": {
     "base_uri": "https://localhost:8080/"
    },
    "id": "EmZuFCftgc2y",
    "outputId": "a2ed5f79-38ad-4704-9653-05e453dfeea3"
   },
   "outputs": [
    {
     "data": {
      "text/plain": [
       "26"
      ]
     },
     "execution_count": 145,
     "metadata": {},
     "output_type": "execute_result"
    }
   ],
   "source": [
    "test.duplicated().sum()"
   ]
  },
  {
   "cell_type": "markdown",
   "metadata": {
    "id": "FgySXOtTgaV5"
   },
   "source": [
    "## There are 26 Duplicate values in test set"
   ]
  },
  {
   "cell_type": "code",
   "execution_count": 146,
   "metadata": {
    "id": "1aOdZ3pEdThe"
   },
   "outputs": [],
   "source": [
    "# dropping duplicate values from train set only\n",
    "\n",
    "train.drop_duplicates(keep=False,inplace=True)"
   ]
  },
  {
   "cell_type": "markdown",
   "metadata": {
    "id": "mfQc6_p0cPGQ"
   },
   "source": [
    "# Combine both the set for Feature Engineering and Analysis"
   ]
  },
  {
   "cell_type": "code",
   "execution_count": 147,
   "metadata": {
    "id": "qu-G1CWVcIWC"
   },
   "outputs": [],
   "source": [
    "flight_data= train.append(test,sort= False)"
   ]
  },
  {
   "cell_type": "markdown",
   "metadata": {
    "id": "4L3vph6pcu23"
   },
   "source": [
    "# Understanding the Data"
   ]
  },
  {
   "cell_type": "code",
   "execution_count": 148,
   "metadata": {
    "colab": {
     "base_uri": "https://localhost:8080/",
     "height": 206
    },
    "id": "PcRMpejKci2r",
    "outputId": "b3522a9c-9d21-48dd-d032-02e298245d67"
   },
   "outputs": [
    {
     "data": {
      "text/html": [
       "<div>\n",
       "<style scoped>\n",
       "    .dataframe tbody tr th:only-of-type {\n",
       "        vertical-align: middle;\n",
       "    }\n",
       "\n",
       "    .dataframe tbody tr th {\n",
       "        vertical-align: top;\n",
       "    }\n",
       "\n",
       "    .dataframe thead th {\n",
       "        text-align: right;\n",
       "    }\n",
       "</style>\n",
       "<table border=\"1\" class=\"dataframe\">\n",
       "  <thead>\n",
       "    <tr style=\"text-align: right;\">\n",
       "      <th></th>\n",
       "      <th>Airline</th>\n",
       "      <th>Date_of_Journey</th>\n",
       "      <th>Source</th>\n",
       "      <th>Destination</th>\n",
       "      <th>Route</th>\n",
       "      <th>Dep_Time</th>\n",
       "      <th>Arrival_Time</th>\n",
       "      <th>Duration</th>\n",
       "      <th>Total_Stops</th>\n",
       "      <th>Additional_Info</th>\n",
       "      <th>Price</th>\n",
       "    </tr>\n",
       "  </thead>\n",
       "  <tbody>\n",
       "    <tr>\n",
       "      <th>2666</th>\n",
       "      <td>Air India</td>\n",
       "      <td>6/06/2019</td>\n",
       "      <td>Kolkata</td>\n",
       "      <td>Banglore</td>\n",
       "      <td>CCU → DEL → BLR</td>\n",
       "      <td>20:30</td>\n",
       "      <td>20:25 07 Jun</td>\n",
       "      <td>23h 55m</td>\n",
       "      <td>1 stop</td>\n",
       "      <td>No info</td>\n",
       "      <td>NaN</td>\n",
       "    </tr>\n",
       "    <tr>\n",
       "      <th>2667</th>\n",
       "      <td>IndiGo</td>\n",
       "      <td>27/03/2019</td>\n",
       "      <td>Kolkata</td>\n",
       "      <td>Banglore</td>\n",
       "      <td>CCU → BLR</td>\n",
       "      <td>14:20</td>\n",
       "      <td>16:55</td>\n",
       "      <td>2h 35m</td>\n",
       "      <td>non-stop</td>\n",
       "      <td>No info</td>\n",
       "      <td>NaN</td>\n",
       "    </tr>\n",
       "    <tr>\n",
       "      <th>2668</th>\n",
       "      <td>Jet Airways</td>\n",
       "      <td>6/03/2019</td>\n",
       "      <td>Delhi</td>\n",
       "      <td>Cochin</td>\n",
       "      <td>DEL → BOM → COK</td>\n",
       "      <td>21:50</td>\n",
       "      <td>04:25 07 Mar</td>\n",
       "      <td>6h 35m</td>\n",
       "      <td>1 stop</td>\n",
       "      <td>No info</td>\n",
       "      <td>NaN</td>\n",
       "    </tr>\n",
       "    <tr>\n",
       "      <th>2669</th>\n",
       "      <td>Air India</td>\n",
       "      <td>6/03/2019</td>\n",
       "      <td>Delhi</td>\n",
       "      <td>Cochin</td>\n",
       "      <td>DEL → BOM → COK</td>\n",
       "      <td>04:00</td>\n",
       "      <td>19:15</td>\n",
       "      <td>15h 15m</td>\n",
       "      <td>1 stop</td>\n",
       "      <td>No info</td>\n",
       "      <td>NaN</td>\n",
       "    </tr>\n",
       "    <tr>\n",
       "      <th>2670</th>\n",
       "      <td>Multiple carriers</td>\n",
       "      <td>15/06/2019</td>\n",
       "      <td>Delhi</td>\n",
       "      <td>Cochin</td>\n",
       "      <td>DEL → BOM → COK</td>\n",
       "      <td>04:55</td>\n",
       "      <td>19:15</td>\n",
       "      <td>14h 20m</td>\n",
       "      <td>1 stop</td>\n",
       "      <td>No info</td>\n",
       "      <td>NaN</td>\n",
       "    </tr>\n",
       "  </tbody>\n",
       "</table>\n",
       "</div>"
      ],
      "text/plain": [
       "                Airline Date_of_Journey   Source Destination            Route  \\\n",
       "2666          Air India       6/06/2019  Kolkata    Banglore  CCU → DEL → BLR   \n",
       "2667             IndiGo      27/03/2019  Kolkata    Banglore        CCU → BLR   \n",
       "2668        Jet Airways       6/03/2019    Delhi      Cochin  DEL → BOM → COK   \n",
       "2669          Air India       6/03/2019    Delhi      Cochin  DEL → BOM → COK   \n",
       "2670  Multiple carriers      15/06/2019    Delhi      Cochin  DEL → BOM → COK   \n",
       "\n",
       "     Dep_Time  Arrival_Time Duration Total_Stops Additional_Info  Price  \n",
       "2666    20:30  20:25 07 Jun  23h 55m      1 stop         No info    NaN  \n",
       "2667    14:20         16:55   2h 35m    non-stop         No info    NaN  \n",
       "2668    21:50  04:25 07 Mar   6h 35m      1 stop         No info    NaN  \n",
       "2669    04:00         19:15  15h 15m      1 stop         No info    NaN  \n",
       "2670    04:55         19:15  14h 20m      1 stop         No info    NaN  "
      ]
     },
     "execution_count": 148,
     "metadata": {},
     "output_type": "execute_result"
    }
   ],
   "source": [
    "flight_data.tail()"
   ]
  },
  {
   "cell_type": "code",
   "execution_count": 149,
   "metadata": {
    "colab": {
     "base_uri": "https://localhost:8080/"
    },
    "id": "NU9cqU6PcnTO",
    "outputId": "5fc20bec-d271-4d3c-a3b5-60b21cea1980"
   },
   "outputs": [
    {
     "data": {
      "text/plain": [
       "(12939, 11)"
      ]
     },
     "execution_count": 149,
     "metadata": {},
     "output_type": "execute_result"
    }
   ],
   "source": [
    "flight_data.shape"
   ]
  },
  {
   "cell_type": "markdown",
   "metadata": {
    "id": "XzQzv96wc7py"
   },
   "source": [
    "### Checking for null values"
   ]
  },
  {
   "cell_type": "code",
   "execution_count": 150,
   "metadata": {
    "colab": {
     "base_uri": "https://localhost:8080/"
    },
    "id": "5vaz3exbcteT",
    "outputId": "cb34aa4a-7ced-4891-d328-6de6e5e73859"
   },
   "outputs": [
    {
     "data": {
      "text/plain": [
       "Airline               0\n",
       "Date_of_Journey       0\n",
       "Source                0\n",
       "Destination           0\n",
       "Route                 1\n",
       "Dep_Time              0\n",
       "Arrival_Time          0\n",
       "Duration              0\n",
       "Total_Stops           1\n",
       "Additional_Info       0\n",
       "Price              2671\n",
       "dtype: int64"
      ]
     },
     "execution_count": 150,
     "metadata": {},
     "output_type": "execute_result"
    }
   ],
   "source": [
    "flight_data.isna().sum()"
   ]
  },
  {
   "cell_type": "markdown",
   "metadata": {
    "id": "tsA95I5Tgx9h"
   },
   "source": [
    "# Data Analysis\n",
    "## We will be doing this on our Train data only"
   ]
  },
  {
   "cell_type": "code",
   "execution_count": 151,
   "metadata": {
    "colab": {
     "base_uri": "https://localhost:8080/"
    },
    "id": "4k_r6AkkfeYO",
    "outputId": "73b19967-68f1-48ac-ad90-192db66695d9"
   },
   "outputs": [
    {
     "data": {
      "text/plain": [
       "Jet Airways                          3569\n",
       "IndiGo                               2033\n",
       "Air India                            1645\n",
       "Multiple carriers                    1196\n",
       "SpiceJet                              812\n",
       "Vistara                               477\n",
       "Air Asia                              319\n",
       "GoAir                                 194\n",
       "Multiple carriers Premium economy      13\n",
       "Jet Airways Business                    6\n",
       "Vistara Premium economy                 3\n",
       "Trujet                                  1\n",
       "Name: Airline, dtype: int64"
      ]
     },
     "execution_count": 151,
     "metadata": {},
     "output_type": "execute_result"
    }
   ],
   "source": [
    "train['Airline'].value_counts() ## checking for airline data"
   ]
  },
  {
   "cell_type": "markdown",
   "metadata": {
    "id": "7LnqDmZ7hAup"
   },
   "source": [
    "Let's see the relation b/w airline and price"
   ]
  },
  {
   "cell_type": "code",
   "execution_count": 152,
   "metadata": {
    "colab": {
     "base_uri": "https://localhost:8080/",
     "height": 444
    },
    "id": "aKjeAnRMg8Sc",
    "outputId": "bc07f878-6195-46f6-9aad-b0845da20c84"
   },
   "outputs": [
    {
     "data": {
      "text/plain": [
       "<function matplotlib.pyplot.show(close=None, block=None)>"
      ]
     },
     "execution_count": 152,
     "metadata": {},
     "output_type": "execute_result"
    },
    {
     "data": {
      "image/png": "[encoded data removed]",
      "text/plain": [
       "<Figure size 1296x432 with 1 Axes>"
      ]
     },
     "metadata": {
      "needs_background": "light"
     },
     "output_type": "display_data"
    }
   ],
   "source": [
    "sns.catplot(y='Price',x='Airline',data= train.sort_values('Price',ascending=False),kind=\"boxen\",height=6, aspect=3)\n",
    "plt.show"
   ]
  },
  {
   "cell_type": "markdown",
   "metadata": {
    "id": "MlDLc4QBhZtj"
   },
   "source": [
    "### Jet airways business have the highest fare"
   ]
  },
  {
   "cell_type": "code",
   "execution_count": 153,
   "metadata": {
    "colab": {
     "base_uri": "https://localhost:8080/"
    },
    "id": "EFndX3n-hJ-e",
    "outputId": "c1caf0ec-ec84-404b-9820-0131a42a0a0f"
   },
   "outputs": [
    {
     "data": {
      "text/plain": [
       "Delhi       4179\n",
       "Kolkata     2850\n",
       "Banglore    2161\n",
       "Mumbai       697\n",
       "Chennai      381\n",
       "Name: Source, dtype: int64"
      ]
     },
     "execution_count": 153,
     "metadata": {},
     "output_type": "execute_result"
    }
   ],
   "source": [
    "train['Source'].value_counts() ## checking for Source"
   ]
  },
  {
   "cell_type": "markdown",
   "metadata": {
    "id": "3xy4sSLphmBy"
   },
   "source": [
    "### Finding relation b/w Source and price"
   ]
  },
  {
   "cell_type": "code",
   "execution_count": 154,
   "metadata": {
    "colab": {
     "base_uri": "https://localhost:8080/",
     "height": 386
    },
    "id": "C4OaZC3RhgL_",
    "outputId": "29d0b3cc-9023-473c-a360-c01d613242e9"
   },
   "outputs": [
    {
     "data": {
      "text/plain": [
       "<function matplotlib.pyplot.show(close=None, block=None)>"
      ]
     },
     "execution_count": 154,
     "metadata": {},
     "output_type": "execute_result"
    },
    {
     "data": {
      "image/png": "[encoded data removed]",
      "text/plain": [
       "<Figure size 1080x360 with 1 Axes>"
      ]
     },
     "metadata": {
      "needs_background": "light"
     },
     "output_type": "display_data"
    }
   ],
   "source": [
    "sns.catplot(y='Price',x='Source',data= train.sort_values('Price',ascending=False),kind=\"boxen\",height=5, aspect=3)\n",
    "plt.show"
   ]
  },
  {
   "cell_type": "markdown",
   "metadata": {
    "id": "nJh-d5DHh3DJ"
   },
   "source": [
    "### High values in Banglore and Delhi \n",
    "\n",
    "### High chances of Having Outliers"
   ]
  },
  {
   "cell_type": "code",
   "execution_count": 155,
   "metadata": {
    "colab": {
     "base_uri": "https://localhost:8080/"
    },
    "id": "6Q4hHAnohpkx",
    "outputId": "ce09e955-6ad0-4ab1-ed5f-4978bbd03e00"
   },
   "outputs": [
    {
     "data": {
      "text/plain": [
       "Cochin       4179\n",
       "Banglore     2850\n",
       "Delhi        1265\n",
       "New Delhi     896\n",
       "Hyderabad     697\n",
       "Kolkata       381\n",
       "Name: Destination, dtype: int64"
      ]
     },
     "execution_count": 155,
     "metadata": {},
     "output_type": "execute_result"
    }
   ],
   "source": [
    "train['Destination'].value_counts() ## checking for Destination"
   ]
  },
  {
   "cell_type": "markdown",
   "metadata": {
    "id": "Mc6gkZCNiUTe"
   },
   "source": [
    "### Finding relation b/w Destination and price"
   ]
  },
  {
   "cell_type": "code",
   "execution_count": 156,
   "metadata": {
    "colab": {
     "base_uri": "https://localhost:8080/",
     "height": 444
    },
    "id": "QnrmNGsaiLsa",
    "outputId": "9068dd26-8032-439e-8d20-607680bcf1c1"
   },
   "outputs": [
    {
     "data": {
      "text/plain": [
       "<function matplotlib.pyplot.show(close=None, block=None)>"
      ]
     },
     "execution_count": 156,
     "metadata": {},
     "output_type": "execute_result"
    },
    {
     "data": {
      "image/png": "[encoded data removed]",
      "text/plain": [
       "<Figure size 1296x432 with 1 Axes>"
      ]
     },
     "metadata": {
      "needs_background": "light"
     },
     "output_type": "display_data"
    }
   ],
   "source": [
    "sns.catplot(y='Price',x='Destination',data= train.sort_values('Price',ascending=False),kind=\"boxen\",height=6, aspect=3)\n",
    "plt.show"
   ]
  },
  {
   "cell_type": "markdown",
   "metadata": {
    "id": "1JCLR8r8jq8p"
   },
   "source": [
    "### Feature Engineering"
   ]
  },
  {
   "cell_type": "markdown",
   "metadata": {
    "id": "yCZF8eQakM7t"
   },
   "source": [
    "### Seperating Date, Month , Year from date"
   ]
  },
  {
   "cell_type": "code",
   "execution_count": 157,
   "metadata": {
    "id": "-Qb6x63Xji85"
   },
   "outputs": [],
   "source": [
    "flight_data['Date']=flight_data['Date_of_Journey'].str.split('/').str[0]\n",
    "flight_data['Month']=flight_data['Date_of_Journey'].str.split('/').str[1]\n",
    "flight_data['Year']=flight_data['Date_of_Journey'].str.split('/').str[2]"
   ]
  },
  {
   "cell_type": "code",
   "execution_count": 158,
   "metadata": {
    "id": "rE8F94tcj-h3"
   },
   "outputs": [],
   "source": [
    "## drop the original column\n",
    "flight_data.drop(['Date_of_Journey'],axis=1, inplace=True)"
   ]
  },
  {
   "cell_type": "code",
   "execution_count": 159,
   "metadata": {
    "id": "Ytb0bKfVkfV1"
   },
   "outputs": [],
   "source": [
    "## converting type as integer\n",
    "flight_data['Date']=flight_data['Date'].astype(int)\n",
    "flight_data['Month']=flight_data['Month'].astype(int)\n",
    "flight_data['Year']=flight_data['Year'].astype(int)"
   ]
  },
  {
   "cell_type": "code",
   "execution_count": 160,
   "metadata": {
    "colab": {
     "base_uri": "https://localhost:8080/"
    },
    "id": "cRWd3CkCkySU",
    "outputId": "bc964aad-736f-43c9-bcba-55b7902bc551"
   },
   "outputs": [
    {
     "data": {
      "text/plain": [
       "Airline             object\n",
       "Source              object\n",
       "Destination         object\n",
       "Route               object\n",
       "Dep_Time            object\n",
       "Arrival_Time        object\n",
       "Duration            object\n",
       "Total_Stops         object\n",
       "Additional_Info     object\n",
       "Price              float64\n",
       "Date                 int32\n",
       "Month                int32\n",
       "Year                 int32\n",
       "dtype: object"
      ]
     },
     "execution_count": 160,
     "metadata": {},
     "output_type": "execute_result"
    }
   ],
   "source": [
    "flight_data.dtypes"
   ]
  },
  {
   "cell_type": "markdown",
   "metadata": {
    "id": "X1rP-_5ik-fr"
   },
   "source": [
    "###  Additional Info has any effect on price, let's check"
   ]
  },
  {
   "cell_type": "code",
   "execution_count": 161,
   "metadata": {
    "colab": {
     "base_uri": "https://localhost:8080/"
    },
    "id": "tFOLDmgak43E",
    "outputId": "c506c890-7d31-4521-ed0c-4ed352e21703"
   },
   "outputs": [
    {
     "data": {
      "text/plain": [
       "No info                         10188\n",
       "In-flight meal not included      2320\n",
       "No check-in baggage included      392\n",
       "1 Long layover                     20\n",
       "Change airports                     8\n",
       "Business class                      5\n",
       "No Info                             3\n",
       "1 Short layover                     1\n",
       "Red-eye flight                      1\n",
       "2 Long layover                      1\n",
       "Name: Additional_Info, dtype: int64"
      ]
     },
     "execution_count": 161,
     "metadata": {},
     "output_type": "execute_result"
    }
   ],
   "source": [
    "flight_data['Additional_Info'].value_counts()"
   ]
  },
  {
   "cell_type": "code",
   "execution_count": 162,
   "metadata": {
    "colab": {
     "base_uri": "https://localhost:8080/",
     "height": 443
    },
    "id": "j1w5t6DglMga",
    "outputId": "e73c99ca-5bec-44d5-c8a7-ad8605a934c9"
   },
   "outputs": [
    {
     "data": {
      "text/plain": [
       "<function matplotlib.pyplot.show(close=None, block=None)>"
      ]
     },
     "execution_count": 162,
     "metadata": {},
     "output_type": "execute_result"
    },
    {
     "data": {
      "image/png": "[encoded data removed]",
      "text/plain": [
       "<Figure size 1296x432 with 1 Axes>"
      ]
     },
     "metadata": {
      "needs_background": "light"
     },
     "output_type": "display_data"
    }
   ],
   "source": [
    "sns.catplot(y='Price',x='Additional_Info',data=train.sort_values('Price',ascending=False),kind=\"boxen\",height=6, aspect=3)\n",
    "plt.show"
   ]
  },
  {
   "cell_type": "markdown",
   "metadata": {
    "id": "-Bntd9IPlxlp"
   },
   "source": [
    "### Filtering the Arrival Time"
   ]
  },
  {
   "cell_type": "code",
   "execution_count": 163,
   "metadata": {
    "colab": {
     "base_uri": "https://localhost:8080/",
     "height": 206
    },
    "id": "awrbQoxQlcBm",
    "outputId": "47430ebf-ebf8-4452-daf3-1e40614eb593"
   },
   "outputs": [
    {
     "data": {
      "text/html": [
       "<div>\n",
       "<style scoped>\n",
       "    .dataframe tbody tr th:only-of-type {\n",
       "        vertical-align: middle;\n",
       "    }\n",
       "\n",
       "    .dataframe tbody tr th {\n",
       "        vertical-align: top;\n",
       "    }\n",
       "\n",
       "    .dataframe thead th {\n",
       "        text-align: right;\n",
       "    }\n",
       "</style>\n",
       "<table border=\"1\" class=\"dataframe\">\n",
       "  <thead>\n",
       "    <tr style=\"text-align: right;\">\n",
       "      <th></th>\n",
       "      <th>Airline</th>\n",
       "      <th>Source</th>\n",
       "      <th>Destination</th>\n",
       "      <th>Route</th>\n",
       "      <th>Dep_Time</th>\n",
       "      <th>Arrival_Time</th>\n",
       "      <th>Duration</th>\n",
       "      <th>Total_Stops</th>\n",
       "      <th>Additional_Info</th>\n",
       "      <th>Price</th>\n",
       "      <th>Date</th>\n",
       "      <th>Month</th>\n",
       "      <th>Year</th>\n",
       "    </tr>\n",
       "  </thead>\n",
       "  <tbody>\n",
       "    <tr>\n",
       "      <th>0</th>\n",
       "      <td>IndiGo</td>\n",
       "      <td>Banglore</td>\n",
       "      <td>New Delhi</td>\n",
       "      <td>BLR → DEL</td>\n",
       "      <td>22:20</td>\n",
       "      <td>01:10</td>\n",
       "      <td>2h 50m</td>\n",
       "      <td>non-stop</td>\n",
       "      <td>No info</td>\n",
       "      <td>3897.0</td>\n",
       "      <td>24</td>\n",
       "      <td>3</td>\n",
       "      <td>2019</td>\n",
       "    </tr>\n",
       "    <tr>\n",
       "      <th>1</th>\n",
       "      <td>Air India</td>\n",
       "      <td>Kolkata</td>\n",
       "      <td>Banglore</td>\n",
       "      <td>CCU → IXR → BBI → BLR</td>\n",
       "      <td>05:50</td>\n",
       "      <td>13:15</td>\n",
       "      <td>7h 25m</td>\n",
       "      <td>2 stops</td>\n",
       "      <td>No info</td>\n",
       "      <td>7662.0</td>\n",
       "      <td>1</td>\n",
       "      <td>5</td>\n",
       "      <td>2019</td>\n",
       "    </tr>\n",
       "    <tr>\n",
       "      <th>2</th>\n",
       "      <td>Jet Airways</td>\n",
       "      <td>Delhi</td>\n",
       "      <td>Cochin</td>\n",
       "      <td>DEL → LKO → BOM → COK</td>\n",
       "      <td>09:25</td>\n",
       "      <td>04:25</td>\n",
       "      <td>19h</td>\n",
       "      <td>2 stops</td>\n",
       "      <td>No info</td>\n",
       "      <td>13882.0</td>\n",
       "      <td>9</td>\n",
       "      <td>6</td>\n",
       "      <td>2019</td>\n",
       "    </tr>\n",
       "    <tr>\n",
       "      <th>3</th>\n",
       "      <td>IndiGo</td>\n",
       "      <td>Kolkata</td>\n",
       "      <td>Banglore</td>\n",
       "      <td>CCU → NAG → BLR</td>\n",
       "      <td>18:05</td>\n",
       "      <td>23:30</td>\n",
       "      <td>5h 25m</td>\n",
       "      <td>1 stop</td>\n",
       "      <td>No info</td>\n",
       "      <td>6218.0</td>\n",
       "      <td>12</td>\n",
       "      <td>5</td>\n",
       "      <td>2019</td>\n",
       "    </tr>\n",
       "    <tr>\n",
       "      <th>4</th>\n",
       "      <td>IndiGo</td>\n",
       "      <td>Banglore</td>\n",
       "      <td>New Delhi</td>\n",
       "      <td>BLR → NAG → DEL</td>\n",
       "      <td>16:50</td>\n",
       "      <td>21:35</td>\n",
       "      <td>4h 45m</td>\n",
       "      <td>1 stop</td>\n",
       "      <td>No info</td>\n",
       "      <td>13302.0</td>\n",
       "      <td>1</td>\n",
       "      <td>3</td>\n",
       "      <td>2019</td>\n",
       "    </tr>\n",
       "  </tbody>\n",
       "</table>\n",
       "</div>"
      ],
      "text/plain": [
       "       Airline    Source Destination                  Route Dep_Time  \\\n",
       "0       IndiGo  Banglore   New Delhi              BLR → DEL    22:20   \n",
       "1    Air India   Kolkata    Banglore  CCU → IXR → BBI → BLR    05:50   \n",
       "2  Jet Airways     Delhi      Cochin  DEL → LKO → BOM → COK    09:25   \n",
       "3       IndiGo   Kolkata    Banglore        CCU → NAG → BLR    18:05   \n",
       "4       IndiGo  Banglore   New Delhi        BLR → NAG → DEL    16:50   \n",
       "\n",
       "  Arrival_Time Duration Total_Stops Additional_Info    Price  Date  Month  \\\n",
       "0        01:10   2h 50m    non-stop         No info   3897.0    24      3   \n",
       "1        13:15   7h 25m     2 stops         No info   7662.0     1      5   \n",
       "2        04:25      19h     2 stops         No info  13882.0     9      6   \n",
       "3        23:30   5h 25m      1 stop         No info   6218.0    12      5   \n",
       "4        21:35   4h 45m      1 stop         No info  13302.0     1      3   \n",
       "\n",
       "   Year  \n",
       "0  2019  \n",
       "1  2019  \n",
       "2  2019  \n",
       "3  2019  \n",
       "4  2019  "
      ]
     },
     "execution_count": 163,
     "metadata": {},
     "output_type": "execute_result"
    }
   ],
   "source": [
    "flight_data['Arrival_Time']=flight_data['Arrival_Time'].str.split(' ').str[0]\n",
    "flight_data.head()"
   ]
  },
  {
   "cell_type": "markdown",
   "metadata": {
    "id": "yS0vtCzVmb2K"
   },
   "source": [
    "### Anlysing our Stop coloumn"
   ]
  },
  {
   "cell_type": "code",
   "execution_count": 164,
   "metadata": {
    "colab": {
     "base_uri": "https://localhost:8080/"
    },
    "id": "yzBhWHVVmIZB",
    "outputId": "2c74a0b8-fcd4-45a7-a918-0a1c4d322528"
   },
   "outputs": [
    {
     "data": {
      "text/plain": [
       "array(['non-stop', '2 stops', '1 stop', '3 stops', nan, '4 stops'],\n",
       "      dtype=object)"
      ]
     },
     "execution_count": 164,
     "metadata": {},
     "output_type": "execute_result"
    }
   ],
   "source": [
    "flight_data['Total_Stops'].unique()"
   ]
  },
  {
   "cell_type": "markdown",
   "metadata": {
    "id": "SzEA8Xn4nOZb"
   },
   "source": [
    "## Has nan values"
   ]
  },
  {
   "cell_type": "code",
   "execution_count": 165,
   "metadata": {
    "colab": {
     "base_uri": "https://localhost:8080/"
    },
    "id": "PPmpLmJ1m8iG",
    "outputId": "2fcbb85e-c2bb-4464-de4d-dc549995177c"
   },
   "outputs": [
    {
     "data": {
      "text/plain": [
       "1 stop      7056\n",
       "non-stop    4308\n",
       "2 stops     1520\n",
       "3 stops       52\n",
       "4 stops        2\n",
       "Name: Total_Stops, dtype: int64"
      ]
     },
     "execution_count": 165,
     "metadata": {},
     "output_type": "execute_result"
    }
   ],
   "source": [
    "flight_data['Total_Stops'].value_counts()"
   ]
  },
  {
   "cell_type": "code",
   "execution_count": 166,
   "metadata": {
    "id": "cc2WFnxQmmjI"
   },
   "outputs": [],
   "source": [
    "## fill by mode\n",
    "flight_data['Total_Stops']=flight_data['Total_Stops'].fillna('1 stop')"
   ]
  },
  {
   "cell_type": "code",
   "execution_count": 167,
   "metadata": {
    "colab": {
     "base_uri": "https://localhost:8080/"
    },
    "id": "mKyopI4DmqUh",
    "outputId": "37c84451-456d-437c-a059-cb28a9a4f472"
   },
   "outputs": [
    {
     "data": {
      "text/plain": [
       "0"
      ]
     },
     "execution_count": 167,
     "metadata": {},
     "output_type": "execute_result"
    }
   ],
   "source": [
    "flight_data['Total_Stops'].isnull().sum()"
   ]
  },
  {
   "cell_type": "code",
   "execution_count": 168,
   "metadata": {
    "id": "Hi1wAPctnkBg"
   },
   "outputs": [],
   "source": [
    "flight_data['Total_Stops']=flight_data['Total_Stops'].replace('non-stop','0 stop')"
   ]
  },
  {
   "cell_type": "code",
   "execution_count": 169,
   "metadata": {
    "id": "nOjAcG3voHcH"
   },
   "outputs": [],
   "source": [
    "flight_data['Stop'] = flight_data['Total_Stops'].str.split(' ').str[0]\n",
    "flight_data.drop(['Total_Stops'],axis=1,inplace=True)\n",
    "flight_data['Stop']=flight_data['Stop'].astype(int)"
   ]
  },
  {
   "cell_type": "markdown",
   "metadata": {
    "id": "ntvt0xQDozFZ"
   },
   "source": [
    "### Arrival_ time"
   ]
  },
  {
   "cell_type": "code",
   "execution_count": 170,
   "metadata": {
    "id": "dMSXfvWmoH63"
   },
   "outputs": [],
   "source": [
    "flight_data['Arrival_Hour'] = flight_data['Arrival_Time'] .str.split(':').str[0]\n",
    "flight_data['Arrival_Minute'] = flight_data['Arrival_Time'] .str.split(':').str[1]"
   ]
  },
  {
   "cell_type": "code",
   "execution_count": 171,
   "metadata": {
    "id": "lmHJnNg8oH8x"
   },
   "outputs": [],
   "source": [
    "flight_data['Arrival_Hour']=flight_data['Arrival_Hour'].astype(int)\n",
    "flight_data['Arrival_Minute']=flight_data['Arrival_Minute'].astype(int)\n",
    "flight_data.drop(['Arrival_Time'],axis=1, inplace= True)"
   ]
  },
  {
   "cell_type": "markdown",
   "metadata": {
    "id": "OZfrR-CgpgZC"
   },
   "source": [
    "### Departure Time"
   ]
  },
  {
   "cell_type": "code",
   "execution_count": 172,
   "metadata": {
    "id": "BcoTFR0uoIAS"
   },
   "outputs": [],
   "source": [
    "flight_data['Departure_Hour'] = flight_data['Dep_Time'] .str.split(':').str[0]\n",
    "flight_data['Departure_Minute'] = flight_data['Dep_Time'] .str.split(':').str[1]\n",
    "flight_data['Departure_Hour']= flight_data['Departure_Hour'].astype(int)\n",
    "flight_data['Departure_Minute']= flight_data['Departure_Minute'].astype(int)\n",
    "flight_data.drop(['Dep_Time'],axis=1,inplace= True)"
   ]
  },
  {
   "cell_type": "code",
   "execution_count": 173,
   "metadata": {
    "colab": {
     "base_uri": "https://localhost:8080/",
     "height": 652
    },
    "id": "0yUWNRvLoICb",
    "outputId": "54a6a51b-1189-4490-b343-183b083b120c"
   },
   "outputs": [
    {
     "data": {
      "text/html": [
       "<div>\n",
       "<style scoped>\n",
       "    .dataframe tbody tr th:only-of-type {\n",
       "        vertical-align: middle;\n",
       "    }\n",
       "\n",
       "    .dataframe tbody tr th {\n",
       "        vertical-align: top;\n",
       "    }\n",
       "\n",
       "    .dataframe thead th {\n",
       "        text-align: right;\n",
       "    }\n",
       "</style>\n",
       "<table border=\"1\" class=\"dataframe\">\n",
       "  <thead>\n",
       "    <tr style=\"text-align: right;\">\n",
       "      <th></th>\n",
       "      <th>Airline</th>\n",
       "      <th>Source</th>\n",
       "      <th>Destination</th>\n",
       "      <th>Route</th>\n",
       "      <th>Duration</th>\n",
       "      <th>Additional_Info</th>\n",
       "      <th>Price</th>\n",
       "      <th>Date</th>\n",
       "      <th>Month</th>\n",
       "      <th>Year</th>\n",
       "      <th>Stop</th>\n",
       "      <th>Arrival_Hour</th>\n",
       "      <th>Arrival_Minute</th>\n",
       "      <th>Departure_Hour</th>\n",
       "      <th>Departure_Minute</th>\n",
       "    </tr>\n",
       "  </thead>\n",
       "  <tbody>\n",
       "    <tr>\n",
       "      <th>0</th>\n",
       "      <td>IndiGo</td>\n",
       "      <td>Banglore</td>\n",
       "      <td>New Delhi</td>\n",
       "      <td>BLR → DEL</td>\n",
       "      <td>2h 50m</td>\n",
       "      <td>No info</td>\n",
       "      <td>3897.0</td>\n",
       "      <td>24</td>\n",
       "      <td>3</td>\n",
       "      <td>2019</td>\n",
       "      <td>0</td>\n",
       "      <td>1</td>\n",
       "      <td>10</td>\n",
       "      <td>22</td>\n",
       "      <td>20</td>\n",
       "    </tr>\n",
       "    <tr>\n",
       "      <th>1</th>\n",
       "      <td>Air India</td>\n",
       "      <td>Kolkata</td>\n",
       "      <td>Banglore</td>\n",
       "      <td>CCU → IXR → BBI → BLR</td>\n",
       "      <td>7h 25m</td>\n",
       "      <td>No info</td>\n",
       "      <td>7662.0</td>\n",
       "      <td>1</td>\n",
       "      <td>5</td>\n",
       "      <td>2019</td>\n",
       "      <td>2</td>\n",
       "      <td>13</td>\n",
       "      <td>15</td>\n",
       "      <td>5</td>\n",
       "      <td>50</td>\n",
       "    </tr>\n",
       "    <tr>\n",
       "      <th>2</th>\n",
       "      <td>Jet Airways</td>\n",
       "      <td>Delhi</td>\n",
       "      <td>Cochin</td>\n",
       "      <td>DEL → LKO → BOM → COK</td>\n",
       "      <td>19h</td>\n",
       "      <td>No info</td>\n",
       "      <td>13882.0</td>\n",
       "      <td>9</td>\n",
       "      <td>6</td>\n",
       "      <td>2019</td>\n",
       "      <td>2</td>\n",
       "      <td>4</td>\n",
       "      <td>25</td>\n",
       "      <td>9</td>\n",
       "      <td>25</td>\n",
       "    </tr>\n",
       "    <tr>\n",
       "      <th>3</th>\n",
       "      <td>IndiGo</td>\n",
       "      <td>Kolkata</td>\n",
       "      <td>Banglore</td>\n",
       "      <td>CCU → NAG → BLR</td>\n",
       "      <td>5h 25m</td>\n",
       "      <td>No info</td>\n",
       "      <td>6218.0</td>\n",
       "      <td>12</td>\n",
       "      <td>5</td>\n",
       "      <td>2019</td>\n",
       "      <td>1</td>\n",
       "      <td>23</td>\n",
       "      <td>30</td>\n",
       "      <td>18</td>\n",
       "      <td>5</td>\n",
       "    </tr>\n",
       "    <tr>\n",
       "      <th>4</th>\n",
       "      <td>IndiGo</td>\n",
       "      <td>Banglore</td>\n",
       "      <td>New Delhi</td>\n",
       "      <td>BLR → NAG → DEL</td>\n",
       "      <td>4h 45m</td>\n",
       "      <td>No info</td>\n",
       "      <td>13302.0</td>\n",
       "      <td>1</td>\n",
       "      <td>3</td>\n",
       "      <td>2019</td>\n",
       "      <td>1</td>\n",
       "      <td>21</td>\n",
       "      <td>35</td>\n",
       "      <td>16</td>\n",
       "      <td>50</td>\n",
       "    </tr>\n",
       "  </tbody>\n",
       "</table>\n",
       "</div>"
      ],
      "text/plain": [
       "       Airline    Source Destination                  Route Duration  \\\n",
       "0       IndiGo  Banglore   New Delhi              BLR → DEL   2h 50m   \n",
       "1    Air India   Kolkata    Banglore  CCU → IXR → BBI → BLR   7h 25m   \n",
       "2  Jet Airways     Delhi      Cochin  DEL → LKO → BOM → COK      19h   \n",
       "3       IndiGo   Kolkata    Banglore        CCU → NAG → BLR   5h 25m   \n",
       "4       IndiGo  Banglore   New Delhi        BLR → NAG → DEL   4h 45m   \n",
       "\n",
       "  Additional_Info    Price  Date  Month  Year  Stop  Arrival_Hour  \\\n",
       "0         No info   3897.0    24      3  2019     0             1   \n",
       "1         No info   7662.0     1      5  2019     2            13   \n",
       "2         No info  13882.0     9      6  2019     2             4   \n",
       "3         No info   6218.0    12      5  2019     1            23   \n",
       "4         No info  13302.0     1      3  2019     1            21   \n",
       "\n",
       "   Arrival_Minute  Departure_Hour  Departure_Minute  \n",
       "0              10              22                20  \n",
       "1              15               5                50  \n",
       "2              25               9                25  \n",
       "3              30              18                 5  \n",
       "4              35              16                50  "
      ]
     },
     "execution_count": 173,
     "metadata": {},
     "output_type": "execute_result"
    }
   ],
   "source": [
    "flight_data.head()"
   ]
  },
  {
   "cell_type": "markdown",
   "metadata": {
    "id": "BzUdwc8_qfBS"
   },
   "source": [
    "## Splitting Route Column"
   ]
  },
  {
   "cell_type": "code",
   "execution_count": 174,
   "metadata": {
    "id": "5YJADvsvqR1I"
   },
   "outputs": [],
   "source": [
    "flight_data['Route_1']= flight_data['Route'].str.split('→ ').str[0]\n",
    "flight_data['Route_2']= flight_data['Route'].str.split('→ ').str[1]\n",
    "flight_data['Route_3']= flight_data['Route'].str.split('→ ').str[2]\n",
    "flight_data['Route_4']= flight_data['Route'].str.split('→ ').str[3]\n",
    "flight_data['Route_5']= flight_data['Route'].str.split('→ ').str[4]"
   ]
  },
  {
   "cell_type": "markdown",
   "metadata": {
    "id": "b9Ax73acrFT9"
   },
   "source": [
    "### Filling null values"
   ]
  },
  {
   "cell_type": "code",
   "execution_count": 175,
   "metadata": {
    "id": "1Ya2XEA3q9uS"
   },
   "outputs": [],
   "source": [
    "flight_data['Route_1'].fillna(\"None\",inplace=True)\n",
    "flight_data['Route_2'].fillna(\"None\",inplace=True)\n",
    "flight_data['Route_3'].fillna(\"None\",inplace=True)\n",
    "flight_data['Route_4'].fillna(\"None\",inplace=True)\n",
    "flight_data['Route_5'].fillna(\"None\",inplace=True)"
   ]
  },
  {
   "cell_type": "code",
   "execution_count": 176,
   "metadata": {
    "colab": {
     "base_uri": "https://localhost:8080/",
     "height": 652
    },
    "id": "LyTArVcwrYxv",
    "outputId": "71f765bd-e15c-4fcc-ab91-baefa2563a52"
   },
   "outputs": [
    {
     "data": {
      "text/html": [
       "<div>\n",
       "<style scoped>\n",
       "    .dataframe tbody tr th:only-of-type {\n",
       "        vertical-align: middle;\n",
       "    }\n",
       "\n",
       "    .dataframe tbody tr th {\n",
       "        vertical-align: top;\n",
       "    }\n",
       "\n",
       "    .dataframe thead th {\n",
       "        text-align: right;\n",
       "    }\n",
       "</style>\n",
       "<table border=\"1\" class=\"dataframe\">\n",
       "  <thead>\n",
       "    <tr style=\"text-align: right;\">\n",
       "      <th></th>\n",
       "      <th>Airline</th>\n",
       "      <th>Source</th>\n",
       "      <th>Destination</th>\n",
       "      <th>Route</th>\n",
       "      <th>Duration</th>\n",
       "      <th>Additional_Info</th>\n",
       "      <th>Price</th>\n",
       "      <th>Date</th>\n",
       "      <th>Month</th>\n",
       "      <th>Year</th>\n",
       "      <th>Stop</th>\n",
       "      <th>Arrival_Hour</th>\n",
       "      <th>Arrival_Minute</th>\n",
       "      <th>Departure_Hour</th>\n",
       "      <th>Departure_Minute</th>\n",
       "      <th>Route_1</th>\n",
       "      <th>Route_2</th>\n",
       "      <th>Route_3</th>\n",
       "      <th>Route_4</th>\n",
       "      <th>Route_5</th>\n",
       "    </tr>\n",
       "  </thead>\n",
       "  <tbody>\n",
       "    <tr>\n",
       "      <th>0</th>\n",
       "      <td>IndiGo</td>\n",
       "      <td>Banglore</td>\n",
       "      <td>New Delhi</td>\n",
       "      <td>BLR → DEL</td>\n",
       "      <td>2h 50m</td>\n",
       "      <td>No info</td>\n",
       "      <td>3897.0</td>\n",
       "      <td>24</td>\n",
       "      <td>3</td>\n",
       "      <td>2019</td>\n",
       "      <td>0</td>\n",
       "      <td>1</td>\n",
       "      <td>10</td>\n",
       "      <td>22</td>\n",
       "      <td>20</td>\n",
       "      <td>BLR</td>\n",
       "      <td>DEL</td>\n",
       "      <td>None</td>\n",
       "      <td>None</td>\n",
       "      <td>None</td>\n",
       "    </tr>\n",
       "    <tr>\n",
       "      <th>1</th>\n",
       "      <td>Air India</td>\n",
       "      <td>Kolkata</td>\n",
       "      <td>Banglore</td>\n",
       "      <td>CCU → IXR → BBI → BLR</td>\n",
       "      <td>7h 25m</td>\n",
       "      <td>No info</td>\n",
       "      <td>7662.0</td>\n",
       "      <td>1</td>\n",
       "      <td>5</td>\n",
       "      <td>2019</td>\n",
       "      <td>2</td>\n",
       "      <td>13</td>\n",
       "      <td>15</td>\n",
       "      <td>5</td>\n",
       "      <td>50</td>\n",
       "      <td>CCU</td>\n",
       "      <td>IXR</td>\n",
       "      <td>BBI</td>\n",
       "      <td>BLR</td>\n",
       "      <td>None</td>\n",
       "    </tr>\n",
       "    <tr>\n",
       "      <th>2</th>\n",
       "      <td>Jet Airways</td>\n",
       "      <td>Delhi</td>\n",
       "      <td>Cochin</td>\n",
       "      <td>DEL → LKO → BOM → COK</td>\n",
       "      <td>19h</td>\n",
       "      <td>No info</td>\n",
       "      <td>13882.0</td>\n",
       "      <td>9</td>\n",
       "      <td>6</td>\n",
       "      <td>2019</td>\n",
       "      <td>2</td>\n",
       "      <td>4</td>\n",
       "      <td>25</td>\n",
       "      <td>9</td>\n",
       "      <td>25</td>\n",
       "      <td>DEL</td>\n",
       "      <td>LKO</td>\n",
       "      <td>BOM</td>\n",
       "      <td>COK</td>\n",
       "      <td>None</td>\n",
       "    </tr>\n",
       "    <tr>\n",
       "      <th>3</th>\n",
       "      <td>IndiGo</td>\n",
       "      <td>Kolkata</td>\n",
       "      <td>Banglore</td>\n",
       "      <td>CCU → NAG → BLR</td>\n",
       "      <td>5h 25m</td>\n",
       "      <td>No info</td>\n",
       "      <td>6218.0</td>\n",
       "      <td>12</td>\n",
       "      <td>5</td>\n",
       "      <td>2019</td>\n",
       "      <td>1</td>\n",
       "      <td>23</td>\n",
       "      <td>30</td>\n",
       "      <td>18</td>\n",
       "      <td>5</td>\n",
       "      <td>CCU</td>\n",
       "      <td>NAG</td>\n",
       "      <td>BLR</td>\n",
       "      <td>None</td>\n",
       "      <td>None</td>\n",
       "    </tr>\n",
       "    <tr>\n",
       "      <th>4</th>\n",
       "      <td>IndiGo</td>\n",
       "      <td>Banglore</td>\n",
       "      <td>New Delhi</td>\n",
       "      <td>BLR → NAG → DEL</td>\n",
       "      <td>4h 45m</td>\n",
       "      <td>No info</td>\n",
       "      <td>13302.0</td>\n",
       "      <td>1</td>\n",
       "      <td>3</td>\n",
       "      <td>2019</td>\n",
       "      <td>1</td>\n",
       "      <td>21</td>\n",
       "      <td>35</td>\n",
       "      <td>16</td>\n",
       "      <td>50</td>\n",
       "      <td>BLR</td>\n",
       "      <td>NAG</td>\n",
       "      <td>DEL</td>\n",
       "      <td>None</td>\n",
       "      <td>None</td>\n",
       "    </tr>\n",
       "  </tbody>\n",
       "</table>\n",
       "</div>"
      ],
      "text/plain": [
       "       Airline    Source Destination                  Route Duration  \\\n",
       "0       IndiGo  Banglore   New Delhi              BLR → DEL   2h 50m   \n",
       "1    Air India   Kolkata    Banglore  CCU → IXR → BBI → BLR   7h 25m   \n",
       "2  Jet Airways     Delhi      Cochin  DEL → LKO → BOM → COK      19h   \n",
       "3       IndiGo   Kolkata    Banglore        CCU → NAG → BLR   5h 25m   \n",
       "4       IndiGo  Banglore   New Delhi        BLR → NAG → DEL   4h 45m   \n",
       "\n",
       "  Additional_Info    Price  Date  Month  Year  Stop  Arrival_Hour  \\\n",
       "0         No info   3897.0    24      3  2019     0             1   \n",
       "1         No info   7662.0     1      5  2019     2            13   \n",
       "2         No info  13882.0     9      6  2019     2             4   \n",
       "3         No info   6218.0    12      5  2019     1            23   \n",
       "4         No info  13302.0     1      3  2019     1            21   \n",
       "\n",
       "   Arrival_Minute  Departure_Hour  Departure_Minute Route_1 Route_2 Route_3  \\\n",
       "0              10              22                20    BLR      DEL    None   \n",
       "1              15               5                50    CCU     IXR     BBI    \n",
       "2              25               9                25    DEL     LKO     BOM    \n",
       "3              30              18                 5    CCU     NAG      BLR   \n",
       "4              35              16                50    BLR     NAG      DEL   \n",
       "\n",
       "  Route_4 Route_5  \n",
       "0    None    None  \n",
       "1     BLR    None  \n",
       "2     COK    None  \n",
       "3    None    None  \n",
       "4    None    None  "
      ]
     },
     "execution_count": 176,
     "metadata": {},
     "output_type": "execute_result"
    }
   ],
   "source": [
    "flight_data.head()"
   ]
  },
  {
   "cell_type": "markdown",
   "metadata": {
    "id": "7yNX5KDGrzLM"
   },
   "source": [
    "### Dropping columns like Route and Duration"
   ]
  },
  {
   "cell_type": "code",
   "execution_count": 177,
   "metadata": {
    "id": "it6KtgxyrdhT"
   },
   "outputs": [],
   "source": [
    "flight_data.drop(['Route'],axis=1, inplace=True)"
   ]
  },
  {
   "cell_type": "code",
   "execution_count": 178,
   "metadata": {
    "colab": {
     "base_uri": "https://localhost:8080/",
     "height": 288
    },
    "id": "taAtJIQFr_w4",
    "outputId": "b170581d-0ada-423a-9d53-a211e749a317"
   },
   "outputs": [
    {
     "data": {
      "text/html": [
       "<div>\n",
       "<style scoped>\n",
       "    .dataframe tbody tr th:only-of-type {\n",
       "        vertical-align: middle;\n",
       "    }\n",
       "\n",
       "    .dataframe tbody tr th {\n",
       "        vertical-align: top;\n",
       "    }\n",
       "\n",
       "    .dataframe thead th {\n",
       "        text-align: right;\n",
       "    }\n",
       "</style>\n",
       "<table border=\"1\" class=\"dataframe\">\n",
       "  <thead>\n",
       "    <tr style=\"text-align: right;\">\n",
       "      <th></th>\n",
       "      <th>Airline</th>\n",
       "      <th>Source</th>\n",
       "      <th>Destination</th>\n",
       "      <th>Duration</th>\n",
       "      <th>Additional_Info</th>\n",
       "      <th>Price</th>\n",
       "      <th>Date</th>\n",
       "      <th>Month</th>\n",
       "      <th>Year</th>\n",
       "      <th>Stop</th>\n",
       "      <th>Arrival_Hour</th>\n",
       "      <th>Arrival_Minute</th>\n",
       "      <th>Departure_Hour</th>\n",
       "      <th>Departure_Minute</th>\n",
       "      <th>Route_1</th>\n",
       "      <th>Route_2</th>\n",
       "      <th>Route_3</th>\n",
       "      <th>Route_4</th>\n",
       "      <th>Route_5</th>\n",
       "    </tr>\n",
       "  </thead>\n",
       "  <tbody>\n",
       "    <tr>\n",
       "      <th>0</th>\n",
       "      <td>IndiGo</td>\n",
       "      <td>Banglore</td>\n",
       "      <td>New Delhi</td>\n",
       "      <td>2h 50m</td>\n",
       "      <td>No info</td>\n",
       "      <td>3897.0</td>\n",
       "      <td>24</td>\n",
       "      <td>3</td>\n",
       "      <td>2019</td>\n",
       "      <td>0</td>\n",
       "      <td>1</td>\n",
       "      <td>10</td>\n",
       "      <td>22</td>\n",
       "      <td>20</td>\n",
       "      <td>BLR</td>\n",
       "      <td>DEL</td>\n",
       "      <td>None</td>\n",
       "      <td>None</td>\n",
       "      <td>None</td>\n",
       "    </tr>\n",
       "    <tr>\n",
       "      <th>1</th>\n",
       "      <td>Air India</td>\n",
       "      <td>Kolkata</td>\n",
       "      <td>Banglore</td>\n",
       "      <td>7h 25m</td>\n",
       "      <td>No info</td>\n",
       "      <td>7662.0</td>\n",
       "      <td>1</td>\n",
       "      <td>5</td>\n",
       "      <td>2019</td>\n",
       "      <td>2</td>\n",
       "      <td>13</td>\n",
       "      <td>15</td>\n",
       "      <td>5</td>\n",
       "      <td>50</td>\n",
       "      <td>CCU</td>\n",
       "      <td>IXR</td>\n",
       "      <td>BBI</td>\n",
       "      <td>BLR</td>\n",
       "      <td>None</td>\n",
       "    </tr>\n",
       "    <tr>\n",
       "      <th>2</th>\n",
       "      <td>Jet Airways</td>\n",
       "      <td>Delhi</td>\n",
       "      <td>Cochin</td>\n",
       "      <td>19h</td>\n",
       "      <td>No info</td>\n",
       "      <td>13882.0</td>\n",
       "      <td>9</td>\n",
       "      <td>6</td>\n",
       "      <td>2019</td>\n",
       "      <td>2</td>\n",
       "      <td>4</td>\n",
       "      <td>25</td>\n",
       "      <td>9</td>\n",
       "      <td>25</td>\n",
       "      <td>DEL</td>\n",
       "      <td>LKO</td>\n",
       "      <td>BOM</td>\n",
       "      <td>COK</td>\n",
       "      <td>None</td>\n",
       "    </tr>\n",
       "    <tr>\n",
       "      <th>3</th>\n",
       "      <td>IndiGo</td>\n",
       "      <td>Kolkata</td>\n",
       "      <td>Banglore</td>\n",
       "      <td>5h 25m</td>\n",
       "      <td>No info</td>\n",
       "      <td>6218.0</td>\n",
       "      <td>12</td>\n",
       "      <td>5</td>\n",
       "      <td>2019</td>\n",
       "      <td>1</td>\n",
       "      <td>23</td>\n",
       "      <td>30</td>\n",
       "      <td>18</td>\n",
       "      <td>5</td>\n",
       "      <td>CCU</td>\n",
       "      <td>NAG</td>\n",
       "      <td>BLR</td>\n",
       "      <td>None</td>\n",
       "      <td>None</td>\n",
       "    </tr>\n",
       "    <tr>\n",
       "      <th>4</th>\n",
       "      <td>IndiGo</td>\n",
       "      <td>Banglore</td>\n",
       "      <td>New Delhi</td>\n",
       "      <td>4h 45m</td>\n",
       "      <td>No info</td>\n",
       "      <td>13302.0</td>\n",
       "      <td>1</td>\n",
       "      <td>3</td>\n",
       "      <td>2019</td>\n",
       "      <td>1</td>\n",
       "      <td>21</td>\n",
       "      <td>35</td>\n",
       "      <td>16</td>\n",
       "      <td>50</td>\n",
       "      <td>BLR</td>\n",
       "      <td>NAG</td>\n",
       "      <td>DEL</td>\n",
       "      <td>None</td>\n",
       "      <td>None</td>\n",
       "    </tr>\n",
       "  </tbody>\n",
       "</table>\n",
       "</div>"
      ],
      "text/plain": [
       "       Airline    Source Destination Duration Additional_Info    Price  Date  \\\n",
       "0       IndiGo  Banglore   New Delhi   2h 50m         No info   3897.0    24   \n",
       "1    Air India   Kolkata    Banglore   7h 25m         No info   7662.0     1   \n",
       "2  Jet Airways     Delhi      Cochin      19h         No info  13882.0     9   \n",
       "3       IndiGo   Kolkata    Banglore   5h 25m         No info   6218.0    12   \n",
       "4       IndiGo  Banglore   New Delhi   4h 45m         No info  13302.0     1   \n",
       "\n",
       "   Month  Year  Stop  Arrival_Hour  Arrival_Minute  Departure_Hour  \\\n",
       "0      3  2019     0             1              10              22   \n",
       "1      5  2019     2            13              15               5   \n",
       "2      6  2019     2             4              25               9   \n",
       "3      5  2019     1            23              30              18   \n",
       "4      3  2019     1            21              35              16   \n",
       "\n",
       "   Departure_Minute Route_1 Route_2 Route_3 Route_4 Route_5  \n",
       "0                20    BLR      DEL    None    None    None  \n",
       "1                50    CCU     IXR     BBI      BLR    None  \n",
       "2                25    DEL     LKO     BOM      COK    None  \n",
       "3                 5    CCU     NAG      BLR    None    None  \n",
       "4                50    BLR     NAG      DEL    None    None  "
      ]
     },
     "execution_count": 178,
     "metadata": {},
     "output_type": "execute_result"
    }
   ],
   "source": [
    "flight_data.head()"
   ]
  },
  {
   "cell_type": "markdown",
   "metadata": {
    "id": "0kHYSbGDtQrk"
   },
   "source": [
    "## Heat map"
   ]
  },
  {
   "cell_type": "code",
   "execution_count": 179,
   "metadata": {
    "colab": {
     "base_uri": "https://localhost:8080/",
     "height": 688
    },
    "id": "y9YhhZLIsF7A",
    "outputId": "c2ea0ace-3b8a-45fe-a83c-fd84e9510c99"
   },
   "outputs": [
    {
     "data": {
      "image/png": "[encoded data removed]",
      "text/plain": [
       "<Figure size 720x720 with 2 Axes>"
      ]
     },
     "metadata": {
      "needs_background": "light"
     },
     "output_type": "display_data"
    }
   ],
   "source": [
    "plt.figure(figsize = [10,10])\n",
    "sns.heatmap(flight_data.corr(), annot = True)\n",
    "plt.title('Correlation')\n",
    "plt.show()"
   ]
  },
  {
   "cell_type": "markdown",
   "metadata": {
    "id": "mBd65xF7yBaH"
   },
   "source": [
    "### Data Preprocessing"
   ]
  },
  {
   "cell_type": "code",
   "execution_count": 180,
   "metadata": {
    "colab": {
     "base_uri": "https://localhost:8080/"
    },
    "id": "0wwTvA77vEMq",
    "outputId": "72eb4aad-dab9-4478-9bd2-ae5e210bbf32"
   },
   "outputs": [
    {
     "data": {
      "text/plain": [
       "Airline               int32\n",
       "Source                int32\n",
       "Destination           int32\n",
       "Duration             object\n",
       "Additional_Info       int32\n",
       "Price               float64\n",
       "Date                  int32\n",
       "Month                 int32\n",
       "Year                  int32\n",
       "Stop                  int32\n",
       "Arrival_Hour          int32\n",
       "Arrival_Minute        int32\n",
       "Departure_Hour        int32\n",
       "Departure_Minute      int32\n",
       "Route_1               int32\n",
       "Route_2               int32\n",
       "Route_3               int32\n",
       "Route_4               int32\n",
       "Route_5               int32\n",
       "dtype: object"
      ]
     },
     "execution_count": 180,
     "metadata": {},
     "output_type": "execute_result"
    }
   ],
   "source": [
    "# import LabelEncoder\n",
    "column=['Airline','Source','Destination','Additional_Info','Route_1','Route_2','Route_3','Route_4','Route_5']\n",
    "from sklearn.preprocessing import LabelEncoder\n",
    "for col in column:\n",
    "    le =LabelEncoder()\n",
    "    flight_data[col]=le.fit_transform(flight_data[col].astype('str'))\n",
    "flight_data.dtypes"
   ]
  },
  {
   "cell_type": "markdown",
   "metadata": {
    "id": "zho62Ag3HqxL"
   },
   "source": [
    "## Duration Column to Minutes In Flight"
   ]
  },
  {
   "cell_type": "code",
   "execution_count": 181,
   "metadata": {
    "id": "vDdjQoLEHsGc"
   },
   "outputs": [],
   "source": [
    "total_time=[]\n",
    "for i in flight_data['Duration']:\n",
    "    total_time.append(i.split(\" \"))"
   ]
  },
  {
   "cell_type": "code",
   "execution_count": 182,
   "metadata": {
    "id": "nBppUJ_KIX8_"
   },
   "outputs": [],
   "source": [
    "for i in range(len(total_time)):\n",
    "    total_time[i][0]=total_time[i][0].replace('h','')\n",
    "    if len(total_time[i])>1:\n",
    "        total_time[i][1]=total_time[i][1].replace('m','')\n"
   ]
  },
  {
   "cell_type": "code",
   "execution_count": 184,
   "metadata": {
    "id": "GKFHmXGxNgX3"
   },
   "outputs": [],
   "source": [
    "for i in range(len(total_time)):\n",
    "    if len(total_time[i])>1:\n",
    "        total_time[i][1]=int(total_time[i][1])\n",
    "    if(total_time[i][0]=='5m'):\n",
    "        total_time[i][0]=total_time[i][0].replace('m','')\n",
    "    else:\n",
    "        total_time[i][0]= int(total_time[i][0])*60\n",
    "      "
   ]
  },
  {
   "cell_type": "code",
   "execution_count": 186,
   "metadata": {
    "id": "tqQxcjXNQFk_"
   },
   "outputs": [],
   "source": [
    "for i in range(len(total_time)):\n",
    "    if len(total_time[i])>1:\n",
    "        total_time[i]=total_time[i][0]+total_time[i][1]\n",
    "    else:\n",
    "        total_time[i]=total_time[i][0]"
   ]
  },
  {
   "cell_type": "code",
   "execution_count": 187,
   "metadata": {},
   "outputs": [
    {
     "data": {
      "text/plain": [
       "[170,\n",
       " 445,\n",
       " 1140,\n",
       " 325,\n",
       " 285,\n",
       " 145,\n",
       " 930,\n",
       " 1265,\n",
       " 1530,\n",
       " 470,\n",
       " 795,\n",
       " 155,\n",
       " 135,\n",
       " 730,\n",
       " 155,\n",
       " 1595,\n",
       " 270,\n",
       " 1355,\n",
       " 1380,\n",
       " 1235,\n",
       " 310,\n",
       " 920,\n",
       " 170,\n",
       " 175,\n",
       " 800,\n",
       " 910,\n",
       " 345,\n",
       " 355,\n",
       " 170,\n",
       " 135,\n",
       " 135,\n",
       " 805,\n",
       " 170,\n",
       " 330,\n",
       " 625,\n",
       " 315,\n",
       " 150,\n",
       " 375,\n",
       " 715,\n",
       " 665,\n",
       " 510,\n",
       " 1325,\n",
       " 165,\n",
       " 720,\n",
       " 170,\n",
       " 170,\n",
       " 135,\n",
       " 965,\n",
       " 195,\n",
       " 1520,\n",
       " 170,\n",
       " 180,\n",
       " 170,\n",
       " 975,\n",
       " 905,\n",
       " 135,\n",
       " 390,\n",
       " 1505,\n",
       " 745,\n",
       " 1640,\n",
       " 615,\n",
       " 630,\n",
       " 135,\n",
       " 625,\n",
       " 170,\n",
       " 90,\n",
       " 800,\n",
       " 135,\n",
       " 85,\n",
       " 1590,\n",
       " 440,\n",
       " 300,\n",
       " 165,\n",
       " 170,\n",
       " 90,\n",
       " 1145,\n",
       " 135,\n",
       " 890,\n",
       " 1330,\n",
       " 575,\n",
       " 600,\n",
       " 1280,\n",
       " 325,\n",
       " 740,\n",
       " 1080,\n",
       " 555,\n",
       " 665,\n",
       " 1050,\n",
       " 800,\n",
       " 155,\n",
       " 145,\n",
       " 160,\n",
       " 180,\n",
       " 85,\n",
       " 995,\n",
       " 740,\n",
       " 735,\n",
       " 450,\n",
       " 1440,\n",
       " 165,\n",
       " 535,\n",
       " 430,\n",
       " 870,\n",
       " 1820,\n",
       " 1195,\n",
       " 900,\n",
       " 175,\n",
       " 765,\n",
       " 610,\n",
       " 355,\n",
       " 925,\n",
       " 965,\n",
       " 610,\n",
       " 160,\n",
       " 715,\n",
       " 160,\n",
       " 85,\n",
       " 845,\n",
       " 1215,\n",
       " 145,\n",
       " 1390,\n",
       " 1090,\n",
       " 960,\n",
       " 170,\n",
       " 140,\n",
       " 480,\n",
       " 1015,\n",
       " 190,\n",
       " 165,\n",
       " 840,\n",
       " 1430,\n",
       " 165,\n",
       " 650,\n",
       " 480,\n",
       " 495,\n",
       " 325,\n",
       " 515,\n",
       " 710,\n",
       " 1655,\n",
       " 505,\n",
       " 1255,\n",
       " 290,\n",
       " 490,\n",
       " 140,\n",
       " 1465,\n",
       " 170,\n",
       " 740,\n",
       " 735,\n",
       " 1415,\n",
       " 995,\n",
       " 170,\n",
       " 1545,\n",
       " 1570,\n",
       " 1730,\n",
       " 165,\n",
       " 1515,\n",
       " 560,\n",
       " 270,\n",
       " 925,\n",
       " 90,\n",
       " 160,\n",
       " 550,\n",
       " 165,\n",
       " 1355,\n",
       " 185,\n",
       " 690,\n",
       " 570,\n",
       " 730,\n",
       " 1055,\n",
       " 305,\n",
       " 1550,\n",
       " 1200,\n",
       " 780,\n",
       " 1105,\n",
       " 90,\n",
       " 570,\n",
       " 960,\n",
       " 140,\n",
       " 270,\n",
       " 345,\n",
       " 1450,\n",
       " 155,\n",
       " 165,\n",
       " 295,\n",
       " 1535,\n",
       " 380,\n",
       " 185,\n",
       " 1120,\n",
       " 135,\n",
       " 730,\n",
       " 1165,\n",
       " 170,\n",
       " 505,\n",
       " 555,\n",
       " 170,\n",
       " 195,\n",
       " 170,\n",
       " 740,\n",
       " 175,\n",
       " 575,\n",
       " 155,\n",
       " 570,\n",
       " 175,\n",
       " 315,\n",
       " 545,\n",
       " 645,\n",
       " 295,\n",
       " 90,\n",
       " 700,\n",
       " 165,\n",
       " 175,\n",
       " 600,\n",
       " 165,\n",
       " 615,\n",
       " 85,\n",
       " 555,\n",
       " 1730,\n",
       " 2245,\n",
       " 170,\n",
       " 90,\n",
       " 90,\n",
       " 1540,\n",
       " 155,\n",
       " 375,\n",
       " 1050,\n",
       " 345,\n",
       " 155,\n",
       " 1530,\n",
       " 835,\n",
       " 175,\n",
       " 615,\n",
       " 520,\n",
       " 330,\n",
       " 720,\n",
       " 135,\n",
       " 135,\n",
       " 170,\n",
       " 550,\n",
       " 625,\n",
       " 140,\n",
       " 270,\n",
       " 190,\n",
       " 1640,\n",
       " 755,\n",
       " 1455,\n",
       " 80,\n",
       " 165,\n",
       " 180,\n",
       " 660,\n",
       " 170,\n",
       " 175,\n",
       " 165,\n",
       " 675,\n",
       " 875,\n",
       " 835,\n",
       " 845,\n",
       " 905,\n",
       " 135,\n",
       " 900,\n",
       " 775,\n",
       " 540,\n",
       " 735,\n",
       " 460,\n",
       " 1640,\n",
       " 85,\n",
       " 80,\n",
       " 330,\n",
       " 705,\n",
       " 195,\n",
       " 1495,\n",
       " 1640,\n",
       " 175,\n",
       " 1025,\n",
       " 160,\n",
       " 480,\n",
       " 180,\n",
       " 1655,\n",
       " 450,\n",
       " 1375,\n",
       " 515,\n",
       " 1795,\n",
       " 1335,\n",
       " 80,\n",
       " 160,\n",
       " 180,\n",
       " 730,\n",
       " 155,\n",
       " 705,\n",
       " 155,\n",
       " 90,\n",
       " 160,\n",
       " 155,\n",
       " 880,\n",
       " 925,\n",
       " 435,\n",
       " 1210,\n",
       " 1245,\n",
       " 150,\n",
       " 1430,\n",
       " 1620,\n",
       " 330,\n",
       " 710,\n",
       " 135,\n",
       " 1470,\n",
       " 140,\n",
       " 390,\n",
       " 1225,\n",
       " 155,\n",
       " 175,\n",
       " 335,\n",
       " 150,\n",
       " 885,\n",
       " 740,\n",
       " 1530,\n",
       " 335,\n",
       " 705,\n",
       " 340,\n",
       " 245,\n",
       " 480,\n",
       " 165,\n",
       " 160,\n",
       " 175,\n",
       " 955,\n",
       " 1390,\n",
       " 440,\n",
       " 170,\n",
       " 450,\n",
       " 180,\n",
       " 465,\n",
       " 1520,\n",
       " 625,\n",
       " 1820,\n",
       " 155,\n",
       " 540,\n",
       " 910,\n",
       " 1700,\n",
       " 180,\n",
       " 165,\n",
       " 295,\n",
       " 160,\n",
       " 1330,\n",
       " 610,\n",
       " 170,\n",
       " 260,\n",
       " 660,\n",
       " 180,\n",
       " 1355,\n",
       " 185,\n",
       " 160,\n",
       " 170,\n",
       " 1265,\n",
       " 710,\n",
       " 1535,\n",
       " 925,\n",
       " 145,\n",
       " 220,\n",
       " 190,\n",
       " 710,\n",
       " 170,\n",
       " 170,\n",
       " 90,\n",
       " 690,\n",
       " 530,\n",
       " 1215,\n",
       " 1210,\n",
       " 965,\n",
       " 755,\n",
       " 1025,\n",
       " 180,\n",
       " 930,\n",
       " 690,\n",
       " 140,\n",
       " 1425,\n",
       " 90,\n",
       " 155,\n",
       " 1485,\n",
       " 1295,\n",
       " 330,\n",
       " 735,\n",
       " 485,\n",
       " 300,\n",
       " 170,\n",
       " 385,\n",
       " 140,\n",
       " 165,\n",
       " 765,\n",
       " 950,\n",
       " 1585,\n",
       " 175,\n",
       " 1490,\n",
       " 520,\n",
       " 170,\n",
       " 375,\n",
       " 630,\n",
       " 1025,\n",
       " 1280,\n",
       " 335,\n",
       " 170,\n",
       " 1550,\n",
       " 730,\n",
       " 1025,\n",
       " 510,\n",
       " 1385,\n",
       " 560,\n",
       " 475,\n",
       " 90,\n",
       " 170,\n",
       " 135,\n",
       " 600,\n",
       " 155,\n",
       " 465,\n",
       " 175,\n",
       " 1580,\n",
       " 160,\n",
       " 660,\n",
       " 1165,\n",
       " 175,\n",
       " 165,\n",
       " 1395,\n",
       " 540,\n",
       " 190,\n",
       " 385,\n",
       " 520,\n",
       " 170,\n",
       " 740,\n",
       " 320,\n",
       " 240,\n",
       " 585,\n",
       " 175,\n",
       " 1580,\n",
       " 135,\n",
       " 585,\n",
       " 1495,\n",
       " 715,\n",
       " 500,\n",
       " 1045,\n",
       " 170,\n",
       " 425,\n",
       " 300,\n",
       " 145,\n",
       " 315,\n",
       " 910,\n",
       " 705,\n",
       " 180,\n",
       " 295,\n",
       " 165,\n",
       " 150,\n",
       " 585,\n",
       " 160,\n",
       " 390,\n",
       " 330,\n",
       " 160,\n",
       " 2045,\n",
       " 925,\n",
       " 570,\n",
       " 365,\n",
       " 160,\n",
       " 350,\n",
       " 165,\n",
       " 1640,\n",
       " 180,\n",
       " 315,\n",
       " 960,\n",
       " 420,\n",
       " 520,\n",
       " 540,\n",
       " 140,\n",
       " 140,\n",
       " 380,\n",
       " 265,\n",
       " 140,\n",
       " 665,\n",
       " 1015,\n",
       " 825,\n",
       " 1545,\n",
       " 835,\n",
       " 315,\n",
       " 1155,\n",
       " 450,\n",
       " 540,\n",
       " 1440,\n",
       " 1090,\n",
       " 175,\n",
       " 90,\n",
       " 1280,\n",
       " 375,\n",
       " 870,\n",
       " 80,\n",
       " 775,\n",
       " 145,\n",
       " 1350,\n",
       " 325,\n",
       " 85,\n",
       " 435,\n",
       " 740,\n",
       " 1210,\n",
       " 1275,\n",
       " 135,\n",
       " 630,\n",
       " 845,\n",
       " 170,\n",
       " 985,\n",
       " 315,\n",
       " 830,\n",
       " 135,\n",
       " 435,\n",
       " 1625,\n",
       " 1655,\n",
       " 300,\n",
       " 170,\n",
       " 170,\n",
       " 920,\n",
       " 320,\n",
       " 610,\n",
       " 1655,\n",
       " 575,\n",
       " 1690,\n",
       " 840,\n",
       " 155,\n",
       " 175,\n",
       " 155,\n",
       " 280,\n",
       " 150,\n",
       " 675,\n",
       " 475,\n",
       " 530,\n",
       " 85,\n",
       " 940,\n",
       " 155,\n",
       " 175,\n",
       " 805,\n",
       " 275,\n",
       " 1110,\n",
       " 135,\n",
       " 2295,\n",
       " 185,\n",
       " 1550,\n",
       " 190,\n",
       " 170,\n",
       " 690,\n",
       " 395,\n",
       " 1655,\n",
       " 155,\n",
       " 450,\n",
       " 195,\n",
       " 575,\n",
       " 750,\n",
       " 680,\n",
       " 180,\n",
       " 155,\n",
       " 90,\n",
       " 1570,\n",
       " 295,\n",
       " 520,\n",
       " 425,\n",
       " 165,\n",
       " 1490,\n",
       " 140,\n",
       " 660,\n",
       " 540,\n",
       " 175,\n",
       " 185,\n",
       " 155,\n",
       " 780,\n",
       " 85,\n",
       " 455,\n",
       " 160,\n",
       " 775,\n",
       " 300,\n",
       " 520,\n",
       " 180,\n",
       " 180,\n",
       " 165,\n",
       " 730,\n",
       " 140,\n",
       " 475,\n",
       " 1775,\n",
       " 765,\n",
       " 455,\n",
       " 150,\n",
       " 705,\n",
       " 1420,\n",
       " 770,\n",
       " 590,\n",
       " 150,\n",
       " 1315,\n",
       " 1570,\n",
       " 175,\n",
       " 1215,\n",
       " 1210,\n",
       " 655,\n",
       " 150,\n",
       " 1270,\n",
       " 155,\n",
       " 1240,\n",
       " 170,\n",
       " 390,\n",
       " 1800,\n",
       " 790,\n",
       " 175,\n",
       " 1080,\n",
       " 480,\n",
       " 525,\n",
       " 750,\n",
       " 800,\n",
       " 370,\n",
       " 450,\n",
       " 1155,\n",
       " 155,\n",
       " 720,\n",
       " 180,\n",
       " 170,\n",
       " 85,\n",
       " 1385,\n",
       " 170,\n",
       " 1325,\n",
       " 135,\n",
       " 345,\n",
       " 170,\n",
       " 570,\n",
       " 535,\n",
       " 1065,\n",
       " 170,\n",
       " 755,\n",
       " 90,\n",
       " 135,\n",
       " 235,\n",
       " 165,\n",
       " 450,\n",
       " 1040,\n",
       " 90,\n",
       " 90,\n",
       " 1830,\n",
       " 300,\n",
       " 675,\n",
       " 170,\n",
       " 1145,\n",
       " 395,\n",
       " 450,\n",
       " 135,\n",
       " 165,\n",
       " 170,\n",
       " 1595,\n",
       " 775,\n",
       " 90,\n",
       " 520,\n",
       " 840,\n",
       " 1795,\n",
       " 1330,\n",
       " 290,\n",
       " 165,\n",
       " 810,\n",
       " 800,\n",
       " 140,\n",
       " 715,\n",
       " 310,\n",
       " 705,\n",
       " 180,\n",
       " 370,\n",
       " 140,\n",
       " 645,\n",
       " 135,\n",
       " 175,\n",
       " 90,\n",
       " 455,\n",
       " 1595,\n",
       " 285,\n",
       " 1285,\n",
       " 515,\n",
       " 510,\n",
       " 135,\n",
       " 760,\n",
       " 505,\n",
       " 1540,\n",
       " 165,\n",
       " 1760,\n",
       " 160,\n",
       " 170,\n",
       " 140,\n",
       " 435,\n",
       " 1215,\n",
       " 705,\n",
       " 155,\n",
       " 810,\n",
       " 90,\n",
       " 1475,\n",
       " 1235,\n",
       " 170,\n",
       " 275,\n",
       " 140,\n",
       " 705,\n",
       " 90,\n",
       " 770,\n",
       " 1470,\n",
       " 690,\n",
       " 240,\n",
       " 660,\n",
       " 325,\n",
       " 155,\n",
       " 310,\n",
       " 610,\n",
       " 435,\n",
       " 490,\n",
       " 175,\n",
       " 315,\n",
       " 140,\n",
       " 85,\n",
       " 290,\n",
       " 140,\n",
       " 140,\n",
       " 795,\n",
       " 1150,\n",
       " 1360,\n",
       " 890,\n",
       " 910,\n",
       " 425,\n",
       " 85,\n",
       " 175,\n",
       " 480,\n",
       " 165,\n",
       " 895,\n",
       " 90,\n",
       " 975,\n",
       " 170,\n",
       " 300,\n",
       " 1335,\n",
       " 330,\n",
       " 515,\n",
       " 925,\n",
       " 1260,\n",
       " 170,\n",
       " 405,\n",
       " 90,\n",
       " 520,\n",
       " 90,\n",
       " 170,\n",
       " 155,\n",
       " 965,\n",
       " 1625,\n",
       " 975,\n",
       " 925,\n",
       " 170,\n",
       " 515,\n",
       " 830,\n",
       " 160,\n",
       " 145,\n",
       " 190,\n",
       " 175,\n",
       " 1720,\n",
       " 170,\n",
       " 155,\n",
       " 580,\n",
       " 1000,\n",
       " 380,\n",
       " 1620,\n",
       " 875,\n",
       " 730,\n",
       " 455,\n",
       " 140,\n",
       " 1150,\n",
       " 1200,\n",
       " 180,\n",
       " 310,\n",
       " 160,\n",
       " 1775,\n",
       " 295,\n",
       " 180,\n",
       " 750,\n",
       " 755,\n",
       " 1580,\n",
       " 795,\n",
       " 170,\n",
       " 765,\n",
       " 980,\n",
       " 160,\n",
       " 495,\n",
       " 720,\n",
       " 170,\n",
       " 660,\n",
       " 140,\n",
       " 830,\n",
       " 490,\n",
       " 730,\n",
       " 160,\n",
       " 165,\n",
       " 170,\n",
       " 1440,\n",
       " 180,\n",
       " 755,\n",
       " 1550,\n",
       " 175,\n",
       " 1025,\n",
       " 535,\n",
       " 185,\n",
       " 540,\n",
       " 625,\n",
       " 1005,\n",
       " 165,\n",
       " 1580,\n",
       " 795,\n",
       " 630,\n",
       " 455,\n",
       " 660,\n",
       " 170,\n",
       " 1545,\n",
       " 385,\n",
       " 85,\n",
       " 1210,\n",
       " 715,\n",
       " 170,\n",
       " 300,\n",
       " 1620,\n",
       " 170,\n",
       " 75,\n",
       " 615,\n",
       " 1490,\n",
       " 170,\n",
       " 1200,\n",
       " 330,\n",
       " 165,\n",
       " 415,\n",
       " 165,\n",
       " 315,\n",
       " 375,\n",
       " 170,\n",
       " 1165,\n",
       " 175,\n",
       " 685,\n",
       " 845,\n",
       " 165,\n",
       " 195,\n",
       " 860,\n",
       " 750,\n",
       " 320,\n",
       " 1580,\n",
       " 185,\n",
       " 90,\n",
       " 425,\n",
       " 370,\n",
       " 480,\n",
       " 725,\n",
       " 775,\n",
       " 575,\n",
       " 910,\n",
       " 700,\n",
       " 175,\n",
       " 270,\n",
       " 160,\n",
       " 150,\n",
       " 1450,\n",
       " 1700,\n",
       " 85,\n",
       " 610,\n",
       " 690,\n",
       " 170,\n",
       " 825,\n",
       " 385,\n",
       " 775,\n",
       " 265,\n",
       " 810,\n",
       " 1445,\n",
       " 965,\n",
       " 500,\n",
       " 220,\n",
       " 570,\n",
       " 1695,\n",
       " 800,\n",
       " 1070,\n",
       " 1220,\n",
       " 1685,\n",
       " 925,\n",
       " 725,\n",
       " 620,\n",
       " 745,\n",
       " 455,\n",
       " 170,\n",
       " 275,\n",
       " 675,\n",
       " 155,\n",
       " 145,\n",
       " 155,\n",
       " 855,\n",
       " 155,\n",
       " 1325,\n",
       " 395,\n",
       " 510,\n",
       " 1125,\n",
       " 2115,\n",
       " 135,\n",
       " 150,\n",
       " 140,\n",
       " 150,\n",
       " 455,\n",
       " 2135,\n",
       " 1590,\n",
       " 690,\n",
       " 180,\n",
       " 90,\n",
       " 175,\n",
       " 855,\n",
       " 1015,\n",
       " 740,\n",
       " 1775,\n",
       " 1220,\n",
       " 505,\n",
       " 830,\n",
       " 600,\n",
       " 1165,\n",
       " 1680,\n",
       " 170,\n",
       " 1040,\n",
       " 165,\n",
       " 175,\n",
       " 805,\n",
       " 775,\n",
       " 585,\n",
       " 1285,\n",
       " 940,\n",
       " 140,\n",
       " 865,\n",
       " 170,\n",
       " 395,\n",
       " 1330,\n",
       " 865,\n",
       " 150,\n",
       " 1415,\n",
       " 785,\n",
       " 90,\n",
       " 305,\n",
       " 80,\n",
       " 90,\n",
       " 155,\n",
       " 2240,\n",
       " 170,\n",
       " 170,\n",
       " 555,\n",
       " 85,\n",
       " 305,\n",
       " 135,\n",
       " 910,\n",
       " 1555,\n",
       " 340,\n",
       " 450,\n",
       " 1065,\n",
       " 140,\n",
       " 495,\n",
       " 220,\n",
       " 355,\n",
       " 150,\n",
       " 1050,\n",
       " 830,\n",
       " 135,\n",
       " 1295,\n",
       " 570,\n",
       " 520,\n",
       " 625,\n",
       " 2105,\n",
       " 855,\n",
       " 180,\n",
       " 1550,\n",
       " 150,\n",
       " 520,\n",
       " 600,\n",
       " 690,\n",
       " 450,\n",
       " 420,\n",
       " 135,\n",
       " 425,\n",
       " 480,\n",
       " 325,\n",
       " 1415,\n",
       " 395,\n",
       " 180,\n",
       " 1145,\n",
       " 155,\n",
       " 270,\n",
       " 90,\n",
       " 160,\n",
       " 1600,\n",
       " 745,\n",
       " 865,\n",
       " 170,\n",
       " 185,\n",
       " 90,\n",
       " 480,\n",
       " 1185,\n",
       " 165,\n",
       " 560,\n",
       " 180,\n",
       " 170,\n",
       " 170,\n",
       " 1015,\n",
       " 90,\n",
       " 1545,\n",
       " 90,\n",
       " 555,\n",
       " 665,\n",
       " 380,\n",
       " 1730,\n",
       " 1675,\n",
       " ...]"
      ]
     },
     "execution_count": 187,
     "metadata": {},
     "output_type": "execute_result"
    }
   ],
   "source": [
    "total_time"
   ]
  },
  {
   "cell_type": "code",
   "execution_count": 188,
   "metadata": {
    "id": "yIXbgNEcSPfS"
   },
   "outputs": [],
   "source": [
    "flight_data['total_time']=0"
   ]
  },
  {
   "cell_type": "code",
   "execution_count": 189,
   "metadata": {},
   "outputs": [],
   "source": [
    "flight_data['total_time']=total_time"
   ]
  },
  {
   "cell_type": "code",
   "execution_count": 190,
   "metadata": {
    "colab": {
     "base_uri": "https://localhost:8080/",
     "height": 328
    },
    "id": "SY7pDRPCQ98v",
    "outputId": "d6f44c37-e97c-4663-8ed9-e5f968c5f5a3"
   },
   "outputs": [],
   "source": [
    "# Dropping Duration\n",
    "flight_data.drop(\"Duration\",axis=1,inplace=True)"
   ]
  },
  {
   "cell_type": "code",
   "execution_count": 191,
   "metadata": {
    "colab": {
     "base_uri": "https://localhost:8080/",
     "height": 176
    },
    "id": "_fYDNdYRRU7n",
    "outputId": "86e20ecb-66e3-4e36-d0ee-dc6aed1cbdfe"
   },
   "outputs": [
    {
     "data": {
      "text/html": [
       "<div>\n",
       "<style scoped>\n",
       "    .dataframe tbody tr th:only-of-type {\n",
       "        vertical-align: middle;\n",
       "    }\n",
       "\n",
       "    .dataframe tbody tr th {\n",
       "        vertical-align: top;\n",
       "    }\n",
       "\n",
       "    .dataframe thead th {\n",
       "        text-align: right;\n",
       "    }\n",
       "</style>\n",
       "<table border=\"1\" class=\"dataframe\">\n",
       "  <thead>\n",
       "    <tr style=\"text-align: right;\">\n",
       "      <th></th>\n",
       "      <th>Airline</th>\n",
       "      <th>Source</th>\n",
       "      <th>Destination</th>\n",
       "      <th>Additional_Info</th>\n",
       "      <th>Price</th>\n",
       "      <th>Date</th>\n",
       "      <th>Month</th>\n",
       "      <th>Year</th>\n",
       "      <th>Stop</th>\n",
       "      <th>Arrival_Hour</th>\n",
       "      <th>Arrival_Minute</th>\n",
       "      <th>Departure_Hour</th>\n",
       "      <th>Departure_Minute</th>\n",
       "      <th>Route_1</th>\n",
       "      <th>Route_2</th>\n",
       "      <th>Route_3</th>\n",
       "      <th>Route_4</th>\n",
       "      <th>Route_5</th>\n",
       "      <th>total_time</th>\n",
       "    </tr>\n",
       "  </thead>\n",
       "  <tbody>\n",
       "    <tr>\n",
       "      <th>0</th>\n",
       "      <td>3</td>\n",
       "      <td>0</td>\n",
       "      <td>5</td>\n",
       "      <td>8</td>\n",
       "      <td>3897.0</td>\n",
       "      <td>24</td>\n",
       "      <td>3</td>\n",
       "      <td>2019</td>\n",
       "      <td>0</td>\n",
       "      <td>1</td>\n",
       "      <td>10</td>\n",
       "      <td>22</td>\n",
       "      <td>20</td>\n",
       "      <td>0</td>\n",
       "      <td>13</td>\n",
       "      <td>24</td>\n",
       "      <td>12</td>\n",
       "      <td>4</td>\n",
       "      <td>170</td>\n",
       "    </tr>\n",
       "    <tr>\n",
       "      <th>1</th>\n",
       "      <td>1</td>\n",
       "      <td>3</td>\n",
       "      <td>0</td>\n",
       "      <td>8</td>\n",
       "      <td>7662.0</td>\n",
       "      <td>1</td>\n",
       "      <td>5</td>\n",
       "      <td>2019</td>\n",
       "      <td>2</td>\n",
       "      <td>13</td>\n",
       "      <td>15</td>\n",
       "      <td>5</td>\n",
       "      <td>50</td>\n",
       "      <td>2</td>\n",
       "      <td>25</td>\n",
       "      <td>1</td>\n",
       "      <td>3</td>\n",
       "      <td>4</td>\n",
       "      <td>445</td>\n",
       "    </tr>\n",
       "  </tbody>\n",
       "</table>\n",
       "</div>"
      ],
      "text/plain": [
       "   Airline  Source  Destination  Additional_Info   Price  Date  Month  Year  \\\n",
       "0        3       0            5                8  3897.0    24      3  2019   \n",
       "1        1       3            0                8  7662.0     1      5  2019   \n",
       "\n",
       "   Stop  Arrival_Hour  Arrival_Minute  Departure_Hour  Departure_Minute  \\\n",
       "0     0             1              10              22                20   \n",
       "1     2            13              15               5                50   \n",
       "\n",
       "   Route_1  Route_2  Route_3  Route_4  Route_5 total_time  \n",
       "0        0       13       24       12        4        170  \n",
       "1        2       25        1        3        4        445  "
      ]
     },
     "execution_count": 191,
     "metadata": {},
     "output_type": "execute_result"
    }
   ],
   "source": [
    "flight_data.head(2)"
   ]
  },
  {
   "cell_type": "markdown",
   "metadata": {
    "id": "-dVJlof4t3-g"
   },
   "source": [
    "## skewness in the data"
   ]
  },
  {
   "cell_type": "code",
   "execution_count": 192,
   "metadata": {
    "colab": {
     "base_uri": "https://localhost:8080/"
    },
    "id": "1qOcHIIzstBB",
    "outputId": "61c88867-6554-414c-9795-268362503ade"
   },
   "outputs": [
    {
     "data": {
      "text/plain": [
       "Route_2              1.565331\n",
       "Destination          1.219846\n",
       "total_time           0.932262\n",
       "Airline              0.709024\n",
       "Route_3              0.553539\n",
       "Stop                 0.337939\n",
       "Departure_Minute     0.167476\n",
       "Date                 0.145025\n",
       "Arrival_Minute       0.112420\n",
       "Departure_Hour       0.101579\n",
       "Year                 0.000000\n",
       "Month               -0.376135\n",
       "Arrival_Hour        -0.398849\n",
       "Source              -0.418071\n",
       "Route_1             -0.581129\n",
       "Additional_Info     -1.811516\n",
       "Route_4             -2.444406\n",
       "Route_5            -16.777716\n",
       "dtype: float64"
      ]
     },
     "execution_count": 192,
     "metadata": {},
     "output_type": "execute_result"
    }
   ],
   "source": [
    "## skewness in the cleaned Data\n",
    "flight_data.drop(\"Price\",axis=1).skew().sort_values(ascending=False)"
   ]
  },
  {
   "cell_type": "markdown",
   "metadata": {
    "id": "GnQyULPOuQ8r"
   },
   "source": [
    "## skew score should lie between 0.5 to -0.5"
   ]
  },
  {
   "cell_type": "code",
   "execution_count": 193,
   "metadata": {
    "colab": {
     "base_uri": "https://localhost:8080/"
    },
    "id": "jDD1GRkyywV8",
    "outputId": "5f4f0df8-b783-4b48-cb0b-49f79453c6c0"
   },
   "outputs": [
    {
     "data": {
      "text/plain": [
       "Index(['Airline', 'Source', 'Destination', 'Additional_Info', 'Price', 'Date',\n",
       "       'Month', 'Year', 'Stop', 'Arrival_Hour', 'Arrival_Minute',\n",
       "       'Departure_Hour', 'Departure_Minute', 'Route_1', 'Route_2', 'Route_3',\n",
       "       'Route_4', 'Route_5', 'total_time'],\n",
       "      dtype='object')"
      ]
     },
     "execution_count": 193,
     "metadata": {},
     "output_type": "execute_result"
    }
   ],
   "source": [
    "flight_data.columns"
   ]
  },
  {
   "cell_type": "code",
   "execution_count": 194,
   "metadata": {
    "colab": {
     "base_uri": "https://localhost:8080/"
    },
    "id": "03-IFY8jvO8o",
    "outputId": "0e745558-1d5c-4e32-ac88-f5176024d617"
   },
   "outputs": [
    {
     "data": {
      "text/plain": [
       "Route_5             18.286318\n",
       "Price                1.898309\n",
       "Stop                 0.337939\n",
       "Departure_Minute     0.167476\n",
       "Date                 0.145025\n",
       "Arrival_Minute       0.112420\n",
       "Departure_Hour       0.101579\n",
       "Route_2              0.052120\n",
       "Destination          0.043032\n",
       "Route_3              0.038543\n",
       "Year                 0.000000\n",
       "Airline             -0.018630\n",
       "total_time          -0.036767\n",
       "Month               -0.376135\n",
       "Arrival_Hour        -0.398849\n",
       "Source              -0.418071\n",
       "Route_1             -0.581129\n",
       "Additional_Info     -1.414049\n",
       "Route_4             -2.292439\n",
       "dtype: float64"
      ]
     },
     "execution_count": 194,
     "metadata": {},
     "output_type": "execute_result"
    }
   ],
   "source": [
    "#skewness removal\n",
    "from sklearn.preprocessing import PowerTransformer\n",
    "pt=PowerTransformer() \n",
    "flight_data[['Airline', 'Destination','total_time', 'Additional_Info', 'Route_2', 'Route_3','Route_4', 'Route_5']]=pt.fit_transform(flight_data[['Airline', 'Destination', 'total_time','Additional_Info', 'Route_2', 'Route_3','Route_4', 'Route_5']])\n",
    "\n",
    "flight_data.skew().sort_values(ascending=False)"
   ]
  },
  {
   "cell_type": "code",
   "execution_count": 195,
   "metadata": {
    "id": "_7PoErY00Eo6"
   },
   "outputs": [],
   "source": [
    "flight_data.drop(['Route_5','Additional_Info','Route_4'],axis=1,inplace=True)"
   ]
  },
  {
   "cell_type": "code",
   "execution_count": 196,
   "metadata": {
    "colab": {
     "base_uri": "https://localhost:8080/"
    },
    "id": "u53IgEbi1GxQ",
    "outputId": "2c739908-b397-4574-919a-3d0463cfe08e"
   },
   "outputs": [
    {
     "data": {
      "text/plain": [
       "Price               1.898309\n",
       "Stop                0.337939\n",
       "Departure_Minute    0.167476\n",
       "Date                0.145025\n",
       "Arrival_Minute      0.112420\n",
       "Departure_Hour      0.101579\n",
       "Route_2             0.052120\n",
       "Destination         0.043032\n",
       "Route_3             0.038543\n",
       "Year                0.000000\n",
       "Airline            -0.018630\n",
       "total_time         -0.036767\n",
       "Month              -0.376135\n",
       "Arrival_Hour       -0.398849\n",
       "Source             -0.418071\n",
       "Route_1            -0.581129\n",
       "dtype: float64"
      ]
     },
     "execution_count": 196,
     "metadata": {},
     "output_type": "execute_result"
    }
   ],
   "source": [
    "flight_data.skew().sort_values(ascending=False)"
   ]
  },
  {
   "cell_type": "code",
   "execution_count": 197,
   "metadata": {
    "colab": {
     "base_uri": "https://localhost:8080/"
    },
    "id": "38UR2-kh1V6q",
    "outputId": "03e9c62a-3c2b-4d7c-ff74-83d554babda4"
   },
   "outputs": [
    {
     "data": {
      "text/plain": [
       "Airline              1.108275\n",
       "Source               1.970429\n",
       "Destination          2.291010\n",
       "Date                 1.014578\n",
       "Month                1.151887\n",
       "Year                48.534444\n",
       "Stop                 3.945062\n",
       "Arrival_Hour         1.035447\n",
       "Arrival_Minute       1.110110\n",
       "Departure_Hour       1.048246\n",
       "Departure_Minute     1.028567\n",
       "Route_1              1.657621\n",
       "Route_2              1.149715\n",
       "Route_3              3.507527\n",
       "total_time           3.904656\n",
       "dtype: float64"
      ]
     },
     "execution_count": 197,
     "metadata": {},
     "output_type": "execute_result"
    }
   ],
   "source": [
    "from statsmodels.stats.outliers_influence import variance_inflation_factor\n",
    "pd.Series([variance_inflation_factor(flight_data.drop(\"Price\",axis=1).values, i) \n",
    "               for i in range(flight_data.drop(\"Price\",axis=1).shape[1])], index=flight_data.drop(\"Price\",axis=1).columns)"
   ]
  },
  {
   "cell_type": "markdown",
   "metadata": {
    "id": "u0POxt-b2h5Y"
   },
   "source": [
    "## will have to drop Year"
   ]
  },
  {
   "cell_type": "code",
   "execution_count": 198,
   "metadata": {
    "colab": {
     "base_uri": "https://localhost:8080/"
    },
    "id": "cuRpsJ_W2ek4",
    "outputId": "3a853be8-3488-429a-878b-5e9c254dd861"
   },
   "outputs": [
    {
     "data": {
      "text/plain": [
       "Airline              1.098273\n",
       "Source               6.867506\n",
       "Destination          2.093915\n",
       "Date                 3.337833\n",
       "Month               11.714817\n",
       "Stop                 8.886797\n",
       "Arrival_Hour         4.415702\n",
       "Arrival_Minute       3.123033\n",
       "Departure_Hour       5.394614\n",
       "Departure_Minute     2.635885\n",
       "Route_1              6.143665\n",
       "Route_2              1.133864\n",
       "Route_3              3.419486\n",
       "total_time           3.881701\n",
       "dtype: float64"
      ]
     },
     "execution_count": 198,
     "metadata": {},
     "output_type": "execute_result"
    }
   ],
   "source": [
    "flight_data.drop(\"Year\",axis=1,inplace=True)\n",
    "from statsmodels.stats.outliers_influence import variance_inflation_factor\n",
    "pd.Series([variance_inflation_factor(flight_data.drop(\"Price\",axis=1).values, i) \n",
    "               for i in range(flight_data.drop(\"Price\",axis=1).shape[1])], index=flight_data.drop(\"Price\",axis=1).columns)"
   ]
  },
  {
   "cell_type": "code",
   "execution_count": 57,
   "metadata": {
    "colab": {
     "base_uri": "https://localhost:8080/"
    },
    "id": "Dbqiv_sh2u6E",
    "outputId": "b884367f-6444-410d-8598-345db4af5ca8"
   },
   "outputs": [],
   "source": [
    "# flight_data.drop(\"Month\",axis=1,inplace=True)\n",
    "# from statsmodels.stats.outliers_influence import variance_inflation_factor\n",
    "# pd.Series([variance_inflation_factor(flight_data.drop(\"Price\",axis=1).values, i) \n",
    "#                for i in range(flight_data.drop(\"Price\",axis=1).shape[1])], index=flight_data.drop(\"Price\",axis=1).columns)"
   ]
  },
  {
   "cell_type": "markdown",
   "metadata": {},
   "source": [
    "## Scaling the data"
   ]
  },
  {
   "cell_type": "code",
   "execution_count": 199,
   "metadata": {
    "id": "dNiOvnZo7Adm"
   },
   "outputs": [],
   "source": [
    "# scaling the features\n",
    "from sklearn.preprocessing import StandardScaler\n",
    "SC=StandardScaler()\n",
    "Features = pd.DataFrame(SC.fit_transform(flight_data.drop(\"Price\",axis=1)), columns=features.columns)"
   ]
  },
  {
   "cell_type": "markdown",
   "metadata": {
    "id": "uTm7HeY76phq"
   },
   "source": [
    "## splitting again train and test Set"
   ]
  },
  {
   "cell_type": "code",
   "execution_count": 203,
   "metadata": {},
   "outputs": [],
   "source": [
    "columns=Features.columns\n",
    "for i in columns:\n",
    "    flight_data[i]=Features[i]"
   ]
  },
  {
   "cell_type": "code",
   "execution_count": 204,
   "metadata": {
    "colab": {
     "base_uri": "https://localhost:8080/",
     "height": 270
    },
    "id": "UFs1mjhP3pcQ",
    "outputId": "db6076c7-f6e3-41cb-aa23-2f9da4d46c86"
   },
   "outputs": [
    {
     "data": {
      "text/html": [
       "<div>\n",
       "<style scoped>\n",
       "    .dataframe tbody tr th:only-of-type {\n",
       "        vertical-align: middle;\n",
       "    }\n",
       "\n",
       "    .dataframe tbody tr th {\n",
       "        vertical-align: top;\n",
       "    }\n",
       "\n",
       "    .dataframe thead th {\n",
       "        text-align: right;\n",
       "    }\n",
       "</style>\n",
       "<table border=\"1\" class=\"dataframe\">\n",
       "  <thead>\n",
       "    <tr style=\"text-align: right;\">\n",
       "      <th></th>\n",
       "      <th>Airline</th>\n",
       "      <th>Source</th>\n",
       "      <th>Destination</th>\n",
       "      <th>Price</th>\n",
       "      <th>Date</th>\n",
       "      <th>Month</th>\n",
       "      <th>Stop</th>\n",
       "      <th>Arrival_Hour</th>\n",
       "      <th>Arrival_Minute</th>\n",
       "      <th>Departure_Hour</th>\n",
       "      <th>Departure_Minute</th>\n",
       "      <th>Route_1</th>\n",
       "      <th>Route_2</th>\n",
       "      <th>Route_3</th>\n",
       "      <th>total_time</th>\n",
       "    </tr>\n",
       "  </thead>\n",
       "  <tbody>\n",
       "    <tr>\n",
       "      <th>0</th>\n",
       "      <td>-0.304660</td>\n",
       "      <td>-1.641279</td>\n",
       "      <td>1.742200</td>\n",
       "      <td>NaN</td>\n",
       "      <td>1.269216</td>\n",
       "      <td>-1.460032</td>\n",
       "      <td>-1.216378</td>\n",
       "      <td>-1.807385</td>\n",
       "      <td>-0.882245</td>\n",
       "      <td>1.664979</td>\n",
       "      <td>-0.236960</td>\n",
       "      <td>-1.649780</td>\n",
       "      <td>0.398660</td>\n",
       "      <td>1.250917</td>\n",
       "      <td>-1.040431</td>\n",
       "    </tr>\n",
       "    <tr>\n",
       "      <th>1</th>\n",
       "      <td>-1.415071</td>\n",
       "      <td>0.875292</td>\n",
       "      <td>-1.354438</td>\n",
       "      <td>NaN</td>\n",
       "      <td>-1.463334</td>\n",
       "      <td>0.257754</td>\n",
       "      <td>1.851299</td>\n",
       "      <td>-0.066218</td>\n",
       "      <td>-0.582093</td>\n",
       "      <td>-1.314033</td>\n",
       "      <td>1.349734</td>\n",
       "      <td>0.004924</td>\n",
       "      <td>1.574420</td>\n",
       "      <td>-2.395235</td>\n",
       "      <td>-0.017087</td>\n",
       "    </tr>\n",
       "    <tr>\n",
       "      <th>2</th>\n",
       "      <td>0.133669</td>\n",
       "      <td>0.036435</td>\n",
       "      <td>0.006983</td>\n",
       "      <td>NaN</td>\n",
       "      <td>-0.512882</td>\n",
       "      <td>1.116647</td>\n",
       "      <td>1.851299</td>\n",
       "      <td>-1.372093</td>\n",
       "      <td>0.018210</td>\n",
       "      <td>-0.613089</td>\n",
       "      <td>0.027489</td>\n",
       "      <td>0.832275</td>\n",
       "      <td>2.066263</td>\n",
       "      <td>-0.905547</td>\n",
       "      <td>1.087579</td>\n",
       "    </tr>\n",
       "    <tr>\n",
       "      <th>3</th>\n",
       "      <td>-0.304660</td>\n",
       "      <td>0.875292</td>\n",
       "      <td>-1.354438</td>\n",
       "      <td>NaN</td>\n",
       "      <td>-0.156462</td>\n",
       "      <td>0.257754</td>\n",
       "      <td>0.317460</td>\n",
       "      <td>1.384754</td>\n",
       "      <td>0.318362</td>\n",
       "      <td>0.964035</td>\n",
       "      <td>-1.030307</td>\n",
       "      <td>0.004924</td>\n",
       "      <td>2.191192</td>\n",
       "      <td>-1.249142</td>\n",
       "      <td>-0.362732</td>\n",
       "    </tr>\n",
       "    <tr>\n",
       "      <th>4</th>\n",
       "      <td>-0.304660</td>\n",
       "      <td>-1.641279</td>\n",
       "      <td>1.742200</td>\n",
       "      <td>NaN</td>\n",
       "      <td>-1.463334</td>\n",
       "      <td>-1.460032</td>\n",
       "      <td>0.317460</td>\n",
       "      <td>1.094559</td>\n",
       "      <td>0.618513</td>\n",
       "      <td>0.613563</td>\n",
       "      <td>1.349734</td>\n",
       "      <td>-1.649780</td>\n",
       "      <td>2.191192</td>\n",
       "      <td>-0.055194</td>\n",
       "      <td>-0.503856</td>\n",
       "    </tr>\n",
       "  </tbody>\n",
       "</table>\n",
       "</div>"
      ],
      "text/plain": [
       "    Airline    Source  Destination  Price      Date     Month      Stop  \\\n",
       "0 -0.304660 -1.641279     1.742200    NaN  1.269216 -1.460032 -1.216378   \n",
       "1 -1.415071  0.875292    -1.354438    NaN -1.463334  0.257754  1.851299   \n",
       "2  0.133669  0.036435     0.006983    NaN -0.512882  1.116647  1.851299   \n",
       "3 -0.304660  0.875292    -1.354438    NaN -0.156462  0.257754  0.317460   \n",
       "4 -0.304660 -1.641279     1.742200    NaN -1.463334 -1.460032  0.317460   \n",
       "\n",
       "   Arrival_Hour  Arrival_Minute  Departure_Hour  Departure_Minute   Route_1  \\\n",
       "0     -1.807385       -0.882245        1.664979         -0.236960 -1.649780   \n",
       "1     -0.066218       -0.582093       -1.314033          1.349734  0.004924   \n",
       "2     -1.372093        0.018210       -0.613089          0.027489  0.832275   \n",
       "3      1.384754        0.318362        0.964035         -1.030307  0.004924   \n",
       "4      1.094559        0.618513        0.613563          1.349734 -1.649780   \n",
       "\n",
       "    Route_2   Route_3  total_time  \n",
       "0  0.398660  1.250917   -1.040431  \n",
       "1  1.574420 -2.395235   -0.017087  \n",
       "2  2.066263 -0.905547    1.087579  \n",
       "3  2.191192 -1.249142   -0.362732  \n",
       "4  2.191192 -0.055194   -0.503856  "
      ]
     },
     "execution_count": 204,
     "metadata": {},
     "output_type": "execute_result"
    }
   ],
   "source": [
    "test=flight_data[10268::]\n",
    "train=flight_data[0:10268]\n",
    "test.head()"
   ]
  },
  {
   "cell_type": "markdown",
   "metadata": {
    "id": "1x5sD2Yd62B_"
   },
   "source": [
    "### Splitting Dependent and Independent Variable"
   ]
  },
  {
   "cell_type": "code",
   "execution_count": 205,
   "metadata": {
    "id": "nFL1brO336dm"
   },
   "outputs": [],
   "source": [
    "features = train.drop([\"Price\"],axis=1)\n",
    "target = train[\"Price\"]"
   ]
  },
  {
   "cell_type": "code",
   "execution_count": 62,
   "metadata": {
    "id": "6-nJ99Gs7eJe"
   },
   "outputs": [],
   "source": [
    "#Importing necessary libraries\n",
    "from sklearn import datasets, linear_model, metrics\n",
    "from sklearn import preprocessing\n",
    "from sklearn.model_selection import train_test_split\n",
    "from sklearn.metrics import r2_score,mean_squared_error,mean_absolute_error\n",
    "from sklearn.ensemble import RandomForestRegressor\n",
    "from sklearn.linear_model import LinearRegression\n",
    "from sklearn.metrics import classification_report\n",
    "from sklearn.model_selection import cross_val_score\n",
    "from sklearn import metrics\n",
    "from sklearn.model_selection import GridSearchCV\n",
    "from sklearn.linear_model import Lasso,Ridge\n",
    "from xgboost.sklearn import XGBRegressor\n",
    "from sklearn.model_selection import train_test_split\n",
    "import warnings\n",
    "warnings.filterwarnings(\"ignore\")"
   ]
  },
  {
   "cell_type": "code",
   "execution_count": 63,
   "metadata": {
    "id": "oG_b2Yrz8EiT"
   },
   "outputs": [],
   "source": [
    "def model_building(Features,target,model):\n",
    "    Maximum_Accuracy=0\n",
    "\n",
    "    test_size=[0.2,0.25,0.3]\n",
    "\n",
    "    for j in test_size:\n",
    "        for i in range(200):\n",
    "            x_train, x_test, y_train, y_test = train_test_split(Features, target, test_size=j,\n",
    "                                                          random_state=i)\n",
    "\n",
    "        model.fit(x_train,y_train)\n",
    "        pred= model.predict(x_test)\n",
    "        acc=r2_score(y_test,pred)\n",
    "        check=model.predict(x_train)\n",
    "        check_acc=r2_score(y_train,check)\n",
    "\n",
    "        if acc>Maximum_Accuracy:\n",
    "            Maximum_Accuracy=acc\n",
    "            print(\"R-square\",Maximum_Accuracy,\"Train set R Squared\",check_acc,'Random state',i,'test_size',j)"
   ]
  },
  {
   "cell_type": "markdown",
   "metadata": {},
   "source": [
    "### LINEAR REGRESSION"
   ]
  },
  {
   "cell_type": "code",
   "execution_count": 64,
   "metadata": {
    "colab": {
     "base_uri": "https://localhost:8080/"
    },
    "id": "4I5UIP2t8ePj",
    "outputId": "1a2d061e-0ee9-4573-c4ab-0fe84600bca9"
   },
   "outputs": [
    {
     "name": "stdout",
     "output_type": "stream",
     "text": [
      "R-square 0.5118182105034634 Train set R Squared 0.4673588395455226 Random state 199 test_size 0.2\n",
      "R-square 0.5194758789967503 Train set R Squared 0.46199729018725233 Random state 199 test_size 0.25\n"
     ]
    }
   ],
   "source": [
    "model_building(features,target,LinearRegression())"
   ]
  },
  {
   "cell_type": "code",
   "execution_count": 64,
   "metadata": {},
   "outputs": [],
   "source": [
    "# creating empty list that will help us in the end to judge the best model\n",
    "model_name=[]\n",
    "mse=[]\n",
    "mae=[]\n",
    "R_sq=[]\n",
    "rmse=[]"
   ]
  },
  {
   "cell_type": "code",
   "execution_count": 65,
   "metadata": {},
   "outputs": [
    {
     "name": "stdout",
     "output_type": "stream",
     "text": [
      "0.4673588395455227\n"
     ]
    }
   ],
   "source": [
    "x_train, x_test, y_train, y_test = train_test_split(Features, target, test_size=0.2,random_state=199)\n",
    "lr=LinearRegression()\n",
    "lr.fit(x_train,y_train)\n",
    "lr_pred=lr.predict(x_test)\n",
    "print(lr.score(x_train,y_train))"
   ]
  },
  {
   "cell_type": "code",
   "execution_count": 66,
   "metadata": {},
   "outputs": [
    {
     "name": "stdout",
     "output_type": "stream",
     "text": [
      "MSE: 9556295.376814783\n",
      "MAE: 2340.975491836874\n",
      "r2_score: 0.06215998641006215\n",
      "RMSE Score 3091.325828316191\n"
     ]
    }
   ],
   "source": [
    "print('MSE:',mean_squared_error(lr_pred,y_test))\n",
    "print('MAE:',mean_absolute_error(lr_pred,y_test))\n",
    "print('r2_score:',r2_score(lr_pred,y_test))\n",
    "print('RMSE Score',np.sqrt(metrics.mean_squared_error(y_test,lr_pred)))\n",
    "mse.append(mean_squared_error(lr_pred,y_test))\n",
    "mae.append(mean_absolute_error(lr_pred,y_test))\n",
    "R_sq.append(r2_score(lr_pred,y_test))\n",
    "model_name.append(\"linear_regression\")\n",
    "rmse.append(np.sqrt(metrics.mean_squared_error(y_test,lr_pred)))"
   ]
  },
  {
   "cell_type": "code",
   "execution_count": 67,
   "metadata": {},
   "outputs": [
    {
     "data": {
      "text/plain": [
       "<matplotlib.collections.PathCollection at 0x1da8d0b82e0>"
      ]
     },
     "execution_count": 67,
     "metadata": {},
     "output_type": "execute_result"
    },
    {
     "data": {
      "image/png": "[encoded data removed]",
      "text/plain": [
       "<Figure size 432x288 with 1 Axes>"
      ]
     },
     "metadata": {
      "needs_background": "light"
     },
     "output_type": "display_data"
    }
   ],
   "source": [
    "plt.scatter(x=y_test,y=lr_pred)"
   ]
  },
  {
   "cell_type": "markdown",
   "metadata": {},
   "source": [
    "# RIDGE REGRESSION"
   ]
  },
  {
   "cell_type": "code",
   "execution_count": 65,
   "metadata": {
    "colab": {
     "base_uri": "https://localhost:8080/"
    },
    "id": "QUvkMRle9QNm",
    "outputId": "0feaec23-7513-4043-99e2-7e59e9cb9a9b"
   },
   "outputs": [
    {
     "name": "stdout",
     "output_type": "stream",
     "text": [
      "R-square 0.5118241316860037 Train set R Squared 0.4673587938119156 Random state 199 test_size 0.2\n",
      "R-square 0.5194736548817787 Train set R Squared 0.46199724017725907 Random state 199 test_size 0.25\n"
     ]
    }
   ],
   "source": [
    "model_building(features,target,Ridge())"
   ]
  },
  {
   "cell_type": "code",
   "execution_count": 68,
   "metadata": {},
   "outputs": [
    {
     "name": "stdout",
     "output_type": "stream",
     "text": [
      "{'alpha': 20, 'solver': 'auto'}\n"
     ]
    }
   ],
   "source": [
    "x_train, x_test, y_train, y_test = train_test_split(Features, target, test_size=0.25,random_state=199)\n",
    "parameters={\"alpha\":[1e-15,1e-10,1e-8,1e-3,1e-2,1,5,10,20,30,35,40,45,50,55,100],'solver':['auto','svd','cholesky','lsqr']}\n",
    "ridge=Ridge()\n",
    "RR=GridSearchCV(ridge,parameters,scoring='neg_mean_squared_error')\n",
    "RR.fit(x_train,y_train)\n",
    "print(RR.best_params_)"
   ]
  },
  {
   "cell_type": "code",
   "execution_count": 69,
   "metadata": {},
   "outputs": [
    {
     "name": "stdout",
     "output_type": "stream",
     "text": [
      "R2_score: 0.5194552868341817\n",
      "mse: 9600174.909416117\n",
      "mae: 2322.3241596354037\n",
      "rmse: 3098.4149027230224\n"
     ]
    }
   ],
   "source": [
    "rr=Ridge(alpha=20,solver='auto')\n",
    "rr.fit(x_train,y_train)\n",
    "rr_pred=rr.predict(x_test)\n",
    "print('R2_score:',r2_score(y_test,rr_pred))\n",
    "print('mse:',metrics.mean_squared_error(y_test,rr_pred))\n",
    "print('mae:',metrics.mean_absolute_error(y_test,rr_pred))\n",
    "print('rmse:',np.sqrt(metrics.mean_squared_error(y_test,rr_pred)))\n",
    "mse.append(mean_squared_error(rr_pred,y_test))\n",
    "mae.append(mean_absolute_error(rr_pred,y_test))\n",
    "R_sq.append(r2_score(y_test,rr_pred))\n",
    "model_name.append(\"ridge_regression\")\n",
    "rmse.append(np.sqrt(metrics.mean_squared_error(y_test,rr_pred)))"
   ]
  },
  {
   "cell_type": "code",
   "execution_count": 70,
   "metadata": {},
   "outputs": [
    {
     "data": {
      "text/plain": [
       "<matplotlib.collections.PathCollection at 0x1da8d0f89d0>"
      ]
     },
     "execution_count": 70,
     "metadata": {},
     "output_type": "execute_result"
    },
    {
     "data": {
      "image/png": "[encoded data removed]",
      "text/plain": [
       "<Figure size 432x288 with 1 Axes>"
      ]
     },
     "metadata": {
      "needs_background": "light"
     },
     "output_type": "display_data"
    }
   ],
   "source": [
    "plt.scatter(x=y_test,y=rr_pred)"
   ]
  },
  {
   "cell_type": "markdown",
   "metadata": {},
   "source": [
    "# RANDOM FOREST"
   ]
  },
  {
   "cell_type": "code",
   "execution_count": 66,
   "metadata": {
    "colab": {
     "base_uri": "https://localhost:8080/"
    },
    "id": "W0BiqqrY-Fyl",
    "outputId": "c86a14da-d0d7-4d7b-f914-b0f88785be43"
   },
   "outputs": [
    {
     "name": "stdout",
     "output_type": "stream",
     "text": [
      "R-square 0.8479912810682024 Train set R Squared 0.9541576831855657 Random state 199 test_size 0.2\n",
      "R-square 0.8492550509856466 Train set R Squared 0.9535632558314369 Random state 199 test_size 0.25\n"
     ]
    }
   ],
   "source": [
    "model_building(features,target,RandomForestRegressor())"
   ]
  },
  {
   "cell_type": "code",
   "execution_count": 110,
   "metadata": {},
   "outputs": [
    {
     "name": "stdout",
     "output_type": "stream",
     "text": [
      "{'bootstrap': True, 'max_depth': 15, 'max_features': 'auto', 'min_samples_split': 3, 'n_estimators': 1200}\n"
     ]
    }
   ],
   "source": [
    "x_train, x_test, y_train, y_test = train_test_split(Features, target, test_size=0.25,random_state=199)\n",
    "model=RandomForestRegressor()\n",
    "param_grid = { \"n_estimators\"      : [800,1000,1200,1400],\n",
    "            \"max_features\"      : [\"auto\", \"sqrt\"],\n",
    "              'max_depth'       : [15,17,19,21],\n",
    "            \"min_samples_split\" : [2,3, 5, 7, 9],\n",
    "            \"bootstrap\": [True, False]\n",
    "            }\n",
    "grid = GridSearchCV(model, param_grid, n_jobs=-1, cv=5)\n",
    "grid.fit(x_train,y_train)\n",
    "print(grid.best_params_)"
   ]
  },
  {
   "cell_type": "code",
   "execution_count": 206,
   "metadata": {},
   "outputs": [
    {
     "name": "stdout",
     "output_type": "stream",
     "text": [
      "R2_score: 0.8723448777050987\n",
      "mse: 2550254.8847958674\n",
      "mae: 1034.6970267477802\n",
      "rmse: 1596.9517477982442\n"
     ]
    }
   ],
   "source": [
    "RF=RandomForestRegressor(n_estimators= 1200,max_features= \"auto\",max_depth=15,min_samples_split = 3,bootstrap=True)\n",
    "RF.fit(x_train,y_train)\n",
    "RF_pred=RF.predict(x_test)\n",
    "print('R2_score:',r2_score(y_test,RF_pred))\n",
    "print('mse:',metrics.mean_squared_error(y_test,RF_pred))\n",
    "print('mae:',metrics.mean_absolute_error(y_test,RF_pred))\n",
    "print('rmse:',np.sqrt(metrics.mean_squared_error(y_test,RF_pred)))"
   ]
  },
  {
   "cell_type": "code",
   "execution_count": 72,
   "metadata": {},
   "outputs": [],
   "source": [
    "mse.append(mean_squared_error(RF_pred,y_test))\n",
    "mae.append(mean_absolute_error(RF_pred,y_test))\n",
    "R_sq.append(r2_score(y_test,RF_pred))\n",
    "model_name.append(\"Random_forest_regression\")\n",
    "rmse.append(np.sqrt(metrics.mean_squared_error(y_test,RF_pred)))"
   ]
  },
  {
   "cell_type": "code",
   "execution_count": 73,
   "metadata": {},
   "outputs": [
    {
     "data": {
      "text/plain": [
       "<matplotlib.collections.PathCollection at 0x1da8d1d72e0>"
      ]
     },
     "execution_count": 73,
     "metadata": {},
     "output_type": "execute_result"
    },
    {
     "data": {
      "image/png": "[encoded data removed]",
      "text/plain": [
       "<Figure size 432x288 with 1 Axes>"
      ]
     },
     "metadata": {
      "needs_background": "light"
     },
     "output_type": "display_data"
    }
   ],
   "source": [
    "plt.scatter(x=y_test,y=RF_pred)"
   ]
  },
  {
   "cell_type": "markdown",
   "metadata": {},
   "source": [
    "# Xgboost Regressor"
   ]
  },
  {
   "cell_type": "code",
   "execution_count": 67,
   "metadata": {
    "colab": {
     "base_uri": "https://localhost:8080/"
    },
    "id": "u4GkPQ_Q-Scb",
    "outputId": "c4651e74-8936-42fc-bfbb-1ecee96195ac"
   },
   "outputs": [
    {
     "name": "stdout",
     "output_type": "stream",
     "text": [
      "R-square 0.8725688192900138 Train set R Squared 0.9348233064021544 Random state 199 test_size 0.2\n",
      "R-square 0.8743437591068397 Train set R Squared 0.9348783419653229 Random state 199 test_size 0.25\n"
     ]
    }
   ],
   "source": [
    "model_building(features,target,XGBRegressor(objective ='reg:linear', verbosity = 0, random_state=42))"
   ]
  },
  {
   "cell_type": "code",
   "execution_count": 114,
   "metadata": {},
   "outputs": [
    {
     "name": "stdout",
     "output_type": "stream",
     "text": [
      "{'colsample_bylevel': 1, 'learning_rate': 0.1, 'max_depth': 7, 'n_estimators': 150, 'objective': 'reg:linear'}\n"
     ]
    }
   ],
   "source": [
    "x_train, x_test, y_train, y_test = train_test_split(Features, target, test_size=0.25,random_state=199)\n",
    "xgb1 = XGBRegressor(verbosity = 0, random_state=42)\n",
    "parameters ={\n",
    "        'objective':['reg:linear'],\n",
    "         'max_depth': [1,2,3,4,5,6,7,8,9,10],\n",
    "         'colsample_bylevel':[0.2,0.5,0.6,1],\n",
    "         'learning_rate':[0.01,0.1,0.3,0.2,1],\n",
    "         'n_estimators':[50,100,150,200]\n",
    "                    }\n",
    "\n",
    "xgb_grid = GridSearchCV(xgb1,parameters)\n",
    "\n",
    "xgb_grid.fit(x_train, y_train)\n",
    "print(xgb_grid.best_params_)"
   ]
  },
  {
   "cell_type": "code",
   "execution_count": 74,
   "metadata": {},
   "outputs": [],
   "source": [
    "Xg=XGBRegressor(objective ='reg:linear', verbosity = 0, random_state=42, colsample_bylevel=1,learning_rate=0.1 ,max_depth= 7,n_estimators= 150)\n",
    "Xg.fit(x_train,y_train)\n",
    "Xg_pred=Xg.predict(x_test)"
   ]
  },
  {
   "cell_type": "code",
   "execution_count": 75,
   "metadata": {},
   "outputs": [
    {
     "name": "stdout",
     "output_type": "stream",
     "text": [
      "R2_score: 0.859526426304367\n",
      "mse: 2806337.9758034903\n",
      "mae: 1047.9114138547855\n",
      "rmse: 1675.2128150785768\n"
     ]
    }
   ],
   "source": [
    "print('R2_score:',r2_score(y_test,Xg_pred))\n",
    "print('mse:',metrics.mean_squared_error(y_test,Xg_pred))\n",
    "print('mae:',metrics.mean_absolute_error(y_test,Xg_pred))\n",
    "print('rmse:',np.sqrt(metrics.mean_squared_error(y_test,Xg_pred)))"
   ]
  },
  {
   "cell_type": "code",
   "execution_count": 76,
   "metadata": {},
   "outputs": [],
   "source": [
    "mse.append(mean_squared_error(Xg_pred,y_test))\n",
    "mae.append(mean_absolute_error(Xg_pred,y_test))\n",
    "R_sq.append(r2_score(y_test,Xg_pred))\n",
    "model_name.append(\"XGboost_regression\")\n",
    "rmse.append(np.sqrt(metrics.mean_squared_error(y_test,Xg_pred)))"
   ]
  },
  {
   "cell_type": "code",
   "execution_count": 77,
   "metadata": {},
   "outputs": [
    {
     "data": {
      "text/plain": [
       "<matplotlib.collections.PathCollection at 0x1da8d2b8d00>"
      ]
     },
     "execution_count": 77,
     "metadata": {},
     "output_type": "execute_result"
    },
    {
     "data": {
      "image/png": "[encoded data removed]",
      "text/plain": [
       "<Figure size 432x288 with 1 Axes>"
      ]
     },
     "metadata": {
      "needs_background": "light"
     },
     "output_type": "display_data"
    }
   ],
   "source": [
    "plt.scatter(x=y_test,y=Xg_pred)"
   ]
  },
  {
   "cell_type": "markdown",
   "metadata": {},
   "source": [
    "# comparision"
   ]
  },
  {
   "cell_type": "code",
   "execution_count": 78,
   "metadata": {},
   "outputs": [
    {
     "data": {
      "text/html": [
       "<div>\n",
       "<style scoped>\n",
       "    .dataframe tbody tr th:only-of-type {\n",
       "        vertical-align: middle;\n",
       "    }\n",
       "\n",
       "    .dataframe tbody tr th {\n",
       "        vertical-align: top;\n",
       "    }\n",
       "\n",
       "    .dataframe thead th {\n",
       "        text-align: right;\n",
       "    }\n",
       "</style>\n",
       "<table border=\"1\" class=\"dataframe\">\n",
       "  <thead>\n",
       "    <tr style=\"text-align: right;\">\n",
       "      <th></th>\n",
       "      <th>Model</th>\n",
       "      <th>Mean_Sq_Error</th>\n",
       "      <th>Mean_Absolute_Error</th>\n",
       "      <th>Root Mean Squared Error</th>\n",
       "      <th>R_sq</th>\n",
       "    </tr>\n",
       "  </thead>\n",
       "  <tbody>\n",
       "    <tr>\n",
       "      <th>0</th>\n",
       "      <td>linear_regression</td>\n",
       "      <td>9.556295e+06</td>\n",
       "      <td>2340.975492</td>\n",
       "      <td>3091.325828</td>\n",
       "      <td>0.062160</td>\n",
       "    </tr>\n",
       "    <tr>\n",
       "      <th>1</th>\n",
       "      <td>ridge_regression</td>\n",
       "      <td>9.600175e+06</td>\n",
       "      <td>2322.324160</td>\n",
       "      <td>3098.414903</td>\n",
       "      <td>0.519455</td>\n",
       "    </tr>\n",
       "    <tr>\n",
       "      <th>2</th>\n",
       "      <td>Random_forest_regression</td>\n",
       "      <td>2.527676e+06</td>\n",
       "      <td>1033.168185</td>\n",
       "      <td>1589.866652</td>\n",
       "      <td>0.873475</td>\n",
       "    </tr>\n",
       "    <tr>\n",
       "      <th>3</th>\n",
       "      <td>XGboost_regression</td>\n",
       "      <td>2.806338e+06</td>\n",
       "      <td>1047.911414</td>\n",
       "      <td>1675.212815</td>\n",
       "      <td>0.859526</td>\n",
       "    </tr>\n",
       "  </tbody>\n",
       "</table>\n",
       "</div>"
      ],
      "text/plain": [
       "                      Model  Mean_Sq_Error  Mean_Absolute_Error  \\\n",
       "0         linear_regression   9.556295e+06          2340.975492   \n",
       "1          ridge_regression   9.600175e+06          2322.324160   \n",
       "2  Random_forest_regression   2.527676e+06          1033.168185   \n",
       "3        XGboost_regression   2.806338e+06          1047.911414   \n",
       "\n",
       "   Root Mean Squared Error      R_sq  \n",
       "0              3091.325828  0.062160  \n",
       "1              3098.414903  0.519455  \n",
       "2              1589.866652  0.873475  \n",
       "3              1675.212815  0.859526  "
      ]
     },
     "execution_count": 78,
     "metadata": {},
     "output_type": "execute_result"
    }
   ],
   "source": [
    "data = list(zip(model_name,mse,mae,rmse,R_sq))                                           \n",
    "df = pd.DataFrame(data,columns=[\"Model\",\"Mean_Sq_Error\",\"Mean_Absolute_Error\",\"Root Mean Squared Error\",'R_sq'])                    #Creating DataFrame    \n",
    "df"
   ]
  },
  {
   "cell_type": "markdown",
   "metadata": {},
   "source": [
    "# Conclusion: We are best results with random Forest Regressor\n",
    "thus we will pick the Random Forest model"
   ]
  },
  {
   "cell_type": "code",
   "execution_count": 207,
   "metadata": {},
   "outputs": [
    {
     "data": {
      "text/html": [
       "<div>\n",
       "<style scoped>\n",
       "    .dataframe tbody tr th:only-of-type {\n",
       "        vertical-align: middle;\n",
       "    }\n",
       "\n",
       "    .dataframe tbody tr th {\n",
       "        vertical-align: top;\n",
       "    }\n",
       "\n",
       "    .dataframe thead th {\n",
       "        text-align: right;\n",
       "    }\n",
       "</style>\n",
       "<table border=\"1\" class=\"dataframe\">\n",
       "  <thead>\n",
       "    <tr style=\"text-align: right;\">\n",
       "      <th></th>\n",
       "      <th>0</th>\n",
       "      <th>1</th>\n",
       "      <th>2</th>\n",
       "      <th>3</th>\n",
       "      <th>4</th>\n",
       "      <th>5</th>\n",
       "      <th>6</th>\n",
       "      <th>7</th>\n",
       "      <th>8</th>\n",
       "      <th>9</th>\n",
       "      <th>...</th>\n",
       "      <th>2557</th>\n",
       "      <th>2558</th>\n",
       "      <th>2559</th>\n",
       "      <th>2560</th>\n",
       "      <th>2561</th>\n",
       "      <th>2562</th>\n",
       "      <th>2563</th>\n",
       "      <th>2564</th>\n",
       "      <th>2565</th>\n",
       "      <th>2566</th>\n",
       "    </tr>\n",
       "  </thead>\n",
       "  <tbody>\n",
       "    <tr>\n",
       "      <th>Predicted</th>\n",
       "      <td>6558.508439</td>\n",
       "      <td>9305.191777</td>\n",
       "      <td>8741.735404</td>\n",
       "      <td>9275.188244</td>\n",
       "      <td>3309.558282</td>\n",
       "      <td>11289.921784</td>\n",
       "      <td>7936.350624</td>\n",
       "      <td>8621.402527</td>\n",
       "      <td>13654.674266</td>\n",
       "      <td>4081.779291</td>\n",
       "      <td>...</td>\n",
       "      <td>10825.57456</td>\n",
       "      <td>9235.870039</td>\n",
       "      <td>8454.070047</td>\n",
       "      <td>6302.585471</td>\n",
       "      <td>12215.176622</td>\n",
       "      <td>23649.727629</td>\n",
       "      <td>3952.765698</td>\n",
       "      <td>6603.831097</td>\n",
       "      <td>12249.029684</td>\n",
       "      <td>8298.376864</td>\n",
       "    </tr>\n",
       "    <tr>\n",
       "      <th>Original</th>\n",
       "      <td>6426.000000</td>\n",
       "      <td>8452.000000</td>\n",
       "      <td>8891.000000</td>\n",
       "      <td>12681.000000</td>\n",
       "      <td>3175.000000</td>\n",
       "      <td>9314.000000</td>\n",
       "      <td>6785.000000</td>\n",
       "      <td>5281.000000</td>\n",
       "      <td>13727.000000</td>\n",
       "      <td>4441.000000</td>\n",
       "      <td>...</td>\n",
       "      <td>11264.00000</td>\n",
       "      <td>9345.000000</td>\n",
       "      <td>7664.000000</td>\n",
       "      <td>5706.000000</td>\n",
       "      <td>11989.000000</td>\n",
       "      <td>14815.000000</td>\n",
       "      <td>3383.000000</td>\n",
       "      <td>7451.000000</td>\n",
       "      <td>9905.000000</td>\n",
       "      <td>7384.000000</td>\n",
       "    </tr>\n",
       "  </tbody>\n",
       "</table>\n",
       "<p>2 rows × 2567 columns</p>\n",
       "</div>"
      ],
      "text/plain": [
       "                  0            1            2             3            4     \\\n",
       "Predicted  6558.508439  9305.191777  8741.735404   9275.188244  3309.558282   \n",
       "Original   6426.000000  8452.000000  8891.000000  12681.000000  3175.000000   \n",
       "\n",
       "                   5            6            7             8            9     \\\n",
       "Predicted  11289.921784  7936.350624  8621.402527  13654.674266  4081.779291   \n",
       "Original    9314.000000  6785.000000  5281.000000  13727.000000  4441.000000   \n",
       "\n",
       "           ...         2557         2558         2559         2560  \\\n",
       "Predicted  ...  10825.57456  9235.870039  8454.070047  6302.585471   \n",
       "Original   ...  11264.00000  9345.000000  7664.000000  5706.000000   \n",
       "\n",
       "                   2561          2562         2563         2564          2565  \\\n",
       "Predicted  12215.176622  23649.727629  3952.765698  6603.831097  12249.029684   \n",
       "Original   11989.000000  14815.000000  3383.000000  7451.000000   9905.000000   \n",
       "\n",
       "                  2566  \n",
       "Predicted  8298.376864  \n",
       "Original   7384.000000  \n",
       "\n",
       "[2 rows x 2567 columns]"
      ]
     },
     "execution_count": 207,
     "metadata": {},
     "output_type": "execute_result"
    }
   ],
   "source": [
    "#pickle file of the model\n",
    "import pickle\n",
    "# # saved the trained model in file with given name\n",
    "pickle_out = open(\"flight_price.pkl\",\"wb\") # name of my pickle file , wb -write\n",
    "pickle.dump(RF, pickle_out)\n",
    "pickle_out.close()\n",
    "# loading the pickeled model\n",
    "pickle_in = open(\"flight_price.pkl\",\"rb\") # rb -> read the pickel file\n",
    "trained_model = pickle.load(pickle_in)\n",
    "pd.DataFrame([trained_model.predict(x_test)[:],y_test[:]],index=[\"Predicted\",\"Original\"])"
   ]
  },
  {
   "cell_type": "markdown",
   "metadata": {},
   "source": [
    "## Case Study Completed"
   ]
  },
  {
   "cell_type": "code",
   "execution_count": 209,
   "metadata": {},
   "outputs": [],
   "source": [
    "# predicting for test dataset\n",
    "\n",
    "pickle_in = open(\"flight_price.pkl\",\"rb\") # rb -> read the pickel file\n",
    "trained_model = pickle.load(pickle_in)\n",
    "data=pd.DataFrame([trained_model.predict(test.drop(\"Price\",axis=1))],index=[\"Predicted\"])"
   ]
  },
  {
   "cell_type": "code",
   "execution_count": 210,
   "metadata": {},
   "outputs": [
    {
     "data": {
      "text/html": [
       "<div>\n",
       "<style scoped>\n",
       "    .dataframe tbody tr th:only-of-type {\n",
       "        vertical-align: middle;\n",
       "    }\n",
       "\n",
       "    .dataframe tbody tr th {\n",
       "        vertical-align: top;\n",
       "    }\n",
       "\n",
       "    .dataframe thead th {\n",
       "        text-align: right;\n",
       "    }\n",
       "</style>\n",
       "<table border=\"1\" class=\"dataframe\">\n",
       "  <thead>\n",
       "    <tr style=\"text-align: right;\">\n",
       "      <th></th>\n",
       "      <th>0</th>\n",
       "      <th>1</th>\n",
       "      <th>2</th>\n",
       "      <th>3</th>\n",
       "      <th>4</th>\n",
       "      <th>5</th>\n",
       "      <th>6</th>\n",
       "      <th>7</th>\n",
       "      <th>8</th>\n",
       "      <th>9</th>\n",
       "      <th>...</th>\n",
       "      <th>2661</th>\n",
       "      <th>2662</th>\n",
       "      <th>2663</th>\n",
       "      <th>2664</th>\n",
       "      <th>2665</th>\n",
       "      <th>2666</th>\n",
       "      <th>2667</th>\n",
       "      <th>2668</th>\n",
       "      <th>2669</th>\n",
       "      <th>2670</th>\n",
       "    </tr>\n",
       "  </thead>\n",
       "  <tbody>\n",
       "    <tr>\n",
       "      <th>Predicted</th>\n",
       "      <td>5194.565054</td>\n",
       "      <td>7220.279794</td>\n",
       "      <td>13667.485114</td>\n",
       "      <td>6200.619567</td>\n",
       "      <td>14556.003161</td>\n",
       "      <td>3869.750487</td>\n",
       "      <td>12023.023547</td>\n",
       "      <td>22897.622893</td>\n",
       "      <td>12362.902395</td>\n",
       "      <td>8247.01139</td>\n",
       "      <td>...</td>\n",
       "      <td>9335.768684</td>\n",
       "      <td>9992.308736</td>\n",
       "      <td>6411.9645</td>\n",
       "      <td>12511.350182</td>\n",
       "      <td>14594.966901</td>\n",
       "      <td>4271.530702</td>\n",
       "      <td>7263.342175</td>\n",
       "      <td>13615.07655</td>\n",
       "      <td>4460.455343</td>\n",
       "      <td>9859.712316</td>\n",
       "    </tr>\n",
       "  </tbody>\n",
       "</table>\n",
       "<p>1 rows × 2671 columns</p>\n",
       "</div>"
      ],
      "text/plain": [
       "                  0            1             2            3             4     \\\n",
       "Predicted  5194.565054  7220.279794  13667.485114  6200.619567  14556.003161   \n",
       "\n",
       "                  5             6             7             8           9     \\\n",
       "Predicted  3869.750487  12023.023547  22897.622893  12362.902395  8247.01139   \n",
       "\n",
       "           ...         2661         2662       2663          2664  \\\n",
       "Predicted  ...  9335.768684  9992.308736  6411.9645  12511.350182   \n",
       "\n",
       "                   2665         2666         2667         2668         2669  \\\n",
       "Predicted  14594.966901  4271.530702  7263.342175  13615.07655  4460.455343   \n",
       "\n",
       "                  2670  \n",
       "Predicted  9859.712316  \n",
       "\n",
       "[1 rows x 2671 columns]"
      ]
     },
     "execution_count": 210,
     "metadata": {},
     "output_type": "execute_result"
    }
   ],
   "source": [
    "# saving the dataframe\n",
    "data.to_csv('flight_price_predicted.csv')\n",
    "data"
   ]
  },
  {
   "cell_type": "code",
   "execution_count": null,
   "metadata": {},
   "outputs": [],
   "source": []
  }
 ],
 "metadata": {
  "colab": {
   "collapsed_sections": [],
   "name": "Flight_price_prediction_project.ipynb",
   "provenance": []
  },
  "kernelspec": {
   "display_name": "Python 3 (ipykernel)",
   "language": "python",
   "name": "python3"
  },
  "language_info": {
   "codemirror_mode": {
    "name": "ipython",
    "version": 3
   },
   "file_extension": ".py",
   "mimetype": "text/x-python",
   "name": "python",
   "nbconvert_exporter": "python",
   "pygments_lexer": "ipython3",
   "version": "3.9.12"
  }
 },
 "nbformat": 4,
 "nbformat_minor": 1
}
