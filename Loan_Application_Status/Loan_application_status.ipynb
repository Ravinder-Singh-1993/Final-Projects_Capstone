{
  "nbformat": 4,
  "nbformat_minor": 0,
  "metadata": {
    "colab": {
      "name": "Loan_application_status.ipynb",
      "provenance": [],
      "collapsed_sections": []
    },
    "kernelspec": {
      "name": "python3",
      "display_name": "Python 3"
    },
    "language_info": {
      "name": "python"
    }
  },
  "cells": [
    {
      "cell_type": "markdown",
      "source": [
        "#Loan Application Status Prediction\n",
        "Problem Statement:\n",
        "\n",
        "This dataset includes details of applicants who have applied for loan. The dataset includes details like credit history, loan amount, their income, dependents etc. \n",
        "\n",
        "Independent Variables:\n",
        "\n",
        "- Loan_ID\n",
        "\n",
        "- Gender\n",
        "\n",
        "- Married\n",
        "\n",
        "- Dependents\n",
        "\n",
        "- Education\n",
        "\n",
        "- Self_Employed\n",
        "\n",
        "- ApplicantIncome\n",
        "\n",
        "- CoapplicantIncome\n",
        "\n",
        "- Loan_Amount\n",
        "\n",
        "- Loan_Amount_Term\n",
        "\n",
        "- Credit History\n",
        "\n",
        "- Property_Area\n",
        "\n",
        "Dependent Variable (Target Variable):\n",
        "\n",
        "- Loan_Status\n",
        "\n",
        "You have to build a model that can predict whether the loan of the applicant will be approved or not on the basis of the details provided in the dataset. \n"
      ],
      "metadata": {
        "id": "qJN_99uHrBV5"
      }
    },
    {
      "cell_type": "markdown",
      "source": [
        "# Import the Dependencies"
      ],
      "metadata": {
        "id": "UYxV6GpcraDO"
      }
    },
    {
      "cell_type": "code",
      "execution_count": 95,
      "metadata": {
        "id": "g4OZ49PDqkR0"
      },
      "outputs": [],
      "source": [
        "import pandas as pd\n",
        "import numpy as np\n",
        "import warnings\n",
        "import seaborn as sns\n",
        "import matplotlib.pyplot as plt\n",
        "warnings.filterwarnings('ignore')"
      ]
    },
    {
      "cell_type": "markdown",
      "source": [
        "### Importing Dataset"
      ],
      "metadata": {
        "id": "9LSRVLaZrj0a"
      }
    },
    {
      "cell_type": "code",
      "source": [
        "Loan_data=pd.read_csv('https://raw.githubusercontent.com/dsrscientist/DSData/master/loan_prediction.csv')\n",
        "Loan_data.head()"
      ],
      "metadata": {
        "colab": {
          "base_uri": "https://localhost:8080/",
          "height": 288
        },
        "id": "VHH35X_Mri-Z",
        "outputId": "ac45e3b7-e822-46a5-dfc3-ae33ba0b3b0e"
      },
      "execution_count": 96,
      "outputs": [
        {
          "output_type": "execute_result",
          "data": {
            "text/plain": [
              "    Loan_ID Gender Married Dependents     Education Self_Employed  \\\n",
              "0  LP001002   Male      No          0      Graduate            No   \n",
              "1  LP001003   Male     Yes          1      Graduate            No   \n",
              "2  LP001005   Male     Yes          0      Graduate           Yes   \n",
              "3  LP001006   Male     Yes          0  Not Graduate            No   \n",
              "4  LP001008   Male      No          0      Graduate            No   \n",
              "\n",
              "   ApplicantIncome  CoapplicantIncome  LoanAmount  Loan_Amount_Term  \\\n",
              "0             5849                0.0         NaN             360.0   \n",
              "1             4583             1508.0       128.0             360.0   \n",
              "2             3000                0.0        66.0             360.0   \n",
              "3             2583             2358.0       120.0             360.0   \n",
              "4             6000                0.0       141.0             360.0   \n",
              "\n",
              "   Credit_History Property_Area Loan_Status  \n",
              "0             1.0         Urban           Y  \n",
              "1             1.0         Rural           N  \n",
              "2             1.0         Urban           Y  \n",
              "3             1.0         Urban           Y  \n",
              "4             1.0         Urban           Y  "
            ],
            "text/html": [
              "\n",
              "  <div id=\"df-666515da-263b-4f96-a08a-58786888cfc3\">\n",
              "    <div class=\"colab-df-container\">\n",
              "      <div>\n",
              "<style scoped>\n",
              "    .dataframe tbody tr th:only-of-type {\n",
              "        vertical-align: middle;\n",
              "    }\n",
              "\n",
              "    .dataframe tbody tr th {\n",
              "        vertical-align: top;\n",
              "    }\n",
              "\n",
              "    .dataframe thead th {\n",
              "        text-align: right;\n",
              "    }\n",
              "</style>\n",
              "<table border=\"1\" class=\"dataframe\">\n",
              "  <thead>\n",
              "    <tr style=\"text-align: right;\">\n",
              "      <th></th>\n",
              "      <th>Loan_ID</th>\n",
              "      <th>Gender</th>\n",
              "      <th>Married</th>\n",
              "      <th>Dependents</th>\n",
              "      <th>Education</th>\n",
              "      <th>Self_Employed</th>\n",
              "      <th>ApplicantIncome</th>\n",
              "      <th>CoapplicantIncome</th>\n",
              "      <th>LoanAmount</th>\n",
              "      <th>Loan_Amount_Term</th>\n",
              "      <th>Credit_History</th>\n",
              "      <th>Property_Area</th>\n",
              "      <th>Loan_Status</th>\n",
              "    </tr>\n",
              "  </thead>\n",
              "  <tbody>\n",
              "    <tr>\n",
              "      <th>0</th>\n",
              "      <td>LP001002</td>\n",
              "      <td>Male</td>\n",
              "      <td>No</td>\n",
              "      <td>0</td>\n",
              "      <td>Graduate</td>\n",
              "      <td>No</td>\n",
              "      <td>5849</td>\n",
              "      <td>0.0</td>\n",
              "      <td>NaN</td>\n",
              "      <td>360.0</td>\n",
              "      <td>1.0</td>\n",
              "      <td>Urban</td>\n",
              "      <td>Y</td>\n",
              "    </tr>\n",
              "    <tr>\n",
              "      <th>1</th>\n",
              "      <td>LP001003</td>\n",
              "      <td>Male</td>\n",
              "      <td>Yes</td>\n",
              "      <td>1</td>\n",
              "      <td>Graduate</td>\n",
              "      <td>No</td>\n",
              "      <td>4583</td>\n",
              "      <td>1508.0</td>\n",
              "      <td>128.0</td>\n",
              "      <td>360.0</td>\n",
              "      <td>1.0</td>\n",
              "      <td>Rural</td>\n",
              "      <td>N</td>\n",
              "    </tr>\n",
              "    <tr>\n",
              "      <th>2</th>\n",
              "      <td>LP001005</td>\n",
              "      <td>Male</td>\n",
              "      <td>Yes</td>\n",
              "      <td>0</td>\n",
              "      <td>Graduate</td>\n",
              "      <td>Yes</td>\n",
              "      <td>3000</td>\n",
              "      <td>0.0</td>\n",
              "      <td>66.0</td>\n",
              "      <td>360.0</td>\n",
              "      <td>1.0</td>\n",
              "      <td>Urban</td>\n",
              "      <td>Y</td>\n",
              "    </tr>\n",
              "    <tr>\n",
              "      <th>3</th>\n",
              "      <td>LP001006</td>\n",
              "      <td>Male</td>\n",
              "      <td>Yes</td>\n",
              "      <td>0</td>\n",
              "      <td>Not Graduate</td>\n",
              "      <td>No</td>\n",
              "      <td>2583</td>\n",
              "      <td>2358.0</td>\n",
              "      <td>120.0</td>\n",
              "      <td>360.0</td>\n",
              "      <td>1.0</td>\n",
              "      <td>Urban</td>\n",
              "      <td>Y</td>\n",
              "    </tr>\n",
              "    <tr>\n",
              "      <th>4</th>\n",
              "      <td>LP001008</td>\n",
              "      <td>Male</td>\n",
              "      <td>No</td>\n",
              "      <td>0</td>\n",
              "      <td>Graduate</td>\n",
              "      <td>No</td>\n",
              "      <td>6000</td>\n",
              "      <td>0.0</td>\n",
              "      <td>141.0</td>\n",
              "      <td>360.0</td>\n",
              "      <td>1.0</td>\n",
              "      <td>Urban</td>\n",
              "      <td>Y</td>\n",
              "    </tr>\n",
              "  </tbody>\n",
              "</table>\n",
              "</div>\n",
              "      <button class=\"colab-df-convert\" onclick=\"convertToInteractive('df-666515da-263b-4f96-a08a-58786888cfc3')\"\n",
              "              title=\"Convert this dataframe to an interactive table.\"\n",
              "              style=\"display:none;\">\n",
              "        \n",
              "  <svg xmlns=\"http://www.w3.org/2000/svg\" height=\"24px\"viewBox=\"0 0 24 24\"\n",
              "       width=\"24px\">\n",
              "    <path d=\"M0 0h24v24H0V0z\" fill=\"none\"/>\n",
              "    <path d=\"M18.56 5.44l.94 2.06.94-2.06 2.06-.94-2.06-.94-.94-2.06-.94 2.06-2.06.94zm-11 1L8.5 8.5l.94-2.06 2.06-.94-2.06-.94L8.5 2.5l-.94 2.06-2.06.94zm10 10l.94 2.06.94-2.06 2.06-.94-2.06-.94-.94-2.06-.94 2.06-2.06.94z\"/><path d=\"M17.41 7.96l-1.37-1.37c-.4-.4-.92-.59-1.43-.59-.52 0-1.04.2-1.43.59L10.3 9.45l-7.72 7.72c-.78.78-.78 2.05 0 2.83L4 21.41c.39.39.9.59 1.41.59.51 0 1.02-.2 1.41-.59l7.78-7.78 2.81-2.81c.8-.78.8-2.07 0-2.86zM5.41 20L4 18.59l7.72-7.72 1.47 1.35L5.41 20z\"/>\n",
              "  </svg>\n",
              "      </button>\n",
              "      \n",
              "  <style>\n",
              "    .colab-df-container {\n",
              "      display:flex;\n",
              "      flex-wrap:wrap;\n",
              "      gap: 12px;\n",
              "    }\n",
              "\n",
              "    .colab-df-convert {\n",
              "      background-color: #E8F0FE;\n",
              "      border: none;\n",
              "      border-radius: 50%;\n",
              "      cursor: pointer;\n",
              "      display: none;\n",
              "      fill: #1967D2;\n",
              "      height: 32px;\n",
              "      padding: 0 0 0 0;\n",
              "      width: 32px;\n",
              "    }\n",
              "\n",
              "    .colab-df-convert:hover {\n",
              "      background-color: #E2EBFA;\n",
              "      box-shadow: 0px 1px 2px rgba(60, 64, 67, 0.3), 0px 1px 3px 1px rgba(60, 64, 67, 0.15);\n",
              "      fill: #174EA6;\n",
              "    }\n",
              "\n",
              "    [theme=dark] .colab-df-convert {\n",
              "      background-color: #3B4455;\n",
              "      fill: #D2E3FC;\n",
              "    }\n",
              "\n",
              "    [theme=dark] .colab-df-convert:hover {\n",
              "      background-color: #434B5C;\n",
              "      box-shadow: 0px 1px 3px 1px rgba(0, 0, 0, 0.15);\n",
              "      filter: drop-shadow(0px 1px 2px rgba(0, 0, 0, 0.3));\n",
              "      fill: #FFFFFF;\n",
              "    }\n",
              "  </style>\n",
              "\n",
              "      <script>\n",
              "        const buttonEl =\n",
              "          document.querySelector('#df-666515da-263b-4f96-a08a-58786888cfc3 button.colab-df-convert');\n",
              "        buttonEl.style.display =\n",
              "          google.colab.kernel.accessAllowed ? 'block' : 'none';\n",
              "\n",
              "        async function convertToInteractive(key) {\n",
              "          const element = document.querySelector('#df-666515da-263b-4f96-a08a-58786888cfc3');\n",
              "          const dataTable =\n",
              "            await google.colab.kernel.invokeFunction('convertToInteractive',\n",
              "                                                     [key], {});\n",
              "          if (!dataTable) return;\n",
              "\n",
              "          const docLinkHtml = 'Like what you see? Visit the ' +\n",
              "            '<a target=\"_blank\" href=https://colab.research.google.com/notebooks/data_table.ipynb>data table notebook</a>'\n",
              "            + ' to learn more about interactive tables.';\n",
              "          element.innerHTML = '';\n",
              "          dataTable['output_type'] = 'display_data';\n",
              "          await google.colab.output.renderOutput(dataTable, element);\n",
              "          const docLink = document.createElement('div');\n",
              "          docLink.innerHTML = docLinkHtml;\n",
              "          element.appendChild(docLink);\n",
              "        }\n",
              "      </script>\n",
              "    </div>\n",
              "  </div>\n",
              "  "
            ]
          },
          "metadata": {},
          "execution_count": 96
        }
      ]
    },
    {
      "cell_type": "markdown",
      "source": [
        "### Understanding Data"
      ],
      "metadata": {
        "id": "mcRDQuyPr_fk"
      }
    },
    {
      "cell_type": "code",
      "source": [
        "Loan_data.info()"
      ],
      "metadata": {
        "colab": {
          "base_uri": "https://localhost:8080/"
        },
        "id": "IWeNYfCCrfZg",
        "outputId": "b5c3fddf-f749-4f9d-b7d3-85d3eacab728"
      },
      "execution_count": 97,
      "outputs": [
        {
          "output_type": "stream",
          "name": "stdout",
          "text": [
            "<class 'pandas.core.frame.DataFrame'>\n",
            "RangeIndex: 614 entries, 0 to 613\n",
            "Data columns (total 13 columns):\n",
            " #   Column             Non-Null Count  Dtype  \n",
            "---  ------             --------------  -----  \n",
            " 0   Loan_ID            614 non-null    object \n",
            " 1   Gender             601 non-null    object \n",
            " 2   Married            611 non-null    object \n",
            " 3   Dependents         599 non-null    object \n",
            " 4   Education          614 non-null    object \n",
            " 5   Self_Employed      582 non-null    object \n",
            " 6   ApplicantIncome    614 non-null    int64  \n",
            " 7   CoapplicantIncome  614 non-null    float64\n",
            " 8   LoanAmount         592 non-null    float64\n",
            " 9   Loan_Amount_Term   600 non-null    float64\n",
            " 10  Credit_History     564 non-null    float64\n",
            " 11  Property_Area      614 non-null    object \n",
            " 12  Loan_Status        614 non-null    object \n",
            "dtypes: float64(4), int64(1), object(8)\n",
            "memory usage: 62.5+ KB\n"
          ]
        }
      ]
    },
    {
      "cell_type": "markdown",
      "source": [
        "missing values in columns "
      ],
      "metadata": {
        "id": "SUSGFigXsNtd"
      }
    },
    {
      "cell_type": "code",
      "source": [
        "## column wise missing values\n",
        "Loan_data.isna().sum()"
      ],
      "metadata": {
        "colab": {
          "base_uri": "https://localhost:8080/"
        },
        "id": "Kz36KhxnsG67",
        "outputId": "8f0462eb-1f25-4fab-f6a5-2915d49689dd"
      },
      "execution_count": 98,
      "outputs": [
        {
          "output_type": "execute_result",
          "data": {
            "text/plain": [
              "Loan_ID               0\n",
              "Gender               13\n",
              "Married               3\n",
              "Dependents           15\n",
              "Education             0\n",
              "Self_Employed        32\n",
              "ApplicantIncome       0\n",
              "CoapplicantIncome     0\n",
              "LoanAmount           22\n",
              "Loan_Amount_Term     14\n",
              "Credit_History       50\n",
              "Property_Area         0\n",
              "Loan_Status           0\n",
              "dtype: int64"
            ]
          },
          "metadata": {},
          "execution_count": 98
        }
      ]
    },
    {
      "cell_type": "code",
      "source": [
        "# data description\n",
        "Loan_data.describe()"
      ],
      "metadata": {
        "colab": {
          "base_uri": "https://localhost:8080/",
          "height": 300
        },
        "id": "KmfQ9dYzsKNw",
        "outputId": "d59d6a75-b403-45c8-879a-0d8da050a5c0"
      },
      "execution_count": 99,
      "outputs": [
        {
          "output_type": "execute_result",
          "data": {
            "text/plain": [
              "       ApplicantIncome  CoapplicantIncome  LoanAmount  Loan_Amount_Term  \\\n",
              "count       614.000000         614.000000  592.000000         600.00000   \n",
              "mean       5403.459283        1621.245798  146.412162         342.00000   \n",
              "std        6109.041673        2926.248369   85.587325          65.12041   \n",
              "min         150.000000           0.000000    9.000000          12.00000   \n",
              "25%        2877.500000           0.000000  100.000000         360.00000   \n",
              "50%        3812.500000        1188.500000  128.000000         360.00000   \n",
              "75%        5795.000000        2297.250000  168.000000         360.00000   \n",
              "max       81000.000000       41667.000000  700.000000         480.00000   \n",
              "\n",
              "       Credit_History  \n",
              "count      564.000000  \n",
              "mean         0.842199  \n",
              "std          0.364878  \n",
              "min          0.000000  \n",
              "25%          1.000000  \n",
              "50%          1.000000  \n",
              "75%          1.000000  \n",
              "max          1.000000  "
            ],
            "text/html": [
              "\n",
              "  <div id=\"df-beeadb96-15e0-4e81-b13e-04a06a1d5d1d\">\n",
              "    <div class=\"colab-df-container\">\n",
              "      <div>\n",
              "<style scoped>\n",
              "    .dataframe tbody tr th:only-of-type {\n",
              "        vertical-align: middle;\n",
              "    }\n",
              "\n",
              "    .dataframe tbody tr th {\n",
              "        vertical-align: top;\n",
              "    }\n",
              "\n",
              "    .dataframe thead th {\n",
              "        text-align: right;\n",
              "    }\n",
              "</style>\n",
              "<table border=\"1\" class=\"dataframe\">\n",
              "  <thead>\n",
              "    <tr style=\"text-align: right;\">\n",
              "      <th></th>\n",
              "      <th>ApplicantIncome</th>\n",
              "      <th>CoapplicantIncome</th>\n",
              "      <th>LoanAmount</th>\n",
              "      <th>Loan_Amount_Term</th>\n",
              "      <th>Credit_History</th>\n",
              "    </tr>\n",
              "  </thead>\n",
              "  <tbody>\n",
              "    <tr>\n",
              "      <th>count</th>\n",
              "      <td>614.000000</td>\n",
              "      <td>614.000000</td>\n",
              "      <td>592.000000</td>\n",
              "      <td>600.00000</td>\n",
              "      <td>564.000000</td>\n",
              "    </tr>\n",
              "    <tr>\n",
              "      <th>mean</th>\n",
              "      <td>5403.459283</td>\n",
              "      <td>1621.245798</td>\n",
              "      <td>146.412162</td>\n",
              "      <td>342.00000</td>\n",
              "      <td>0.842199</td>\n",
              "    </tr>\n",
              "    <tr>\n",
              "      <th>std</th>\n",
              "      <td>6109.041673</td>\n",
              "      <td>2926.248369</td>\n",
              "      <td>85.587325</td>\n",
              "      <td>65.12041</td>\n",
              "      <td>0.364878</td>\n",
              "    </tr>\n",
              "    <tr>\n",
              "      <th>min</th>\n",
              "      <td>150.000000</td>\n",
              "      <td>0.000000</td>\n",
              "      <td>9.000000</td>\n",
              "      <td>12.00000</td>\n",
              "      <td>0.000000</td>\n",
              "    </tr>\n",
              "    <tr>\n",
              "      <th>25%</th>\n",
              "      <td>2877.500000</td>\n",
              "      <td>0.000000</td>\n",
              "      <td>100.000000</td>\n",
              "      <td>360.00000</td>\n",
              "      <td>1.000000</td>\n",
              "    </tr>\n",
              "    <tr>\n",
              "      <th>50%</th>\n",
              "      <td>3812.500000</td>\n",
              "      <td>1188.500000</td>\n",
              "      <td>128.000000</td>\n",
              "      <td>360.00000</td>\n",
              "      <td>1.000000</td>\n",
              "    </tr>\n",
              "    <tr>\n",
              "      <th>75%</th>\n",
              "      <td>5795.000000</td>\n",
              "      <td>2297.250000</td>\n",
              "      <td>168.000000</td>\n",
              "      <td>360.00000</td>\n",
              "      <td>1.000000</td>\n",
              "    </tr>\n",
              "    <tr>\n",
              "      <th>max</th>\n",
              "      <td>81000.000000</td>\n",
              "      <td>41667.000000</td>\n",
              "      <td>700.000000</td>\n",
              "      <td>480.00000</td>\n",
              "      <td>1.000000</td>\n",
              "    </tr>\n",
              "  </tbody>\n",
              "</table>\n",
              "</div>\n",
              "      <button class=\"colab-df-convert\" onclick=\"convertToInteractive('df-beeadb96-15e0-4e81-b13e-04a06a1d5d1d')\"\n",
              "              title=\"Convert this dataframe to an interactive table.\"\n",
              "              style=\"display:none;\">\n",
              "        \n",
              "  <svg xmlns=\"http://www.w3.org/2000/svg\" height=\"24px\"viewBox=\"0 0 24 24\"\n",
              "       width=\"24px\">\n",
              "    <path d=\"M0 0h24v24H0V0z\" fill=\"none\"/>\n",
              "    <path d=\"M18.56 5.44l.94 2.06.94-2.06 2.06-.94-2.06-.94-.94-2.06-.94 2.06-2.06.94zm-11 1L8.5 8.5l.94-2.06 2.06-.94-2.06-.94L8.5 2.5l-.94 2.06-2.06.94zm10 10l.94 2.06.94-2.06 2.06-.94-2.06-.94-.94-2.06-.94 2.06-2.06.94z\"/><path d=\"M17.41 7.96l-1.37-1.37c-.4-.4-.92-.59-1.43-.59-.52 0-1.04.2-1.43.59L10.3 9.45l-7.72 7.72c-.78.78-.78 2.05 0 2.83L4 21.41c.39.39.9.59 1.41.59.51 0 1.02-.2 1.41-.59l7.78-7.78 2.81-2.81c.8-.78.8-2.07 0-2.86zM5.41 20L4 18.59l7.72-7.72 1.47 1.35L5.41 20z\"/>\n",
              "  </svg>\n",
              "      </button>\n",
              "      \n",
              "  <style>\n",
              "    .colab-df-container {\n",
              "      display:flex;\n",
              "      flex-wrap:wrap;\n",
              "      gap: 12px;\n",
              "    }\n",
              "\n",
              "    .colab-df-convert {\n",
              "      background-color: #E8F0FE;\n",
              "      border: none;\n",
              "      border-radius: 50%;\n",
              "      cursor: pointer;\n",
              "      display: none;\n",
              "      fill: #1967D2;\n",
              "      height: 32px;\n",
              "      padding: 0 0 0 0;\n",
              "      width: 32px;\n",
              "    }\n",
              "\n",
              "    .colab-df-convert:hover {\n",
              "      background-color: #E2EBFA;\n",
              "      box-shadow: 0px 1px 2px rgba(60, 64, 67, 0.3), 0px 1px 3px 1px rgba(60, 64, 67, 0.15);\n",
              "      fill: #174EA6;\n",
              "    }\n",
              "\n",
              "    [theme=dark] .colab-df-convert {\n",
              "      background-color: #3B4455;\n",
              "      fill: #D2E3FC;\n",
              "    }\n",
              "\n",
              "    [theme=dark] .colab-df-convert:hover {\n",
              "      background-color: #434B5C;\n",
              "      box-shadow: 0px 1px 3px 1px rgba(0, 0, 0, 0.15);\n",
              "      filter: drop-shadow(0px 1px 2px rgba(0, 0, 0, 0.3));\n",
              "      fill: #FFFFFF;\n",
              "    }\n",
              "  </style>\n",
              "\n",
              "      <script>\n",
              "        const buttonEl =\n",
              "          document.querySelector('#df-beeadb96-15e0-4e81-b13e-04a06a1d5d1d button.colab-df-convert');\n",
              "        buttonEl.style.display =\n",
              "          google.colab.kernel.accessAllowed ? 'block' : 'none';\n",
              "\n",
              "        async function convertToInteractive(key) {\n",
              "          const element = document.querySelector('#df-beeadb96-15e0-4e81-b13e-04a06a1d5d1d');\n",
              "          const dataTable =\n",
              "            await google.colab.kernel.invokeFunction('convertToInteractive',\n",
              "                                                     [key], {});\n",
              "          if (!dataTable) return;\n",
              "\n",
              "          const docLinkHtml = 'Like what you see? Visit the ' +\n",
              "            '<a target=\"_blank\" href=https://colab.research.google.com/notebooks/data_table.ipynb>data table notebook</a>'\n",
              "            + ' to learn more about interactive tables.';\n",
              "          element.innerHTML = '';\n",
              "          dataTable['output_type'] = 'display_data';\n",
              "          await google.colab.output.renderOutput(dataTable, element);\n",
              "          const docLink = document.createElement('div');\n",
              "          docLink.innerHTML = docLinkHtml;\n",
              "          element.appendChild(docLink);\n",
              "        }\n",
              "      </script>\n",
              "    </div>\n",
              "  </div>\n",
              "  "
            ]
          },
          "metadata": {},
          "execution_count": 99
        }
      ]
    },
    {
      "cell_type": "code",
      "source": [
        "# checking for Duplicate values\n",
        "Loan_data.duplicated().sum()"
      ],
      "metadata": {
        "colab": {
          "base_uri": "https://localhost:8080/"
        },
        "id": "1pWxdKQKsqBd",
        "outputId": "61a02a84-398c-4cae-d3df-0b11e20fe336"
      },
      "execution_count": 100,
      "outputs": [
        {
          "output_type": "execute_result",
          "data": {
            "text/plain": [
              "0"
            ]
          },
          "metadata": {},
          "execution_count": 100
        }
      ]
    },
    {
      "cell_type": "code",
      "source": [
        "# unique values in Education column\n",
        "columns=[\"Gender\",'Married','Dependents','Education','Self_Employed','Loan_Amount_Term','Credit_History','Property_Area','Loan_Status']\n",
        "for column in columns:\n",
        "  print(\"\\n\",column)                                # column name\n",
        "  print(Loan_data[column].value_counts())           # Value Count\n",
        "  print(Loan_data[column].unique())                 # unique values"
      ],
      "metadata": {
        "colab": {
          "base_uri": "https://localhost:8080/"
        },
        "id": "fV3lZjVysxid",
        "outputId": "f00fe704-0252-4c2c-ca4a-a0b151e02321"
      },
      "execution_count": 101,
      "outputs": [
        {
          "output_type": "stream",
          "name": "stdout",
          "text": [
            "\n",
            " Gender\n",
            "Male      489\n",
            "Female    112\n",
            "Name: Gender, dtype: int64\n",
            "['Male' 'Female' nan]\n",
            "\n",
            " Married\n",
            "Yes    398\n",
            "No     213\n",
            "Name: Married, dtype: int64\n",
            "['No' 'Yes' nan]\n",
            "\n",
            " Dependents\n",
            "0     345\n",
            "1     102\n",
            "2     101\n",
            "3+     51\n",
            "Name: Dependents, dtype: int64\n",
            "['0' '1' '2' '3+' nan]\n",
            "\n",
            " Education\n",
            "Graduate        480\n",
            "Not Graduate    134\n",
            "Name: Education, dtype: int64\n",
            "['Graduate' 'Not Graduate']\n",
            "\n",
            " Self_Employed\n",
            "No     500\n",
            "Yes     82\n",
            "Name: Self_Employed, dtype: int64\n",
            "['No' 'Yes' nan]\n",
            "\n",
            " Loan_Amount_Term\n",
            "360.0    512\n",
            "180.0     44\n",
            "480.0     15\n",
            "300.0     13\n",
            "240.0      4\n",
            "84.0       4\n",
            "120.0      3\n",
            "60.0       2\n",
            "36.0       2\n",
            "12.0       1\n",
            "Name: Loan_Amount_Term, dtype: int64\n",
            "[360. 120. 240.  nan 180.  60. 300. 480.  36.  84.  12.]\n",
            "\n",
            " Credit_History\n",
            "1.0    475\n",
            "0.0     89\n",
            "Name: Credit_History, dtype: int64\n",
            "[ 1.  0. nan]\n",
            "\n",
            " Property_Area\n",
            "Semiurban    233\n",
            "Urban        202\n",
            "Rural        179\n",
            "Name: Property_Area, dtype: int64\n",
            "['Urban' 'Rural' 'Semiurban']\n",
            "\n",
            " Loan_Status\n",
            "Y    422\n",
            "N    192\n",
            "Name: Loan_Status, dtype: int64\n",
            "['Y' 'N']\n"
          ]
        }
      ]
    },
    {
      "cell_type": "markdown",
      "source": [
        "### Missing values Imputation\n",
        "\n",
        "### categorical"
      ],
      "metadata": {
        "id": "KIhg3o2CzxpW"
      }
    },
    {
      "cell_type": "code",
      "source": [
        "# Impute missing values for Gender\n",
        "Loan_data['Gender'].fillna(Loan_data['Gender'].mode()[0],inplace=True)\n",
        "\n",
        "# Replace missing value of Self_Employed with more frequent category\n",
        "Loan_data['Self_Employed'].fillna('No',inplace=True)\n",
        "\n",
        "# Impute missing values for Married\n",
        "Loan_data['Married'].fillna(Loan_data['Married'].mode()[0],inplace=True)\n",
        "\n",
        "# Impute missing values for Dependents\n",
        "Loan_data['Dependents'].fillna(Loan_data['Dependents'].mode()[0],inplace=True)\n",
        "\n",
        "# Impute missing values for Credit_History\n",
        "Loan_data['Credit_History'].fillna(Loan_data['Credit_History'].mode()[0],inplace=True)\n"
      ],
      "metadata": {
        "id": "IxxByO8OzxJJ"
      },
      "execution_count": 102,
      "outputs": []
    },
    {
      "cell_type": "markdown",
      "source": [
        "### imputation of Continous variable"
      ],
      "metadata": {
        "id": "UWfu1gg2ZWAa"
      }
    },
    {
      "cell_type": "code",
      "source": [
        "#Imputing Missing values with mean for continuous variable\n",
        "Loan_data['LoanAmount'].fillna(Loan_data['LoanAmount'].mean(), inplace=True)\n",
        "Loan_data['Loan_Amount_Term'].fillna(Loan_data['Loan_Amount_Term'].mean(), inplace=True)\n",
        "Loan_data['ApplicantIncome'].fillna(Loan_data['ApplicantIncome'].mean(), inplace=True)\n",
        "Loan_data['CoapplicantIncome'].fillna(Loan_data['CoapplicantIncome'].mean(), inplace=True)\n"
      ],
      "metadata": {
        "id": "4hgnN9cPZVGm"
      },
      "execution_count": 103,
      "outputs": []
    },
    {
      "cell_type": "markdown",
      "source": [
        "# EDA "
      ],
      "metadata": {
        "id": "VLBYhgOozQhC"
      }
    },
    {
      "cell_type": "markdown",
      "source": [
        "### univariate analysis"
      ],
      "metadata": {
        "id": "B49YE7EPzUDe"
      }
    },
    {
      "cell_type": "code",
      "source": [
        "## plot histogram for numeric columns\n",
        "Loan_data.hist(figsize=(10,10))\n",
        "plt.show()"
      ],
      "metadata": {
        "colab": {
          "base_uri": "https://localhost:8080/",
          "height": 607
        },
        "id": "6KiZ5h8QtQri",
        "outputId": "0a5aff1b-e50b-4458-e273-71d19c36783d"
      },
      "execution_count": 104,
      "outputs": [
        {
          "output_type": "display_data",
          "data": {
            "text/plain": [
              "<Figure size 720x720 with 6 Axes>"
            ],
            "image/png": "[encoded data removed]"
          },
          "metadata": {
            "needs_background": "light"
          }
        }
      ]
    },
    {
      "cell_type": "code",
      "source": [
        "Loan_data.boxplot(figsize=(10,5))\n",
        "plt.show()"
      ],
      "metadata": {
        "colab": {
          "base_uri": "https://localhost:8080/",
          "height": 321
        },
        "id": "84NehuD8zdBE",
        "outputId": "975c48c0-8511-4700-8da0-f8fff440a90b"
      },
      "execution_count": 105,
      "outputs": [
        {
          "output_type": "display_data",
          "data": {
            "text/plain": [
              "<Figure size 720x360 with 1 Axes>"
            ],
            "image/png": "[encoded data removed]"
          },
          "metadata": {
            "needs_background": "light"
          }
        }
      ]
    },
    {
      "cell_type": "markdown",
      "source": [
        "# Bi variate analysis"
      ],
      "metadata": {
        "id": "Vajq8Wzr1yIQ"
      }
    },
    {
      "cell_type": "code",
      "source": [
        "# Box Plot for variable LoanAmount by variable Gender\n",
        "Loan_data.boxplot(column='LoanAmount', by = 'Gender',figsize=(10,5))"
      ],
      "metadata": {
        "colab": {
          "base_uri": "https://localhost:8080/",
          "height": 378
        },
        "id": "XVKPh8rV2Zh5",
        "outputId": "f3586f4a-6738-4eee-a558-4302a84af262"
      },
      "execution_count": 106,
      "outputs": [
        {
          "output_type": "execute_result",
          "data": {
            "text/plain": [
              "<matplotlib.axes._subplots.AxesSubplot at 0x7f394bdf4090>"
            ]
          },
          "metadata": {},
          "execution_count": 106
        },
        {
          "output_type": "display_data",
          "data": {
            "text/plain": [
              "<Figure size 720x360 with 1 Axes>"
            ],
            "image/png": "[encoded data removed]"
          },
          "metadata": {
            "needs_background": "light"
          }
        }
      ]
    },
    {
      "cell_type": "code",
      "source": [
        "# Box Plot for variable LoanAmount by variable Gender\n",
        "Loan_data.boxplot(column='LoanAmount', by = 'Self_Employed',figsize=(10,5))"
      ],
      "metadata": {
        "colab": {
          "base_uri": "https://localhost:8080/",
          "height": 379
        },
        "id": "49XITjiK4l5e",
        "outputId": "ba84e237-1881-473c-8274-34eb4b053322"
      },
      "execution_count": 107,
      "outputs": [
        {
          "output_type": "execute_result",
          "data": {
            "text/plain": [
              "<matplotlib.axes._subplots.AxesSubplot at 0x7f3955281ad0>"
            ]
          },
          "metadata": {},
          "execution_count": 107
        },
        {
          "output_type": "display_data",
          "data": {
            "text/plain": [
              "<Figure size 720x360 with 1 Axes>"
            ],
            "image/png": "[encoded data removed]"
          },
          "metadata": {
            "needs_background": "light"
          }
        }
      ]
    },
    {
      "cell_type": "code",
      "source": [
        "Loan_data.boxplot(column='LoanAmount', by = 'Married',figsize=(10,5))"
      ],
      "metadata": {
        "colab": {
          "base_uri": "https://localhost:8080/",
          "height": 378
        },
        "id": "KwUxuEpk5LLL",
        "outputId": "847a7987-c782-4bf4-f000-5fc9aa84966a"
      },
      "execution_count": 108,
      "outputs": [
        {
          "output_type": "execute_result",
          "data": {
            "text/plain": [
              "<matplotlib.axes._subplots.AxesSubplot at 0x7f395533f450>"
            ]
          },
          "metadata": {},
          "execution_count": 108
        },
        {
          "output_type": "display_data",
          "data": {
            "text/plain": [
              "<Figure size 720x360 with 1 Axes>"
            ],
            "image/png": "[encoded data removed]"
          },
          "metadata": {
            "needs_background": "light"
          }
        }
      ]
    },
    {
      "cell_type": "code",
      "source": [
        "Loan_data.boxplot(column='LoanAmount', by = 'Dependents',figsize=(10,5))"
      ],
      "metadata": {
        "colab": {
          "base_uri": "https://localhost:8080/",
          "height": 378
        },
        "id": "RZ86dLYF5Z81",
        "outputId": "110f8f1b-f819-495d-f588-a0cb4e02ec91"
      },
      "execution_count": 109,
      "outputs": [
        {
          "output_type": "execute_result",
          "data": {
            "text/plain": [
              "<matplotlib.axes._subplots.AxesSubplot at 0x7f395533aad0>"
            ]
          },
          "metadata": {},
          "execution_count": 109
        },
        {
          "output_type": "display_data",
          "data": {
            "text/plain": [
              "<Figure size 720x360 with 1 Axes>"
            ],
            "image/png": "[encoded data removed]"
          },
          "metadata": {
            "needs_background": "light"
          }
        }
      ]
    },
    {
      "cell_type": "markdown",
      "source": [
        "### Multi variate ananlysis"
      ],
      "metadata": {
        "id": "Va92J3xIarIK"
      }
    },
    {
      "cell_type": "code",
      "source": [
        "# Creating a pairplot of dataset\n",
        "sns.pairplot(Loan_data)\n",
        "plt.show()"
      ],
      "metadata": {
        "colab": {
          "base_uri": "https://localhost:8080/",
          "height": 1000
        },
        "id": "8FogetA8anzO",
        "outputId": "69cdb30a-da5e-4df6-bebe-6fafcd6c360a"
      },
      "execution_count": 112,
      "outputs": [
        {
          "output_type": "display_data",
          "data": {
            "text/plain": [
              "<Figure size 1080x1080 with 42 Axes>"
            ],
            "image/png": "[encoded data removed]"
          },
          "metadata": {
            "needs_background": "light"
          }
        }
      ]
    },
    {
      "cell_type": "markdown",
      "source": [
        "## Feature Engineering"
      ],
      "metadata": {
        "id": "VrdpMtLU6pKg"
      }
    },
    {
      "cell_type": "code",
      "source": [
        "Loan_data['Family_income']=Loan_data['ApplicantIncome']+Loan_data['CoapplicantIncome']\n",
        "Loan_data['Family_income'].hist(bins=50)"
      ],
      "metadata": {
        "colab": {
          "base_uri": "https://localhost:8080/",
          "height": 282
        },
        "id": "-kkUV0l_6uwU",
        "outputId": "8150b2f4-c98f-4279-a01b-cc5d85452f87"
      },
      "execution_count": 110,
      "outputs": [
        {
          "output_type": "execute_result",
          "data": {
            "text/plain": [
              "<matplotlib.axes._subplots.AxesSubplot at 0x7f395837f610>"
            ]
          },
          "metadata": {},
          "execution_count": 110
        },
        {
          "output_type": "display_data",
          "data": {
            "text/plain": [
              "<Figure size 432x288 with 1 Axes>"
            ],
            "image/png": "[encoded data removed]"
          },
          "metadata": {
            "needs_background": "light"
          }
        }
      ]
    },
    {
      "cell_type": "code",
      "source": [
        "# to reduce the impact of Family Income\n",
        "Loan_data['Family_income'] = np.log(Loan_data['Family_income'])\n",
        "\n",
        "#Histogram for Total Income\n",
        "Loan_data['Family_income'].hist(bins=20) "
      ],
      "metadata": {
        "colab": {
          "base_uri": "https://localhost:8080/",
          "height": 282
        },
        "id": "-jYfQZZM74cA",
        "outputId": "a2e71df0-39dd-4c69-9081-53b066bbdcd9"
      },
      "execution_count": 111,
      "outputs": [
        {
          "output_type": "execute_result",
          "data": {
            "text/plain": [
              "<matplotlib.axes._subplots.AxesSubplot at 0x7f394b6fa250>"
            ]
          },
          "metadata": {},
          "execution_count": 111
        },
        {
          "output_type": "display_data",
          "data": {
            "text/plain": [
              "<Figure size 432x288 with 1 Axes>"
            ],
            "image/png": "[encoded data removed]"
          },
          "metadata": {
            "needs_background": "light"
          }
        }
      ]
    },
    {
      "cell_type": "code",
      "source": [
        "# Hot Encoding\n",
        "Loan_data['Loan_Status'] = Loan_data['Loan_Status'].map({\"Y\":int(1),'N':int(0)})\n",
        "\n",
        "# Convert all non-numeric values to number\n",
        "column=['Gender','Married','Dependents','Education','Self_Employed','Credit_History','Property_Area']\n",
        "\n",
        "# import LabelEncoder\n",
        "from sklearn.preprocessing import LabelEncoder\n",
        "for col in column:\n",
        "    le =LabelEncoder()\n",
        "    Loan_data[col]=le.fit_transform(Loan_data[col].astype('str'))\n",
        "Loan_data.dtypes"
      ],
      "metadata": {
        "colab": {
          "base_uri": "https://localhost:8080/"
        },
        "id": "3gEshJHq7B5g",
        "outputId": "599b4f10-f2ae-49a1-f984-bcfa81c9b226"
      },
      "execution_count": 113,
      "outputs": [
        {
          "output_type": "execute_result",
          "data": {
            "text/plain": [
              "Loan_ID               object\n",
              "Gender                 int64\n",
              "Married                int64\n",
              "Dependents             int64\n",
              "Education              int64\n",
              "Self_Employed          int64\n",
              "ApplicantIncome        int64\n",
              "CoapplicantIncome    float64\n",
              "LoanAmount           float64\n",
              "Loan_Amount_Term     float64\n",
              "Credit_History         int64\n",
              "Property_Area          int64\n",
              "Loan_Status            int64\n",
              "Family_income        float64\n",
              "dtype: object"
            ]
          },
          "metadata": {},
          "execution_count": 113
        }
      ]
    },
    {
      "cell_type": "code",
      "source": [
        "#skewness in the data\n",
        "Loan_data.drop('Loan_Status',axis=1).skew().sort_values(ascending=False)"
      ],
      "metadata": {
        "colab": {
          "base_uri": "https://localhost:8080/"
        },
        "id": "aueySZ1i93c9",
        "outputId": "72cb7b0e-264c-43b6-a16d-83b7b54280cc"
      },
      "execution_count": 114,
      "outputs": [
        {
          "output_type": "execute_result",
          "data": {
            "text/plain": [
              "CoapplicantIncome    7.491531\n",
              "ApplicantIncome      6.539513\n",
              "LoanAmount           2.726601\n",
              "Self_Employed        2.159796\n",
              "Education            1.367622\n",
              "Family_income        1.076702\n",
              "Dependents           1.015551\n",
              "Property_Area       -0.066196\n",
              "Married             -0.644850\n",
              "Gender              -1.648795\n",
              "Credit_History      -2.021971\n",
              "Loan_Amount_Term    -2.389680\n",
              "dtype: float64"
            ]
          },
          "metadata": {},
          "execution_count": 114
        }
      ]
    },
    {
      "cell_type": "code",
      "source": [
        "Loan_data.drop(['Loan_Status','CoapplicantIncome','ApplicantIncome'],axis=1).skew().sort_values(ascending=False)"
      ],
      "metadata": {
        "colab": {
          "base_uri": "https://localhost:8080/"
        },
        "id": "unoRLLJz7iPB",
        "outputId": "04e03acf-ae1a-49a5-b7bc-803a07a3cc0b"
      },
      "execution_count": 115,
      "outputs": [
        {
          "output_type": "execute_result",
          "data": {
            "text/plain": [
              "LoanAmount          2.726601\n",
              "Self_Employed       2.159796\n",
              "Education           1.367622\n",
              "Family_income       1.076702\n",
              "Dependents          1.015551\n",
              "Property_Area      -0.066196\n",
              "Married            -0.644850\n",
              "Gender             -1.648795\n",
              "Credit_History     -2.021971\n",
              "Loan_Amount_Term   -2.389680\n",
              "dtype: float64"
            ]
          },
          "metadata": {},
          "execution_count": 115
        }
      ]
    },
    {
      "cell_type": "code",
      "source": [
        "### Sepreating independent and dependent variable\n",
        "features = Loan_data.drop([\"Loan_Status\",'Loan_ID','ApplicantIncome','CoapplicantIncome'],axis=1)\n",
        "target = Loan_data[\"Loan_Status\"]"
      ],
      "metadata": {
        "id": "eQwwsWsk_xV2"
      },
      "execution_count": 124,
      "outputs": []
    },
    {
      "cell_type": "code",
      "source": [
        "features"
      ],
      "metadata": {
        "colab": {
          "base_uri": "https://localhost:8080/",
          "height": 424
        },
        "id": "_9IRszWaWZDo",
        "outputId": "eef072d2-2b18-4c3d-c178-b94f29af7138"
      },
      "execution_count": 125,
      "outputs": [
        {
          "output_type": "execute_result",
          "data": {
            "text/plain": [
              "     Gender  Married  Dependents  Education  Self_Employed  LoanAmount  \\\n",
              "0         1        0           0          0              0  146.412162   \n",
              "1         1        1           1          0              0  128.000000   \n",
              "2         1        1           0          0              1   66.000000   \n",
              "3         1        1           0          1              0  120.000000   \n",
              "4         1        0           0          0              0  141.000000   \n",
              "..      ...      ...         ...        ...            ...         ...   \n",
              "609       0        0           0          0              0   71.000000   \n",
              "610       1        1           3          0              0   40.000000   \n",
              "611       1        1           1          0              0  253.000000   \n",
              "612       1        1           2          0              0  187.000000   \n",
              "613       0        0           0          0              1  133.000000   \n",
              "\n",
              "     Loan_Amount_Term  Credit_History  Property_Area  Family_income  \n",
              "0               360.0               1              2       8.674026  \n",
              "1               360.0               1              0       8.714568  \n",
              "2               360.0               1              2       8.006368  \n",
              "3               360.0               1              2       8.505323  \n",
              "4               360.0               1              2       8.699515  \n",
              "..                ...             ...            ...            ...  \n",
              "609             360.0               1              0       7.972466  \n",
              "610             180.0               1              0       8.320205  \n",
              "611             360.0               1              2       9.025456  \n",
              "612             360.0               1              2       8.933664  \n",
              "613             360.0               0              1       8.430109  \n",
              "\n",
              "[614 rows x 10 columns]"
            ],
            "text/html": [
              "\n",
              "  <div id=\"df-9475abef-f957-4574-94d9-59a8ec761a60\">\n",
              "    <div class=\"colab-df-container\">\n",
              "      <div>\n",
              "<style scoped>\n",
              "    .dataframe tbody tr th:only-of-type {\n",
              "        vertical-align: middle;\n",
              "    }\n",
              "\n",
              "    .dataframe tbody tr th {\n",
              "        vertical-align: top;\n",
              "    }\n",
              "\n",
              "    .dataframe thead th {\n",
              "        text-align: right;\n",
              "    }\n",
              "</style>\n",
              "<table border=\"1\" class=\"dataframe\">\n",
              "  <thead>\n",
              "    <tr style=\"text-align: right;\">\n",
              "      <th></th>\n",
              "      <th>Gender</th>\n",
              "      <th>Married</th>\n",
              "      <th>Dependents</th>\n",
              "      <th>Education</th>\n",
              "      <th>Self_Employed</th>\n",
              "      <th>LoanAmount</th>\n",
              "      <th>Loan_Amount_Term</th>\n",
              "      <th>Credit_History</th>\n",
              "      <th>Property_Area</th>\n",
              "      <th>Family_income</th>\n",
              "    </tr>\n",
              "  </thead>\n",
              "  <tbody>\n",
              "    <tr>\n",
              "      <th>0</th>\n",
              "      <td>1</td>\n",
              "      <td>0</td>\n",
              "      <td>0</td>\n",
              "      <td>0</td>\n",
              "      <td>0</td>\n",
              "      <td>146.412162</td>\n",
              "      <td>360.0</td>\n",
              "      <td>1</td>\n",
              "      <td>2</td>\n",
              "      <td>8.674026</td>\n",
              "    </tr>\n",
              "    <tr>\n",
              "      <th>1</th>\n",
              "      <td>1</td>\n",
              "      <td>1</td>\n",
              "      <td>1</td>\n",
              "      <td>0</td>\n",
              "      <td>0</td>\n",
              "      <td>128.000000</td>\n",
              "      <td>360.0</td>\n",
              "      <td>1</td>\n",
              "      <td>0</td>\n",
              "      <td>8.714568</td>\n",
              "    </tr>\n",
              "    <tr>\n",
              "      <th>2</th>\n",
              "      <td>1</td>\n",
              "      <td>1</td>\n",
              "      <td>0</td>\n",
              "      <td>0</td>\n",
              "      <td>1</td>\n",
              "      <td>66.000000</td>\n",
              "      <td>360.0</td>\n",
              "      <td>1</td>\n",
              "      <td>2</td>\n",
              "      <td>8.006368</td>\n",
              "    </tr>\n",
              "    <tr>\n",
              "      <th>3</th>\n",
              "      <td>1</td>\n",
              "      <td>1</td>\n",
              "      <td>0</td>\n",
              "      <td>1</td>\n",
              "      <td>0</td>\n",
              "      <td>120.000000</td>\n",
              "      <td>360.0</td>\n",
              "      <td>1</td>\n",
              "      <td>2</td>\n",
              "      <td>8.505323</td>\n",
              "    </tr>\n",
              "    <tr>\n",
              "      <th>4</th>\n",
              "      <td>1</td>\n",
              "      <td>0</td>\n",
              "      <td>0</td>\n",
              "      <td>0</td>\n",
              "      <td>0</td>\n",
              "      <td>141.000000</td>\n",
              "      <td>360.0</td>\n",
              "      <td>1</td>\n",
              "      <td>2</td>\n",
              "      <td>8.699515</td>\n",
              "    </tr>\n",
              "    <tr>\n",
              "      <th>...</th>\n",
              "      <td>...</td>\n",
              "      <td>...</td>\n",
              "      <td>...</td>\n",
              "      <td>...</td>\n",
              "      <td>...</td>\n",
              "      <td>...</td>\n",
              "      <td>...</td>\n",
              "      <td>...</td>\n",
              "      <td>...</td>\n",
              "      <td>...</td>\n",
              "    </tr>\n",
              "    <tr>\n",
              "      <th>609</th>\n",
              "      <td>0</td>\n",
              "      <td>0</td>\n",
              "      <td>0</td>\n",
              "      <td>0</td>\n",
              "      <td>0</td>\n",
              "      <td>71.000000</td>\n",
              "      <td>360.0</td>\n",
              "      <td>1</td>\n",
              "      <td>0</td>\n",
              "      <td>7.972466</td>\n",
              "    </tr>\n",
              "    <tr>\n",
              "      <th>610</th>\n",
              "      <td>1</td>\n",
              "      <td>1</td>\n",
              "      <td>3</td>\n",
              "      <td>0</td>\n",
              "      <td>0</td>\n",
              "      <td>40.000000</td>\n",
              "      <td>180.0</td>\n",
              "      <td>1</td>\n",
              "      <td>0</td>\n",
              "      <td>8.320205</td>\n",
              "    </tr>\n",
              "    <tr>\n",
              "      <th>611</th>\n",
              "      <td>1</td>\n",
              "      <td>1</td>\n",
              "      <td>1</td>\n",
              "      <td>0</td>\n",
              "      <td>0</td>\n",
              "      <td>253.000000</td>\n",
              "      <td>360.0</td>\n",
              "      <td>1</td>\n",
              "      <td>2</td>\n",
              "      <td>9.025456</td>\n",
              "    </tr>\n",
              "    <tr>\n",
              "      <th>612</th>\n",
              "      <td>1</td>\n",
              "      <td>1</td>\n",
              "      <td>2</td>\n",
              "      <td>0</td>\n",
              "      <td>0</td>\n",
              "      <td>187.000000</td>\n",
              "      <td>360.0</td>\n",
              "      <td>1</td>\n",
              "      <td>2</td>\n",
              "      <td>8.933664</td>\n",
              "    </tr>\n",
              "    <tr>\n",
              "      <th>613</th>\n",
              "      <td>0</td>\n",
              "      <td>0</td>\n",
              "      <td>0</td>\n",
              "      <td>0</td>\n",
              "      <td>1</td>\n",
              "      <td>133.000000</td>\n",
              "      <td>360.0</td>\n",
              "      <td>0</td>\n",
              "      <td>1</td>\n",
              "      <td>8.430109</td>\n",
              "    </tr>\n",
              "  </tbody>\n",
              "</table>\n",
              "<p>614 rows × 10 columns</p>\n",
              "</div>\n",
              "      <button class=\"colab-df-convert\" onclick=\"convertToInteractive('df-9475abef-f957-4574-94d9-59a8ec761a60')\"\n",
              "              title=\"Convert this dataframe to an interactive table.\"\n",
              "              style=\"display:none;\">\n",
              "        \n",
              "  <svg xmlns=\"http://www.w3.org/2000/svg\" height=\"24px\"viewBox=\"0 0 24 24\"\n",
              "       width=\"24px\">\n",
              "    <path d=\"M0 0h24v24H0V0z\" fill=\"none\"/>\n",
              "    <path d=\"M18.56 5.44l.94 2.06.94-2.06 2.06-.94-2.06-.94-.94-2.06-.94 2.06-2.06.94zm-11 1L8.5 8.5l.94-2.06 2.06-.94-2.06-.94L8.5 2.5l-.94 2.06-2.06.94zm10 10l.94 2.06.94-2.06 2.06-.94-2.06-.94-.94-2.06-.94 2.06-2.06.94z\"/><path d=\"M17.41 7.96l-1.37-1.37c-.4-.4-.92-.59-1.43-.59-.52 0-1.04.2-1.43.59L10.3 9.45l-7.72 7.72c-.78.78-.78 2.05 0 2.83L4 21.41c.39.39.9.59 1.41.59.51 0 1.02-.2 1.41-.59l7.78-7.78 2.81-2.81c.8-.78.8-2.07 0-2.86zM5.41 20L4 18.59l7.72-7.72 1.47 1.35L5.41 20z\"/>\n",
              "  </svg>\n",
              "      </button>\n",
              "      \n",
              "  <style>\n",
              "    .colab-df-container {\n",
              "      display:flex;\n",
              "      flex-wrap:wrap;\n",
              "      gap: 12px;\n",
              "    }\n",
              "\n",
              "    .colab-df-convert {\n",
              "      background-color: #E8F0FE;\n",
              "      border: none;\n",
              "      border-radius: 50%;\n",
              "      cursor: pointer;\n",
              "      display: none;\n",
              "      fill: #1967D2;\n",
              "      height: 32px;\n",
              "      padding: 0 0 0 0;\n",
              "      width: 32px;\n",
              "    }\n",
              "\n",
              "    .colab-df-convert:hover {\n",
              "      background-color: #E2EBFA;\n",
              "      box-shadow: 0px 1px 2px rgba(60, 64, 67, 0.3), 0px 1px 3px 1px rgba(60, 64, 67, 0.15);\n",
              "      fill: #174EA6;\n",
              "    }\n",
              "\n",
              "    [theme=dark] .colab-df-convert {\n",
              "      background-color: #3B4455;\n",
              "      fill: #D2E3FC;\n",
              "    }\n",
              "\n",
              "    [theme=dark] .colab-df-convert:hover {\n",
              "      background-color: #434B5C;\n",
              "      box-shadow: 0px 1px 3px 1px rgba(0, 0, 0, 0.15);\n",
              "      filter: drop-shadow(0px 1px 2px rgba(0, 0, 0, 0.3));\n",
              "      fill: #FFFFFF;\n",
              "    }\n",
              "  </style>\n",
              "\n",
              "      <script>\n",
              "        const buttonEl =\n",
              "          document.querySelector('#df-9475abef-f957-4574-94d9-59a8ec761a60 button.colab-df-convert');\n",
              "        buttonEl.style.display =\n",
              "          google.colab.kernel.accessAllowed ? 'block' : 'none';\n",
              "\n",
              "        async function convertToInteractive(key) {\n",
              "          const element = document.querySelector('#df-9475abef-f957-4574-94d9-59a8ec761a60');\n",
              "          const dataTable =\n",
              "            await google.colab.kernel.invokeFunction('convertToInteractive',\n",
              "                                                     [key], {});\n",
              "          if (!dataTable) return;\n",
              "\n",
              "          const docLinkHtml = 'Like what you see? Visit the ' +\n",
              "            '<a target=\"_blank\" href=https://colab.research.google.com/notebooks/data_table.ipynb>data table notebook</a>'\n",
              "            + ' to learn more about interactive tables.';\n",
              "          element.innerHTML = '';\n",
              "          dataTable['output_type'] = 'display_data';\n",
              "          await google.colab.output.renderOutput(dataTable, element);\n",
              "          const docLink = document.createElement('div');\n",
              "          docLink.innerHTML = docLinkHtml;\n",
              "          element.appendChild(docLink);\n",
              "        }\n",
              "      </script>\n",
              "    </div>\n",
              "  </div>\n",
              "  "
            ]
          },
          "metadata": {},
          "execution_count": 125
        }
      ]
    },
    {
      "cell_type": "markdown",
      "source": [
        "### Features Selection"
      ],
      "metadata": {
        "id": "X2el51m9bCHQ"
      }
    },
    {
      "cell_type": "code",
      "source": [
        "from sklearn.ensemble import ExtraTreesClassifier\n",
        "clf = ExtraTreesClassifier(random_state=42)\n",
        "clf.fit(features, target)\n",
        "feat_import = pd.DataFrame(zip(features.columns.tolist(), clf.feature_importances_ * 100), columns=['Feature', 'Importance'])\n",
        "feat_import"
      ],
      "metadata": {
        "id": "qCK4ImvMBVO-",
        "colab": {
          "base_uri": "https://localhost:8080/",
          "height": 363
        },
        "outputId": "9bd94358-65ed-45d3-b71f-63ae263ef5dd"
      },
      "execution_count": 126,
      "outputs": [
        {
          "output_type": "execute_result",
          "data": {
            "text/plain": [
              "            Feature  Importance\n",
              "0            Gender    2.346066\n",
              "1           Married    2.099581\n",
              "2        Dependents    6.403784\n",
              "3         Education    1.759535\n",
              "4     Self_Employed    2.408787\n",
              "5        LoanAmount   22.381903\n",
              "6  Loan_Amount_Term    5.252512\n",
              "7    Credit_History   28.240629\n",
              "8     Property_Area    5.467769\n",
              "9     Family_income   23.639432"
            ],
            "text/html": [
              "\n",
              "  <div id=\"df-9214b2fa-572d-4a7c-af15-2dc9925bed73\">\n",
              "    <div class=\"colab-df-container\">\n",
              "      <div>\n",
              "<style scoped>\n",
              "    .dataframe tbody tr th:only-of-type {\n",
              "        vertical-align: middle;\n",
              "    }\n",
              "\n",
              "    .dataframe tbody tr th {\n",
              "        vertical-align: top;\n",
              "    }\n",
              "\n",
              "    .dataframe thead th {\n",
              "        text-align: right;\n",
              "    }\n",
              "</style>\n",
              "<table border=\"1\" class=\"dataframe\">\n",
              "  <thead>\n",
              "    <tr style=\"text-align: right;\">\n",
              "      <th></th>\n",
              "      <th>Feature</th>\n",
              "      <th>Importance</th>\n",
              "    </tr>\n",
              "  </thead>\n",
              "  <tbody>\n",
              "    <tr>\n",
              "      <th>0</th>\n",
              "      <td>Gender</td>\n",
              "      <td>2.346066</td>\n",
              "    </tr>\n",
              "    <tr>\n",
              "      <th>1</th>\n",
              "      <td>Married</td>\n",
              "      <td>2.099581</td>\n",
              "    </tr>\n",
              "    <tr>\n",
              "      <th>2</th>\n",
              "      <td>Dependents</td>\n",
              "      <td>6.403784</td>\n",
              "    </tr>\n",
              "    <tr>\n",
              "      <th>3</th>\n",
              "      <td>Education</td>\n",
              "      <td>1.759535</td>\n",
              "    </tr>\n",
              "    <tr>\n",
              "      <th>4</th>\n",
              "      <td>Self_Employed</td>\n",
              "      <td>2.408787</td>\n",
              "    </tr>\n",
              "    <tr>\n",
              "      <th>5</th>\n",
              "      <td>LoanAmount</td>\n",
              "      <td>22.381903</td>\n",
              "    </tr>\n",
              "    <tr>\n",
              "      <th>6</th>\n",
              "      <td>Loan_Amount_Term</td>\n",
              "      <td>5.252512</td>\n",
              "    </tr>\n",
              "    <tr>\n",
              "      <th>7</th>\n",
              "      <td>Credit_History</td>\n",
              "      <td>28.240629</td>\n",
              "    </tr>\n",
              "    <tr>\n",
              "      <th>8</th>\n",
              "      <td>Property_Area</td>\n",
              "      <td>5.467769</td>\n",
              "    </tr>\n",
              "    <tr>\n",
              "      <th>9</th>\n",
              "      <td>Family_income</td>\n",
              "      <td>23.639432</td>\n",
              "    </tr>\n",
              "  </tbody>\n",
              "</table>\n",
              "</div>\n",
              "      <button class=\"colab-df-convert\" onclick=\"convertToInteractive('df-9214b2fa-572d-4a7c-af15-2dc9925bed73')\"\n",
              "              title=\"Convert this dataframe to an interactive table.\"\n",
              "              style=\"display:none;\">\n",
              "        \n",
              "  <svg xmlns=\"http://www.w3.org/2000/svg\" height=\"24px\"viewBox=\"0 0 24 24\"\n",
              "       width=\"24px\">\n",
              "    <path d=\"M0 0h24v24H0V0z\" fill=\"none\"/>\n",
              "    <path d=\"M18.56 5.44l.94 2.06.94-2.06 2.06-.94-2.06-.94-.94-2.06-.94 2.06-2.06.94zm-11 1L8.5 8.5l.94-2.06 2.06-.94-2.06-.94L8.5 2.5l-.94 2.06-2.06.94zm10 10l.94 2.06.94-2.06 2.06-.94-2.06-.94-.94-2.06-.94 2.06-2.06.94z\"/><path d=\"M17.41 7.96l-1.37-1.37c-.4-.4-.92-.59-1.43-.59-.52 0-1.04.2-1.43.59L10.3 9.45l-7.72 7.72c-.78.78-.78 2.05 0 2.83L4 21.41c.39.39.9.59 1.41.59.51 0 1.02-.2 1.41-.59l7.78-7.78 2.81-2.81c.8-.78.8-2.07 0-2.86zM5.41 20L4 18.59l7.72-7.72 1.47 1.35L5.41 20z\"/>\n",
              "  </svg>\n",
              "      </button>\n",
              "      \n",
              "  <style>\n",
              "    .colab-df-container {\n",
              "      display:flex;\n",
              "      flex-wrap:wrap;\n",
              "      gap: 12px;\n",
              "    }\n",
              "\n",
              "    .colab-df-convert {\n",
              "      background-color: #E8F0FE;\n",
              "      border: none;\n",
              "      border-radius: 50%;\n",
              "      cursor: pointer;\n",
              "      display: none;\n",
              "      fill: #1967D2;\n",
              "      height: 32px;\n",
              "      padding: 0 0 0 0;\n",
              "      width: 32px;\n",
              "    }\n",
              "\n",
              "    .colab-df-convert:hover {\n",
              "      background-color: #E2EBFA;\n",
              "      box-shadow: 0px 1px 2px rgba(60, 64, 67, 0.3), 0px 1px 3px 1px rgba(60, 64, 67, 0.15);\n",
              "      fill: #174EA6;\n",
              "    }\n",
              "\n",
              "    [theme=dark] .colab-df-convert {\n",
              "      background-color: #3B4455;\n",
              "      fill: #D2E3FC;\n",
              "    }\n",
              "\n",
              "    [theme=dark] .colab-df-convert:hover {\n",
              "      background-color: #434B5C;\n",
              "      box-shadow: 0px 1px 3px 1px rgba(0, 0, 0, 0.15);\n",
              "      filter: drop-shadow(0px 1px 2px rgba(0, 0, 0, 0.3));\n",
              "      fill: #FFFFFF;\n",
              "    }\n",
              "  </style>\n",
              "\n",
              "      <script>\n",
              "        const buttonEl =\n",
              "          document.querySelector('#df-9214b2fa-572d-4a7c-af15-2dc9925bed73 button.colab-df-convert');\n",
              "        buttonEl.style.display =\n",
              "          google.colab.kernel.accessAllowed ? 'block' : 'none';\n",
              "\n",
              "        async function convertToInteractive(key) {\n",
              "          const element = document.querySelector('#df-9214b2fa-572d-4a7c-af15-2dc9925bed73');\n",
              "          const dataTable =\n",
              "            await google.colab.kernel.invokeFunction('convertToInteractive',\n",
              "                                                     [key], {});\n",
              "          if (!dataTable) return;\n",
              "\n",
              "          const docLinkHtml = 'Like what you see? Visit the ' +\n",
              "            '<a target=\"_blank\" href=https://colab.research.google.com/notebooks/data_table.ipynb>data table notebook</a>'\n",
              "            + ' to learn more about interactive tables.';\n",
              "          element.innerHTML = '';\n",
              "          dataTable['output_type'] = 'display_data';\n",
              "          await google.colab.output.renderOutput(dataTable, element);\n",
              "          const docLink = document.createElement('div');\n",
              "          docLink.innerHTML = docLinkHtml;\n",
              "          element.appendChild(docLink);\n",
              "        }\n",
              "      </script>\n",
              "    </div>\n",
              "  </div>\n",
              "  "
            ]
          },
          "metadata": {},
          "execution_count": 126
        }
      ]
    },
    {
      "cell_type": "code",
      "source": [
        "# Features importance plot\n",
        "plt.figure(figsize=[20,6])\n",
        "sns.barplot(data=feat_import, x='Feature', y='Importance')\n",
        "plt.title('Features Importance', weight='bold', fontsize=15)\n",
        "plt.xlabel('Feature', weight='bold', fontsize=10)\n",
        "plt.ylabel('Importance (%)', weight='bold', fontsize=10);\n"
      ],
      "metadata": {
        "colab": {
          "base_uri": "https://localhost:8080/",
          "height": 407
        },
        "id": "uPY1GQULbFMw",
        "outputId": "9e4cbf12-a494-477e-d0eb-a66494d4814e"
      },
      "execution_count": 127,
      "outputs": [
        {
          "output_type": "display_data",
          "data": {
            "text/plain": [
              "<Figure size 1440x432 with 1 Axes>"
            ],
            "image/png": "[encoded data removed]"
          },
          "metadata": {
            "needs_background": "light"
          }
        }
      ]
    },
    {
      "cell_type": "markdown",
      "source": [
        "## Will drop any Feature that has less than 5% of importance"
      ],
      "metadata": {
        "id": "7cZIKu8lc6t6"
      }
    },
    {
      "cell_type": "code",
      "source": [
        "### will drop the coumn as they have negligble impact on the prediction\n",
        "features.drop(['Gender', 'Married', 'Education', 'Self_Employed'], axis=1, inplace=True)"
      ],
      "metadata": {
        "id": "_mdtbm5wcBbe"
      },
      "execution_count": 128,
      "outputs": []
    },
    {
      "cell_type": "markdown",
      "source": [
        "## Feature Scaling"
      ],
      "metadata": {
        "id": "1QIQMHV6c_JB"
      }
    },
    {
      "cell_type": "code",
      "source": [
        "from sklearn.preprocessing import StandardScaler\n",
        "for col in features.columns:\n",
        "    SC = StandardScaler()\n",
        "    features[col] = SC.fit_transform(features[col].values.reshape(-1, 1))"
      ],
      "metadata": {
        "id": "KWk40f7icdch"
      },
      "execution_count": 129,
      "outputs": []
    },
    {
      "cell_type": "code",
      "source": [
        "# Checking for Imbalace in the data\n",
        "round(target.value_counts(normalize=True) * 100, 2)"
      ],
      "metadata": {
        "colab": {
          "base_uri": "https://localhost:8080/"
        },
        "id": "1knVJZlicmWd",
        "outputId": "25e24448-595f-453b-98f1-6960bc8419ca"
      },
      "execution_count": 130,
      "outputs": [
        {
          "output_type": "execute_result",
          "data": {
            "text/plain": [
              "1    68.73\n",
              "0    31.27\n",
              "Name: Loan_Status, dtype: float64"
            ]
          },
          "metadata": {},
          "execution_count": 130
        }
      ]
    },
    {
      "cell_type": "code",
      "source": [
        "from imblearn.over_sampling import RandomOverSampler\n",
        "ROS = RandomOverSampler(random_state=42)\n",
        "ROS.fit(features, target)\n",
        "features_resampled, target_resampled = ROS.fit_resample(features,target)\n",
        "round(target_resampled.value_counts(normalize=True) * 100, 2)"
      ],
      "metadata": {
        "colab": {
          "base_uri": "https://localhost:8080/"
        },
        "id": "AOpeYNFNcnN6",
        "outputId": "4266a0b2-6e1e-40d1-9e3d-643f6ef7fc33"
      },
      "execution_count": 131,
      "outputs": [
        {
          "output_type": "execute_result",
          "data": {
            "text/plain": [
              "1    50.0\n",
              "0    50.0\n",
              "Name: Loan_Status, dtype: float64"
            ]
          },
          "metadata": {},
          "execution_count": 131
        }
      ]
    },
    {
      "cell_type": "markdown",
      "source": [
        "## Machine Learning"
      ],
      "metadata": {
        "id": "UwuxFTgOdJXE"
      }
    },
    {
      "cell_type": "code",
      "source": [
        "# sklearn modules for ML model selection\n",
        "from sklearn.model_selection import train_test_split  # import 'train_test_split'\n",
        "from sklearn.model_selection import GridSearchCV\n",
        "from sklearn.model_selection import RandomizedSearchCV\n",
        "from sklearn.model_selection import ShuffleSplit\n",
        "from sklearn.model_selection import KFold\n",
        "from sklearn.model_selection import cross_val_score\n",
        "\n",
        "# Libraries for data modelling\n",
        "from sklearn import svm, tree, linear_model, neighbors\n",
        "from sklearn.linear_model import LogisticRegression\n",
        "from sklearn.tree import DecisionTreeClassifier\n",
        "from sklearn.neighbors import KNeighborsClassifier\n",
        "from sklearn.naive_bayes import GaussianNB\n",
        "from sklearn.svm import SVC\n",
        "from sklearn.neighbors import KNeighborsClassifier\n",
        "from xgboost import XGBClassifier\n",
        "from sklearn.ensemble import RandomForestClassifier\n",
        "from xgboost import XGBClassifier\n",
        "from sklearn.ensemble import AdaBoostClassifier\n",
        "\n",
        "# sklearn modules for performance metrics\n",
        "from sklearn.metrics import confusion_matrix, classification_report, precision_recall_curve\n",
        "from sklearn.metrics import auc, roc_auc_score, roc_curve, recall_score, log_loss\n",
        "from sklearn.metrics import f1_score, accuracy_score, roc_auc_score, make_scorer\n",
        "from sklearn.metrics import average_precision_score"
      ],
      "metadata": {
        "id": "cWuNHU9Dcrf7"
      },
      "execution_count": 132,
      "outputs": []
    },
    {
      "cell_type": "markdown",
      "source": [
        "# Model building and Evaluation (Function)"
      ],
      "metadata": {
        "id": "NKgXpE4ydZk9"
      }
    },
    {
      "cell_type": "code",
      "source": [
        "def Model_Building(Features,target,model):\n",
        "  Maximum_Accuracy=0\n",
        "\n",
        "  test_size=[0.2,0.25,0.3]\n",
        "  for j in test_size:\n",
        "    for i in range(100):\n",
        "        x_train, x_test, y_train, y_test = train_test_split(Features, target, test_size=j,\n",
        "                                                            random_state=i)\n",
        "        model.fit(x_train,y_train)\n",
        "        pred= model.predict(x_test)\n",
        "        acc=accuracy_score(y_test,pred)\n",
        "        check=model.predict(x_train)\n",
        "        check_acc=accuracy_score(y_train,check)\n",
        "            \n",
        "        if acc>Maximum_Accuracy:\n",
        "          Maximum_Accuracy=acc\n",
        "          print(\"Test set accuracy\",Maximum_Accuracy,\"Train set accuracy\",check_acc,'Random state',i,'test_size',j)"
      ],
      "metadata": {
        "id": "BVZKQ4FpdOWr"
      },
      "execution_count": 133,
      "outputs": []
    },
    {
      "cell_type": "markdown",
      "source": [
        "# Logistic Regression"
      ],
      "metadata": {
        "id": "rlMBXslwdVXa"
      }
    },
    {
      "cell_type": "code",
      "source": [
        "Model_Building(features_resampled, target_resampled,LogisticRegression(solver=\"liblinear\", random_state=1))"
      ],
      "metadata": {
        "colab": {
          "base_uri": "https://localhost:8080/"
        },
        "id": "y0D4xs_NdSJL",
        "outputId": "7584b2d1-bd86-475a-fbfc-61fe2f25e35e"
      },
      "execution_count": 134,
      "outputs": [
        {
          "output_type": "stream",
          "name": "stdout",
          "text": [
            "Test set accuracy 0.6923076923076923 Train set accuracy 0.7348148148148148 Random state 0 test_size 0.2\n",
            "Test set accuracy 0.7041420118343196 Train set accuracy 0.7244444444444444 Random state 2 test_size 0.2\n",
            "Test set accuracy 0.7159763313609467 Train set accuracy 0.7362962962962963 Random state 3 test_size 0.2\n",
            "Test set accuracy 0.7455621301775148 Train set accuracy 0.717037037037037 Random state 5 test_size 0.2\n",
            "Test set accuracy 0.7633136094674556 Train set accuracy 0.725925925925926 Random state 6 test_size 0.2\n",
            "Test set accuracy 0.7988165680473372 Train set accuracy 0.7066666666666667 Random state 18 test_size 0.2\n"
          ]
        }
      ]
    },
    {
      "cell_type": "code",
      "source": [
        "# make predictions\n",
        "x_train, x_test, y_train, y_test = train_test_split(features_resampled, target_resampled, test_size=0.2,random_state=18)\n",
        "LR =LogisticRegression(solver=\"liblinear\", random_state=1)\n",
        "\n",
        "\n",
        "\n",
        "LR.fit(x_train, y_train)\n",
        "pred_LR = LR.predict(x_test)\n",
        "\n",
        "# calculate accuracy score\n",
        "LR_accuracy = accuracy_score(y_test, pred_LR)\n",
        "print('Accuracy of Logistic Regression: {:.2f}%'.format(LR_accuracy*100))\n",
        "\n",
        "#classification report\n",
        "from sklearn.metrics import classification_report\n",
        "report = classification_report(y_test,pred_LR)\n",
        "print(report)\n",
        "# Confusion Matrix\n",
        "from sklearn.metrics import confusion_matrix\n",
        " \n",
        "cm = confusion_matrix(y_test,pred_LR)\n",
        "sns.heatmap(cm, annot=True, fmt=\"d\", cbar=False, linewidths=0.1,cmap=\"Blues\")\n",
        "plt.title('Confusion matrix of the classifier', fontsize=20)\n",
        "plt.ylabel('Actual label', fontsize=12)\n",
        "plt.xlabel('Predicted label', fontsize=12)\n",
        "\n",
        "plt.show()\n",
        "LR_pred_prob = LR.predict_proba(x_test)[:, 1]\n",
        "LR_roc_auc = roc_auc_score(y_test, LR_pred_prob)\n",
        "\n"
      ],
      "metadata": {
        "colab": {
          "base_uri": "https://localhost:8080/",
          "height": 477
        },
        "id": "fslMYX2DgXlm",
        "outputId": "0ca36795-4f76-44f0-f76b-f0a869aa5e68"
      },
      "execution_count": 135,
      "outputs": [
        {
          "output_type": "stream",
          "name": "stdout",
          "text": [
            "Accuracy of Logistic Regression: 79.88%\n",
            "              precision    recall  f1-score   support\n",
            "\n",
            "           0       0.91      0.59      0.72        73\n",
            "           1       0.75      0.96      0.84        96\n",
            "\n",
            "    accuracy                           0.80       169\n",
            "   macro avg       0.83      0.77      0.78       169\n",
            "weighted avg       0.82      0.80      0.79       169\n",
            "\n"
          ]
        },
        {
          "output_type": "display_data",
          "data": {
            "text/plain": [
              "<Figure size 432x288 with 1 Axes>"
            ],
            "image/png": "[encoded data removed]"
          },
          "metadata": {
            "needs_background": "light"
          }
        }
      ]
    },
    {
      "cell_type": "markdown",
      "source": [
        "# Knn Classifier"
      ],
      "metadata": {
        "id": "n8HEI406dq4H"
      }
    },
    {
      "cell_type": "code",
      "source": [
        "Model_Building(features_resampled, target_resampled,KNeighborsClassifier())"
      ],
      "metadata": {
        "colab": {
          "base_uri": "https://localhost:8080/"
        },
        "id": "dyPdnln_dkRQ",
        "outputId": "9c8537b2-499d-4cf2-d3fc-e93e37067d5b"
      },
      "execution_count": 136,
      "outputs": [
        {
          "output_type": "stream",
          "name": "stdout",
          "text": [
            "Test set accuracy 0.7514792899408284 Train set accuracy 0.8414814814814815 Random state 0 test_size 0.2\n",
            "Test set accuracy 0.7692307692307693 Train set accuracy 0.84 Random state 2 test_size 0.2\n",
            "Test set accuracy 0.7869822485207101 Train set accuracy 0.8311111111111111 Random state 5 test_size 0.2\n",
            "Test set accuracy 0.7928994082840237 Train set accuracy 0.8355555555555556 Random state 8 test_size 0.2\n",
            "Test set accuracy 0.8106508875739645 Train set accuracy 0.8177777777777778 Random state 28 test_size 0.2\n",
            "Test set accuracy 0.8165680473372781 Train set accuracy 0.8251851851851851 Random state 33 test_size 0.2\n",
            "Test set accuracy 0.8224852071005917 Train set accuracy 0.8355555555555556 Random state 40 test_size 0.2\n"
          ]
        }
      ]
    },
    {
      "cell_type": "code",
      "source": [
        "# make predictions\n",
        "x_train, x_test, y_train, y_test = train_test_split(features_resampled, target_resampled, test_size=0.2,random_state=40)\n",
        "KNN =KNeighborsClassifier()\n",
        "\n",
        "\n",
        "\n",
        "KNN.fit(x_train, y_train)\n",
        "pred_KNN = KNN.predict(x_test)\n",
        "\n",
        "# calculate accuracy score\n",
        "KNN_accuracy = accuracy_score(y_test, pred_KNN)\n",
        "print('Accuracy of KNN CLASSIFIER: {:.2f}%'.format(KNN_accuracy*100))\n",
        "\n",
        "#classification report\n",
        "from sklearn.metrics import classification_report\n",
        "report = classification_report(y_test,pred_KNN)\n",
        "print(report)\n",
        "# Confusion Matrix\n",
        "from sklearn.metrics import confusion_matrix\n",
        " \n",
        "cm = confusion_matrix(y_test,pred_KNN)\n",
        "sns.heatmap(cm, annot=True, fmt=\"d\", cbar=False, linewidths=0.1,cmap=\"Blues\")\n",
        "plt.title('Confusion matrix of the classifier', fontsize=20)\n",
        "plt.ylabel('Actual label', fontsize=12)\n",
        "plt.xlabel('Predicted label', fontsize=12)\n",
        "\n",
        "plt.show()\n",
        "KNN_pred_prob = KNN.predict_proba(x_test)[:, 1]\n",
        "KNN_roc_auc = roc_auc_score(y_test, KNN_pred_prob)\n"
      ],
      "metadata": {
        "colab": {
          "base_uri": "https://localhost:8080/",
          "height": 477
        },
        "id": "XhUju5GaiMZI",
        "outputId": "0b77b223-f490-45f3-9e37-c4818034b84a"
      },
      "execution_count": 137,
      "outputs": [
        {
          "output_type": "stream",
          "name": "stdout",
          "text": [
            "Accuracy of KNN CLASSIFIER: 82.25%\n",
            "              precision    recall  f1-score   support\n",
            "\n",
            "           0       0.84      0.82      0.83        88\n",
            "           1       0.81      0.83      0.82        81\n",
            "\n",
            "    accuracy                           0.82       169\n",
            "   macro avg       0.82      0.82      0.82       169\n",
            "weighted avg       0.82      0.82      0.82       169\n",
            "\n"
          ]
        },
        {
          "output_type": "display_data",
          "data": {
            "text/plain": [
              "<Figure size 432x288 with 1 Axes>"
            ],
            "image/png": "[encoded data removed]"
          },
          "metadata": {
            "needs_background": "light"
          }
        }
      ]
    },
    {
      "cell_type": "markdown",
      "source": [
        "## Naive Bayes Classifier"
      ],
      "metadata": {
        "id": "1UEBYFLxd-Qi"
      }
    },
    {
      "cell_type": "code",
      "source": [
        "Model_Building(features_resampled, target_resampled,GaussianNB())"
      ],
      "metadata": {
        "colab": {
          "base_uri": "https://localhost:8080/"
        },
        "id": "Mfu3b_v3dxXT",
        "outputId": "4cb6aba5-ba05-4aba-b0be-8afbcd5518fa"
      },
      "execution_count": 138,
      "outputs": [
        {
          "output_type": "stream",
          "name": "stdout",
          "text": [
            "Test set accuracy 0.6923076923076923 Train set accuracy 0.7392592592592593 Random state 0 test_size 0.2\n",
            "Test set accuracy 0.6982248520710059 Train set accuracy 0.7333333333333333 Random state 1 test_size 0.2\n",
            "Test set accuracy 0.7159763313609467 Train set accuracy 0.7377777777777778 Random state 2 test_size 0.2\n",
            "Test set accuracy 0.7337278106508875 Train set accuracy 0.7377777777777778 Random state 3 test_size 0.2\n",
            "Test set accuracy 0.7396449704142012 Train set accuracy 0.7214814814814815 Random state 5 test_size 0.2\n",
            "Test set accuracy 0.757396449704142 Train set accuracy 0.7229629629629629 Random state 7 test_size 0.2\n",
            "Test set accuracy 0.7810650887573964 Train set accuracy 0.7111111111111111 Random state 18 test_size 0.2\n",
            "Test set accuracy 0.7869822485207101 Train set accuracy 0.7111111111111111 Random state 33 test_size 0.2\n",
            "Test set accuracy 0.7988165680473372 Train set accuracy 0.7155555555555555 Random state 63 test_size 0.2\n"
          ]
        }
      ]
    },
    {
      "cell_type": "code",
      "source": [
        "# make predictions\n",
        "x_train, x_test, y_train, y_test = train_test_split(features_resampled, target_resampled, test_size=0.2,random_state=63)\n",
        "GNB =GaussianNB()\n",
        "\n",
        "GNB.fit(x_train, y_train)\n",
        "pred_GNB = GNB.predict(x_test)\n",
        "\n",
        "# calculate accuracy score\n",
        "GNB_accuracy = accuracy_score(y_test, pred_GNB)\n",
        "print('Accuracy of GUSSIAN NAIVE BAYES: {:.2f}%'.format(GNB_accuracy*100))\n",
        "\n",
        "#classification report\n",
        "from sklearn.metrics import classification_report\n",
        "report = classification_report(y_test,pred_GNB)\n",
        "print(report)\n",
        "# Confusion Matrix\n",
        "from sklearn.metrics import confusion_matrix\n",
        " \n",
        "cm = confusion_matrix(y_test,pred_GNB)\n",
        "sns.heatmap(cm, annot=True, fmt=\"d\", cbar=False, linewidths=0.1,cmap=\"Blues\")\n",
        "plt.title('Confusion matrix of the classifier', fontsize=20)\n",
        "plt.ylabel('Actual label', fontsize=12)\n",
        "plt.xlabel('Predicted label', fontsize=12)\n",
        "\n",
        "plt.show()\n",
        "GNB_pred_prob = GNB.predict_proba(x_test)[:, 1]\n",
        "GNB_roc_auc = roc_auc_score(y_test, GNB_pred_prob)\n"
      ],
      "metadata": {
        "colab": {
          "base_uri": "https://localhost:8080/",
          "height": 477
        },
        "id": "mt2jagxSitnH",
        "outputId": "eeb35c59-7d4a-470d-9904-d02363419b1b"
      },
      "execution_count": 139,
      "outputs": [
        {
          "output_type": "stream",
          "name": "stdout",
          "text": [
            "Accuracy of GUSSIAN NAIVE BAYES: 79.88%\n",
            "              precision    recall  f1-score   support\n",
            "\n",
            "           0       0.96      0.58      0.72        76\n",
            "           1       0.74      0.98      0.84        93\n",
            "\n",
            "    accuracy                           0.80       169\n",
            "   macro avg       0.85      0.78      0.78       169\n",
            "weighted avg       0.84      0.80      0.79       169\n",
            "\n"
          ]
        },
        {
          "output_type": "display_data",
          "data": {
            "text/plain": [
              "<Figure size 432x288 with 1 Axes>"
            ],
            "image/png": "[encoded data removed]"
          },
          "metadata": {
            "needs_background": "light"
          }
        }
      ]
    },
    {
      "cell_type": "markdown",
      "source": [
        "## Random Forest Classifier"
      ],
      "metadata": {
        "id": "XPdgySeyeHhS"
      }
    },
    {
      "cell_type": "code",
      "source": [
        "Model_Building(features_resampled, target_resampled,RandomForestClassifier(random_state=42))"
      ],
      "metadata": {
        "colab": {
          "base_uri": "https://localhost:8080/"
        },
        "id": "xxjJAkMnd9xR",
        "outputId": "ee31b075-8f17-461a-b51e-99f26a099fd5"
      },
      "execution_count": 140,
      "outputs": [
        {
          "output_type": "stream",
          "name": "stdout",
          "text": [
            "Test set accuracy 0.8579881656804734 Train set accuracy 1.0 Random state 0 test_size 0.2\n",
            "Test set accuracy 0.8816568047337278 Train set accuracy 1.0 Random state 1 test_size 0.2\n",
            "Test set accuracy 0.8994082840236687 Train set accuracy 1.0 Random state 7 test_size 0.2\n",
            "Test set accuracy 0.9289940828402367 Train set accuracy 1.0 Random state 9 test_size 0.2\n"
          ]
        }
      ]
    },
    {
      "cell_type": "code",
      "source": [
        "# make predictions\n",
        "x_train, x_test, y_train, y_test = train_test_split(features_resampled, target_resampled, test_size=0.2,random_state=9)\n",
        "RF =RandomForestClassifier(random_state=42)\n",
        "\n",
        "RF.fit(x_train, y_train)\n",
        "pred_RF = RF.predict(x_test)\n",
        "\n",
        "# calculate accuracy score\n",
        "RF_accuracy = accuracy_score(y_test, pred_RF)\n",
        "print('Accuracy of RANDOM FOREST: {:.2f}%'.format(RF_accuracy*100))\n",
        "\n",
        "#classification report\n",
        "from sklearn.metrics import classification_report\n",
        "report = classification_report(y_test,pred_RF)\n",
        "print(report)\n",
        "# Confusion Matrix\n",
        "from sklearn.metrics import confusion_matrix\n",
        " \n",
        "cm = confusion_matrix(y_test,pred_RF)\n",
        "sns.heatmap(cm, annot=True, fmt=\"d\", cbar=False, linewidths=0.1,cmap=\"Blues\")\n",
        "plt.title('Confusion matrix of the classifier', fontsize=20)\n",
        "plt.ylabel('Actual label', fontsize=12)\n",
        "plt.xlabel('Predicted label', fontsize=12)\n",
        "\n",
        "plt.show()\n",
        "RF_pred_prob = RF.predict_proba(x_test)[:, 1]\n",
        "RF_roc_auc = roc_auc_score(y_test, RF_pred_prob)"
      ],
      "metadata": {
        "colab": {
          "base_uri": "https://localhost:8080/",
          "height": 477
        },
        "id": "lK0vBZhykP4d",
        "outputId": "aac22d06-da6b-4807-e1bd-908257246c6f"
      },
      "execution_count": 141,
      "outputs": [
        {
          "output_type": "stream",
          "name": "stdout",
          "text": [
            "Accuracy of RANDOM FOREST: 92.90%\n",
            "              precision    recall  f1-score   support\n",
            "\n",
            "           0       0.90      0.95      0.93        79\n",
            "           1       0.95      0.91      0.93        90\n",
            "\n",
            "    accuracy                           0.93       169\n",
            "   macro avg       0.93      0.93      0.93       169\n",
            "weighted avg       0.93      0.93      0.93       169\n",
            "\n"
          ]
        },
        {
          "output_type": "display_data",
          "data": {
            "text/plain": [
              "<Figure size 432x288 with 1 Axes>"
            ],
            "image/png": "[encoded data removed]"
          },
          "metadata": {
            "needs_background": "light"
          }
        }
      ]
    },
    {
      "cell_type": "markdown",
      "source": [
        "## Decision Tree classifier"
      ],
      "metadata": {
        "id": "mAPg61L7eW3R"
      }
    },
    {
      "cell_type": "code",
      "source": [
        "Model_Building(features_resampled, target_resampled,DecisionTreeClassifier(random_state=42))"
      ],
      "metadata": {
        "colab": {
          "base_uri": "https://localhost:8080/"
        },
        "id": "iEo7tLOud80B",
        "outputId": "8cde3575-8602-4a62-9e54-2042c9bc95bc"
      },
      "execution_count": 142,
      "outputs": [
        {
          "output_type": "stream",
          "name": "stdout",
          "text": [
            "Test set accuracy 0.8165680473372781 Train set accuracy 1.0 Random state 0 test_size 0.2\n",
            "Test set accuracy 0.8579881656804734 Train set accuracy 1.0 Random state 1 test_size 0.2\n",
            "Test set accuracy 0.863905325443787 Train set accuracy 1.0 Random state 7 test_size 0.2\n",
            "Test set accuracy 0.9053254437869822 Train set accuracy 1.0 Random state 28 test_size 0.2\n"
          ]
        }
      ]
    },
    {
      "cell_type": "code",
      "source": [
        "# make predictions\n",
        "x_train, x_test, y_train, y_test = train_test_split(features_resampled, target_resampled, test_size=0.2,random_state=28)\n",
        "DT =DecisionTreeClassifier(random_state=42)\n",
        "\n",
        "DT.fit(x_train, y_train)\n",
        "pred_DT = DT.predict(x_test)\n",
        "\n",
        "# calculate accuracy score\n",
        "DT_accuracy = accuracy_score(y_test, pred_DT)\n",
        "print('Accuracy of DECISION TREE: {:.2f}%'.format(DT_accuracy*100))\n",
        "\n",
        "#classification report\n",
        "from sklearn.metrics import classification_report\n",
        "report = classification_report(y_test,pred_DT)\n",
        "print(report)\n",
        "# Confusion Matrix\n",
        "from sklearn.metrics import confusion_matrix\n",
        " \n",
        "cm = confusion_matrix(y_test,pred_DT)\n",
        "sns.heatmap(cm, annot=True, fmt=\"d\", cbar=False, linewidths=0.1,cmap=\"Blues\")\n",
        "plt.title('Confusion matrix of the classifier', fontsize=20)\n",
        "plt.ylabel('Actual label', fontsize=12)\n",
        "plt.xlabel('Predicted label', fontsize=12)\n",
        "\n",
        "plt.show()\n",
        "DT_pred_prob = DT.predict_proba(x_test)[:, 1]\n",
        "DT_roc_auc = roc_auc_score(y_test, DT_pred_prob)"
      ],
      "metadata": {
        "colab": {
          "base_uri": "https://localhost:8080/",
          "height": 477
        },
        "id": "Xa-Jyl-Pk3l4",
        "outputId": "dc853254-7787-4a37-dec1-3ab8ea80c6ce"
      },
      "execution_count": 143,
      "outputs": [
        {
          "output_type": "stream",
          "name": "stdout",
          "text": [
            "Accuracy of DECISION TREE: 90.53%\n",
            "              precision    recall  f1-score   support\n",
            "\n",
            "           0       0.87      0.95      0.91        86\n",
            "           1       0.95      0.86      0.90        83\n",
            "\n",
            "    accuracy                           0.91       169\n",
            "   macro avg       0.91      0.90      0.90       169\n",
            "weighted avg       0.91      0.91      0.91       169\n",
            "\n"
          ]
        },
        {
          "output_type": "display_data",
          "data": {
            "text/plain": [
              "<Figure size 432x288 with 1 Axes>"
            ],
            "image/png": "[encoded data removed]"
          },
          "metadata": {
            "needs_background": "light"
          }
        }
      ]
    },
    {
      "cell_type": "markdown",
      "source": [
        "## ADA Boost Classifier"
      ],
      "metadata": {
        "id": "wvUv3PRren9q"
      }
    },
    {
      "cell_type": "code",
      "source": [
        "Model_Building(features_resampled, target_resampled,AdaBoostClassifier())"
      ],
      "metadata": {
        "colab": {
          "base_uri": "https://localhost:8080/"
        },
        "id": "ovdLzRXKejUx",
        "outputId": "bfea842d-d0cd-4867-9309-71535b63ccef"
      },
      "execution_count": 144,
      "outputs": [
        {
          "output_type": "stream",
          "name": "stdout",
          "text": [
            "Test set accuracy 0.7455621301775148 Train set accuracy 0.8207407407407408 Random state 0 test_size 0.2\n",
            "Test set accuracy 0.7751479289940828 Train set accuracy 0.8103703703703704 Random state 1 test_size 0.2\n",
            "Test set accuracy 0.8047337278106509 Train set accuracy 0.8325925925925926 Random state 4 test_size 0.2\n",
            "Test set accuracy 0.834319526627219 Train set accuracy 0.8059259259259259 Random state 18 test_size 0.2\n",
            "Test set accuracy 0.8483412322274881 Train set accuracy 0.8120063191153238 Random state 46 test_size 0.25\n"
          ]
        }
      ]
    },
    {
      "cell_type": "code",
      "source": [
        "# make predictions\n",
        "x_train, x_test, y_train, y_test = train_test_split(features_resampled, target_resampled, test_size=0.2,random_state=46)\n",
        "ADA =AdaBoostClassifier()\n",
        "\n",
        "ADA.fit(x_train, y_train)\n",
        "pred_ADA = ADA.predict(x_test)\n",
        "\n",
        "# calculate accuracy score\n",
        "ADA_accuracy = accuracy_score(y_test, pred_ADA)\n",
        "print('Accuracy of ADA BOOST CLASSIFIER: {:.2f}%'.format(ADA_accuracy*100))\n",
        "\n",
        "#classification report\n",
        "from sklearn.metrics import classification_report\n",
        "report = classification_report(y_test,pred_ADA)\n",
        "print(report)\n",
        "# Confusion Matrix\n",
        "from sklearn.metrics import confusion_matrix\n",
        " \n",
        "cm = confusion_matrix(y_test,pred_ADA)\n",
        "sns.heatmap(cm, annot=True, fmt=\"d\", cbar=False, linewidths=0.1,cmap=\"Blues\")\n",
        "plt.title('Confusion matrix of the classifier', fontsize=20)\n",
        "plt.ylabel('Actual label', fontsize=12)\n",
        "plt.xlabel('Predicted label', fontsize=12)\n",
        "\n",
        "plt.show()\n",
        "ADA_pred_prob = ADA.predict_proba(x_test)[:, 1]\n",
        "ADA_roc_auc = roc_auc_score(y_test, ADA_pred_prob)"
      ],
      "metadata": {
        "colab": {
          "base_uri": "https://localhost:8080/",
          "height": 477
        },
        "id": "xoDawbZbleNI",
        "outputId": "68c47769-cf84-4776-d70f-74a7c16045ae"
      },
      "execution_count": 145,
      "outputs": [
        {
          "output_type": "stream",
          "name": "stdout",
          "text": [
            "Accuracy of ADA BOOST CLASSIFIER: 81.66%\n",
            "              precision    recall  f1-score   support\n",
            "\n",
            "           0       0.92      0.74      0.82        95\n",
            "           1       0.73      0.92      0.81        74\n",
            "\n",
            "    accuracy                           0.82       169\n",
            "   macro avg       0.83      0.83      0.82       169\n",
            "weighted avg       0.84      0.82      0.82       169\n",
            "\n"
          ]
        },
        {
          "output_type": "display_data",
          "data": {
            "text/plain": [
              "<Figure size 432x288 with 1 Axes>"
            ],
            "image/png": "[encoded data removed]"
          },
          "metadata": {
            "needs_background": "light"
          }
        }
      ]
    },
    {
      "cell_type": "markdown",
      "source": [
        "## SUPPORT VECTOR CLASSIFIER"
      ],
      "metadata": {
        "id": "WsXSZqrElhQR"
      }
    },
    {
      "cell_type": "code",
      "source": [
        "Model_Building(features_resampled, target_resampled,SVC())"
      ],
      "metadata": {
        "colab": {
          "base_uri": "https://localhost:8080/"
        },
        "id": "JjMvmi0aepjt",
        "outputId": "a839696e-6dc8-4203-d710-fd1c0960d93a"
      },
      "execution_count": 146,
      "outputs": [
        {
          "output_type": "stream",
          "name": "stdout",
          "text": [
            "Test set accuracy 0.727810650887574 Train set accuracy 0.7807407407407407 Random state 0 test_size 0.2\n",
            "Test set accuracy 0.7455621301775148 Train set accuracy 0.7881481481481482 Random state 1 test_size 0.2\n",
            "Test set accuracy 0.7514792899408284 Train set accuracy 0.7807407407407407 Random state 2 test_size 0.2\n",
            "Test set accuracy 0.7751479289940828 Train set accuracy 0.7866666666666666 Random state 5 test_size 0.2\n",
            "Test set accuracy 0.7810650887573964 Train set accuracy 0.794074074074074 Random state 6 test_size 0.2\n",
            "Test set accuracy 0.7869822485207101 Train set accuracy 0.7703703703703704 Random state 7 test_size 0.2\n",
            "Test set accuracy 0.8106508875739645 Train set accuracy 0.7777777777777778 Random state 18 test_size 0.2\n",
            "Test set accuracy 0.834319526627219 Train set accuracy 0.7644444444444445 Random state 62 test_size 0.2\n"
          ]
        }
      ]
    },
    {
      "cell_type": "code",
      "source": [
        "# make predictions\n",
        "x_train, x_test, y_train, y_test = train_test_split(features_resampled, target_resampled, test_size=0.2,random_state=62)\n",
        "SVM =SVC()\n",
        "\n",
        "SVM.fit(x_train, y_train)\n",
        "pred_SVM = SVM.predict(x_test)\n",
        "\n",
        "# calculate accuracy score\n",
        "SVM_accuracy = accuracy_score(y_test, pred_SVM)\n",
        "print('Accuracy of SUPPORT VECTOR MACHINE: {:.2f}%'.format(SVM_accuracy*100))\n",
        "\n",
        "#classification report\n",
        "from sklearn.metrics import classification_report\n",
        "report = classification_report(y_test,pred_SVM)\n",
        "print(report)\n",
        "# Confusion Matrix\n",
        "from sklearn.metrics import confusion_matrix\n",
        " \n",
        "cm = confusion_matrix(y_test,pred_SVM)\n",
        "sns.heatmap(cm, annot=True, fmt=\"d\", cbar=False, linewidths=0.1,cmap=\"Blues\")\n",
        "plt.title('Confusion matrix of the classifier', fontsize=20)\n",
        "plt.ylabel('Actual label', fontsize=12)\n",
        "plt.xlabel('Predicted label', fontsize=12)\n",
        "\n",
        "plt.show()\n",
        "\n",
        "## SVM DEOSNOT SUPPORT AUC CURVE"
      ],
      "metadata": {
        "colab": {
          "base_uri": "https://localhost:8080/",
          "height": 477
        },
        "id": "oq5ApJxTe_CJ",
        "outputId": "c4707f5c-285a-4922-b235-6c61fd370098"
      },
      "execution_count": 147,
      "outputs": [
        {
          "output_type": "stream",
          "name": "stdout",
          "text": [
            "Accuracy of SUPPORT VECTOR MACHINE: 83.43%\n",
            "              precision    recall  f1-score   support\n",
            "\n",
            "           0       0.96      0.68      0.79        80\n",
            "           1       0.77      0.98      0.86        89\n",
            "\n",
            "    accuracy                           0.83       169\n",
            "   macro avg       0.87      0.83      0.83       169\n",
            "weighted avg       0.86      0.83      0.83       169\n",
            "\n"
          ]
        },
        {
          "output_type": "display_data",
          "data": {
            "text/plain": [
              "<Figure size 432x288 with 1 Axes>"
            ],
            "image/png": "[encoded data removed]"
          },
          "metadata": {
            "needs_background": "light"
          }
        }
      ]
    },
    {
      "cell_type": "code",
      "source": [
        "# create ROC curves\n",
        "\n",
        "from sklearn.metrics import roc_curve\n",
        "## RANDOM FOREST\n",
        "rf_fpr, rf_tpr, rf_thresholds = roc_curve(y_test, RF.predict_proba(x_test)[:,1])\n",
        "\n",
        "## DECISION TREE\n",
        "DT_fpr, DT_tpr, DT_thresholds = roc_curve(y_test, DT.predict_proba(x_test)[:,1])\n",
        "\n",
        "## ADA BOOST\n",
        "ADA_fpr, ADA_tpr, ADA_thresholds = roc_curve(y_test, ADA.predict_proba(x_test)[:,1])\n",
        "\n",
        "## LOGISTIC REGRESSION\n",
        "LR_fpr, LR_tpr, LR_thresholds = roc_curve(y_test, LR.predict_proba(x_test)[:,1])\n",
        "\n",
        "## K NEAREST NEIGHBOUR\n",
        "KNN_fpr, KNN_tpr, KNN_thresholds = roc_curve(y_test, KNN.predict_proba(x_test)[:,1])\n",
        "\n",
        "## GUASSIAN NAIVE BAYES \n",
        "GNB_fpr, GNB_tpr, GNB_thresholds = roc_curve(y_test, GNB.predict_proba(x_test)[:,1])\n",
        "\n",
        "plt.figure(figsize=(15, 10))\n",
        "# plot Random Forest ROC\n",
        "plt.plot(rf_fpr, rf_tpr, label=\"RANDOM FOREST (AUC = {:1.4f})\".format(RF_roc_auc))\n",
        "plt.plot(DT_fpr, DT_tpr, label=\"DECISION TREE (AUC = {:1.4f})\".format(DT_roc_auc))\n",
        "plt.plot(ADA_fpr, ADA_tpr, label=\"ADA BOOST (AUC = {:1.4f})\".format(ADA_roc_auc))\n",
        "plt.plot(LR_fpr, LR_tpr, label=\"LOGISTIC REGRESSION (AUC = {:1.4f})\".format(LR_roc_auc))\n",
        "plt.plot(KNN_fpr, KNN_tpr, label=\"K NEAREST NEIGHBOR (AUC = {:1.4f})\".format(KNN_roc_auc))\n",
        "plt.plot(GNB_fpr, GNB_tpr, label=\"GUASSIAN NAIVE BAYES (AUC = {:1.4f})\".format(GNB_roc_auc))\n",
        "\n",
        "# plot Baseline ROC\n",
        "plt.plot([0,1], [0,1],label=\"Baseline (AUC = 0.5000)\", linestyle=\"--\")\n",
        "\n",
        "plt.xlim([0.0, 1.0])\n",
        "plt.ylim([0.0, 1.05])\n",
        "plt.xlabel(\"False Positive Rate\", fontsize=14)\n",
        "plt.ylabel(\"True Positive Rate\", fontsize=14)\n",
        "plt.title(\"ROC Curve\", fontsize=16)\n",
        "plt.legend(loc=\"lower right\")\n",
        "plt.show()"
      ],
      "metadata": {
        "colab": {
          "base_uri": "https://localhost:8080/",
          "height": 627
        },
        "id": "UVddOUt-mnNW",
        "outputId": "7feb47ea-ae40-4e4a-a0fc-9d6b0273a765"
      },
      "execution_count": 148,
      "outputs": [
        {
          "output_type": "display_data",
          "data": {
            "text/plain": [
              "<Figure size 1080x720 with 1 Axes>"
            ],
            "image/png": "[encoded data removed]"
          },
          "metadata": {
            "needs_background": "light"
          }
        }
      ]
    },
    {
      "cell_type": "markdown",
      "source": [
        "## AS RANDOM FOREST has the maximum auc_score we will perform hyper parametric tunning to get better result on it "
      ],
      "metadata": {
        "id": "Xj-SVzjApsBH"
      }
    },
    {
      "cell_type": "markdown",
      "source": [
        "# Hyper Parametric Tuning\n",
        "\n",
        "## Random Forest"
      ],
      "metadata": {
        "id": "uGXgQQDvqCRO"
      }
    },
    {
      "cell_type": "code",
      "source": [
        "%%time\n",
        "\n",
        "x_train, x_test, y_train, y_test = train_test_split(features_resampled, target_resampled, test_size=0.2,random_state=9)\n",
        "rf = RandomForestClassifier(random_state=5)\n",
        "\n",
        "estimators = [int(x) for x in np.linspace(start=50, stop=150, num=10)]\n",
        "depth = [int(x) for x in np.linspace(start=50, stop=150, num=10)]\n",
        "param_grid = {    'n_estimators': estimators,\n",
        "                  'max_depth': depth\n",
        "              }\n",
        "\n",
        "grid_rf = GridSearchCV(rf,\n",
        "                        param_grid=param_grid,\n",
        "                        scoring=\"accuracy\",\n",
        "                        cv=5)\n",
        "\n",
        "grid_fit = grid_rf.fit(x_train, y_train)\n",
        "rf_opt = grid_fit.best_estimator_\n",
        "\n",
        "\n",
        "print(\"best estimator: \" + str(grid_rf.best_estimator_))\n",
        "print(\"best params: \" + str(grid_rf.best_params_))\n",
        "print(\"best score:\", grid_rf.best_score_)"
      ],
      "metadata": {
        "colab": {
          "base_uri": "https://localhost:8080/"
        },
        "id": "WxpkDHqsni_2",
        "outputId": "03541aed-92ae-4d0e-dee9-f71f8dac0286"
      },
      "execution_count": 156,
      "outputs": [
        {
          "output_type": "stream",
          "name": "stdout",
          "text": [
            "best estimator: RandomForestClassifier(max_depth=50, n_estimators=138, random_state=5)\n",
            "best params: {'max_depth': 50, 'n_estimators': 138}\n",
            "best score: 0.834074074074074\n",
            "CPU times: user 1min 46s, sys: 685 ms, total: 1min 46s\n",
            "Wall time: 1min 48s\n"
          ]
        }
      ]
    },
    {
      "cell_type": "code",
      "source": [
        "# make predictions\n",
        "\n",
        "pred_rf = grid_rf.predict(x_test)\n",
        "\n",
        "# calculate accuracy score\n",
        "logit_accuracy = accuracy_score(y_test, pred_rf)\n",
        "print('Accuracy of Random Forest Classifier: {:.2f}%'.format(logit_accuracy*100))\n",
        "\n",
        "#classification report\n",
        "from sklearn.metrics import classification_report\n",
        "report = classification_report(y_test,pred_rf)\n",
        "print(report)"
      ],
      "metadata": {
        "colab": {
          "base_uri": "https://localhost:8080/"
        },
        "id": "DAbQrB6LqSxE",
        "outputId": "aecf2cc2-2590-4c45-8d47-72a96e216244"
      },
      "execution_count": 157,
      "outputs": [
        {
          "output_type": "stream",
          "name": "stdout",
          "text": [
            "Accuracy of Random Forest Classifier: 92.90%\n",
            "              precision    recall  f1-score   support\n",
            "\n",
            "           0       0.90      0.95      0.93        79\n",
            "           1       0.95      0.91      0.93        90\n",
            "\n",
            "    accuracy                           0.93       169\n",
            "   macro avg       0.93      0.93      0.93       169\n",
            "weighted avg       0.93      0.93      0.93       169\n",
            "\n"
          ]
        }
      ]
    },
    {
      "cell_type": "code",
      "source": [
        "# Confusion Matrix\n",
        "from sklearn.metrics import confusion_matrix\n",
        " \n",
        "cm = confusion_matrix(y_test,pred_rf)\n",
        "sns.heatmap(cm, annot=True, fmt=\"d\", cbar=False, linewidths=0.1,cmap=\"Blues\")\n",
        "plt.title('Confusion matrix of the classifier', fontsize=20)\n",
        "plt.ylabel('Actual label', fontsize=12)\n",
        "plt.xlabel('Predicted label', fontsize=12)\n",
        "\n",
        "plt.show()"
      ],
      "metadata": {
        "colab": {
          "base_uri": "https://localhost:8080/",
          "height": 303
        },
        "id": "xKfxWsryqaIp",
        "outputId": "a10684c3-dd05-4d00-cf4a-31af9b0ae47c"
      },
      "execution_count": 158,
      "outputs": [
        {
          "output_type": "display_data",
          "data": {
            "text/plain": [
              "<Figure size 432x288 with 1 Axes>"
            ],
            "image/png": "[encoded data removed]"
          },
          "metadata": {
            "needs_background": "light"
          }
        }
      ]
    },
    {
      "cell_type": "code",
      "source": [
        "y_pred_prob = grid_rf.predict_proba(x_test)[:, 1]\n",
        "rf_roc_auc = roc_auc_score(y_test, y_pred_prob)\n",
        "# create ROC curves\n",
        "\n",
        "from sklearn.metrics import roc_curve\n",
        "rf_fpr, rf_tpr, rf_thresholds = roc_curve(y_test, grid_rf.predict_proba(x_test)[:,1])\n",
        "plt.figure(figsize=(5, 5))\n",
        "\n",
        "# plot Random Forest ROC\n",
        "plt.plot(rf_fpr, rf_tpr, label=\"Random Forest (AUC = {:1.4f})\".format(rf_roc_auc))\n",
        "# plot Baseline ROC\n",
        "plt.plot([0,1], [0,1],label=\"Baseline (AUC = 0.5000)\", linestyle=\"--\")\n",
        "\n",
        "plt.xlim([0.0, 1.0])\n",
        "plt.ylim([0.0, 1.05])\n",
        "plt.xlabel(\"False Positive Rate\", fontsize=14)\n",
        "plt.ylabel(\"True Positive Rate\", fontsize=14)\n",
        "plt.title(\"ROC Curve\", fontsize=16)\n",
        "plt.legend(loc=\"lower right\")\n",
        "plt.show()"
      ],
      "metadata": {
        "colab": {
          "base_uri": "https://localhost:8080/",
          "height": 356
        },
        "id": "RQ09zkZGscRV",
        "outputId": "8a62e59d-6e03-440d-df7e-588e8aabe21d"
      },
      "execution_count": 159,
      "outputs": [
        {
          "output_type": "display_data",
          "data": {
            "text/plain": [
              "<Figure size 360x360 with 1 Axes>"
            ],
            "image/png": "[encoded data removed]"
          },
          "metadata": {
            "needs_background": "light"
          }
        }
      ]
    },
    {
      "cell_type": "markdown",
      "source": [
        "## Creating a pickle file "
      ],
      "metadata": {
        "id": "j002kE0CqfnZ"
      }
    },
    {
      "cell_type": "code",
      "source": [
        "import pickle\n",
        "# # saved the trained model in file with given name\n",
        "pickle_out = open(\"loan_Case_Study.pkl\",\"wb\") # name of my pickle file , wb -write\n",
        "pickle.dump(grid_rf, pickle_out)\n",
        "pickle_out.close()"
      ],
      "metadata": {
        "id": "k-g4pTnYqgI-"
      },
      "execution_count": 160,
      "outputs": []
    },
    {
      "cell_type": "code",
      "source": [
        "# loading the pickeled model\n",
        "pickle_in = open(\"loan_Case_Study.pkl\",\"rb\") # rb -> read the pickel file\n",
        "trained_model = pickle.load(pickle_in)"
      ],
      "metadata": {
        "id": "lJPFneTEqkAR"
      },
      "execution_count": 161,
      "outputs": []
    },
    {
      "cell_type": "code",
      "source": [
        "pd.DataFrame([trained_model.predict(x_test)[:],y_test[:]],index=[\"Predicted\",\"Original\"])"
      ],
      "metadata": {
        "colab": {
          "base_uri": "https://localhost:8080/",
          "height": 141
        },
        "id": "V_FNsWBNr7EC",
        "outputId": "0cdb13a8-8a53-4220-c8e6-82ef8f93e6d6"
      },
      "execution_count": 162,
      "outputs": [
        {
          "output_type": "execute_result",
          "data": {
            "text/plain": [
              "           0    1    2    3    4    5    6    7    8    9    ...  159  160  \\\n",
              "Predicted    0    0    0    1    1    1    0    1    0    0  ...    0    1   \n",
              "Original     0    0    0    1    1    1    0    1    0    0  ...    0    1   \n",
              "\n",
              "           161  162  163  164  165  166  167  168  \n",
              "Predicted    1    0    0    0    1    1    0    1  \n",
              "Original     1    0    0    0    1    1    0    1  \n",
              "\n",
              "[2 rows x 169 columns]"
            ],
            "text/html": [
              "\n",
              "  <div id=\"df-99695ef8-a8c4-4853-9471-90702eb03084\">\n",
              "    <div class=\"colab-df-container\">\n",
              "      <div>\n",
              "<style scoped>\n",
              "    .dataframe tbody tr th:only-of-type {\n",
              "        vertical-align: middle;\n",
              "    }\n",
              "\n",
              "    .dataframe tbody tr th {\n",
              "        vertical-align: top;\n",
              "    }\n",
              "\n",
              "    .dataframe thead th {\n",
              "        text-align: right;\n",
              "    }\n",
              "</style>\n",
              "<table border=\"1\" class=\"dataframe\">\n",
              "  <thead>\n",
              "    <tr style=\"text-align: right;\">\n",
              "      <th></th>\n",
              "      <th>0</th>\n",
              "      <th>1</th>\n",
              "      <th>2</th>\n",
              "      <th>3</th>\n",
              "      <th>4</th>\n",
              "      <th>5</th>\n",
              "      <th>6</th>\n",
              "      <th>7</th>\n",
              "      <th>8</th>\n",
              "      <th>9</th>\n",
              "      <th>...</th>\n",
              "      <th>159</th>\n",
              "      <th>160</th>\n",
              "      <th>161</th>\n",
              "      <th>162</th>\n",
              "      <th>163</th>\n",
              "      <th>164</th>\n",
              "      <th>165</th>\n",
              "      <th>166</th>\n",
              "      <th>167</th>\n",
              "      <th>168</th>\n",
              "    </tr>\n",
              "  </thead>\n",
              "  <tbody>\n",
              "    <tr>\n",
              "      <th>Predicted</th>\n",
              "      <td>0</td>\n",
              "      <td>0</td>\n",
              "      <td>0</td>\n",
              "      <td>1</td>\n",
              "      <td>1</td>\n",
              "      <td>1</td>\n",
              "      <td>0</td>\n",
              "      <td>1</td>\n",
              "      <td>0</td>\n",
              "      <td>0</td>\n",
              "      <td>...</td>\n",
              "      <td>0</td>\n",
              "      <td>1</td>\n",
              "      <td>1</td>\n",
              "      <td>0</td>\n",
              "      <td>0</td>\n",
              "      <td>0</td>\n",
              "      <td>1</td>\n",
              "      <td>1</td>\n",
              "      <td>0</td>\n",
              "      <td>1</td>\n",
              "    </tr>\n",
              "    <tr>\n",
              "      <th>Original</th>\n",
              "      <td>0</td>\n",
              "      <td>0</td>\n",
              "      <td>0</td>\n",
              "      <td>1</td>\n",
              "      <td>1</td>\n",
              "      <td>1</td>\n",
              "      <td>0</td>\n",
              "      <td>1</td>\n",
              "      <td>0</td>\n",
              "      <td>0</td>\n",
              "      <td>...</td>\n",
              "      <td>0</td>\n",
              "      <td>1</td>\n",
              "      <td>1</td>\n",
              "      <td>0</td>\n",
              "      <td>0</td>\n",
              "      <td>0</td>\n",
              "      <td>1</td>\n",
              "      <td>1</td>\n",
              "      <td>0</td>\n",
              "      <td>1</td>\n",
              "    </tr>\n",
              "  </tbody>\n",
              "</table>\n",
              "<p>2 rows × 169 columns</p>\n",
              "</div>\n",
              "      <button class=\"colab-df-convert\" onclick=\"convertToInteractive('df-99695ef8-a8c4-4853-9471-90702eb03084')\"\n",
              "              title=\"Convert this dataframe to an interactive table.\"\n",
              "              style=\"display:none;\">\n",
              "        \n",
              "  <svg xmlns=\"http://www.w3.org/2000/svg\" height=\"24px\"viewBox=\"0 0 24 24\"\n",
              "       width=\"24px\">\n",
              "    <path d=\"M0 0h24v24H0V0z\" fill=\"none\"/>\n",
              "    <path d=\"M18.56 5.44l.94 2.06.94-2.06 2.06-.94-2.06-.94-.94-2.06-.94 2.06-2.06.94zm-11 1L8.5 8.5l.94-2.06 2.06-.94-2.06-.94L8.5 2.5l-.94 2.06-2.06.94zm10 10l.94 2.06.94-2.06 2.06-.94-2.06-.94-.94-2.06-.94 2.06-2.06.94z\"/><path d=\"M17.41 7.96l-1.37-1.37c-.4-.4-.92-.59-1.43-.59-.52 0-1.04.2-1.43.59L10.3 9.45l-7.72 7.72c-.78.78-.78 2.05 0 2.83L4 21.41c.39.39.9.59 1.41.59.51 0 1.02-.2 1.41-.59l7.78-7.78 2.81-2.81c.8-.78.8-2.07 0-2.86zM5.41 20L4 18.59l7.72-7.72 1.47 1.35L5.41 20z\"/>\n",
              "  </svg>\n",
              "      </button>\n",
              "      \n",
              "  <style>\n",
              "    .colab-df-container {\n",
              "      display:flex;\n",
              "      flex-wrap:wrap;\n",
              "      gap: 12px;\n",
              "    }\n",
              "\n",
              "    .colab-df-convert {\n",
              "      background-color: #E8F0FE;\n",
              "      border: none;\n",
              "      border-radius: 50%;\n",
              "      cursor: pointer;\n",
              "      display: none;\n",
              "      fill: #1967D2;\n",
              "      height: 32px;\n",
              "      padding: 0 0 0 0;\n",
              "      width: 32px;\n",
              "    }\n",
              "\n",
              "    .colab-df-convert:hover {\n",
              "      background-color: #E2EBFA;\n",
              "      box-shadow: 0px 1px 2px rgba(60, 64, 67, 0.3), 0px 1px 3px 1px rgba(60, 64, 67, 0.15);\n",
              "      fill: #174EA6;\n",
              "    }\n",
              "\n",
              "    [theme=dark] .colab-df-convert {\n",
              "      background-color: #3B4455;\n",
              "      fill: #D2E3FC;\n",
              "    }\n",
              "\n",
              "    [theme=dark] .colab-df-convert:hover {\n",
              "      background-color: #434B5C;\n",
              "      box-shadow: 0px 1px 3px 1px rgba(0, 0, 0, 0.15);\n",
              "      filter: drop-shadow(0px 1px 2px rgba(0, 0, 0, 0.3));\n",
              "      fill: #FFFFFF;\n",
              "    }\n",
              "  </style>\n",
              "\n",
              "      <script>\n",
              "        const buttonEl =\n",
              "          document.querySelector('#df-99695ef8-a8c4-4853-9471-90702eb03084 button.colab-df-convert');\n",
              "        buttonEl.style.display =\n",
              "          google.colab.kernel.accessAllowed ? 'block' : 'none';\n",
              "\n",
              "        async function convertToInteractive(key) {\n",
              "          const element = document.querySelector('#df-99695ef8-a8c4-4853-9471-90702eb03084');\n",
              "          const dataTable =\n",
              "            await google.colab.kernel.invokeFunction('convertToInteractive',\n",
              "                                                     [key], {});\n",
              "          if (!dataTable) return;\n",
              "\n",
              "          const docLinkHtml = 'Like what you see? Visit the ' +\n",
              "            '<a target=\"_blank\" href=https://colab.research.google.com/notebooks/data_table.ipynb>data table notebook</a>'\n",
              "            + ' to learn more about interactive tables.';\n",
              "          element.innerHTML = '';\n",
              "          dataTable['output_type'] = 'display_data';\n",
              "          await google.colab.output.renderOutput(dataTable, element);\n",
              "          const docLink = document.createElement('div');\n",
              "          docLink.innerHTML = docLinkHtml;\n",
              "          element.appendChild(docLink);\n",
              "        }\n",
              "      </script>\n",
              "    </div>\n",
              "  </div>\n",
              "  "
            ]
          },
          "metadata": {},
          "execution_count": 162
        }
      ]
    },
    {
      "cell_type": "markdown",
      "source": [
        "# LOAN APPLICATION STATUS CASE STUDY COMPLETED"
      ],
      "metadata": {
        "id": "2-mBPBvnr6uE"
      }
    }
  ]
}