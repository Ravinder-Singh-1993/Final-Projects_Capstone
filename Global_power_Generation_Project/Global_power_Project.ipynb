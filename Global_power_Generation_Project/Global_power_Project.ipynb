{
  "nbformat": 4,
  "nbformat_minor": 0,
  "metadata": {
    "colab": {
      "name": "Global_power_Project.ipynb",
      "provenance": [],
      "collapsed_sections": []
    },
    "kernelspec": {
      "name": "python3",
      "display_name": "Python 3"
    },
    "language_info": {
      "name": "python"
    }
  },
  "cells": [
    {
      "cell_type": "markdown",
      "source": [
        "#    Global Power Plant Database\n",
        "Problem Statement:\n",
        "Description\n",
        "\n",
        "The Global Power Plant Database is a comprehensive, open source database of power plants around the world. It centralizes power plant data to make it easier to navigate, compare and draw insights for one’s own analysis. The database covers approximately 35,000 power plants from 167 countries and includes thermal plants (e.g. coal, gas, oil, nuclear, biomass, waste, geothermal) and renewables (e.g. hydro, wind, solar). Each power plant is geolocated and entries contain information on plant capacity, generation, ownership, and fuel type. It will be continuously updated as data becomes available.\n",
        "\n",
        "Key attributes of the database\n",
        "The database includes the following indicators:\n",
        "\n",
        "`country` (text): 3 character country code corresponding to the ISO 3166-1 alpha-3 specification [5]\n",
        "`country_long` (text): longer form of the country designation\n",
        "`name` (text): name or title of the power plant, generally in Romanized form\n",
        "`gppd_idnr` (text): 10 or 12 character identifier for the power plant\n",
        "`capacity_mw` (number): electrical generating capacity in megawatts\n",
        "`latitude` (number): geolocation in decimal degrees; WGS84 (EPSG:4326)\n",
        "`longitude` (number): geolocation in decimal degrees; WGS84 (EPSG:4326)\n",
        "`primary_fuel` (text): energy source used in primary electricity generation or export\n",
        "`other_fuel1` (text): energy source used in electricity generation or export\n",
        "`other_fuel2` (text): energy source used in electricity generation or export\n",
        "`other_fuel3` (text): energy source used in electricity generation or export\n",
        " `commissioning_year` (number): year of plant operation, weighted by unit-capacity when data is available\n",
        "`owner` (text): majority shareholder of the power plant, generally in Romanized form\n",
        "`source` (text): entity reporting the data; could be an organization, report, or document, generally in Romanized form\n",
        "`url` (text): web document corresponding to the `source` field\n",
        "`geolocation_source` (text): attribution for geolocation information\n",
        "`wepp_id` (text): a reference to a unique plant identifier in the widely-used PLATTS-WEPP database.\n",
        "`year_of_capacity_data` (number): year the capacity information was reported\n",
        "`generation_gwh_2013` (number): electricity generation in gigawatt-hours reported for the year 2013\n",
        "`generation_gwh_2014` (number): electricity generation in gigawatt-hours reported for the year 2014\n",
        "`generation_gwh_2015` (number): electricity generation in gigawatt-hours reported for the year 2015\n",
        "`generation_gwh_2016` (number): electricity generation in gigawatt-hours reported for the year 2016\n",
        "`generation_gwh_2017` (number): electricity generation in gigawatt-hours reported for the year 2017\n",
        "`generation_gwh_2018` (number): electricity generation in gigawatt-hours reported for the year 2018\n",
        "`generation_gwh_2019` (number): electricity generation in gigawatt-hours reported for the year 2019\n",
        "`generation_data_source` (text): attribution for the reported generation information\n",
        "`estimated_generation_gwh_2013` (number): estimated electricity generation in gigawatt-hours for the year 2013\n",
        "`estimated_generation_gwh_2014` (number): estimated electricity generation in gigawatt-hours for the year 2014 \n",
        "`estimated_generation_gwh_2015` (number): estimated electricity generation in gigawatt-hours for the year 2015 \n",
        "`estimated_generation_gwh_2016` (number): estimated electricity generation in gigawatt-hours for the year 2016 \n",
        "`estimated_generation_gwh_2017` (number): estimated electricity generation in gigawatt-hours for the year 2017 \n",
        "'estimated_generation_note_2013` (text): label of the model/method used to estimate generation for the year 2013\n",
        "`estimated_generation_note_2014` (text): label of the model/method used to estimate generation for the year 2014 \n",
        "`estimated_generation_note_2015` (text): label of the model/method used to estimate generation for the year 2015\n",
        "`estimated_generation_note_2016` (text): label of the model/method used to estimate generation for the year 2016\n",
        "`estimated_generation_note_2017` (text): label of the model/method used to estimate generation for the year 2017 \n",
        "Fuel Type Aggregation\n",
        "We define the \"Fuel Type\" attribute of our database based on common fuel categories. \n",
        "\n",
        "Prediction :   Make two prediction  1) Primary Fuel    2) capacity_mw "
      ],
      "metadata": {
        "id": "DusHgb0I_jxb"
      }
    },
    {
      "cell_type": "markdown",
      "source": [
        "# Importing Libraries and Data"
      ],
      "metadata": {
        "id": "16d0klPV_4fM"
      }
    },
    {
      "cell_type": "code",
      "source": [
        "import pandas as pd\n",
        "import numpy as np\n",
        "import warnings\n",
        "import seaborn as sns\n",
        "import matplotlib.pyplot as plt\n",
        "warnings.filterwarnings('ignore')"
      ],
      "metadata": {
        "id": "yBwSsNoR_kul"
      },
      "execution_count": 409,
      "outputs": []
    },
    {
      "cell_type": "code",
      "source": [
        "Global_power=pd.read_csv('https://raw.githubusercontent.com/wri/global-power-plant-database/master/source_databases_csv/database_IND.csv')\n",
        "Global_power.head()"
      ],
      "metadata": {
        "colab": {
          "base_uri": "https://localhost:8080/",
          "height": 438
        },
        "id": "osksys3xAH3q",
        "outputId": "ebefddb9-fc21-46ac-a998-9cd1f832680b"
      },
      "execution_count": 410,
      "outputs": [
        {
          "output_type": "execute_result",
          "data": {
            "text/plain": [
              "  country country_long                      name   gppd_idnr  capacity_mw  \\\n",
              "0     IND        India          ACME Solar Tower  WRI1020239          2.5   \n",
              "1     IND        India       ADITYA CEMENT WORKS  WRI1019881         98.0   \n",
              "2     IND        India  AES Saurashtra Windfarms  WRI1026669         39.2   \n",
              "3     IND        India               AGARTALA GT  IND0000001        135.0   \n",
              "4     IND        India              AKALTARA TPP  IND0000002       1800.0   \n",
              "\n",
              "   latitude  longitude primary_fuel other_fuel1 other_fuel2  ...  \\\n",
              "0   28.1839    73.2407        Solar         NaN         NaN  ...   \n",
              "1   24.7663    74.6090         Coal         NaN         NaN  ...   \n",
              "2   21.9038    69.3732         Wind         NaN         NaN  ...   \n",
              "3   23.8712    91.3602          Gas         NaN         NaN  ...   \n",
              "4   21.9603    82.4091         Coal         Oil         NaN  ...   \n",
              "\n",
              "   year_of_capacity_data  generation_gwh_2013 generation_gwh_2014  \\\n",
              "0                    NaN                  NaN                 NaN   \n",
              "1                    NaN                  NaN                 NaN   \n",
              "2                    NaN                  NaN                 NaN   \n",
              "3                 2019.0                  NaN          617.789264   \n",
              "4                 2019.0                  NaN         3035.550000   \n",
              "\n",
              "  generation_gwh_2015 generation_gwh_2016 generation_gwh_2017  \\\n",
              "0                 NaN                 NaN                 NaN   \n",
              "1                 NaN                 NaN                 NaN   \n",
              "2                 NaN                 NaN                 NaN   \n",
              "3             843.747          886.004428          663.774500   \n",
              "4            5916.370         6243.000000         5385.579736   \n",
              "\n",
              "   generation_gwh_2018  generation_gwh_2019         generation_data_source  \\\n",
              "0                  NaN                  NaN                            NaN   \n",
              "1                  NaN                  NaN                            NaN   \n",
              "2                  NaN                  NaN                            NaN   \n",
              "3           626.239128                  NaN  Central Electricity Authority   \n",
              "4          7279.000000                  NaN  Central Electricity Authority   \n",
              "\n",
              "   estimated_generation_gwh  \n",
              "0                       NaN  \n",
              "1                       NaN  \n",
              "2                       NaN  \n",
              "3                       NaN  \n",
              "4                       NaN  \n",
              "\n",
              "[5 rows x 27 columns]"
            ],
            "text/html": [
              "\n",
              "  <div id=\"df-74bf09ed-8d26-4250-a2cb-53595ba80bdc\">\n",
              "    <div class=\"colab-df-container\">\n",
              "      <div>\n",
              "<style scoped>\n",
              "    .dataframe tbody tr th:only-of-type {\n",
              "        vertical-align: middle;\n",
              "    }\n",
              "\n",
              "    .dataframe tbody tr th {\n",
              "        vertical-align: top;\n",
              "    }\n",
              "\n",
              "    .dataframe thead th {\n",
              "        text-align: right;\n",
              "    }\n",
              "</style>\n",
              "<table border=\"1\" class=\"dataframe\">\n",
              "  <thead>\n",
              "    <tr style=\"text-align: right;\">\n",
              "      <th></th>\n",
              "      <th>country</th>\n",
              "      <th>country_long</th>\n",
              "      <th>name</th>\n",
              "      <th>gppd_idnr</th>\n",
              "      <th>capacity_mw</th>\n",
              "      <th>latitude</th>\n",
              "      <th>longitude</th>\n",
              "      <th>primary_fuel</th>\n",
              "      <th>other_fuel1</th>\n",
              "      <th>other_fuel2</th>\n",
              "      <th>...</th>\n",
              "      <th>year_of_capacity_data</th>\n",
              "      <th>generation_gwh_2013</th>\n",
              "      <th>generation_gwh_2014</th>\n",
              "      <th>generation_gwh_2015</th>\n",
              "      <th>generation_gwh_2016</th>\n",
              "      <th>generation_gwh_2017</th>\n",
              "      <th>generation_gwh_2018</th>\n",
              "      <th>generation_gwh_2019</th>\n",
              "      <th>generation_data_source</th>\n",
              "      <th>estimated_generation_gwh</th>\n",
              "    </tr>\n",
              "  </thead>\n",
              "  <tbody>\n",
              "    <tr>\n",
              "      <th>0</th>\n",
              "      <td>IND</td>\n",
              "      <td>India</td>\n",
              "      <td>ACME Solar Tower</td>\n",
              "      <td>WRI1020239</td>\n",
              "      <td>2.5</td>\n",
              "      <td>28.1839</td>\n",
              "      <td>73.2407</td>\n",
              "      <td>Solar</td>\n",
              "      <td>NaN</td>\n",
              "      <td>NaN</td>\n",
              "      <td>...</td>\n",
              "      <td>NaN</td>\n",
              "      <td>NaN</td>\n",
              "      <td>NaN</td>\n",
              "      <td>NaN</td>\n",
              "      <td>NaN</td>\n",
              "      <td>NaN</td>\n",
              "      <td>NaN</td>\n",
              "      <td>NaN</td>\n",
              "      <td>NaN</td>\n",
              "      <td>NaN</td>\n",
              "    </tr>\n",
              "    <tr>\n",
              "      <th>1</th>\n",
              "      <td>IND</td>\n",
              "      <td>India</td>\n",
              "      <td>ADITYA CEMENT WORKS</td>\n",
              "      <td>WRI1019881</td>\n",
              "      <td>98.0</td>\n",
              "      <td>24.7663</td>\n",
              "      <td>74.6090</td>\n",
              "      <td>Coal</td>\n",
              "      <td>NaN</td>\n",
              "      <td>NaN</td>\n",
              "      <td>...</td>\n",
              "      <td>NaN</td>\n",
              "      <td>NaN</td>\n",
              "      <td>NaN</td>\n",
              "      <td>NaN</td>\n",
              "      <td>NaN</td>\n",
              "      <td>NaN</td>\n",
              "      <td>NaN</td>\n",
              "      <td>NaN</td>\n",
              "      <td>NaN</td>\n",
              "      <td>NaN</td>\n",
              "    </tr>\n",
              "    <tr>\n",
              "      <th>2</th>\n",
              "      <td>IND</td>\n",
              "      <td>India</td>\n",
              "      <td>AES Saurashtra Windfarms</td>\n",
              "      <td>WRI1026669</td>\n",
              "      <td>39.2</td>\n",
              "      <td>21.9038</td>\n",
              "      <td>69.3732</td>\n",
              "      <td>Wind</td>\n",
              "      <td>NaN</td>\n",
              "      <td>NaN</td>\n",
              "      <td>...</td>\n",
              "      <td>NaN</td>\n",
              "      <td>NaN</td>\n",
              "      <td>NaN</td>\n",
              "      <td>NaN</td>\n",
              "      <td>NaN</td>\n",
              "      <td>NaN</td>\n",
              "      <td>NaN</td>\n",
              "      <td>NaN</td>\n",
              "      <td>NaN</td>\n",
              "      <td>NaN</td>\n",
              "    </tr>\n",
              "    <tr>\n",
              "      <th>3</th>\n",
              "      <td>IND</td>\n",
              "      <td>India</td>\n",
              "      <td>AGARTALA GT</td>\n",
              "      <td>IND0000001</td>\n",
              "      <td>135.0</td>\n",
              "      <td>23.8712</td>\n",
              "      <td>91.3602</td>\n",
              "      <td>Gas</td>\n",
              "      <td>NaN</td>\n",
              "      <td>NaN</td>\n",
              "      <td>...</td>\n",
              "      <td>2019.0</td>\n",
              "      <td>NaN</td>\n",
              "      <td>617.789264</td>\n",
              "      <td>843.747</td>\n",
              "      <td>886.004428</td>\n",
              "      <td>663.774500</td>\n",
              "      <td>626.239128</td>\n",
              "      <td>NaN</td>\n",
              "      <td>Central Electricity Authority</td>\n",
              "      <td>NaN</td>\n",
              "    </tr>\n",
              "    <tr>\n",
              "      <th>4</th>\n",
              "      <td>IND</td>\n",
              "      <td>India</td>\n",
              "      <td>AKALTARA TPP</td>\n",
              "      <td>IND0000002</td>\n",
              "      <td>1800.0</td>\n",
              "      <td>21.9603</td>\n",
              "      <td>82.4091</td>\n",
              "      <td>Coal</td>\n",
              "      <td>Oil</td>\n",
              "      <td>NaN</td>\n",
              "      <td>...</td>\n",
              "      <td>2019.0</td>\n",
              "      <td>NaN</td>\n",
              "      <td>3035.550000</td>\n",
              "      <td>5916.370</td>\n",
              "      <td>6243.000000</td>\n",
              "      <td>5385.579736</td>\n",
              "      <td>7279.000000</td>\n",
              "      <td>NaN</td>\n",
              "      <td>Central Electricity Authority</td>\n",
              "      <td>NaN</td>\n",
              "    </tr>\n",
              "  </tbody>\n",
              "</table>\n",
              "<p>5 rows × 27 columns</p>\n",
              "</div>\n",
              "      <button class=\"colab-df-convert\" onclick=\"convertToInteractive('df-74bf09ed-8d26-4250-a2cb-53595ba80bdc')\"\n",
              "              title=\"Convert this dataframe to an interactive table.\"\n",
              "              style=\"display:none;\">\n",
              "        \n",
              "  <svg xmlns=\"http://www.w3.org/2000/svg\" height=\"24px\"viewBox=\"0 0 24 24\"\n",
              "       width=\"24px\">\n",
              "    <path d=\"M0 0h24v24H0V0z\" fill=\"none\"/>\n",
              "    <path d=\"M18.56 5.44l.94 2.06.94-2.06 2.06-.94-2.06-.94-.94-2.06-.94 2.06-2.06.94zm-11 1L8.5 8.5l.94-2.06 2.06-.94-2.06-.94L8.5 2.5l-.94 2.06-2.06.94zm10 10l.94 2.06.94-2.06 2.06-.94-2.06-.94-.94-2.06-.94 2.06-2.06.94z\"/><path d=\"M17.41 7.96l-1.37-1.37c-.4-.4-.92-.59-1.43-.59-.52 0-1.04.2-1.43.59L10.3 9.45l-7.72 7.72c-.78.78-.78 2.05 0 2.83L4 21.41c.39.39.9.59 1.41.59.51 0 1.02-.2 1.41-.59l7.78-7.78 2.81-2.81c.8-.78.8-2.07 0-2.86zM5.41 20L4 18.59l7.72-7.72 1.47 1.35L5.41 20z\"/>\n",
              "  </svg>\n",
              "      </button>\n",
              "      \n",
              "  <style>\n",
              "    .colab-df-container {\n",
              "      display:flex;\n",
              "      flex-wrap:wrap;\n",
              "      gap: 12px;\n",
              "    }\n",
              "\n",
              "    .colab-df-convert {\n",
              "      background-color: #E8F0FE;\n",
              "      border: none;\n",
              "      border-radius: 50%;\n",
              "      cursor: pointer;\n",
              "      display: none;\n",
              "      fill: #1967D2;\n",
              "      height: 32px;\n",
              "      padding: 0 0 0 0;\n",
              "      width: 32px;\n",
              "    }\n",
              "\n",
              "    .colab-df-convert:hover {\n",
              "      background-color: #E2EBFA;\n",
              "      box-shadow: 0px 1px 2px rgba(60, 64, 67, 0.3), 0px 1px 3px 1px rgba(60, 64, 67, 0.15);\n",
              "      fill: #174EA6;\n",
              "    }\n",
              "\n",
              "    [theme=dark] .colab-df-convert {\n",
              "      background-color: #3B4455;\n",
              "      fill: #D2E3FC;\n",
              "    }\n",
              "\n",
              "    [theme=dark] .colab-df-convert:hover {\n",
              "      background-color: #434B5C;\n",
              "      box-shadow: 0px 1px 3px 1px rgba(0, 0, 0, 0.15);\n",
              "      filter: drop-shadow(0px 1px 2px rgba(0, 0, 0, 0.3));\n",
              "      fill: #FFFFFF;\n",
              "    }\n",
              "  </style>\n",
              "\n",
              "      <script>\n",
              "        const buttonEl =\n",
              "          document.querySelector('#df-74bf09ed-8d26-4250-a2cb-53595ba80bdc button.colab-df-convert');\n",
              "        buttonEl.style.display =\n",
              "          google.colab.kernel.accessAllowed ? 'block' : 'none';\n",
              "\n",
              "        async function convertToInteractive(key) {\n",
              "          const element = document.querySelector('#df-74bf09ed-8d26-4250-a2cb-53595ba80bdc');\n",
              "          const dataTable =\n",
              "            await google.colab.kernel.invokeFunction('convertToInteractive',\n",
              "                                                     [key], {});\n",
              "          if (!dataTable) return;\n",
              "\n",
              "          const docLinkHtml = 'Like what you see? Visit the ' +\n",
              "            '<a target=\"_blank\" href=https://colab.research.google.com/notebooks/data_table.ipynb>data table notebook</a>'\n",
              "            + ' to learn more about interactive tables.';\n",
              "          element.innerHTML = '';\n",
              "          dataTable['output_type'] = 'display_data';\n",
              "          await google.colab.output.renderOutput(dataTable, element);\n",
              "          const docLink = document.createElement('div');\n",
              "          docLink.innerHTML = docLinkHtml;\n",
              "          element.appendChild(docLink);\n",
              "        }\n",
              "      </script>\n",
              "    </div>\n",
              "  </div>\n",
              "  "
            ]
          },
          "metadata": {},
          "execution_count": 410
        }
      ]
    },
    {
      "cell_type": "code",
      "source": [
        ""
      ],
      "metadata": {
        "id": "y7Nt1WBdQhKX"
      },
      "execution_count": 410,
      "outputs": []
    },
    {
      "cell_type": "markdown",
      "source": [
        "# Understanding the Data"
      ],
      "metadata": {
        "id": "Mmh_eIpCBMJB"
      }
    },
    {
      "cell_type": "code",
      "source": [
        "# Description of data_set\n",
        "Global_power.describe()"
      ],
      "metadata": {
        "colab": {
          "base_uri": "https://localhost:8080/",
          "height": 364
        },
        "id": "H5m-rx8sAey1",
        "outputId": "968eadf1-be89-4450-ebbe-af9b4d99429b"
      },
      "execution_count": 411,
      "outputs": [
        {
          "output_type": "execute_result",
          "data": {
            "text/plain": [
              "       capacity_mw    latitude   longitude  other_fuel3  commissioning_year  \\\n",
              "count   907.000000  861.000000  861.000000          0.0          527.000000   \n",
              "mean    326.223755   21.197918   77.464907          NaN         1997.091082   \n",
              "std     590.085456    6.239612    4.939316          NaN           17.082868   \n",
              "min       0.000000    8.168900   68.644700          NaN         1927.000000   \n",
              "25%      16.725000   16.773900   74.256200          NaN         1988.000000   \n",
              "50%      59.200000   21.780000   76.719500          NaN         2001.000000   \n",
              "75%     385.250000   25.512400   79.440800          NaN         2012.000000   \n",
              "max    4760.000000   34.649000   95.408000          NaN         2018.000000   \n",
              "\n",
              "       wepp_id  year_of_capacity_data  generation_gwh_2013  \\\n",
              "count      0.0                  519.0                  0.0   \n",
              "mean       NaN                 2019.0                  NaN   \n",
              "std        NaN                    0.0                  NaN   \n",
              "min        NaN                 2019.0                  NaN   \n",
              "25%        NaN                 2019.0                  NaN   \n",
              "50%        NaN                 2019.0                  NaN   \n",
              "75%        NaN                 2019.0                  NaN   \n",
              "max        NaN                 2019.0                  NaN   \n",
              "\n",
              "       generation_gwh_2014  generation_gwh_2015  generation_gwh_2016  \\\n",
              "count           398.000000           422.000000           434.000000   \n",
              "mean           2431.823590          2428.226946          2467.936859   \n",
              "std            4026.440035          4194.596959          4162.884308   \n",
              "min               0.000000             0.000000             0.000000   \n",
              "25%             223.557672           176.381063           188.285252   \n",
              "50%             801.123775           711.181225           737.205450   \n",
              "75%            3035.306250          3084.121250          3282.861313   \n",
              "max           28127.000000         30539.000000         30015.000000   \n",
              "\n",
              "       generation_gwh_2017  generation_gwh_2018  generation_gwh_2019  \\\n",
              "count           440.000000           448.000000                  0.0   \n",
              "mean           2547.759305          2600.804099                  NaN   \n",
              "std            4196.991169          4314.880456                  NaN   \n",
              "min               0.000000             0.000000                  NaN   \n",
              "25%             177.874930           193.378250                  NaN   \n",
              "50%             817.977250           751.644375                  NaN   \n",
              "75%            3275.690475          3143.535900                  NaN   \n",
              "max           35116.000000         35136.000000                  NaN   \n",
              "\n",
              "       estimated_generation_gwh  \n",
              "count                       0.0  \n",
              "mean                        NaN  \n",
              "std                         NaN  \n",
              "min                         NaN  \n",
              "25%                         NaN  \n",
              "50%                         NaN  \n",
              "75%                         NaN  \n",
              "max                         NaN  "
            ],
            "text/html": [
              "\n",
              "  <div id=\"df-6cc7617f-6e1e-455c-a9ea-001c366176c6\">\n",
              "    <div class=\"colab-df-container\">\n",
              "      <div>\n",
              "<style scoped>\n",
              "    .dataframe tbody tr th:only-of-type {\n",
              "        vertical-align: middle;\n",
              "    }\n",
              "\n",
              "    .dataframe tbody tr th {\n",
              "        vertical-align: top;\n",
              "    }\n",
              "\n",
              "    .dataframe thead th {\n",
              "        text-align: right;\n",
              "    }\n",
              "</style>\n",
              "<table border=\"1\" class=\"dataframe\">\n",
              "  <thead>\n",
              "    <tr style=\"text-align: right;\">\n",
              "      <th></th>\n",
              "      <th>capacity_mw</th>\n",
              "      <th>latitude</th>\n",
              "      <th>longitude</th>\n",
              "      <th>other_fuel3</th>\n",
              "      <th>commissioning_year</th>\n",
              "      <th>wepp_id</th>\n",
              "      <th>year_of_capacity_data</th>\n",
              "      <th>generation_gwh_2013</th>\n",
              "      <th>generation_gwh_2014</th>\n",
              "      <th>generation_gwh_2015</th>\n",
              "      <th>generation_gwh_2016</th>\n",
              "      <th>generation_gwh_2017</th>\n",
              "      <th>generation_gwh_2018</th>\n",
              "      <th>generation_gwh_2019</th>\n",
              "      <th>estimated_generation_gwh</th>\n",
              "    </tr>\n",
              "  </thead>\n",
              "  <tbody>\n",
              "    <tr>\n",
              "      <th>count</th>\n",
              "      <td>907.000000</td>\n",
              "      <td>861.000000</td>\n",
              "      <td>861.000000</td>\n",
              "      <td>0.0</td>\n",
              "      <td>527.000000</td>\n",
              "      <td>0.0</td>\n",
              "      <td>519.0</td>\n",
              "      <td>0.0</td>\n",
              "      <td>398.000000</td>\n",
              "      <td>422.000000</td>\n",
              "      <td>434.000000</td>\n",
              "      <td>440.000000</td>\n",
              "      <td>448.000000</td>\n",
              "      <td>0.0</td>\n",
              "      <td>0.0</td>\n",
              "    </tr>\n",
              "    <tr>\n",
              "      <th>mean</th>\n",
              "      <td>326.223755</td>\n",
              "      <td>21.197918</td>\n",
              "      <td>77.464907</td>\n",
              "      <td>NaN</td>\n",
              "      <td>1997.091082</td>\n",
              "      <td>NaN</td>\n",
              "      <td>2019.0</td>\n",
              "      <td>NaN</td>\n",
              "      <td>2431.823590</td>\n",
              "      <td>2428.226946</td>\n",
              "      <td>2467.936859</td>\n",
              "      <td>2547.759305</td>\n",
              "      <td>2600.804099</td>\n",
              "      <td>NaN</td>\n",
              "      <td>NaN</td>\n",
              "    </tr>\n",
              "    <tr>\n",
              "      <th>std</th>\n",
              "      <td>590.085456</td>\n",
              "      <td>6.239612</td>\n",
              "      <td>4.939316</td>\n",
              "      <td>NaN</td>\n",
              "      <td>17.082868</td>\n",
              "      <td>NaN</td>\n",
              "      <td>0.0</td>\n",
              "      <td>NaN</td>\n",
              "      <td>4026.440035</td>\n",
              "      <td>4194.596959</td>\n",
              "      <td>4162.884308</td>\n",
              "      <td>4196.991169</td>\n",
              "      <td>4314.880456</td>\n",
              "      <td>NaN</td>\n",
              "      <td>NaN</td>\n",
              "    </tr>\n",
              "    <tr>\n",
              "      <th>min</th>\n",
              "      <td>0.000000</td>\n",
              "      <td>8.168900</td>\n",
              "      <td>68.644700</td>\n",
              "      <td>NaN</td>\n",
              "      <td>1927.000000</td>\n",
              "      <td>NaN</td>\n",
              "      <td>2019.0</td>\n",
              "      <td>NaN</td>\n",
              "      <td>0.000000</td>\n",
              "      <td>0.000000</td>\n",
              "      <td>0.000000</td>\n",
              "      <td>0.000000</td>\n",
              "      <td>0.000000</td>\n",
              "      <td>NaN</td>\n",
              "      <td>NaN</td>\n",
              "    </tr>\n",
              "    <tr>\n",
              "      <th>25%</th>\n",
              "      <td>16.725000</td>\n",
              "      <td>16.773900</td>\n",
              "      <td>74.256200</td>\n",
              "      <td>NaN</td>\n",
              "      <td>1988.000000</td>\n",
              "      <td>NaN</td>\n",
              "      <td>2019.0</td>\n",
              "      <td>NaN</td>\n",
              "      <td>223.557672</td>\n",
              "      <td>176.381063</td>\n",
              "      <td>188.285252</td>\n",
              "      <td>177.874930</td>\n",
              "      <td>193.378250</td>\n",
              "      <td>NaN</td>\n",
              "      <td>NaN</td>\n",
              "    </tr>\n",
              "    <tr>\n",
              "      <th>50%</th>\n",
              "      <td>59.200000</td>\n",
              "      <td>21.780000</td>\n",
              "      <td>76.719500</td>\n",
              "      <td>NaN</td>\n",
              "      <td>2001.000000</td>\n",
              "      <td>NaN</td>\n",
              "      <td>2019.0</td>\n",
              "      <td>NaN</td>\n",
              "      <td>801.123775</td>\n",
              "      <td>711.181225</td>\n",
              "      <td>737.205450</td>\n",
              "      <td>817.977250</td>\n",
              "      <td>751.644375</td>\n",
              "      <td>NaN</td>\n",
              "      <td>NaN</td>\n",
              "    </tr>\n",
              "    <tr>\n",
              "      <th>75%</th>\n",
              "      <td>385.250000</td>\n",
              "      <td>25.512400</td>\n",
              "      <td>79.440800</td>\n",
              "      <td>NaN</td>\n",
              "      <td>2012.000000</td>\n",
              "      <td>NaN</td>\n",
              "      <td>2019.0</td>\n",
              "      <td>NaN</td>\n",
              "      <td>3035.306250</td>\n",
              "      <td>3084.121250</td>\n",
              "      <td>3282.861313</td>\n",
              "      <td>3275.690475</td>\n",
              "      <td>3143.535900</td>\n",
              "      <td>NaN</td>\n",
              "      <td>NaN</td>\n",
              "    </tr>\n",
              "    <tr>\n",
              "      <th>max</th>\n",
              "      <td>4760.000000</td>\n",
              "      <td>34.649000</td>\n",
              "      <td>95.408000</td>\n",
              "      <td>NaN</td>\n",
              "      <td>2018.000000</td>\n",
              "      <td>NaN</td>\n",
              "      <td>2019.0</td>\n",
              "      <td>NaN</td>\n",
              "      <td>28127.000000</td>\n",
              "      <td>30539.000000</td>\n",
              "      <td>30015.000000</td>\n",
              "      <td>35116.000000</td>\n",
              "      <td>35136.000000</td>\n",
              "      <td>NaN</td>\n",
              "      <td>NaN</td>\n",
              "    </tr>\n",
              "  </tbody>\n",
              "</table>\n",
              "</div>\n",
              "      <button class=\"colab-df-convert\" onclick=\"convertToInteractive('df-6cc7617f-6e1e-455c-a9ea-001c366176c6')\"\n",
              "              title=\"Convert this dataframe to an interactive table.\"\n",
              "              style=\"display:none;\">\n",
              "        \n",
              "  <svg xmlns=\"http://www.w3.org/2000/svg\" height=\"24px\"viewBox=\"0 0 24 24\"\n",
              "       width=\"24px\">\n",
              "    <path d=\"M0 0h24v24H0V0z\" fill=\"none\"/>\n",
              "    <path d=\"M18.56 5.44l.94 2.06.94-2.06 2.06-.94-2.06-.94-.94-2.06-.94 2.06-2.06.94zm-11 1L8.5 8.5l.94-2.06 2.06-.94-2.06-.94L8.5 2.5l-.94 2.06-2.06.94zm10 10l.94 2.06.94-2.06 2.06-.94-2.06-.94-.94-2.06-.94 2.06-2.06.94z\"/><path d=\"M17.41 7.96l-1.37-1.37c-.4-.4-.92-.59-1.43-.59-.52 0-1.04.2-1.43.59L10.3 9.45l-7.72 7.72c-.78.78-.78 2.05 0 2.83L4 21.41c.39.39.9.59 1.41.59.51 0 1.02-.2 1.41-.59l7.78-7.78 2.81-2.81c.8-.78.8-2.07 0-2.86zM5.41 20L4 18.59l7.72-7.72 1.47 1.35L5.41 20z\"/>\n",
              "  </svg>\n",
              "      </button>\n",
              "      \n",
              "  <style>\n",
              "    .colab-df-container {\n",
              "      display:flex;\n",
              "      flex-wrap:wrap;\n",
              "      gap: 12px;\n",
              "    }\n",
              "\n",
              "    .colab-df-convert {\n",
              "      background-color: #E8F0FE;\n",
              "      border: none;\n",
              "      border-radius: 50%;\n",
              "      cursor: pointer;\n",
              "      display: none;\n",
              "      fill: #1967D2;\n",
              "      height: 32px;\n",
              "      padding: 0 0 0 0;\n",
              "      width: 32px;\n",
              "    }\n",
              "\n",
              "    .colab-df-convert:hover {\n",
              "      background-color: #E2EBFA;\n",
              "      box-shadow: 0px 1px 2px rgba(60, 64, 67, 0.3), 0px 1px 3px 1px rgba(60, 64, 67, 0.15);\n",
              "      fill: #174EA6;\n",
              "    }\n",
              "\n",
              "    [theme=dark] .colab-df-convert {\n",
              "      background-color: #3B4455;\n",
              "      fill: #D2E3FC;\n",
              "    }\n",
              "\n",
              "    [theme=dark] .colab-df-convert:hover {\n",
              "      background-color: #434B5C;\n",
              "      box-shadow: 0px 1px 3px 1px rgba(0, 0, 0, 0.15);\n",
              "      filter: drop-shadow(0px 1px 2px rgba(0, 0, 0, 0.3));\n",
              "      fill: #FFFFFF;\n",
              "    }\n",
              "  </style>\n",
              "\n",
              "      <script>\n",
              "        const buttonEl =\n",
              "          document.querySelector('#df-6cc7617f-6e1e-455c-a9ea-001c366176c6 button.colab-df-convert');\n",
              "        buttonEl.style.display =\n",
              "          google.colab.kernel.accessAllowed ? 'block' : 'none';\n",
              "\n",
              "        async function convertToInteractive(key) {\n",
              "          const element = document.querySelector('#df-6cc7617f-6e1e-455c-a9ea-001c366176c6');\n",
              "          const dataTable =\n",
              "            await google.colab.kernel.invokeFunction('convertToInteractive',\n",
              "                                                     [key], {});\n",
              "          if (!dataTable) return;\n",
              "\n",
              "          const docLinkHtml = 'Like what you see? Visit the ' +\n",
              "            '<a target=\"_blank\" href=https://colab.research.google.com/notebooks/data_table.ipynb>data table notebook</a>'\n",
              "            + ' to learn more about interactive tables.';\n",
              "          element.innerHTML = '';\n",
              "          dataTable['output_type'] = 'display_data';\n",
              "          await google.colab.output.renderOutput(dataTable, element);\n",
              "          const docLink = document.createElement('div');\n",
              "          docLink.innerHTML = docLinkHtml;\n",
              "          element.appendChild(docLink);\n",
              "        }\n",
              "      </script>\n",
              "    </div>\n",
              "  </div>\n",
              "  "
            ]
          },
          "metadata": {},
          "execution_count": 411
        }
      ]
    },
    {
      "cell_type": "code",
      "source": [
        "#Checking for null values \n",
        "Global_power.isna().sum()"
      ],
      "metadata": {
        "colab": {
          "base_uri": "https://localhost:8080/"
        },
        "id": "XP5LyVp1BZJq",
        "outputId": "7afc6671-c046-4e80-9262-691fd6000fbb"
      },
      "execution_count": 412,
      "outputs": [
        {
          "output_type": "execute_result",
          "data": {
            "text/plain": [
              "country                       0\n",
              "country_long                  0\n",
              "name                          0\n",
              "gppd_idnr                     0\n",
              "capacity_mw                   0\n",
              "latitude                     46\n",
              "longitude                    46\n",
              "primary_fuel                  0\n",
              "other_fuel1                 709\n",
              "other_fuel2                 906\n",
              "other_fuel3                 907\n",
              "commissioning_year          380\n",
              "owner                       565\n",
              "source                        0\n",
              "url                           0\n",
              "geolocation_source           19\n",
              "wepp_id                     907\n",
              "year_of_capacity_data       388\n",
              "generation_gwh_2013         907\n",
              "generation_gwh_2014         509\n",
              "generation_gwh_2015         485\n",
              "generation_gwh_2016         473\n",
              "generation_gwh_2017         467\n",
              "generation_gwh_2018         459\n",
              "generation_gwh_2019         907\n",
              "generation_data_source      458\n",
              "estimated_generation_gwh    907\n",
              "dtype: int64"
            ]
          },
          "metadata": {},
          "execution_count": 412
        }
      ]
    },
    {
      "cell_type": "markdown",
      "source": [
        "Data of the Countries"
      ],
      "metadata": {
        "id": "hIFqfdPgFEyK"
      }
    },
    {
      "cell_type": "code",
      "source": [
        "Global_power.country_long.unique()  "
      ],
      "metadata": {
        "colab": {
          "base_uri": "https://localhost:8080/"
        },
        "id": "8nvoGJUXDERt",
        "outputId": "3b86e558-9c4b-416b-ba12-2e98bc94a2a8"
      },
      "execution_count": 413,
      "outputs": [
        {
          "output_type": "execute_result",
          "data": {
            "text/plain": [
              "array(['India'], dtype=object)"
            ]
          },
          "metadata": {},
          "execution_count": 413
        }
      ]
    },
    {
      "cell_type": "markdown",
      "source": [
        "Data belongs to only Ind"
      ],
      "metadata": {
        "id": "jA40inApFVup"
      }
    },
    {
      "cell_type": "markdown",
      "source": [
        "# EXPLORATORY DATA ANALYSIS"
      ],
      "metadata": {
        "id": "i6oxAheqF10O"
      }
    },
    {
      "cell_type": "code",
      "source": [
        "main_primary_fuel = Global_power.primary_fuel.value_counts() * 100 / Global_power.primary_fuel.count()\n",
        "main_primary_fuel"
      ],
      "metadata": {
        "colab": {
          "base_uri": "https://localhost:8080/"
        },
        "id": "Zv14mX4gFQmL",
        "outputId": "ee33eee0-8db4-4351-a368-02dbc9c7ddc5"
      },
      "execution_count": 414,
      "outputs": [
        {
          "output_type": "execute_result",
          "data": {
            "text/plain": [
              "Coal       28.445424\n",
              "Hydro      27.673649\n",
              "Solar      14.002205\n",
              "Wind       13.561191\n",
              "Gas         7.607497\n",
              "Biomass     5.512679\n",
              "Oil         2.205072\n",
              "Nuclear     0.992282\n",
              "Name: primary_fuel, dtype: float64"
            ]
          },
          "metadata": {},
          "execution_count": 414
        }
      ]
    },
    {
      "cell_type": "code",
      "source": [
        "sns.barplot(x = main_primary_fuel, y = main_primary_fuel.index)\n",
        "plt.title('Main primary fuel')\n",
        "plt.xlabel('Count (Percentages)');\n",
        "plt.ylabel('Different type of power plant depands on the type of fuel uses');"
      ],
      "metadata": {
        "colab": {
          "base_uri": "https://localhost:8080/",
          "height": 343
        },
        "id": "9qLb7g3OH4Sm",
        "outputId": "b72c95ea-7c9a-4698-cc26-ae5145ea1874"
      },
      "execution_count": 415,
      "outputs": [
        {
          "output_type": "display_data",
          "data": {
            "text/plain": [
              "<Figure size 432x288 with 1 Axes>"
            ],
            "image/png": "[encoded data removed]"
          },
          "metadata": {
            "needs_background": "light"
          }
        }
      ]
    },
    {
      "cell_type": "markdown",
      "source": [
        "### India has maximum  dependency  on Coal for Power Generation"
      ],
      "metadata": {
        "id": "KCN4GFD0JAPn"
      }
    },
    {
      "cell_type": "code",
      "source": [
        "sns.barplot(x=Global_power.primary_fuel,y=Global_power.capacity_mw)"
      ],
      "metadata": {
        "colab": {
          "base_uri": "https://localhost:8080/",
          "height": 297
        },
        "id": "2InFn5rLI_Y4",
        "outputId": "9223cd4f-626e-4fc4-8fda-9a99f47eed6e"
      },
      "execution_count": 416,
      "outputs": [
        {
          "output_type": "execute_result",
          "data": {
            "text/plain": [
              "<matplotlib.axes._subplots.AxesSubplot at 0x7fcf09bc8f50>"
            ]
          },
          "metadata": {},
          "execution_count": 416
        },
        {
          "output_type": "display_data",
          "data": {
            "text/plain": [
              "<Figure size 432x288 with 1 Axes>"
            ],
            "image/png": "[encoded data removed]"
          },
          "metadata": {
            "needs_background": "light"
          }
        }
      ]
    },
    {
      "cell_type": "markdown",
      "source": [
        "Maximum capacity for Power generation is for Nuclear Power"
      ],
      "metadata": {
        "id": "d7zOe9VhLtbA"
      }
    },
    {
      "cell_type": "markdown",
      "source": [
        "We only have data of power generation from 2014-2018"
      ],
      "metadata": {
        "id": "wx-kbEdLNcRe"
      }
    },
    {
      "cell_type": "code",
      "source": [
        "print(Global_power.groupby('primary_fuel')[['generation_gwh_2019']].sum().sort_values('generation_gwh_2019', ascending = False).head(10))\n",
        "print(Global_power.groupby('primary_fuel')[['generation_gwh_2018']].sum().sort_values('generation_gwh_2018', ascending = False).head(10))\n",
        "print(Global_power.groupby('primary_fuel')[['generation_gwh_2017']].sum().sort_values('generation_gwh_2017', ascending = False).head(10))\n",
        "print(Global_power.groupby('primary_fuel')[['generation_gwh_2016']].sum().sort_values('generation_gwh_2016', ascending = False).head(10))\n",
        "print(Global_power.groupby('primary_fuel')[['generation_gwh_2015']].sum().sort_values('generation_gwh_2015', ascending = False).head(10))\n",
        "print(Global_power.groupby('primary_fuel')[['generation_gwh_2014']].sum().sort_values('generation_gwh_2014', ascending = False).head(10))\n",
        "print(Global_power.groupby('primary_fuel')[['generation_gwh_2013']].sum().sort_values('generation_gwh_2013', ascending = False).head(10))"
      ],
      "metadata": {
        "colab": {
          "base_uri": "https://localhost:8080/"
        },
        "id": "XLTM5ev-LqwW",
        "outputId": "fa798c8d-ae8b-4165-90d6-c375047f0c22"
      },
      "execution_count": 417,
      "outputs": [
        {
          "output_type": "stream",
          "name": "stdout",
          "text": [
            "              generation_gwh_2019\n",
            "primary_fuel                     \n",
            "Biomass                       0.0\n",
            "Coal                          0.0\n",
            "Gas                           0.0\n",
            "Hydro                         0.0\n",
            "Nuclear                       0.0\n",
            "Oil                           0.0\n",
            "Solar                         0.0\n",
            "Wind                          0.0\n",
            "              generation_gwh_2018\n",
            "primary_fuel                     \n",
            "Coal                946847.079336\n",
            "Hydro               134987.471238\n",
            "Gas                  49106.188266\n",
            "Nuclear              34216.250000\n",
            "Oil                      3.247360\n",
            "Biomass                  0.000000\n",
            "Solar                    0.000000\n",
            "Wind                     0.000000\n",
            "              generation_gwh_2017\n",
            "primary_fuel                     \n",
            "Coal                910790.472360\n",
            "Hydro               126287.022845\n",
            "Gas                  49348.106481\n",
            "Nuclear              34587.320000\n",
            "Oil                      1.172299\n",
            "Biomass                  0.000000\n",
            "Solar                    0.000000\n",
            "Wind                     0.000000\n",
            "              generation_gwh_2016\n",
            "primary_fuel                     \n",
            "Coal                866544.578110\n",
            "Hydro               122380.663790\n",
            "Gas                  47925.719163\n",
            "Nuclear              34180.870000\n",
            "Oil                     52.765584\n",
            "Biomass                  0.000000\n",
            "Solar                    0.000000\n",
            "Wind                     0.000000\n",
            "              generation_gwh_2015\n",
            "primary_fuel                     \n",
            "Coal                822976.677975\n",
            "Hydro               121408.501625\n",
            "Gas                  46208.780652\n",
            "Nuclear              33879.000000\n",
            "Oil                    238.810943\n",
            "Biomass                  0.000000\n",
            "Solar                    0.000000\n",
            "Wind                     0.000000\n",
            "              generation_gwh_2014\n",
            "primary_fuel                     \n",
            "Coal                762701.968920\n",
            "Hydro               129551.355420\n",
            "Gas                  40099.876382\n",
            "Nuclear              34072.893150\n",
            "Oil                   1439.695026\n",
            "Biomass                  0.000000\n",
            "Solar                    0.000000\n",
            "Wind                     0.000000\n",
            "              generation_gwh_2013\n",
            "primary_fuel                     \n",
            "Biomass                       0.0\n",
            "Coal                          0.0\n",
            "Gas                           0.0\n",
            "Hydro                         0.0\n",
            "Nuclear                       0.0\n",
            "Oil                           0.0\n",
            "Solar                         0.0\n",
            "Wind                          0.0\n"
          ]
        }
      ]
    },
    {
      "cell_type": "markdown",
      "source": [
        "### No_data for 2013 and 2019 present "
      ],
      "metadata": {
        "id": "wLgqQ4toVX8A"
      }
    },
    {
      "cell_type": "code",
      "source": [
        "# plot histogram \n",
        "fig, axes = plt.subplots(5, 1)\n",
        "fig.set_size_inches(15,30)\n",
        "\n",
        "\n",
        "Global_power.groupby('primary_fuel')[['generation_gwh_2018']].sum().sort_values('generation_gwh_2018', ascending = False).head(10).plot(kind = \"bar\",ax=axes[0])\n",
        "axes[0].set_title('2018_power')\n",
        "\n",
        "Global_power.groupby('primary_fuel')[['generation_gwh_2017']].sum().sort_values('generation_gwh_2017', ascending = False).head(10).plot(kind = \"bar\",ax=axes[1])\n",
        "axes[0].set_title('2017_power')\n",
        "\n",
        "Global_power.groupby('primary_fuel')[['generation_gwh_2016']].sum().sort_values('generation_gwh_2016', ascending = False).head(10).plot(kind = \"bar\",ax=axes[2])\n",
        "axes[0].set_title('2016_power')\n",
        "\n",
        "Global_power.groupby('primary_fuel')[['generation_gwh_2015']].sum().sort_values('generation_gwh_2015', ascending = False).head(10).plot(kind = \"bar\",ax=axes[3])\n",
        "axes[0].set_title('2015_power')\n",
        "\n",
        "Global_power.groupby('primary_fuel')[['generation_gwh_2014']].sum().sort_values('generation_gwh_2014', ascending = False).head(10).plot(kind = \"bar\",ax=axes[4])\n",
        "axes[0].set_title('2014_power')\n",
        "\n",
        "fig.text(0.07, 0.5, 'Power Generated', va='center', rotation='vertical')\n",
        "\n",
        "plt.show()\n"
      ],
      "metadata": {
        "colab": {
          "base_uri": "https://localhost:8080/",
          "height": 1000
        },
        "id": "-C98SWqpPmXe",
        "outputId": "46f21efc-5515-46cc-b317-4d9bdd230bde"
      },
      "execution_count": 418,
      "outputs": [
        {
          "output_type": "display_data",
          "data": {
            "text/plain": [
              "<Figure size 1080x2160 with 5 Axes>"
            ],
            "image/png": "[encoded data removed]"
          },
          "metadata": {
            "needs_background": "light"
          }
        }
      ]
    },
    {
      "cell_type": "markdown",
      "source": [
        "Dependecy on coal for Power Genetaion is increasing"
      ],
      "metadata": {
        "id": "ubdgRQs6V_an"
      }
    },
    {
      "cell_type": "markdown",
      "source": [
        "# Data Cleaning"
      ],
      "metadata": {
        "id": "AqYofrPeWOWW"
      }
    },
    {
      "cell_type": "code",
      "source": [
        "Global_power.head(2)"
      ],
      "metadata": {
        "colab": {
          "base_uri": "https://localhost:8080/",
          "height": 275
        },
        "id": "YClWu96wHU1d",
        "outputId": "d751844c-ee37-429d-d036-a74821d698e3"
      },
      "execution_count": 419,
      "outputs": [
        {
          "output_type": "execute_result",
          "data": {
            "text/plain": [
              "  country country_long                 name   gppd_idnr  capacity_mw  \\\n",
              "0     IND        India     ACME Solar Tower  WRI1020239          2.5   \n",
              "1     IND        India  ADITYA CEMENT WORKS  WRI1019881         98.0   \n",
              "\n",
              "   latitude  longitude primary_fuel other_fuel1 other_fuel2  ...  \\\n",
              "0   28.1839    73.2407        Solar         NaN         NaN  ...   \n",
              "1   24.7663    74.6090         Coal         NaN         NaN  ...   \n",
              "\n",
              "   year_of_capacity_data  generation_gwh_2013 generation_gwh_2014  \\\n",
              "0                    NaN                  NaN                 NaN   \n",
              "1                    NaN                  NaN                 NaN   \n",
              "\n",
              "  generation_gwh_2015 generation_gwh_2016 generation_gwh_2017  \\\n",
              "0                 NaN                 NaN                 NaN   \n",
              "1                 NaN                 NaN                 NaN   \n",
              "\n",
              "   generation_gwh_2018  generation_gwh_2019  generation_data_source  \\\n",
              "0                  NaN                  NaN                     NaN   \n",
              "1                  NaN                  NaN                     NaN   \n",
              "\n",
              "   estimated_generation_gwh  \n",
              "0                       NaN  \n",
              "1                       NaN  \n",
              "\n",
              "[2 rows x 27 columns]"
            ],
            "text/html": [
              "\n",
              "  <div id=\"df-e5cc5b3b-85d3-4484-b732-3e1b2c5f90a6\">\n",
              "    <div class=\"colab-df-container\">\n",
              "      <div>\n",
              "<style scoped>\n",
              "    .dataframe tbody tr th:only-of-type {\n",
              "        vertical-align: middle;\n",
              "    }\n",
              "\n",
              "    .dataframe tbody tr th {\n",
              "        vertical-align: top;\n",
              "    }\n",
              "\n",
              "    .dataframe thead th {\n",
              "        text-align: right;\n",
              "    }\n",
              "</style>\n",
              "<table border=\"1\" class=\"dataframe\">\n",
              "  <thead>\n",
              "    <tr style=\"text-align: right;\">\n",
              "      <th></th>\n",
              "      <th>country</th>\n",
              "      <th>country_long</th>\n",
              "      <th>name</th>\n",
              "      <th>gppd_idnr</th>\n",
              "      <th>capacity_mw</th>\n",
              "      <th>latitude</th>\n",
              "      <th>longitude</th>\n",
              "      <th>primary_fuel</th>\n",
              "      <th>other_fuel1</th>\n",
              "      <th>other_fuel2</th>\n",
              "      <th>...</th>\n",
              "      <th>year_of_capacity_data</th>\n",
              "      <th>generation_gwh_2013</th>\n",
              "      <th>generation_gwh_2014</th>\n",
              "      <th>generation_gwh_2015</th>\n",
              "      <th>generation_gwh_2016</th>\n",
              "      <th>generation_gwh_2017</th>\n",
              "      <th>generation_gwh_2018</th>\n",
              "      <th>generation_gwh_2019</th>\n",
              "      <th>generation_data_source</th>\n",
              "      <th>estimated_generation_gwh</th>\n",
              "    </tr>\n",
              "  </thead>\n",
              "  <tbody>\n",
              "    <tr>\n",
              "      <th>0</th>\n",
              "      <td>IND</td>\n",
              "      <td>India</td>\n",
              "      <td>ACME Solar Tower</td>\n",
              "      <td>WRI1020239</td>\n",
              "      <td>2.5</td>\n",
              "      <td>28.1839</td>\n",
              "      <td>73.2407</td>\n",
              "      <td>Solar</td>\n",
              "      <td>NaN</td>\n",
              "      <td>NaN</td>\n",
              "      <td>...</td>\n",
              "      <td>NaN</td>\n",
              "      <td>NaN</td>\n",
              "      <td>NaN</td>\n",
              "      <td>NaN</td>\n",
              "      <td>NaN</td>\n",
              "      <td>NaN</td>\n",
              "      <td>NaN</td>\n",
              "      <td>NaN</td>\n",
              "      <td>NaN</td>\n",
              "      <td>NaN</td>\n",
              "    </tr>\n",
              "    <tr>\n",
              "      <th>1</th>\n",
              "      <td>IND</td>\n",
              "      <td>India</td>\n",
              "      <td>ADITYA CEMENT WORKS</td>\n",
              "      <td>WRI1019881</td>\n",
              "      <td>98.0</td>\n",
              "      <td>24.7663</td>\n",
              "      <td>74.6090</td>\n",
              "      <td>Coal</td>\n",
              "      <td>NaN</td>\n",
              "      <td>NaN</td>\n",
              "      <td>...</td>\n",
              "      <td>NaN</td>\n",
              "      <td>NaN</td>\n",
              "      <td>NaN</td>\n",
              "      <td>NaN</td>\n",
              "      <td>NaN</td>\n",
              "      <td>NaN</td>\n",
              "      <td>NaN</td>\n",
              "      <td>NaN</td>\n",
              "      <td>NaN</td>\n",
              "      <td>NaN</td>\n",
              "    </tr>\n",
              "  </tbody>\n",
              "</table>\n",
              "<p>2 rows × 27 columns</p>\n",
              "</div>\n",
              "      <button class=\"colab-df-convert\" onclick=\"convertToInteractive('df-e5cc5b3b-85d3-4484-b732-3e1b2c5f90a6')\"\n",
              "              title=\"Convert this dataframe to an interactive table.\"\n",
              "              style=\"display:none;\">\n",
              "        \n",
              "  <svg xmlns=\"http://www.w3.org/2000/svg\" height=\"24px\"viewBox=\"0 0 24 24\"\n",
              "       width=\"24px\">\n",
              "    <path d=\"M0 0h24v24H0V0z\" fill=\"none\"/>\n",
              "    <path d=\"M18.56 5.44l.94 2.06.94-2.06 2.06-.94-2.06-.94-.94-2.06-.94 2.06-2.06.94zm-11 1L8.5 8.5l.94-2.06 2.06-.94-2.06-.94L8.5 2.5l-.94 2.06-2.06.94zm10 10l.94 2.06.94-2.06 2.06-.94-2.06-.94-.94-2.06-.94 2.06-2.06.94z\"/><path d=\"M17.41 7.96l-1.37-1.37c-.4-.4-.92-.59-1.43-.59-.52 0-1.04.2-1.43.59L10.3 9.45l-7.72 7.72c-.78.78-.78 2.05 0 2.83L4 21.41c.39.39.9.59 1.41.59.51 0 1.02-.2 1.41-.59l7.78-7.78 2.81-2.81c.8-.78.8-2.07 0-2.86zM5.41 20L4 18.59l7.72-7.72 1.47 1.35L5.41 20z\"/>\n",
              "  </svg>\n",
              "      </button>\n",
              "      \n",
              "  <style>\n",
              "    .colab-df-container {\n",
              "      display:flex;\n",
              "      flex-wrap:wrap;\n",
              "      gap: 12px;\n",
              "    }\n",
              "\n",
              "    .colab-df-convert {\n",
              "      background-color: #E8F0FE;\n",
              "      border: none;\n",
              "      border-radius: 50%;\n",
              "      cursor: pointer;\n",
              "      display: none;\n",
              "      fill: #1967D2;\n",
              "      height: 32px;\n",
              "      padding: 0 0 0 0;\n",
              "      width: 32px;\n",
              "    }\n",
              "\n",
              "    .colab-df-convert:hover {\n",
              "      background-color: #E2EBFA;\n",
              "      box-shadow: 0px 1px 2px rgba(60, 64, 67, 0.3), 0px 1px 3px 1px rgba(60, 64, 67, 0.15);\n",
              "      fill: #174EA6;\n",
              "    }\n",
              "\n",
              "    [theme=dark] .colab-df-convert {\n",
              "      background-color: #3B4455;\n",
              "      fill: #D2E3FC;\n",
              "    }\n",
              "\n",
              "    [theme=dark] .colab-df-convert:hover {\n",
              "      background-color: #434B5C;\n",
              "      box-shadow: 0px 1px 3px 1px rgba(0, 0, 0, 0.15);\n",
              "      filter: drop-shadow(0px 1px 2px rgba(0, 0, 0, 0.3));\n",
              "      fill: #FFFFFF;\n",
              "    }\n",
              "  </style>\n",
              "\n",
              "      <script>\n",
              "        const buttonEl =\n",
              "          document.querySelector('#df-e5cc5b3b-85d3-4484-b732-3e1b2c5f90a6 button.colab-df-convert');\n",
              "        buttonEl.style.display =\n",
              "          google.colab.kernel.accessAllowed ? 'block' : 'none';\n",
              "\n",
              "        async function convertToInteractive(key) {\n",
              "          const element = document.querySelector('#df-e5cc5b3b-85d3-4484-b732-3e1b2c5f90a6');\n",
              "          const dataTable =\n",
              "            await google.colab.kernel.invokeFunction('convertToInteractive',\n",
              "                                                     [key], {});\n",
              "          if (!dataTable) return;\n",
              "\n",
              "          const docLinkHtml = 'Like what you see? Visit the ' +\n",
              "            '<a target=\"_blank\" href=https://colab.research.google.com/notebooks/data_table.ipynb>data table notebook</a>'\n",
              "            + ' to learn more about interactive tables.';\n",
              "          element.innerHTML = '';\n",
              "          dataTable['output_type'] = 'display_data';\n",
              "          await google.colab.output.renderOutput(dataTable, element);\n",
              "          const docLink = document.createElement('div');\n",
              "          docLink.innerHTML = docLinkHtml;\n",
              "          element.appendChild(docLink);\n",
              "        }\n",
              "      </script>\n",
              "    </div>\n",
              "  </div>\n",
              "  "
            ]
          },
          "metadata": {},
          "execution_count": 419
        }
      ]
    },
    {
      "cell_type": "code",
      "source": [
        "Global_power.isna().sum()"
      ],
      "metadata": {
        "colab": {
          "base_uri": "https://localhost:8080/"
        },
        "id": "YQHuZIf9HuOt",
        "outputId": "3ee8e6ed-b509-4e00-c35a-786a69e11e63"
      },
      "execution_count": 420,
      "outputs": [
        {
          "output_type": "execute_result",
          "data": {
            "text/plain": [
              "country                       0\n",
              "country_long                  0\n",
              "name                          0\n",
              "gppd_idnr                     0\n",
              "capacity_mw                   0\n",
              "latitude                     46\n",
              "longitude                    46\n",
              "primary_fuel                  0\n",
              "other_fuel1                 709\n",
              "other_fuel2                 906\n",
              "other_fuel3                 907\n",
              "commissioning_year          380\n",
              "owner                       565\n",
              "source                        0\n",
              "url                           0\n",
              "geolocation_source           19\n",
              "wepp_id                     907\n",
              "year_of_capacity_data       388\n",
              "generation_gwh_2013         907\n",
              "generation_gwh_2014         509\n",
              "generation_gwh_2015         485\n",
              "generation_gwh_2016         473\n",
              "generation_gwh_2017         467\n",
              "generation_gwh_2018         459\n",
              "generation_gwh_2019         907\n",
              "generation_data_source      458\n",
              "estimated_generation_gwh    907\n",
              "dtype: int64"
            ]
          },
          "metadata": {},
          "execution_count": 420
        }
      ]
    },
    {
      "cell_type": "code",
      "source": [
        "## these columns are completely empty or have same value for every column\n",
        "Global_power.drop(['country','country_long','name','other_fuel3','wepp_id','generation_gwh_2013','generation_gwh_2019','commissioning_year','estimated_generation_gwh'],axis=1, inplace=True)"
      ],
      "metadata": {
        "id": "MDL4eA5dO9WF"
      },
      "execution_count": 421,
      "outputs": []
    },
    {
      "cell_type": "code",
      "source": [
        "Global_power[5:8]"
      ],
      "metadata": {
        "colab": {
          "base_uri": "https://localhost:8080/",
          "height": 312
        },
        "id": "dG2bxSwHRmic",
        "outputId": "d34ca7be-709c-4c16-8bde-fdf59845b4c3"
      },
      "execution_count": 422,
      "outputs": [
        {
          "output_type": "execute_result",
          "data": {
            "text/plain": [
              "    gppd_idnr  capacity_mw  latitude  longitude primary_fuel other_fuel1  \\\n",
              "5  IND0000003        250.0   23.7689    68.6447         Coal         Oil   \n",
              "6  IND0000004         60.0   10.4547    77.0078        Hydro         NaN   \n",
              "7  IND0000005        192.0   32.2258    77.2070        Hydro         NaN   \n",
              "\n",
              "  other_fuel2 owner                         source                     url  \\\n",
              "5         NaN   NaN  Central Electricity Authority  http://www.cea.nic.in/   \n",
              "6         NaN   NaN  Central Electricity Authority  http://www.cea.nic.in/   \n",
              "7         NaN   NaN  Central Electricity Authority  http://www.cea.nic.in/   \n",
              "\n",
              "  geolocation_source  year_of_capacity_data  generation_gwh_2014  \\\n",
              "5                WRI                 2019.0           1153.42100   \n",
              "6                WRI                 2019.0            157.55825   \n",
              "7                WRI                 2019.0            674.39110   \n",
              "\n",
              "   generation_gwh_2015  generation_gwh_2016  generation_gwh_2017  \\\n",
              "5            1208.8520           1175.76500           1147.91300   \n",
              "6             152.1952             61.42135             89.62960   \n",
              "7             721.3352            675.72440            679.59495   \n",
              "\n",
              "   generation_gwh_2018         generation_data_source  \n",
              "5            976.65500  Central Electricity Authority  \n",
              "6             48.32715  Central Electricity Authority  \n",
              "7            579.31885  Central Electricity Authority  "
            ],
            "text/html": [
              "\n",
              "  <div id=\"df-af272658-b84e-4612-ba79-9fe5f17d0a84\">\n",
              "    <div class=\"colab-df-container\">\n",
              "      <div>\n",
              "<style scoped>\n",
              "    .dataframe tbody tr th:only-of-type {\n",
              "        vertical-align: middle;\n",
              "    }\n",
              "\n",
              "    .dataframe tbody tr th {\n",
              "        vertical-align: top;\n",
              "    }\n",
              "\n",
              "    .dataframe thead th {\n",
              "        text-align: right;\n",
              "    }\n",
              "</style>\n",
              "<table border=\"1\" class=\"dataframe\">\n",
              "  <thead>\n",
              "    <tr style=\"text-align: right;\">\n",
              "      <th></th>\n",
              "      <th>gppd_idnr</th>\n",
              "      <th>capacity_mw</th>\n",
              "      <th>latitude</th>\n",
              "      <th>longitude</th>\n",
              "      <th>primary_fuel</th>\n",
              "      <th>other_fuel1</th>\n",
              "      <th>other_fuel2</th>\n",
              "      <th>owner</th>\n",
              "      <th>source</th>\n",
              "      <th>url</th>\n",
              "      <th>geolocation_source</th>\n",
              "      <th>year_of_capacity_data</th>\n",
              "      <th>generation_gwh_2014</th>\n",
              "      <th>generation_gwh_2015</th>\n",
              "      <th>generation_gwh_2016</th>\n",
              "      <th>generation_gwh_2017</th>\n",
              "      <th>generation_gwh_2018</th>\n",
              "      <th>generation_data_source</th>\n",
              "    </tr>\n",
              "  </thead>\n",
              "  <tbody>\n",
              "    <tr>\n",
              "      <th>5</th>\n",
              "      <td>IND0000003</td>\n",
              "      <td>250.0</td>\n",
              "      <td>23.7689</td>\n",
              "      <td>68.6447</td>\n",
              "      <td>Coal</td>\n",
              "      <td>Oil</td>\n",
              "      <td>NaN</td>\n",
              "      <td>NaN</td>\n",
              "      <td>Central Electricity Authority</td>\n",
              "      <td>http://www.cea.nic.in/</td>\n",
              "      <td>WRI</td>\n",
              "      <td>2019.0</td>\n",
              "      <td>1153.42100</td>\n",
              "      <td>1208.8520</td>\n",
              "      <td>1175.76500</td>\n",
              "      <td>1147.91300</td>\n",
              "      <td>976.65500</td>\n",
              "      <td>Central Electricity Authority</td>\n",
              "    </tr>\n",
              "    <tr>\n",
              "      <th>6</th>\n",
              "      <td>IND0000004</td>\n",
              "      <td>60.0</td>\n",
              "      <td>10.4547</td>\n",
              "      <td>77.0078</td>\n",
              "      <td>Hydro</td>\n",
              "      <td>NaN</td>\n",
              "      <td>NaN</td>\n",
              "      <td>NaN</td>\n",
              "      <td>Central Electricity Authority</td>\n",
              "      <td>http://www.cea.nic.in/</td>\n",
              "      <td>WRI</td>\n",
              "      <td>2019.0</td>\n",
              "      <td>157.55825</td>\n",
              "      <td>152.1952</td>\n",
              "      <td>61.42135</td>\n",
              "      <td>89.62960</td>\n",
              "      <td>48.32715</td>\n",
              "      <td>Central Electricity Authority</td>\n",
              "    </tr>\n",
              "    <tr>\n",
              "      <th>7</th>\n",
              "      <td>IND0000005</td>\n",
              "      <td>192.0</td>\n",
              "      <td>32.2258</td>\n",
              "      <td>77.2070</td>\n",
              "      <td>Hydro</td>\n",
              "      <td>NaN</td>\n",
              "      <td>NaN</td>\n",
              "      <td>NaN</td>\n",
              "      <td>Central Electricity Authority</td>\n",
              "      <td>http://www.cea.nic.in/</td>\n",
              "      <td>WRI</td>\n",
              "      <td>2019.0</td>\n",
              "      <td>674.39110</td>\n",
              "      <td>721.3352</td>\n",
              "      <td>675.72440</td>\n",
              "      <td>679.59495</td>\n",
              "      <td>579.31885</td>\n",
              "      <td>Central Electricity Authority</td>\n",
              "    </tr>\n",
              "  </tbody>\n",
              "</table>\n",
              "</div>\n",
              "      <button class=\"colab-df-convert\" onclick=\"convertToInteractive('df-af272658-b84e-4612-ba79-9fe5f17d0a84')\"\n",
              "              title=\"Convert this dataframe to an interactive table.\"\n",
              "              style=\"display:none;\">\n",
              "        \n",
              "  <svg xmlns=\"http://www.w3.org/2000/svg\" height=\"24px\"viewBox=\"0 0 24 24\"\n",
              "       width=\"24px\">\n",
              "    <path d=\"M0 0h24v24H0V0z\" fill=\"none\"/>\n",
              "    <path d=\"M18.56 5.44l.94 2.06.94-2.06 2.06-.94-2.06-.94-.94-2.06-.94 2.06-2.06.94zm-11 1L8.5 8.5l.94-2.06 2.06-.94-2.06-.94L8.5 2.5l-.94 2.06-2.06.94zm10 10l.94 2.06.94-2.06 2.06-.94-2.06-.94-.94-2.06-.94 2.06-2.06.94z\"/><path d=\"M17.41 7.96l-1.37-1.37c-.4-.4-.92-.59-1.43-.59-.52 0-1.04.2-1.43.59L10.3 9.45l-7.72 7.72c-.78.78-.78 2.05 0 2.83L4 21.41c.39.39.9.59 1.41.59.51 0 1.02-.2 1.41-.59l7.78-7.78 2.81-2.81c.8-.78.8-2.07 0-2.86zM5.41 20L4 18.59l7.72-7.72 1.47 1.35L5.41 20z\"/>\n",
              "  </svg>\n",
              "      </button>\n",
              "      \n",
              "  <style>\n",
              "    .colab-df-container {\n",
              "      display:flex;\n",
              "      flex-wrap:wrap;\n",
              "      gap: 12px;\n",
              "    }\n",
              "\n",
              "    .colab-df-convert {\n",
              "      background-color: #E8F0FE;\n",
              "      border: none;\n",
              "      border-radius: 50%;\n",
              "      cursor: pointer;\n",
              "      display: none;\n",
              "      fill: #1967D2;\n",
              "      height: 32px;\n",
              "      padding: 0 0 0 0;\n",
              "      width: 32px;\n",
              "    }\n",
              "\n",
              "    .colab-df-convert:hover {\n",
              "      background-color: #E2EBFA;\n",
              "      box-shadow: 0px 1px 2px rgba(60, 64, 67, 0.3), 0px 1px 3px 1px rgba(60, 64, 67, 0.15);\n",
              "      fill: #174EA6;\n",
              "    }\n",
              "\n",
              "    [theme=dark] .colab-df-convert {\n",
              "      background-color: #3B4455;\n",
              "      fill: #D2E3FC;\n",
              "    }\n",
              "\n",
              "    [theme=dark] .colab-df-convert:hover {\n",
              "      background-color: #434B5C;\n",
              "      box-shadow: 0px 1px 3px 1px rgba(0, 0, 0, 0.15);\n",
              "      filter: drop-shadow(0px 1px 2px rgba(0, 0, 0, 0.3));\n",
              "      fill: #FFFFFF;\n",
              "    }\n",
              "  </style>\n",
              "\n",
              "      <script>\n",
              "        const buttonEl =\n",
              "          document.querySelector('#df-af272658-b84e-4612-ba79-9fe5f17d0a84 button.colab-df-convert');\n",
              "        buttonEl.style.display =\n",
              "          google.colab.kernel.accessAllowed ? 'block' : 'none';\n",
              "\n",
              "        async function convertToInteractive(key) {\n",
              "          const element = document.querySelector('#df-af272658-b84e-4612-ba79-9fe5f17d0a84');\n",
              "          const dataTable =\n",
              "            await google.colab.kernel.invokeFunction('convertToInteractive',\n",
              "                                                     [key], {});\n",
              "          if (!dataTable) return;\n",
              "\n",
              "          const docLinkHtml = 'Like what you see? Visit the ' +\n",
              "            '<a target=\"_blank\" href=https://colab.research.google.com/notebooks/data_table.ipynb>data table notebook</a>'\n",
              "            + ' to learn more about interactive tables.';\n",
              "          element.innerHTML = '';\n",
              "          dataTable['output_type'] = 'display_data';\n",
              "          await google.colab.output.renderOutput(dataTable, element);\n",
              "          const docLink = document.createElement('div');\n",
              "          docLink.innerHTML = docLinkHtml;\n",
              "          element.appendChild(docLink);\n",
              "        }\n",
              "      </script>\n",
              "    </div>\n",
              "  </div>\n",
              "  "
            ]
          },
          "metadata": {},
          "execution_count": 422
        }
      ]
    },
    {
      "cell_type": "code",
      "source": [
        "# url , owner, source has same type of in formation\n",
        "Global_power.drop(['url','year_of_capacity_data','owner','source'],axis=1,inplace=True)"
      ],
      "metadata": {
        "id": "uE-vdaThXOEB"
      },
      "execution_count": 423,
      "outputs": []
    },
    {
      "cell_type": "code",
      "source": [
        "## marking missing values as unknown\n",
        "Global_power['other_fuel1'].fillna(\"unknown\",inplace=True)\n",
        "Global_power['other_fuel2'].fillna(\"unknown\",inplace=True)\n",
        "Global_power['generation_data_source'].fillna(\"unknown\",inplace=True)\n",
        "Global_power['geolocation_source'].fillna(\"unknown\",inplace=True)"
      ],
      "metadata": {
        "id": "wyCboCqMasck"
      },
      "execution_count": 424,
      "outputs": []
    },
    {
      "cell_type": "code",
      "source": [
        "for i in range(len(Global_power['gppd_idnr'])):\n",
        "  Global_power['gppd_idnr'][i]=Global_power['gppd_idnr'][i][3:]\n"
      ],
      "metadata": {
        "id": "PwPqbO4gndNQ"
      },
      "execution_count": 425,
      "outputs": []
    },
    {
      "cell_type": "code",
      "source": [
        "Global_power.columns"
      ],
      "metadata": {
        "colab": {
          "base_uri": "https://localhost:8080/"
        },
        "id": "M3AUWH1fs1Fh",
        "outputId": "4364e61c-349d-4a20-ef9f-1b33547d9370"
      },
      "execution_count": 426,
      "outputs": [
        {
          "output_type": "execute_result",
          "data": {
            "text/plain": [
              "Index(['gppd_idnr', 'capacity_mw', 'latitude', 'longitude', 'primary_fuel',\n",
              "       'other_fuel1', 'other_fuel2', 'geolocation_source',\n",
              "       'generation_gwh_2014', 'generation_gwh_2015', 'generation_gwh_2016',\n",
              "       'generation_gwh_2017', 'generation_gwh_2018', 'generation_data_source'],\n",
              "      dtype='object')"
            ]
          },
          "metadata": {},
          "execution_count": 426
        }
      ]
    },
    {
      "cell_type": "code",
      "source": [
        "# Convert all non-numeric values to number\n",
        "column=[ 'primary_fuel',\n",
        "       'other_fuel1', 'other_fuel2',\n",
        "       'geolocation_source','generation_data_source']\n",
        "\n",
        "# import LabelEncoder\n",
        "from sklearn.preprocessing import LabelEncoder\n",
        "for col in column:\n",
        "    le =LabelEncoder()\n",
        "    Global_power[col]=le.fit_transform(Global_power[col].astype('str'))\n",
        "    le_name_mapping = dict(zip(le.classes_, le.transform(le.classes_)))\n",
        "    print(le_name_mapping)\n",
        "Global_power.dtypes"
      ],
      "metadata": {
        "colab": {
          "base_uri": "https://localhost:8080/"
        },
        "id": "C74KHXKNszJf",
        "outputId": "a9bb2ebb-e25a-4f7b-aa66-7adaefc85cef"
      },
      "execution_count": 427,
      "outputs": [
        {
          "output_type": "stream",
          "name": "stdout",
          "text": [
            "{'Biomass': 0, 'Coal': 1, 'Gas': 2, 'Hydro': 3, 'Nuclear': 4, 'Oil': 5, 'Solar': 6, 'Wind': 7}\n",
            "{'Cogeneration': 0, 'Gas': 1, 'Oil': 2, 'unknown': 3}\n",
            "{'Oil': 0, 'unknown': 1}\n",
            "{'Industry About': 0, 'National Renewable Energy Laboratory': 1, 'WRI': 2, 'unknown': 3}\n",
            "{'Central Electricity Authority': 0, 'unknown': 1}\n"
          ]
        },
        {
          "output_type": "execute_result",
          "data": {
            "text/plain": [
              "gppd_idnr                  object\n",
              "capacity_mw               float64\n",
              "latitude                  float64\n",
              "longitude                 float64\n",
              "primary_fuel                int64\n",
              "other_fuel1                 int64\n",
              "other_fuel2                 int64\n",
              "geolocation_source          int64\n",
              "generation_gwh_2014       float64\n",
              "generation_gwh_2015       float64\n",
              "generation_gwh_2016       float64\n",
              "generation_gwh_2017       float64\n",
              "generation_gwh_2018       float64\n",
              "generation_data_source      int64\n",
              "dtype: object"
            ]
          },
          "metadata": {},
          "execution_count": 427
        }
      ]
    },
    {
      "cell_type": "code",
      "source": [
        "Global_power.drop(['latitude','longitude'],axis=1,inplace=True)\n",
        "# importing the Iterative Imputer from fancyimpute library\n",
        "from fancyimpute import IterativeImputer\n",
        "# calling the  MICE class\n",
        "mice_imputer = IterativeImputer(max_iter=10,random_state=5)\n",
        "mice_imputer.fit(Global_power)\n",
        "Global_power[:]=mice_imputer.transform(Global_power)"
      ],
      "metadata": {
        "id": "5_k5Duo6Ywu-"
      },
      "execution_count": 428,
      "outputs": []
    },
    {
      "cell_type": "code",
      "source": [
        "Global_power"
      ],
      "metadata": {
        "colab": {
          "base_uri": "https://localhost:8080/",
          "height": 488
        },
        "id": "3AifRPHUgHkK",
        "outputId": "4f15050a-e706-4ba3-f2dc-5aae64a072f7"
      },
      "execution_count": 429,
      "outputs": [
        {
          "output_type": "execute_result",
          "data": {
            "text/plain": [
              "     gppd_idnr  capacity_mw  primary_fuel  other_fuel1  other_fuel2  \\\n",
              "0    1020239.0          2.5           6.0          3.0          1.0   \n",
              "1    1019881.0         98.0           1.0          3.0          1.0   \n",
              "2    1026669.0         39.2           7.0          3.0          1.0   \n",
              "3          1.0        135.0           2.0          3.0          1.0   \n",
              "4          2.0       1800.0           1.0          2.0          1.0   \n",
              "..         ...          ...           ...          ...          ...   \n",
              "902      513.0       1600.0           1.0          2.0          1.0   \n",
              "903  1026222.0          3.0           6.0          3.0          1.0   \n",
              "904  1026776.0         25.5           7.0          3.0          1.0   \n",
              "905  1019901.0         80.0           1.0          3.0          1.0   \n",
              "906  1026761.0         16.5           7.0          3.0          1.0   \n",
              "\n",
              "     geolocation_source  generation_gwh_2014  generation_gwh_2015  \\\n",
              "0                   1.0        -95739.819714       -497730.716285   \n",
              "1                   2.0        -95561.768130       -497404.511630   \n",
              "2                   2.0        -96296.152348       -500818.830595   \n",
              "3                   2.0           617.789264           843.747000   \n",
              "4                   2.0          3035.550000          5916.370000   \n",
              "..                  ...                  ...                  ...   \n",
              "902                 2.0           522.961300             0.994875   \n",
              "903                 0.0        -96308.231890       -500657.391023   \n",
              "904                 2.0        -96326.993268       -500892.858549   \n",
              "905                 2.0        -95590.817827       -497442.773239   \n",
              "906                 2.0        -96339.139852       -500899.756921   \n",
              "\n",
              "     generation_gwh_2016  generation_gwh_2017  generation_gwh_2018  \\\n",
              "0         -796333.679679       -603744.075885       -593225.850459   \n",
              "1         -795865.697521       -603309.891216       -592759.204507   \n",
              "2         -801288.975509       -607471.541986       -596872.211302   \n",
              "3             886.004428           663.774500           626.239128   \n",
              "4            6243.000000          5385.579736          7279.000000   \n",
              "..                   ...                  ...                  ...   \n",
              "902           233.596650           865.400000           686.500000   \n",
              "903       -801010.779522       -607290.618935       -596709.694641   \n",
              "904       -801399.623250       -607566.826833       -596971.574955   \n",
              "905       -795916.789995       -603363.581022       -592819.513163   \n",
              "906       -801405.622084       -607578.847630       -596987.166372   \n",
              "\n",
              "     generation_data_source  \n",
              "0                       1.0  \n",
              "1                       1.0  \n",
              "2                       1.0  \n",
              "3                       0.0  \n",
              "4                       0.0  \n",
              "..                      ...  \n",
              "902                     0.0  \n",
              "903                     1.0  \n",
              "904                     1.0  \n",
              "905                     1.0  \n",
              "906                     1.0  \n",
              "\n",
              "[907 rows x 12 columns]"
            ],
            "text/html": [
              "\n",
              "  <div id=\"df-0b7a0077-14dc-4bad-8375-231dda4ed000\">\n",
              "    <div class=\"colab-df-container\">\n",
              "      <div>\n",
              "<style scoped>\n",
              "    .dataframe tbody tr th:only-of-type {\n",
              "        vertical-align: middle;\n",
              "    }\n",
              "\n",
              "    .dataframe tbody tr th {\n",
              "        vertical-align: top;\n",
              "    }\n",
              "\n",
              "    .dataframe thead th {\n",
              "        text-align: right;\n",
              "    }\n",
              "</style>\n",
              "<table border=\"1\" class=\"dataframe\">\n",
              "  <thead>\n",
              "    <tr style=\"text-align: right;\">\n",
              "      <th></th>\n",
              "      <th>gppd_idnr</th>\n",
              "      <th>capacity_mw</th>\n",
              "      <th>primary_fuel</th>\n",
              "      <th>other_fuel1</th>\n",
              "      <th>other_fuel2</th>\n",
              "      <th>geolocation_source</th>\n",
              "      <th>generation_gwh_2014</th>\n",
              "      <th>generation_gwh_2015</th>\n",
              "      <th>generation_gwh_2016</th>\n",
              "      <th>generation_gwh_2017</th>\n",
              "      <th>generation_gwh_2018</th>\n",
              "      <th>generation_data_source</th>\n",
              "    </tr>\n",
              "  </thead>\n",
              "  <tbody>\n",
              "    <tr>\n",
              "      <th>0</th>\n",
              "      <td>1020239.0</td>\n",
              "      <td>2.5</td>\n",
              "      <td>6.0</td>\n",
              "      <td>3.0</td>\n",
              "      <td>1.0</td>\n",
              "      <td>1.0</td>\n",
              "      <td>-95739.819714</td>\n",
              "      <td>-497730.716285</td>\n",
              "      <td>-796333.679679</td>\n",
              "      <td>-603744.075885</td>\n",
              "      <td>-593225.850459</td>\n",
              "      <td>1.0</td>\n",
              "    </tr>\n",
              "    <tr>\n",
              "      <th>1</th>\n",
              "      <td>1019881.0</td>\n",
              "      <td>98.0</td>\n",
              "      <td>1.0</td>\n",
              "      <td>3.0</td>\n",
              "      <td>1.0</td>\n",
              "      <td>2.0</td>\n",
              "      <td>-95561.768130</td>\n",
              "      <td>-497404.511630</td>\n",
              "      <td>-795865.697521</td>\n",
              "      <td>-603309.891216</td>\n",
              "      <td>-592759.204507</td>\n",
              "      <td>1.0</td>\n",
              "    </tr>\n",
              "    <tr>\n",
              "      <th>2</th>\n",
              "      <td>1026669.0</td>\n",
              "      <td>39.2</td>\n",
              "      <td>7.0</td>\n",
              "      <td>3.0</td>\n",
              "      <td>1.0</td>\n",
              "      <td>2.0</td>\n",
              "      <td>-96296.152348</td>\n",
              "      <td>-500818.830595</td>\n",
              "      <td>-801288.975509</td>\n",
              "      <td>-607471.541986</td>\n",
              "      <td>-596872.211302</td>\n",
              "      <td>1.0</td>\n",
              "    </tr>\n",
              "    <tr>\n",
              "      <th>3</th>\n",
              "      <td>1.0</td>\n",
              "      <td>135.0</td>\n",
              "      <td>2.0</td>\n",
              "      <td>3.0</td>\n",
              "      <td>1.0</td>\n",
              "      <td>2.0</td>\n",
              "      <td>617.789264</td>\n",
              "      <td>843.747000</td>\n",
              "      <td>886.004428</td>\n",
              "      <td>663.774500</td>\n",
              "      <td>626.239128</td>\n",
              "      <td>0.0</td>\n",
              "    </tr>\n",
              "    <tr>\n",
              "      <th>4</th>\n",
              "      <td>2.0</td>\n",
              "      <td>1800.0</td>\n",
              "      <td>1.0</td>\n",
              "      <td>2.0</td>\n",
              "      <td>1.0</td>\n",
              "      <td>2.0</td>\n",
              "      <td>3035.550000</td>\n",
              "      <td>5916.370000</td>\n",
              "      <td>6243.000000</td>\n",
              "      <td>5385.579736</td>\n",
              "      <td>7279.000000</td>\n",
              "      <td>0.0</td>\n",
              "    </tr>\n",
              "    <tr>\n",
              "      <th>...</th>\n",
              "      <td>...</td>\n",
              "      <td>...</td>\n",
              "      <td>...</td>\n",
              "      <td>...</td>\n",
              "      <td>...</td>\n",
              "      <td>...</td>\n",
              "      <td>...</td>\n",
              "      <td>...</td>\n",
              "      <td>...</td>\n",
              "      <td>...</td>\n",
              "      <td>...</td>\n",
              "      <td>...</td>\n",
              "    </tr>\n",
              "    <tr>\n",
              "      <th>902</th>\n",
              "      <td>513.0</td>\n",
              "      <td>1600.0</td>\n",
              "      <td>1.0</td>\n",
              "      <td>2.0</td>\n",
              "      <td>1.0</td>\n",
              "      <td>2.0</td>\n",
              "      <td>522.961300</td>\n",
              "      <td>0.994875</td>\n",
              "      <td>233.596650</td>\n",
              "      <td>865.400000</td>\n",
              "      <td>686.500000</td>\n",
              "      <td>0.0</td>\n",
              "    </tr>\n",
              "    <tr>\n",
              "      <th>903</th>\n",
              "      <td>1026222.0</td>\n",
              "      <td>3.0</td>\n",
              "      <td>6.0</td>\n",
              "      <td>3.0</td>\n",
              "      <td>1.0</td>\n",
              "      <td>0.0</td>\n",
              "      <td>-96308.231890</td>\n",
              "      <td>-500657.391023</td>\n",
              "      <td>-801010.779522</td>\n",
              "      <td>-607290.618935</td>\n",
              "      <td>-596709.694641</td>\n",
              "      <td>1.0</td>\n",
              "    </tr>\n",
              "    <tr>\n",
              "      <th>904</th>\n",
              "      <td>1026776.0</td>\n",
              "      <td>25.5</td>\n",
              "      <td>7.0</td>\n",
              "      <td>3.0</td>\n",
              "      <td>1.0</td>\n",
              "      <td>2.0</td>\n",
              "      <td>-96326.993268</td>\n",
              "      <td>-500892.858549</td>\n",
              "      <td>-801399.623250</td>\n",
              "      <td>-607566.826833</td>\n",
              "      <td>-596971.574955</td>\n",
              "      <td>1.0</td>\n",
              "    </tr>\n",
              "    <tr>\n",
              "      <th>905</th>\n",
              "      <td>1019901.0</td>\n",
              "      <td>80.0</td>\n",
              "      <td>1.0</td>\n",
              "      <td>3.0</td>\n",
              "      <td>1.0</td>\n",
              "      <td>2.0</td>\n",
              "      <td>-95590.817827</td>\n",
              "      <td>-497442.773239</td>\n",
              "      <td>-795916.789995</td>\n",
              "      <td>-603363.581022</td>\n",
              "      <td>-592819.513163</td>\n",
              "      <td>1.0</td>\n",
              "    </tr>\n",
              "    <tr>\n",
              "      <th>906</th>\n",
              "      <td>1026761.0</td>\n",
              "      <td>16.5</td>\n",
              "      <td>7.0</td>\n",
              "      <td>3.0</td>\n",
              "      <td>1.0</td>\n",
              "      <td>2.0</td>\n",
              "      <td>-96339.139852</td>\n",
              "      <td>-500899.756921</td>\n",
              "      <td>-801405.622084</td>\n",
              "      <td>-607578.847630</td>\n",
              "      <td>-596987.166372</td>\n",
              "      <td>1.0</td>\n",
              "    </tr>\n",
              "  </tbody>\n",
              "</table>\n",
              "<p>907 rows × 12 columns</p>\n",
              "</div>\n",
              "      <button class=\"colab-df-convert\" onclick=\"convertToInteractive('df-0b7a0077-14dc-4bad-8375-231dda4ed000')\"\n",
              "              title=\"Convert this dataframe to an interactive table.\"\n",
              "              style=\"display:none;\">\n",
              "        \n",
              "  <svg xmlns=\"http://www.w3.org/2000/svg\" height=\"24px\"viewBox=\"0 0 24 24\"\n",
              "       width=\"24px\">\n",
              "    <path d=\"M0 0h24v24H0V0z\" fill=\"none\"/>\n",
              "    <path d=\"M18.56 5.44l.94 2.06.94-2.06 2.06-.94-2.06-.94-.94-2.06-.94 2.06-2.06.94zm-11 1L8.5 8.5l.94-2.06 2.06-.94-2.06-.94L8.5 2.5l-.94 2.06-2.06.94zm10 10l.94 2.06.94-2.06 2.06-.94-2.06-.94-.94-2.06-.94 2.06-2.06.94z\"/><path d=\"M17.41 7.96l-1.37-1.37c-.4-.4-.92-.59-1.43-.59-.52 0-1.04.2-1.43.59L10.3 9.45l-7.72 7.72c-.78.78-.78 2.05 0 2.83L4 21.41c.39.39.9.59 1.41.59.51 0 1.02-.2 1.41-.59l7.78-7.78 2.81-2.81c.8-.78.8-2.07 0-2.86zM5.41 20L4 18.59l7.72-7.72 1.47 1.35L5.41 20z\"/>\n",
              "  </svg>\n",
              "      </button>\n",
              "      \n",
              "  <style>\n",
              "    .colab-df-container {\n",
              "      display:flex;\n",
              "      flex-wrap:wrap;\n",
              "      gap: 12px;\n",
              "    }\n",
              "\n",
              "    .colab-df-convert {\n",
              "      background-color: #E8F0FE;\n",
              "      border: none;\n",
              "      border-radius: 50%;\n",
              "      cursor: pointer;\n",
              "      display: none;\n",
              "      fill: #1967D2;\n",
              "      height: 32px;\n",
              "      padding: 0 0 0 0;\n",
              "      width: 32px;\n",
              "    }\n",
              "\n",
              "    .colab-df-convert:hover {\n",
              "      background-color: #E2EBFA;\n",
              "      box-shadow: 0px 1px 2px rgba(60, 64, 67, 0.3), 0px 1px 3px 1px rgba(60, 64, 67, 0.15);\n",
              "      fill: #174EA6;\n",
              "    }\n",
              "\n",
              "    [theme=dark] .colab-df-convert {\n",
              "      background-color: #3B4455;\n",
              "      fill: #D2E3FC;\n",
              "    }\n",
              "\n",
              "    [theme=dark] .colab-df-convert:hover {\n",
              "      background-color: #434B5C;\n",
              "      box-shadow: 0px 1px 3px 1px rgba(0, 0, 0, 0.15);\n",
              "      filter: drop-shadow(0px 1px 2px rgba(0, 0, 0, 0.3));\n",
              "      fill: #FFFFFF;\n",
              "    }\n",
              "  </style>\n",
              "\n",
              "      <script>\n",
              "        const buttonEl =\n",
              "          document.querySelector('#df-0b7a0077-14dc-4bad-8375-231dda4ed000 button.colab-df-convert');\n",
              "        buttonEl.style.display =\n",
              "          google.colab.kernel.accessAllowed ? 'block' : 'none';\n",
              "\n",
              "        async function convertToInteractive(key) {\n",
              "          const element = document.querySelector('#df-0b7a0077-14dc-4bad-8375-231dda4ed000');\n",
              "          const dataTable =\n",
              "            await google.colab.kernel.invokeFunction('convertToInteractive',\n",
              "                                                     [key], {});\n",
              "          if (!dataTable) return;\n",
              "\n",
              "          const docLinkHtml = 'Like what you see? Visit the ' +\n",
              "            '<a target=\"_blank\" href=https://colab.research.google.com/notebooks/data_table.ipynb>data table notebook</a>'\n",
              "            + ' to learn more about interactive tables.';\n",
              "          element.innerHTML = '';\n",
              "          dataTable['output_type'] = 'display_data';\n",
              "          await google.colab.output.renderOutput(dataTable, element);\n",
              "          const docLink = document.createElement('div');\n",
              "          docLink.innerHTML = docLinkHtml;\n",
              "          element.appendChild(docLink);\n",
              "        }\n",
              "      </script>\n",
              "    </div>\n",
              "  </div>\n",
              "  "
            ]
          },
          "metadata": {},
          "execution_count": 429
        }
      ]
    },
    {
      "cell_type": "code",
      "source": [
        "Global_power.drop(['gppd_idnr'],axis=1,inplace=True)"
      ],
      "metadata": {
        "id": "APMfMn0fjEYj"
      },
      "execution_count": 430,
      "outputs": []
    },
    {
      "cell_type": "code",
      "source": [
        "data=Global_power.copy()\n",
        "data"
      ],
      "metadata": {
        "colab": {
          "base_uri": "https://localhost:8080/",
          "height": 488
        },
        "id": "9zdXRQzBdYqv",
        "outputId": "aea55920-f1ed-481c-e564-fe6a9d8cb0a3"
      },
      "execution_count": 431,
      "outputs": [
        {
          "output_type": "execute_result",
          "data": {
            "text/plain": [
              "     capacity_mw  primary_fuel  other_fuel1  other_fuel2  geolocation_source  \\\n",
              "0            2.5           6.0          3.0          1.0                 1.0   \n",
              "1           98.0           1.0          3.0          1.0                 2.0   \n",
              "2           39.2           7.0          3.0          1.0                 2.0   \n",
              "3          135.0           2.0          3.0          1.0                 2.0   \n",
              "4         1800.0           1.0          2.0          1.0                 2.0   \n",
              "..           ...           ...          ...          ...                 ...   \n",
              "902       1600.0           1.0          2.0          1.0                 2.0   \n",
              "903          3.0           6.0          3.0          1.0                 0.0   \n",
              "904         25.5           7.0          3.0          1.0                 2.0   \n",
              "905         80.0           1.0          3.0          1.0                 2.0   \n",
              "906         16.5           7.0          3.0          1.0                 2.0   \n",
              "\n",
              "     generation_gwh_2014  generation_gwh_2015  generation_gwh_2016  \\\n",
              "0          -95739.819714       -497730.716285       -796333.679679   \n",
              "1          -95561.768130       -497404.511630       -795865.697521   \n",
              "2          -96296.152348       -500818.830595       -801288.975509   \n",
              "3             617.789264           843.747000           886.004428   \n",
              "4            3035.550000          5916.370000          6243.000000   \n",
              "..                   ...                  ...                  ...   \n",
              "902           522.961300             0.994875           233.596650   \n",
              "903        -96308.231890       -500657.391023       -801010.779522   \n",
              "904        -96326.993268       -500892.858549       -801399.623250   \n",
              "905        -95590.817827       -497442.773239       -795916.789995   \n",
              "906        -96339.139852       -500899.756921       -801405.622084   \n",
              "\n",
              "     generation_gwh_2017  generation_gwh_2018  generation_data_source  \n",
              "0         -603744.075885       -593225.850459                     1.0  \n",
              "1         -603309.891216       -592759.204507                     1.0  \n",
              "2         -607471.541986       -596872.211302                     1.0  \n",
              "3             663.774500           626.239128                     0.0  \n",
              "4            5385.579736          7279.000000                     0.0  \n",
              "..                   ...                  ...                     ...  \n",
              "902           865.400000           686.500000                     0.0  \n",
              "903       -607290.618935       -596709.694641                     1.0  \n",
              "904       -607566.826833       -596971.574955                     1.0  \n",
              "905       -603363.581022       -592819.513163                     1.0  \n",
              "906       -607578.847630       -596987.166372                     1.0  \n",
              "\n",
              "[907 rows x 11 columns]"
            ],
            "text/html": [
              "\n",
              "  <div id=\"df-68db65f0-c44c-44fb-8542-04f8da3e4c53\">\n",
              "    <div class=\"colab-df-container\">\n",
              "      <div>\n",
              "<style scoped>\n",
              "    .dataframe tbody tr th:only-of-type {\n",
              "        vertical-align: middle;\n",
              "    }\n",
              "\n",
              "    .dataframe tbody tr th {\n",
              "        vertical-align: top;\n",
              "    }\n",
              "\n",
              "    .dataframe thead th {\n",
              "        text-align: right;\n",
              "    }\n",
              "</style>\n",
              "<table border=\"1\" class=\"dataframe\">\n",
              "  <thead>\n",
              "    <tr style=\"text-align: right;\">\n",
              "      <th></th>\n",
              "      <th>capacity_mw</th>\n",
              "      <th>primary_fuel</th>\n",
              "      <th>other_fuel1</th>\n",
              "      <th>other_fuel2</th>\n",
              "      <th>geolocation_source</th>\n",
              "      <th>generation_gwh_2014</th>\n",
              "      <th>generation_gwh_2015</th>\n",
              "      <th>generation_gwh_2016</th>\n",
              "      <th>generation_gwh_2017</th>\n",
              "      <th>generation_gwh_2018</th>\n",
              "      <th>generation_data_source</th>\n",
              "    </tr>\n",
              "  </thead>\n",
              "  <tbody>\n",
              "    <tr>\n",
              "      <th>0</th>\n",
              "      <td>2.5</td>\n",
              "      <td>6.0</td>\n",
              "      <td>3.0</td>\n",
              "      <td>1.0</td>\n",
              "      <td>1.0</td>\n",
              "      <td>-95739.819714</td>\n",
              "      <td>-497730.716285</td>\n",
              "      <td>-796333.679679</td>\n",
              "      <td>-603744.075885</td>\n",
              "      <td>-593225.850459</td>\n",
              "      <td>1.0</td>\n",
              "    </tr>\n",
              "    <tr>\n",
              "      <th>1</th>\n",
              "      <td>98.0</td>\n",
              "      <td>1.0</td>\n",
              "      <td>3.0</td>\n",
              "      <td>1.0</td>\n",
              "      <td>2.0</td>\n",
              "      <td>-95561.768130</td>\n",
              "      <td>-497404.511630</td>\n",
              "      <td>-795865.697521</td>\n",
              "      <td>-603309.891216</td>\n",
              "      <td>-592759.204507</td>\n",
              "      <td>1.0</td>\n",
              "    </tr>\n",
              "    <tr>\n",
              "      <th>2</th>\n",
              "      <td>39.2</td>\n",
              "      <td>7.0</td>\n",
              "      <td>3.0</td>\n",
              "      <td>1.0</td>\n",
              "      <td>2.0</td>\n",
              "      <td>-96296.152348</td>\n",
              "      <td>-500818.830595</td>\n",
              "      <td>-801288.975509</td>\n",
              "      <td>-607471.541986</td>\n",
              "      <td>-596872.211302</td>\n",
              "      <td>1.0</td>\n",
              "    </tr>\n",
              "    <tr>\n",
              "      <th>3</th>\n",
              "      <td>135.0</td>\n",
              "      <td>2.0</td>\n",
              "      <td>3.0</td>\n",
              "      <td>1.0</td>\n",
              "      <td>2.0</td>\n",
              "      <td>617.789264</td>\n",
              "      <td>843.747000</td>\n",
              "      <td>886.004428</td>\n",
              "      <td>663.774500</td>\n",
              "      <td>626.239128</td>\n",
              "      <td>0.0</td>\n",
              "    </tr>\n",
              "    <tr>\n",
              "      <th>4</th>\n",
              "      <td>1800.0</td>\n",
              "      <td>1.0</td>\n",
              "      <td>2.0</td>\n",
              "      <td>1.0</td>\n",
              "      <td>2.0</td>\n",
              "      <td>3035.550000</td>\n",
              "      <td>5916.370000</td>\n",
              "      <td>6243.000000</td>\n",
              "      <td>5385.579736</td>\n",
              "      <td>7279.000000</td>\n",
              "      <td>0.0</td>\n",
              "    </tr>\n",
              "    <tr>\n",
              "      <th>...</th>\n",
              "      <td>...</td>\n",
              "      <td>...</td>\n",
              "      <td>...</td>\n",
              "      <td>...</td>\n",
              "      <td>...</td>\n",
              "      <td>...</td>\n",
              "      <td>...</td>\n",
              "      <td>...</td>\n",
              "      <td>...</td>\n",
              "      <td>...</td>\n",
              "      <td>...</td>\n",
              "    </tr>\n",
              "    <tr>\n",
              "      <th>902</th>\n",
              "      <td>1600.0</td>\n",
              "      <td>1.0</td>\n",
              "      <td>2.0</td>\n",
              "      <td>1.0</td>\n",
              "      <td>2.0</td>\n",
              "      <td>522.961300</td>\n",
              "      <td>0.994875</td>\n",
              "      <td>233.596650</td>\n",
              "      <td>865.400000</td>\n",
              "      <td>686.500000</td>\n",
              "      <td>0.0</td>\n",
              "    </tr>\n",
              "    <tr>\n",
              "      <th>903</th>\n",
              "      <td>3.0</td>\n",
              "      <td>6.0</td>\n",
              "      <td>3.0</td>\n",
              "      <td>1.0</td>\n",
              "      <td>0.0</td>\n",
              "      <td>-96308.231890</td>\n",
              "      <td>-500657.391023</td>\n",
              "      <td>-801010.779522</td>\n",
              "      <td>-607290.618935</td>\n",
              "      <td>-596709.694641</td>\n",
              "      <td>1.0</td>\n",
              "    </tr>\n",
              "    <tr>\n",
              "      <th>904</th>\n",
              "      <td>25.5</td>\n",
              "      <td>7.0</td>\n",
              "      <td>3.0</td>\n",
              "      <td>1.0</td>\n",
              "      <td>2.0</td>\n",
              "      <td>-96326.993268</td>\n",
              "      <td>-500892.858549</td>\n",
              "      <td>-801399.623250</td>\n",
              "      <td>-607566.826833</td>\n",
              "      <td>-596971.574955</td>\n",
              "      <td>1.0</td>\n",
              "    </tr>\n",
              "    <tr>\n",
              "      <th>905</th>\n",
              "      <td>80.0</td>\n",
              "      <td>1.0</td>\n",
              "      <td>3.0</td>\n",
              "      <td>1.0</td>\n",
              "      <td>2.0</td>\n",
              "      <td>-95590.817827</td>\n",
              "      <td>-497442.773239</td>\n",
              "      <td>-795916.789995</td>\n",
              "      <td>-603363.581022</td>\n",
              "      <td>-592819.513163</td>\n",
              "      <td>1.0</td>\n",
              "    </tr>\n",
              "    <tr>\n",
              "      <th>906</th>\n",
              "      <td>16.5</td>\n",
              "      <td>7.0</td>\n",
              "      <td>3.0</td>\n",
              "      <td>1.0</td>\n",
              "      <td>2.0</td>\n",
              "      <td>-96339.139852</td>\n",
              "      <td>-500899.756921</td>\n",
              "      <td>-801405.622084</td>\n",
              "      <td>-607578.847630</td>\n",
              "      <td>-596987.166372</td>\n",
              "      <td>1.0</td>\n",
              "    </tr>\n",
              "  </tbody>\n",
              "</table>\n",
              "<p>907 rows × 11 columns</p>\n",
              "</div>\n",
              "      <button class=\"colab-df-convert\" onclick=\"convertToInteractive('df-68db65f0-c44c-44fb-8542-04f8da3e4c53')\"\n",
              "              title=\"Convert this dataframe to an interactive table.\"\n",
              "              style=\"display:none;\">\n",
              "        \n",
              "  <svg xmlns=\"http://www.w3.org/2000/svg\" height=\"24px\"viewBox=\"0 0 24 24\"\n",
              "       width=\"24px\">\n",
              "    <path d=\"M0 0h24v24H0V0z\" fill=\"none\"/>\n",
              "    <path d=\"M18.56 5.44l.94 2.06.94-2.06 2.06-.94-2.06-.94-.94-2.06-.94 2.06-2.06.94zm-11 1L8.5 8.5l.94-2.06 2.06-.94-2.06-.94L8.5 2.5l-.94 2.06-2.06.94zm10 10l.94 2.06.94-2.06 2.06-.94-2.06-.94-.94-2.06-.94 2.06-2.06.94z\"/><path d=\"M17.41 7.96l-1.37-1.37c-.4-.4-.92-.59-1.43-.59-.52 0-1.04.2-1.43.59L10.3 9.45l-7.72 7.72c-.78.78-.78 2.05 0 2.83L4 21.41c.39.39.9.59 1.41.59.51 0 1.02-.2 1.41-.59l7.78-7.78 2.81-2.81c.8-.78.8-2.07 0-2.86zM5.41 20L4 18.59l7.72-7.72 1.47 1.35L5.41 20z\"/>\n",
              "  </svg>\n",
              "      </button>\n",
              "      \n",
              "  <style>\n",
              "    .colab-df-container {\n",
              "      display:flex;\n",
              "      flex-wrap:wrap;\n",
              "      gap: 12px;\n",
              "    }\n",
              "\n",
              "    .colab-df-convert {\n",
              "      background-color: #E8F0FE;\n",
              "      border: none;\n",
              "      border-radius: 50%;\n",
              "      cursor: pointer;\n",
              "      display: none;\n",
              "      fill: #1967D2;\n",
              "      height: 32px;\n",
              "      padding: 0 0 0 0;\n",
              "      width: 32px;\n",
              "    }\n",
              "\n",
              "    .colab-df-convert:hover {\n",
              "      background-color: #E2EBFA;\n",
              "      box-shadow: 0px 1px 2px rgba(60, 64, 67, 0.3), 0px 1px 3px 1px rgba(60, 64, 67, 0.15);\n",
              "      fill: #174EA6;\n",
              "    }\n",
              "\n",
              "    [theme=dark] .colab-df-convert {\n",
              "      background-color: #3B4455;\n",
              "      fill: #D2E3FC;\n",
              "    }\n",
              "\n",
              "    [theme=dark] .colab-df-convert:hover {\n",
              "      background-color: #434B5C;\n",
              "      box-shadow: 0px 1px 3px 1px rgba(0, 0, 0, 0.15);\n",
              "      filter: drop-shadow(0px 1px 2px rgba(0, 0, 0, 0.3));\n",
              "      fill: #FFFFFF;\n",
              "    }\n",
              "  </style>\n",
              "\n",
              "      <script>\n",
              "        const buttonEl =\n",
              "          document.querySelector('#df-68db65f0-c44c-44fb-8542-04f8da3e4c53 button.colab-df-convert');\n",
              "        buttonEl.style.display =\n",
              "          google.colab.kernel.accessAllowed ? 'block' : 'none';\n",
              "\n",
              "        async function convertToInteractive(key) {\n",
              "          const element = document.querySelector('#df-68db65f0-c44c-44fb-8542-04f8da3e4c53');\n",
              "          const dataTable =\n",
              "            await google.colab.kernel.invokeFunction('convertToInteractive',\n",
              "                                                     [key], {});\n",
              "          if (!dataTable) return;\n",
              "\n",
              "          const docLinkHtml = 'Like what you see? Visit the ' +\n",
              "            '<a target=\"_blank\" href=https://colab.research.google.com/notebooks/data_table.ipynb>data table notebook</a>'\n",
              "            + ' to learn more about interactive tables.';\n",
              "          element.innerHTML = '';\n",
              "          dataTable['output_type'] = 'display_data';\n",
              "          await google.colab.output.renderOutput(dataTable, element);\n",
              "          const docLink = document.createElement('div');\n",
              "          docLink.innerHTML = docLinkHtml;\n",
              "          element.appendChild(docLink);\n",
              "        }\n",
              "      </script>\n",
              "    </div>\n",
              "  </div>\n",
              "  "
            ]
          },
          "metadata": {},
          "execution_count": 431
        }
      ]
    },
    {
      "cell_type": "code",
      "source": [
        "features = data.drop(['capacity_mw'],axis=1)\n",
        "target =data.capacity_mw"
      ],
      "metadata": {
        "id": "q5BkFabKjJ8B"
      },
      "execution_count": 345,
      "outputs": []
    },
    {
      "cell_type": "code",
      "source": [
        "data=pd.get_dummies(data,drop_first=True)\n",
        "data.head()"
      ],
      "metadata": {
        "colab": {
          "base_uri": "https://localhost:8080/",
          "height": 270
        },
        "id": "VUQajbdngTXB",
        "outputId": "3dfabf31-d0f2-4036-d66e-6d156a7c33a6"
      },
      "execution_count": 346,
      "outputs": [
        {
          "output_type": "execute_result",
          "data": {
            "text/plain": [
              "   capacity_mw  primary_fuel  other_fuel1  other_fuel2  geolocation_source  \\\n",
              "0          2.5           6.0          3.0          1.0                 1.0   \n",
              "1         98.0           1.0          3.0          1.0                 2.0   \n",
              "2         39.2           7.0          3.0          1.0                 2.0   \n",
              "3        135.0           2.0          3.0          1.0                 2.0   \n",
              "4       1800.0           1.0          2.0          1.0                 2.0   \n",
              "\n",
              "   generation_gwh_2014  generation_gwh_2015  generation_gwh_2016  \\\n",
              "0       -179488.486723       -552395.011378       -800564.498507   \n",
              "1       -179326.662545       -552046.707573       -800046.660359   \n",
              "2       -180512.534701       -555772.910358       -805565.935790   \n",
              "3           617.789264           843.747000           886.004428   \n",
              "4          3035.550000          5916.370000          6243.000000   \n",
              "\n",
              "   generation_gwh_2017  generation_gwh_2018  generation_data_source  \n",
              "0       -575755.305220       -569131.855906                     1.0  \n",
              "1       -575301.496603       -568630.529860                     1.0  \n",
              "2       -579473.077414       -572754.466106                     1.0  \n",
              "3           663.774500           626.239128                     0.0  \n",
              "4          5385.579736          7279.000000                     0.0  "
            ],
            "text/html": [
              "\n",
              "  <div id=\"df-e8fa5e84-9e25-4664-b770-4658d13eeec6\">\n",
              "    <div class=\"colab-df-container\">\n",
              "      <div>\n",
              "<style scoped>\n",
              "    .dataframe tbody tr th:only-of-type {\n",
              "        vertical-align: middle;\n",
              "    }\n",
              "\n",
              "    .dataframe tbody tr th {\n",
              "        vertical-align: top;\n",
              "    }\n",
              "\n",
              "    .dataframe thead th {\n",
              "        text-align: right;\n",
              "    }\n",
              "</style>\n",
              "<table border=\"1\" class=\"dataframe\">\n",
              "  <thead>\n",
              "    <tr style=\"text-align: right;\">\n",
              "      <th></th>\n",
              "      <th>capacity_mw</th>\n",
              "      <th>primary_fuel</th>\n",
              "      <th>other_fuel1</th>\n",
              "      <th>other_fuel2</th>\n",
              "      <th>geolocation_source</th>\n",
              "      <th>generation_gwh_2014</th>\n",
              "      <th>generation_gwh_2015</th>\n",
              "      <th>generation_gwh_2016</th>\n",
              "      <th>generation_gwh_2017</th>\n",
              "      <th>generation_gwh_2018</th>\n",
              "      <th>generation_data_source</th>\n",
              "    </tr>\n",
              "  </thead>\n",
              "  <tbody>\n",
              "    <tr>\n",
              "      <th>0</th>\n",
              "      <td>2.5</td>\n",
              "      <td>6.0</td>\n",
              "      <td>3.0</td>\n",
              "      <td>1.0</td>\n",
              "      <td>1.0</td>\n",
              "      <td>-179488.486723</td>\n",
              "      <td>-552395.011378</td>\n",
              "      <td>-800564.498507</td>\n",
              "      <td>-575755.305220</td>\n",
              "      <td>-569131.855906</td>\n",
              "      <td>1.0</td>\n",
              "    </tr>\n",
              "    <tr>\n",
              "      <th>1</th>\n",
              "      <td>98.0</td>\n",
              "      <td>1.0</td>\n",
              "      <td>3.0</td>\n",
              "      <td>1.0</td>\n",
              "      <td>2.0</td>\n",
              "      <td>-179326.662545</td>\n",
              "      <td>-552046.707573</td>\n",
              "      <td>-800046.660359</td>\n",
              "      <td>-575301.496603</td>\n",
              "      <td>-568630.529860</td>\n",
              "      <td>1.0</td>\n",
              "    </tr>\n",
              "    <tr>\n",
              "      <th>2</th>\n",
              "      <td>39.2</td>\n",
              "      <td>7.0</td>\n",
              "      <td>3.0</td>\n",
              "      <td>1.0</td>\n",
              "      <td>2.0</td>\n",
              "      <td>-180512.534701</td>\n",
              "      <td>-555772.910358</td>\n",
              "      <td>-805565.935790</td>\n",
              "      <td>-579473.077414</td>\n",
              "      <td>-572754.466106</td>\n",
              "      <td>1.0</td>\n",
              "    </tr>\n",
              "    <tr>\n",
              "      <th>3</th>\n",
              "      <td>135.0</td>\n",
              "      <td>2.0</td>\n",
              "      <td>3.0</td>\n",
              "      <td>1.0</td>\n",
              "      <td>2.0</td>\n",
              "      <td>617.789264</td>\n",
              "      <td>843.747000</td>\n",
              "      <td>886.004428</td>\n",
              "      <td>663.774500</td>\n",
              "      <td>626.239128</td>\n",
              "      <td>0.0</td>\n",
              "    </tr>\n",
              "    <tr>\n",
              "      <th>4</th>\n",
              "      <td>1800.0</td>\n",
              "      <td>1.0</td>\n",
              "      <td>2.0</td>\n",
              "      <td>1.0</td>\n",
              "      <td>2.0</td>\n",
              "      <td>3035.550000</td>\n",
              "      <td>5916.370000</td>\n",
              "      <td>6243.000000</td>\n",
              "      <td>5385.579736</td>\n",
              "      <td>7279.000000</td>\n",
              "      <td>0.0</td>\n",
              "    </tr>\n",
              "  </tbody>\n",
              "</table>\n",
              "</div>\n",
              "      <button class=\"colab-df-convert\" onclick=\"convertToInteractive('df-e8fa5e84-9e25-4664-b770-4658d13eeec6')\"\n",
              "              title=\"Convert this dataframe to an interactive table.\"\n",
              "              style=\"display:none;\">\n",
              "        \n",
              "  <svg xmlns=\"http://www.w3.org/2000/svg\" height=\"24px\"viewBox=\"0 0 24 24\"\n",
              "       width=\"24px\">\n",
              "    <path d=\"M0 0h24v24H0V0z\" fill=\"none\"/>\n",
              "    <path d=\"M18.56 5.44l.94 2.06.94-2.06 2.06-.94-2.06-.94-.94-2.06-.94 2.06-2.06.94zm-11 1L8.5 8.5l.94-2.06 2.06-.94-2.06-.94L8.5 2.5l-.94 2.06-2.06.94zm10 10l.94 2.06.94-2.06 2.06-.94-2.06-.94-.94-2.06-.94 2.06-2.06.94z\"/><path d=\"M17.41 7.96l-1.37-1.37c-.4-.4-.92-.59-1.43-.59-.52 0-1.04.2-1.43.59L10.3 9.45l-7.72 7.72c-.78.78-.78 2.05 0 2.83L4 21.41c.39.39.9.59 1.41.59.51 0 1.02-.2 1.41-.59l7.78-7.78 2.81-2.81c.8-.78.8-2.07 0-2.86zM5.41 20L4 18.59l7.72-7.72 1.47 1.35L5.41 20z\"/>\n",
              "  </svg>\n",
              "      </button>\n",
              "      \n",
              "  <style>\n",
              "    .colab-df-container {\n",
              "      display:flex;\n",
              "      flex-wrap:wrap;\n",
              "      gap: 12px;\n",
              "    }\n",
              "\n",
              "    .colab-df-convert {\n",
              "      background-color: #E8F0FE;\n",
              "      border: none;\n",
              "      border-radius: 50%;\n",
              "      cursor: pointer;\n",
              "      display: none;\n",
              "      fill: #1967D2;\n",
              "      height: 32px;\n",
              "      padding: 0 0 0 0;\n",
              "      width: 32px;\n",
              "    }\n",
              "\n",
              "    .colab-df-convert:hover {\n",
              "      background-color: #E2EBFA;\n",
              "      box-shadow: 0px 1px 2px rgba(60, 64, 67, 0.3), 0px 1px 3px 1px rgba(60, 64, 67, 0.15);\n",
              "      fill: #174EA6;\n",
              "    }\n",
              "\n",
              "    [theme=dark] .colab-df-convert {\n",
              "      background-color: #3B4455;\n",
              "      fill: #D2E3FC;\n",
              "    }\n",
              "\n",
              "    [theme=dark] .colab-df-convert:hover {\n",
              "      background-color: #434B5C;\n",
              "      box-shadow: 0px 1px 3px 1px rgba(0, 0, 0, 0.15);\n",
              "      filter: drop-shadow(0px 1px 2px rgba(0, 0, 0, 0.3));\n",
              "      fill: #FFFFFF;\n",
              "    }\n",
              "  </style>\n",
              "\n",
              "      <script>\n",
              "        const buttonEl =\n",
              "          document.querySelector('#df-e8fa5e84-9e25-4664-b770-4658d13eeec6 button.colab-df-convert');\n",
              "        buttonEl.style.display =\n",
              "          google.colab.kernel.accessAllowed ? 'block' : 'none';\n",
              "\n",
              "        async function convertToInteractive(key) {\n",
              "          const element = document.querySelector('#df-e8fa5e84-9e25-4664-b770-4658d13eeec6');\n",
              "          const dataTable =\n",
              "            await google.colab.kernel.invokeFunction('convertToInteractive',\n",
              "                                                     [key], {});\n",
              "          if (!dataTable) return;\n",
              "\n",
              "          const docLinkHtml = 'Like what you see? Visit the ' +\n",
              "            '<a target=\"_blank\" href=https://colab.research.google.com/notebooks/data_table.ipynb>data table notebook</a>'\n",
              "            + ' to learn more about interactive tables.';\n",
              "          element.innerHTML = '';\n",
              "          dataTable['output_type'] = 'display_data';\n",
              "          await google.colab.output.renderOutput(dataTable, element);\n",
              "          const docLink = document.createElement('div');\n",
              "          docLink.innerHTML = docLinkHtml;\n",
              "          element.appendChild(docLink);\n",
              "        }\n",
              "      </script>\n",
              "    </div>\n",
              "  </div>\n",
              "  "
            ]
          },
          "metadata": {},
          "execution_count": 346
        }
      ]
    },
    {
      "cell_type": "markdown",
      "source": [
        "# Importing necessary libraries"
      ],
      "metadata": {
        "id": "YE7VteONWmIg"
      }
    },
    {
      "cell_type": "code",
      "source": [
        "\n",
        "from sklearn.ensemble import RandomForestRegressor\n",
        "from sklearn.linear_model import LinearRegression\n",
        "from sklearn import metrics\n",
        "from sklearn.model_selection import GridSearchCV\n",
        "from sklearn.linear_model import Lasso,Ridge\n",
        "from xgboost.sklearn import XGBRegressor\n",
        "from sklearn.tree import DecisionTreeRegressor\n",
        "from sklearn.model_selection import train_test_split\n",
        "import warnings\n",
        "warnings.filterwarnings(\"ignore\")\n",
        "from sklearn.metrics import r2_score,mean_squared_error,mean_absolute_error"
      ],
      "metadata": {
        "id": "Ne-2d6S8MGB8"
      },
      "execution_count": 432,
      "outputs": []
    },
    {
      "cell_type": "markdown",
      "source": [
        "### Scaling the features"
      ],
      "metadata": {
        "id": "-hyoAVe2Ws6h"
      }
    },
    {
      "cell_type": "code",
      "source": [
        "\n",
        "from sklearn.preprocessing import StandardScaler\n",
        "SC=StandardScaler()\n",
        "features = pd.DataFrame(SC.fit_transform(features), columns=features.columns)"
      ],
      "metadata": {
        "id": "g7c_--MePaOB"
      },
      "execution_count": 433,
      "outputs": []
    },
    {
      "cell_type": "code",
      "source": [
        "features.head(2)"
      ],
      "metadata": {
        "colab": {
          "base_uri": "https://localhost:8080/",
          "height": 176
        },
        "id": "QkxNZCCGmfa8",
        "outputId": "f6937067-0057-4d9c-e2d0-d496029a1f56"
      },
      "execution_count": 434,
      "outputs": [
        {
          "output_type": "execute_result",
          "data": {
            "text/plain": [
              "   primary_fuel  other_fuel1  other_fuel2  geolocation_source  \\\n",
              "0      1.225688     0.519008     0.033223           -1.077648   \n",
              "1     -0.967877     0.519008     0.033223            0.351338   \n",
              "\n",
              "   generation_gwh_2014  generation_gwh_2015  generation_gwh_2016  \\\n",
              "0            -1.148477            -1.149431            -1.149628   \n",
              "1            -1.146683            -1.148166            -1.148329   \n",
              "\n",
              "   generation_gwh_2017  generation_gwh_2018  generation_data_source  \n",
              "0            -1.149659            -1.149814                0.990126  \n",
              "1            -1.148078            -1.148047                0.990126  "
            ],
            "text/html": [
              "\n",
              "  <div id=\"df-0c54102f-dc56-4b46-9baf-4ddf662337dc\">\n",
              "    <div class=\"colab-df-container\">\n",
              "      <div>\n",
              "<style scoped>\n",
              "    .dataframe tbody tr th:only-of-type {\n",
              "        vertical-align: middle;\n",
              "    }\n",
              "\n",
              "    .dataframe tbody tr th {\n",
              "        vertical-align: top;\n",
              "    }\n",
              "\n",
              "    .dataframe thead th {\n",
              "        text-align: right;\n",
              "    }\n",
              "</style>\n",
              "<table border=\"1\" class=\"dataframe\">\n",
              "  <thead>\n",
              "    <tr style=\"text-align: right;\">\n",
              "      <th></th>\n",
              "      <th>primary_fuel</th>\n",
              "      <th>other_fuel1</th>\n",
              "      <th>other_fuel2</th>\n",
              "      <th>geolocation_source</th>\n",
              "      <th>generation_gwh_2014</th>\n",
              "      <th>generation_gwh_2015</th>\n",
              "      <th>generation_gwh_2016</th>\n",
              "      <th>generation_gwh_2017</th>\n",
              "      <th>generation_gwh_2018</th>\n",
              "      <th>generation_data_source</th>\n",
              "    </tr>\n",
              "  </thead>\n",
              "  <tbody>\n",
              "    <tr>\n",
              "      <th>0</th>\n",
              "      <td>1.225688</td>\n",
              "      <td>0.519008</td>\n",
              "      <td>0.033223</td>\n",
              "      <td>-1.077648</td>\n",
              "      <td>-1.148477</td>\n",
              "      <td>-1.149431</td>\n",
              "      <td>-1.149628</td>\n",
              "      <td>-1.149659</td>\n",
              "      <td>-1.149814</td>\n",
              "      <td>0.990126</td>\n",
              "    </tr>\n",
              "    <tr>\n",
              "      <th>1</th>\n",
              "      <td>-0.967877</td>\n",
              "      <td>0.519008</td>\n",
              "      <td>0.033223</td>\n",
              "      <td>0.351338</td>\n",
              "      <td>-1.146683</td>\n",
              "      <td>-1.148166</td>\n",
              "      <td>-1.148329</td>\n",
              "      <td>-1.148078</td>\n",
              "      <td>-1.148047</td>\n",
              "      <td>0.990126</td>\n",
              "    </tr>\n",
              "  </tbody>\n",
              "</table>\n",
              "</div>\n",
              "      <button class=\"colab-df-convert\" onclick=\"convertToInteractive('df-0c54102f-dc56-4b46-9baf-4ddf662337dc')\"\n",
              "              title=\"Convert this dataframe to an interactive table.\"\n",
              "              style=\"display:none;\">\n",
              "        \n",
              "  <svg xmlns=\"http://www.w3.org/2000/svg\" height=\"24px\"viewBox=\"0 0 24 24\"\n",
              "       width=\"24px\">\n",
              "    <path d=\"M0 0h24v24H0V0z\" fill=\"none\"/>\n",
              "    <path d=\"M18.56 5.44l.94 2.06.94-2.06 2.06-.94-2.06-.94-.94-2.06-.94 2.06-2.06.94zm-11 1L8.5 8.5l.94-2.06 2.06-.94-2.06-.94L8.5 2.5l-.94 2.06-2.06.94zm10 10l.94 2.06.94-2.06 2.06-.94-2.06-.94-.94-2.06-.94 2.06-2.06.94z\"/><path d=\"M17.41 7.96l-1.37-1.37c-.4-.4-.92-.59-1.43-.59-.52 0-1.04.2-1.43.59L10.3 9.45l-7.72 7.72c-.78.78-.78 2.05 0 2.83L4 21.41c.39.39.9.59 1.41.59.51 0 1.02-.2 1.41-.59l7.78-7.78 2.81-2.81c.8-.78.8-2.07 0-2.86zM5.41 20L4 18.59l7.72-7.72 1.47 1.35L5.41 20z\"/>\n",
              "  </svg>\n",
              "      </button>\n",
              "      \n",
              "  <style>\n",
              "    .colab-df-container {\n",
              "      display:flex;\n",
              "      flex-wrap:wrap;\n",
              "      gap: 12px;\n",
              "    }\n",
              "\n",
              "    .colab-df-convert {\n",
              "      background-color: #E8F0FE;\n",
              "      border: none;\n",
              "      border-radius: 50%;\n",
              "      cursor: pointer;\n",
              "      display: none;\n",
              "      fill: #1967D2;\n",
              "      height: 32px;\n",
              "      padding: 0 0 0 0;\n",
              "      width: 32px;\n",
              "    }\n",
              "\n",
              "    .colab-df-convert:hover {\n",
              "      background-color: #E2EBFA;\n",
              "      box-shadow: 0px 1px 2px rgba(60, 64, 67, 0.3), 0px 1px 3px 1px rgba(60, 64, 67, 0.15);\n",
              "      fill: #174EA6;\n",
              "    }\n",
              "\n",
              "    [theme=dark] .colab-df-convert {\n",
              "      background-color: #3B4455;\n",
              "      fill: #D2E3FC;\n",
              "    }\n",
              "\n",
              "    [theme=dark] .colab-df-convert:hover {\n",
              "      background-color: #434B5C;\n",
              "      box-shadow: 0px 1px 3px 1px rgba(0, 0, 0, 0.15);\n",
              "      filter: drop-shadow(0px 1px 2px rgba(0, 0, 0, 0.3));\n",
              "      fill: #FFFFFF;\n",
              "    }\n",
              "  </style>\n",
              "\n",
              "      <script>\n",
              "        const buttonEl =\n",
              "          document.querySelector('#df-0c54102f-dc56-4b46-9baf-4ddf662337dc button.colab-df-convert');\n",
              "        buttonEl.style.display =\n",
              "          google.colab.kernel.accessAllowed ? 'block' : 'none';\n",
              "\n",
              "        async function convertToInteractive(key) {\n",
              "          const element = document.querySelector('#df-0c54102f-dc56-4b46-9baf-4ddf662337dc');\n",
              "          const dataTable =\n",
              "            await google.colab.kernel.invokeFunction('convertToInteractive',\n",
              "                                                     [key], {});\n",
              "          if (!dataTable) return;\n",
              "\n",
              "          const docLinkHtml = 'Like what you see? Visit the ' +\n",
              "            '<a target=\"_blank\" href=https://colab.research.google.com/notebooks/data_table.ipynb>data table notebook</a>'\n",
              "            + ' to learn more about interactive tables.';\n",
              "          element.innerHTML = '';\n",
              "          dataTable['output_type'] = 'display_data';\n",
              "          await google.colab.output.renderOutput(dataTable, element);\n",
              "          const docLink = document.createElement('div');\n",
              "          docLink.innerHTML = docLinkHtml;\n",
              "          element.appendChild(docLink);\n",
              "        }\n",
              "      </script>\n",
              "    </div>\n",
              "  </div>\n",
              "  "
            ]
          },
          "metadata": {},
          "execution_count": 434
        }
      ]
    },
    {
      "cell_type": "markdown",
      "source": [
        "# Model Building and Evaluation"
      ],
      "metadata": {
        "id": "aqwu_6jcWz-w"
      }
    },
    {
      "cell_type": "code",
      "source": [
        "\n",
        "def model_building(Model,Features,Target):\n",
        "  Maximum_Accuracy=0\n",
        "\n",
        "  test_size=[0.2,0.25,0.3]\n",
        "  for j in test_size:\n",
        "    for i in range(100):\n",
        "        x_train, x_test, y_train, y_test = train_test_split(Features, Target, test_size=j,\n",
        "                                                            random_state=i)\n",
        "        model=Model\n",
        "        model.fit(x_train,y_train)\n",
        "        pred= model.predict(x_test)\n",
        "        acc=r2_score(y_test,pred)\n",
        "        check=model.predict(x_train)\n",
        "        check_acc=r2_score(y_train,check)\n",
        "            \n",
        "        if acc>Maximum_Accuracy:\n",
        "          Maximum_Accuracy=acc\n",
        "          print(\"\\n Test set accuracy\",Maximum_Accuracy,\"Train set accuracy\",check_acc,'Random state',i,'test_size',j)"
      ],
      "metadata": {
        "id": "hPxS_v_EhbD7"
      },
      "execution_count": 349,
      "outputs": []
    },
    {
      "cell_type": "markdown",
      "source": [
        "# Algorithms Used\n",
        "  1. Linear Regression\n",
        "  2. Lasso Regression\n",
        "  3. Lasso Regression\n",
        "  4. Random Forest Regression\n",
        "  5. XGBoost Regression\n",
        "  6. Decision Tree Regression"
      ],
      "metadata": {
        "id": "lHsPE9fxXBxQ"
      }
    },
    {
      "cell_type": "markdown",
      "source": [
        "## Linear Regression"
      ],
      "metadata": {
        "id": "tBdAjTUKL0TD"
      }
    },
    {
      "cell_type": "code",
      "source": [
        "model_building(LinearRegression(),features,target)"
      ],
      "metadata": {
        "id": "SAhLdlYAi7B0",
        "colab": {
          "base_uri": "https://localhost:8080/"
        },
        "outputId": "ba09ca4f-1b16-4a73-e790-4a40945fc750"
      },
      "execution_count": 289,
      "outputs": [
        {
          "output_type": "stream",
          "name": "stdout",
          "text": [
            "\n",
            " Test set accuracy 0.9036201921663295 Train set accuracy 0.7933811711690718 Random state 0 test_size 0.2\n"
          ]
        }
      ]
    },
    {
      "cell_type": "markdown",
      "source": [
        "## Lasso Regression"
      ],
      "metadata": {
        "id": "Ts-taSNbL4YQ"
      }
    },
    {
      "cell_type": "code",
      "source": [
        "model_building(Lasso(),features,target)"
      ],
      "metadata": {
        "colab": {
          "base_uri": "https://localhost:8080/"
        },
        "id": "PoB7JwNmQ95E",
        "outputId": "922353c9-9872-4b75-e785-ddf27830dbc1"
      },
      "execution_count": 290,
      "outputs": [
        {
          "output_type": "stream",
          "name": "stdout",
          "text": [
            "\n",
            " Test set accuracy 0.6060340871582248 Train set accuracy 0.57362063266861 Random state 0 test_size 0.2\n",
            "\n",
            " Test set accuracy 0.608027220115291 Train set accuracy 0.608664479266499 Random state 2 test_size 0.2\n",
            "\n",
            " Test set accuracy 0.6360610285017811 Train set accuracy 0.5998168647871596 Random state 3 test_size 0.2\n",
            "\n",
            " Test set accuracy 0.6647210322662882 Train set accuracy 0.596236147230192 Random state 24 test_size 0.2\n",
            "\n",
            " Test set accuracy 0.6859446134162125 Train set accuracy 0.5670510878672932 Random state 62 test_size 0.2\n"
          ]
        }
      ]
    },
    {
      "cell_type": "markdown",
      "source": [
        "## Ridge Regression"
      ],
      "metadata": {
        "id": "sQSs4gniMk_Q"
      }
    },
    {
      "cell_type": "code",
      "source": [
        "model_building(Ridge(),features,target)"
      ],
      "metadata": {
        "colab": {
          "base_uri": "https://localhost:8080/"
        },
        "id": "2XQzHgLyR7Y4",
        "outputId": "93b75c4a-4e9e-47ee-b5d9-95416338bc1b"
      },
      "execution_count": 291,
      "outputs": [
        {
          "output_type": "stream",
          "name": "stdout",
          "text": [
            "\n",
            " Test set accuracy 0.5672096447931392 Train set accuracy 0.5354746703003905 Random state 0 test_size 0.2\n",
            "\n",
            " Test set accuracy 0.5889347687890536 Train set accuracy 0.5510542430052521 Random state 3 test_size 0.2\n",
            "\n",
            " Test set accuracy 0.6161829060729234 Train set accuracy 0.5470213652289941 Random state 24 test_size 0.2\n",
            "\n",
            " Test set accuracy 0.6334292415017495 Train set accuracy 0.527175203544973 Random state 62 test_size 0.2\n",
            "\n",
            " Test set accuracy 0.6544795241120049 Train set accuracy 0.5352122292354506 Random state 98 test_size 0.2\n"
          ]
        }
      ]
    },
    {
      "cell_type": "markdown",
      "source": [
        "# Random Forest Regression"
      ],
      "metadata": {
        "id": "-4ob5a6SMrOH"
      }
    },
    {
      "cell_type": "code",
      "source": [
        "model_building(RandomForestRegressor(),features,target)"
      ],
      "metadata": {
        "colab": {
          "base_uri": "https://localhost:8080/"
        },
        "id": "o3pJQX1pSCja",
        "outputId": "1a3175a5-7e5d-4666-8c3b-5ac020b6fb36"
      },
      "execution_count": 292,
      "outputs": [
        {
          "output_type": "stream",
          "name": "stdout",
          "text": [
            "\n",
            " Test set accuracy 0.9247664141594505 Train set accuracy 0.9758213585220535 Random state 0 test_size 0.2\n",
            "\n",
            " Test set accuracy 0.9269579362507497 Train set accuracy 0.9780159087018396 Random state 4 test_size 0.2\n",
            "\n",
            " Test set accuracy 0.9273140283986322 Train set accuracy 0.9758968481785623 Random state 50 test_size 0.2\n",
            "\n",
            " Test set accuracy 0.9315589616425052 Train set accuracy 0.9765325877074047 Random state 87 test_size 0.2\n",
            "\n",
            " Test set accuracy 0.9334469468023289 Train set accuracy 0.9756506256884736 Random state 96 test_size 0.2\n"
          ]
        }
      ]
    },
    {
      "cell_type": "markdown",
      "source": [
        "## Xgb Regresssion"
      ],
      "metadata": {
        "id": "Uc6mBqM6MxD7"
      }
    },
    {
      "cell_type": "code",
      "source": [
        "model_building(XGBRegressor(objective ='reg:squarederror'),features,target)"
      ],
      "metadata": {
        "colab": {
          "base_uri": "https://localhost:8080/"
        },
        "id": "McnjPjp3STdY",
        "outputId": "a74b1e40-c1b0-4e26-de52-325663ad6fdf"
      },
      "execution_count": 293,
      "outputs": [
        {
          "output_type": "stream",
          "name": "stdout",
          "text": [
            "\n",
            " Test set accuracy 0.8770962611288873 Train set accuracy 0.9452800776616859 Random state 0 test_size 0.2\n",
            "\n",
            " Test set accuracy 0.9037521819811848 Train set accuracy 0.9526311372707017 Random state 4 test_size 0.2\n",
            "\n",
            " Test set accuracy 0.9057037620675656 Train set accuracy 0.9554868369815015 Random state 10 test_size 0.2\n",
            "\n",
            " Test set accuracy 0.9339406176432774 Train set accuracy 0.9463425349941088 Random state 15 test_size 0.2\n"
          ]
        }
      ]
    },
    {
      "cell_type": "markdown",
      "source": [
        "## Decision Tree Regression"
      ],
      "metadata": {
        "id": "YcME8HoBM2hV"
      }
    },
    {
      "cell_type": "code",
      "source": [
        "model_building(DecisionTreeRegressor(max_depth=5),features,target)"
      ],
      "metadata": {
        "colab": {
          "base_uri": "https://localhost:8080/"
        },
        "id": "y90yvO3fS8iv",
        "outputId": "01d70190-969a-4eda-dd6e-90210a3bcf40"
      },
      "execution_count": 294,
      "outputs": [
        {
          "output_type": "stream",
          "name": "stdout",
          "text": [
            "\n",
            " Test set accuracy 0.8665067722531778 Train set accuracy 0.9160284750464277 Random state 0 test_size 0.2\n",
            "\n",
            " Test set accuracy 0.8873788474470506 Train set accuracy 0.9331880435114639 Random state 4 test_size 0.2\n",
            "\n",
            " Test set accuracy 0.911997738420575 Train set accuracy 0.9377001113685516 Random state 10 test_size 0.2\n",
            "\n",
            " Test set accuracy 0.921517834773922 Train set accuracy 0.9097222608864866 Random state 92 test_size 0.2\n"
          ]
        }
      ]
    },
    {
      "cell_type": "markdown",
      "source": [
        "# HyperParameters Tunning for each model saving values in the list"
      ],
      "metadata": {
        "id": "vIrUtsxhbNGi"
      }
    },
    {
      "cell_type": "code",
      "source": [
        "# creating empty list that will help us in the end to judge the best model\n",
        "model_name=[]\n",
        "mse=[]\n",
        "mae=[]\n",
        "R_sq=[]\n",
        "rmse=[]"
      ],
      "metadata": {
        "id": "ZJmt4RluUznr"
      },
      "execution_count": 350,
      "outputs": []
    },
    {
      "cell_type": "markdown",
      "source": [
        "# Linear Regression"
      ],
      "metadata": {
        "id": "VcbbNAjacrAb"
      }
    },
    {
      "cell_type": "code",
      "source": [
        "x_train, x_test, y_train, y_test = train_test_split(features, target, test_size=0.2,\n",
        "                                                        random_state=0)\n",
        "lr=LinearRegression()\n",
        "lr.fit(x_train,y_train)\n",
        "lr_pred=lr.predict(x_test)\n",
        "mse.append(mean_squared_error(lr_pred,y_test))\n",
        "mae.append(mean_absolute_error(lr_pred,y_test))\n",
        "R_sq.append(r2_score(lr_pred,y_test))\n",
        "model_name.append(\"linear_regression\")\n",
        "rmse.append(np.sqrt(metrics.mean_squared_error(y_test,lr_pred)))\n",
        "plt.scatter(x=y_test,y=lr_pred)"
      ],
      "metadata": {
        "colab": {
          "base_uri": "https://localhost:8080/",
          "height": 282
        },
        "id": "GDaFibQlcG1y",
        "outputId": "a9c9d17d-5a8f-4884-e9c7-ed30fba27b7c"
      },
      "execution_count": 351,
      "outputs": [
        {
          "output_type": "execute_result",
          "data": {
            "text/plain": [
              "<matplotlib.collections.PathCollection at 0x7fcf04da9bd0>"
            ]
          },
          "metadata": {},
          "execution_count": 351
        },
        {
          "output_type": "display_data",
          "data": {
            "text/plain": [
              "<Figure size 432x288 with 1 Axes>"
            ],
            "image/png": "[encoded data removed]"
          },
          "metadata": {
            "needs_background": "light"
          }
        }
      ]
    },
    {
      "cell_type": "markdown",
      "source": [
        "# Lasso Regression"
      ],
      "metadata": {
        "id": "Wu07dD-WdFAd"
      }
    },
    {
      "cell_type": "code",
      "source": [
        "x_train, x_test, y_train, y_test = train_test_split(features, target, test_size=0.25,\n",
        "                                                        random_state=98)\n",
        "parameters={'alpha':[0.02, 0.024, 0.025, 0.026, 0.03]}\n",
        "ls=Lasso()\n",
        "LS=GridSearchCV(ls,parameters,scoring='neg_mean_squared_error')\n",
        "LS.fit(x_train,y_train)\n",
        "print(LS.best_params_)"
      ],
      "metadata": {
        "colab": {
          "base_uri": "https://localhost:8080/"
        },
        "id": "p8hcTnF3coxQ",
        "outputId": "d8ba6213-f913-416d-813c-7f88dd12c842"
      },
      "execution_count": 352,
      "outputs": [
        {
          "output_type": "stream",
          "name": "stdout",
          "text": [
            "{'alpha': 0.02}\n"
          ]
        }
      ]
    },
    {
      "cell_type": "code",
      "source": [
        "ls=Lasso(alpha = 0.02)\n",
        "ls.fit(x_train,y_train)\n",
        "ls_pred=LS.predict(x_test)\n",
        "mse.append(mean_squared_error(ls_pred,y_test))\n",
        "mae.append(mean_absolute_error(ls_pred,y_test))\n",
        "R_sq.append(r2_score(ls_pred,y_test))\n",
        "model_name.append(\"lasso_regression\")\n",
        "rmse.append(np.sqrt(metrics.mean_squared_error(y_test,ls_pred)))\n",
        "plt.scatter(x=y_test,y=ls_pred)"
      ],
      "metadata": {
        "colab": {
          "base_uri": "https://localhost:8080/",
          "height": 282
        },
        "id": "j3y0pozPevtF",
        "outputId": "537b41e3-bbe1-486c-b2a3-14c1ba18c3b4"
      },
      "execution_count": 353,
      "outputs": [
        {
          "output_type": "execute_result",
          "data": {
            "text/plain": [
              "<matplotlib.collections.PathCollection at 0x7fcf07b14fd0>"
            ]
          },
          "metadata": {},
          "execution_count": 353
        },
        {
          "output_type": "display_data",
          "data": {
            "text/plain": [
              "<Figure size 432x288 with 1 Axes>"
            ],
            "image/png": "[encoded data removed]"
          },
          "metadata": {
            "needs_background": "light"
          }
        }
      ]
    },
    {
      "cell_type": "markdown",
      "source": [
        "# Ridge Regression"
      ],
      "metadata": {
        "id": "BZzOVZ6Ac-ck"
      }
    },
    {
      "cell_type": "code",
      "source": [
        "x_train, x_test, y_train, y_test = train_test_split(features, target, test_size=0.2,\n",
        "                                                        random_state=98)\n",
        "parameters={\"alpha\":[1e-15,1e-10,1e-8,1e-3,1e-2,1,5,10,20,30,35,40,45,50,55,100],'solver':['auto','svd','cholesky','lsqr']}\n",
        "ridge=Ridge()\n",
        "RR=GridSearchCV(ridge,parameters,scoring='neg_mean_squared_error')\n",
        "RR.fit(x_train,y_train)\n",
        "print(RR.best_params_)"
      ],
      "metadata": {
        "colab": {
          "base_uri": "https://localhost:8080/"
        },
        "id": "zmmpwryAdLUu",
        "outputId": "c2455c69-2e6c-423d-ce3e-b0fd12c8467c"
      },
      "execution_count": 354,
      "outputs": [
        {
          "output_type": "stream",
          "name": "stdout",
          "text": [
            "{'alpha': 0.001, 'solver': 'auto'}\n"
          ]
        }
      ]
    },
    {
      "cell_type": "code",
      "source": [
        "rr=Ridge(alpha=0.001,solver='auto')\n",
        "rr.fit(x_train,y_train)\n",
        "rr_pred=rr.predict(x_test)\n",
        "mse.append(mean_squared_error(rr_pred,y_test))\n",
        "mae.append(mean_absolute_error(rr_pred,y_test))\n",
        "R_sq.append(r2_score(rr_pred,y_test))\n",
        "model_name.append(\"Ridge_regression\")\n",
        "rmse.append(np.sqrt(metrics.mean_squared_error(y_test,rr_pred)))\n",
        "plt.scatter(x=y_test,y=rr_pred)"
      ],
      "metadata": {
        "colab": {
          "base_uri": "https://localhost:8080/",
          "height": 283
        },
        "id": "lIyU-8-sdkEM",
        "outputId": "6881ada6-f5b1-4c04-e379-42b5ab2d21b0"
      },
      "execution_count": 355,
      "outputs": [
        {
          "output_type": "execute_result",
          "data": {
            "text/plain": [
              "<matplotlib.collections.PathCollection at 0x7fcf09877f90>"
            ]
          },
          "metadata": {},
          "execution_count": 355
        },
        {
          "output_type": "display_data",
          "data": {
            "text/plain": [
              "<Figure size 432x288 with 1 Axes>"
            ],
            "image/png": "[encoded data removed]"
          },
          "metadata": {
            "needs_background": "light"
          }
        }
      ]
    },
    {
      "cell_type": "markdown",
      "source": [
        "# Random Forest"
      ],
      "metadata": {
        "id": "aLdP07c6hLIn"
      }
    },
    {
      "cell_type": "code",
      "source": [
        "x_train, x_test, y_train, y_test = train_test_split(features, target, test_size=0.20,random_state=96)\n",
        "model=RandomForestRegressor()\n",
        "estimators = [int(x) for x in np.linspace(start=50, stop=150, num=10)]\n",
        "param_grid = { 'n_estimators': estimators,\n",
        "              \"max_features\" : [\"auto\", \"sqrt\"],\n",
        "            \"min_samples_split\" : [2,4,5,6],\n",
        "            \"bootstrap\": [True, False]\n",
        "              }\n",
        "\n",
        "grid = GridSearchCV(model, param_grid, cv=5)\n",
        "grid.fit(x_train,y_train)\n",
        "print(grid.best_params_)\n",
        "print(grid.best_score_)"
      ],
      "metadata": {
        "colab": {
          "base_uri": "https://localhost:8080/"
        },
        "id": "l0FnHF0kgyNc",
        "outputId": "b654f329-a161-4cb1-8fae-a967b13332fd"
      },
      "execution_count": 315,
      "outputs": [
        {
          "output_type": "stream",
          "name": "stdout",
          "text": [
            "{'bootstrap': False, 'max_features': 'sqrt', 'min_samples_split': 4, 'n_estimators': 105}\n",
            "0.8411277441099193\n"
          ]
        }
      ]
    },
    {
      "cell_type": "code",
      "source": [
        "x_train, x_test, y_train, y_test = train_test_split(features, target, test_size=0.20,random_state=96)\n",
        "RF=RandomForestRegressor(n_estimators=105 ,max_features= \"sqrt\",min_samples_split = 4,bootstrap=False)\n",
        "RF.fit(x_train,y_train)\n",
        "RF_pred=RF.predict(x_test)\n",
        "mse.append(mean_squared_error(RF_pred,y_test))\n",
        "mae.append(mean_absolute_error(RF_pred,y_test))\n",
        "R_sq.append(r2_score(y_test,RF_pred))\n",
        "model_name.append(\"Random_forest_regression\")\n",
        "rmse.append(np.sqrt(metrics.mean_squared_error(y_test,RF_pred)))\n",
        "plt.scatter(x=y_test,y=RF_pred)"
      ],
      "metadata": {
        "colab": {
          "base_uri": "https://localhost:8080/",
          "height": 284
        },
        "id": "_fopFUXvbLA6",
        "outputId": "ae1c8f84-75c2-4887-c08b-4c293d30faf6"
      },
      "execution_count": 357,
      "outputs": [
        {
          "output_type": "execute_result",
          "data": {
            "text/plain": [
              "<matplotlib.collections.PathCollection at 0x7fcf20524a90>"
            ]
          },
          "metadata": {},
          "execution_count": 357
        },
        {
          "output_type": "display_data",
          "data": {
            "text/plain": [
              "<Figure size 432x288 with 1 Axes>"
            ],
            "image/png": "[encoded data removed]"
          },
          "metadata": {
            "needs_background": "light"
          }
        }
      ]
    },
    {
      "cell_type": "markdown",
      "source": [
        "# Xg Boost Regression"
      ],
      "metadata": {
        "id": "oQc0gUwciAoC"
      }
    },
    {
      "cell_type": "code",
      "source": [
        "x_train, x_test, y_train, y_test = train_test_split(features, target, test_size=0.2,random_state=15)\n",
        "xgb1 = XGBRegressor(objective ='reg:linear', verbosity = 0, random_state=42)\n",
        "parameters = {'learning_rate': [0.1,0.01,1],\n",
        "              'max_depth': [2,3,5,7],\n",
        "              'n_estimators': [3,5,7,10],\n",
        "              \"gamma\":[0.0, 0.1, 0.2,0.3]}\n",
        "\n",
        "xgb_grid = GridSearchCV(xgb1,parameters,cv=3)\n",
        "\n",
        "xgb_grid.fit(x_train, y_train)\n",
        "print(xgb_grid.best_params_)\n",
        "print(xgb_grid.best_score_)"
      ],
      "metadata": {
        "colab": {
          "base_uri": "https://localhost:8080/"
        },
        "id": "hQfHMARUhhHt",
        "outputId": "a1da82bd-1510-4a6a-d675-2ad41456311a"
      },
      "execution_count": 303,
      "outputs": [
        {
          "output_type": "stream",
          "name": "stdout",
          "text": [
            "{'gamma': 0.0, 'learning_rate': 1, 'max_depth': 7, 'n_estimators': 3}\n",
            "0.8100886737042838\n"
          ]
        }
      ]
    },
    {
      "cell_type": "code",
      "source": [
        "Xg=XGBRegressor(objective ='reg:linear', verbosity = 0, random_state=42,gamma=0.0,learning_rate= 1,max_depth= 3,n_estimators= 5)\n",
        "Xg.fit(x_train,y_train)\n",
        "Xg_pred=Xg.predict(x_test)\n",
        "mse.append(mean_squared_error(Xg_pred,y_test))\n",
        "mae.append(mean_absolute_error(Xg_pred,y_test))\n",
        "R_sq.append(r2_score(y_test,Xg_pred))\n",
        "model_name.append(\"XGboost_regression\")\n",
        "rmse.append(np.sqrt(metrics.mean_squared_error(y_test,Xg_pred)))\n",
        "plt.scatter(x=y_test,y=Xg_pred)"
      ],
      "metadata": {
        "colab": {
          "base_uri": "https://localhost:8080/",
          "height": 282
        },
        "id": "Vs8dbahgjTNc",
        "outputId": "d3990f3f-7df6-4b65-c39f-5804106e8592"
      },
      "execution_count": 358,
      "outputs": [
        {
          "output_type": "execute_result",
          "data": {
            "text/plain": [
              "<matplotlib.collections.PathCollection at 0x7fcf043e7b90>"
            ]
          },
          "metadata": {},
          "execution_count": 358
        },
        {
          "output_type": "display_data",
          "data": {
            "text/plain": [
              "<Figure size 432x288 with 1 Axes>"
            ],
            "image/png": "[encoded data removed]"
          },
          "metadata": {
            "needs_background": "light"
          }
        }
      ]
    },
    {
      "cell_type": "markdown",
      "source": [
        "# Decision tree"
      ],
      "metadata": {
        "id": "YpckVdyvlwyi"
      }
    },
    {
      "cell_type": "code",
      "source": [
        "x_train, x_test, y_train, y_test = train_test_split(features, target, test_size=0.2,random_state=15)\n",
        "dt = DecisionTreeRegressor()\n",
        "parameters={\"splitter\":[\"best\",\"random\"],\n",
        "            \"max_depth\" : [1,3,4,5,7,9,11,12],\n",
        "           \"min_samples_leaf\":[1,2,3,4,5,6,7,8,9,10],\n",
        "           \"min_weight_fraction_leaf\":[0.1,0.2,0.3,0.4,0.5,0.6,0.7,0.8,0.9],\n",
        "           \"max_features\":[\"auto\",\"log2\",\"sqrt\",None],\n",
        "           \"max_leaf_nodes\":[None,10,20,30,40,50,60,70,80,90] }\n",
        "\n",
        "dt_grid = GridSearchCV(dt,parameters)\n",
        "dt_grid.fit(x_train, y_train)\n",
        "print(dt_grid.best_params_)\n",
        "print(dt_grid.best_score_)"
      ],
      "metadata": {
        "colab": {
          "base_uri": "https://localhost:8080/"
        },
        "id": "FbCI1yVClMRb",
        "outputId": "d76eaba8-eda0-4c7b-d2da-2f07f027bcf7"
      },
      "execution_count": 305,
      "outputs": [
        {
          "output_type": "stream",
          "name": "stdout",
          "text": [
            "{'max_depth': 7, 'max_features': 'log2', 'max_leaf_nodes': 20, 'min_samples_leaf': 7, 'min_weight_fraction_leaf': 0.1, 'splitter': 'best'}\n",
            "0.653043161795873\n"
          ]
        }
      ]
    },
    {
      "cell_type": "code",
      "source": [
        "DT=DecisionTreeRegressor(splitter='best',max_depth= 3,min_samples_leaf=7,min_weight_fraction_leaf=0.1,max_features= 'sqrt',max_leaf_nodes=50 )\n",
        "DT.fit(x_train,y_train)\n",
        "DT_pred=Xg.predict(x_test)\n",
        "mse.append(mean_squared_error(DT_pred,y_test))\n",
        "mae.append(mean_absolute_error(DT_pred,y_test))\n",
        "R_sq.append(r2_score(y_test,DT_pred))\n",
        "model_name.append(\"Decision_Tree_regression\")\n",
        "rmse.append(np.sqrt(metrics.mean_squared_error(y_test,DT_pred)))\n",
        "plt.scatter(x=y_test,y=DT_pred)"
      ],
      "metadata": {
        "colab": {
          "base_uri": "https://localhost:8080/",
          "height": 282
        },
        "id": "ALq2k6B4mOIA",
        "outputId": "7d3010c8-0cfd-4df1-8e47-4ce8fe240869"
      },
      "execution_count": 359,
      "outputs": [
        {
          "output_type": "execute_result",
          "data": {
            "text/plain": [
              "<matplotlib.collections.PathCollection at 0x7fcf03597d50>"
            ]
          },
          "metadata": {},
          "execution_count": 359
        },
        {
          "output_type": "display_data",
          "data": {
            "text/plain": [
              "<Figure size 432x288 with 1 Axes>"
            ],
            "image/png": "[encoded data removed]"
          },
          "metadata": {
            "needs_background": "light"
          }
        }
      ]
    },
    {
      "cell_type": "markdown",
      "source": [
        "## Table to compare R- Squared of the differeant models"
      ],
      "metadata": {
        "id": "fmrkQXmQM-vR"
      }
    },
    {
      "cell_type": "code",
      "source": [
        "data = list(zip(model_name,mse,mae,rmse,R_sq))                                           \n",
        "df = pd.DataFrame(data,columns=[\"Model\",\"Mean_Sq_Error\",\"Mean_Absolute_Error\",\"Root Mean Squared Error\",'R_sq'])                    #Creating DataFrame    \n",
        "df"
      ],
      "metadata": {
        "colab": {
          "base_uri": "https://localhost:8080/",
          "height": 238
        },
        "id": "32RzRyvhsYgL",
        "outputId": "453aa213-1a0a-4ee7-eb4c-d42bbc0d5e18"
      },
      "execution_count": 360,
      "outputs": [
        {
          "output_type": "execute_result",
          "data": {
            "text/plain": [
              "                      Model  Mean_Sq_Error  Mean_Absolute_Error  \\\n",
              "0         linear_regression   44112.066075           120.304951   \n",
              "1          lasso_regression  117033.913686           186.225513   \n",
              "2          Ridge_regression   63430.327343           145.054876   \n",
              "3  Random_forest_regression   34180.013502            97.017057   \n",
              "4        XGboost_regression   58446.622116           124.274999   \n",
              "5  Decision_Tree_regression   58446.622116           124.274999   \n",
              "\n",
              "   Root Mean Squared Error      R_sq  \n",
              "0               210.028727  0.890963  \n",
              "1               342.102198  0.284978  \n",
              "2               251.853782  0.792801  \n",
              "3               184.878375  0.926594  \n",
              "4               241.757362  0.874478  \n",
              "5               241.757362  0.874478  "
            ],
            "text/html": [
              "\n",
              "  <div id=\"df-b915533f-cb40-4bd4-a0fe-33ca191544d8\">\n",
              "    <div class=\"colab-df-container\">\n",
              "      <div>\n",
              "<style scoped>\n",
              "    .dataframe tbody tr th:only-of-type {\n",
              "        vertical-align: middle;\n",
              "    }\n",
              "\n",
              "    .dataframe tbody tr th {\n",
              "        vertical-align: top;\n",
              "    }\n",
              "\n",
              "    .dataframe thead th {\n",
              "        text-align: right;\n",
              "    }\n",
              "</style>\n",
              "<table border=\"1\" class=\"dataframe\">\n",
              "  <thead>\n",
              "    <tr style=\"text-align: right;\">\n",
              "      <th></th>\n",
              "      <th>Model</th>\n",
              "      <th>Mean_Sq_Error</th>\n",
              "      <th>Mean_Absolute_Error</th>\n",
              "      <th>Root Mean Squared Error</th>\n",
              "      <th>R_sq</th>\n",
              "    </tr>\n",
              "  </thead>\n",
              "  <tbody>\n",
              "    <tr>\n",
              "      <th>0</th>\n",
              "      <td>linear_regression</td>\n",
              "      <td>44112.066075</td>\n",
              "      <td>120.304951</td>\n",
              "      <td>210.028727</td>\n",
              "      <td>0.890963</td>\n",
              "    </tr>\n",
              "    <tr>\n",
              "      <th>1</th>\n",
              "      <td>lasso_regression</td>\n",
              "      <td>117033.913686</td>\n",
              "      <td>186.225513</td>\n",
              "      <td>342.102198</td>\n",
              "      <td>0.284978</td>\n",
              "    </tr>\n",
              "    <tr>\n",
              "      <th>2</th>\n",
              "      <td>Ridge_regression</td>\n",
              "      <td>63430.327343</td>\n",
              "      <td>145.054876</td>\n",
              "      <td>251.853782</td>\n",
              "      <td>0.792801</td>\n",
              "    </tr>\n",
              "    <tr>\n",
              "      <th>3</th>\n",
              "      <td>Random_forest_regression</td>\n",
              "      <td>34180.013502</td>\n",
              "      <td>97.017057</td>\n",
              "      <td>184.878375</td>\n",
              "      <td>0.926594</td>\n",
              "    </tr>\n",
              "    <tr>\n",
              "      <th>4</th>\n",
              "      <td>XGboost_regression</td>\n",
              "      <td>58446.622116</td>\n",
              "      <td>124.274999</td>\n",
              "      <td>241.757362</td>\n",
              "      <td>0.874478</td>\n",
              "    </tr>\n",
              "    <tr>\n",
              "      <th>5</th>\n",
              "      <td>Decision_Tree_regression</td>\n",
              "      <td>58446.622116</td>\n",
              "      <td>124.274999</td>\n",
              "      <td>241.757362</td>\n",
              "      <td>0.874478</td>\n",
              "    </tr>\n",
              "  </tbody>\n",
              "</table>\n",
              "</div>\n",
              "      <button class=\"colab-df-convert\" onclick=\"convertToInteractive('df-b915533f-cb40-4bd4-a0fe-33ca191544d8')\"\n",
              "              title=\"Convert this dataframe to an interactive table.\"\n",
              "              style=\"display:none;\">\n",
              "        \n",
              "  <svg xmlns=\"http://www.w3.org/2000/svg\" height=\"24px\"viewBox=\"0 0 24 24\"\n",
              "       width=\"24px\">\n",
              "    <path d=\"M0 0h24v24H0V0z\" fill=\"none\"/>\n",
              "    <path d=\"M18.56 5.44l.94 2.06.94-2.06 2.06-.94-2.06-.94-.94-2.06-.94 2.06-2.06.94zm-11 1L8.5 8.5l.94-2.06 2.06-.94-2.06-.94L8.5 2.5l-.94 2.06-2.06.94zm10 10l.94 2.06.94-2.06 2.06-.94-2.06-.94-.94-2.06-.94 2.06-2.06.94z\"/><path d=\"M17.41 7.96l-1.37-1.37c-.4-.4-.92-.59-1.43-.59-.52 0-1.04.2-1.43.59L10.3 9.45l-7.72 7.72c-.78.78-.78 2.05 0 2.83L4 21.41c.39.39.9.59 1.41.59.51 0 1.02-.2 1.41-.59l7.78-7.78 2.81-2.81c.8-.78.8-2.07 0-2.86zM5.41 20L4 18.59l7.72-7.72 1.47 1.35L5.41 20z\"/>\n",
              "  </svg>\n",
              "      </button>\n",
              "      \n",
              "  <style>\n",
              "    .colab-df-container {\n",
              "      display:flex;\n",
              "      flex-wrap:wrap;\n",
              "      gap: 12px;\n",
              "    }\n",
              "\n",
              "    .colab-df-convert {\n",
              "      background-color: #E8F0FE;\n",
              "      border: none;\n",
              "      border-radius: 50%;\n",
              "      cursor: pointer;\n",
              "      display: none;\n",
              "      fill: #1967D2;\n",
              "      height: 32px;\n",
              "      padding: 0 0 0 0;\n",
              "      width: 32px;\n",
              "    }\n",
              "\n",
              "    .colab-df-convert:hover {\n",
              "      background-color: #E2EBFA;\n",
              "      box-shadow: 0px 1px 2px rgba(60, 64, 67, 0.3), 0px 1px 3px 1px rgba(60, 64, 67, 0.15);\n",
              "      fill: #174EA6;\n",
              "    }\n",
              "\n",
              "    [theme=dark] .colab-df-convert {\n",
              "      background-color: #3B4455;\n",
              "      fill: #D2E3FC;\n",
              "    }\n",
              "\n",
              "    [theme=dark] .colab-df-convert:hover {\n",
              "      background-color: #434B5C;\n",
              "      box-shadow: 0px 1px 3px 1px rgba(0, 0, 0, 0.15);\n",
              "      filter: drop-shadow(0px 1px 2px rgba(0, 0, 0, 0.3));\n",
              "      fill: #FFFFFF;\n",
              "    }\n",
              "  </style>\n",
              "\n",
              "      <script>\n",
              "        const buttonEl =\n",
              "          document.querySelector('#df-b915533f-cb40-4bd4-a0fe-33ca191544d8 button.colab-df-convert');\n",
              "        buttonEl.style.display =\n",
              "          google.colab.kernel.accessAllowed ? 'block' : 'none';\n",
              "\n",
              "        async function convertToInteractive(key) {\n",
              "          const element = document.querySelector('#df-b915533f-cb40-4bd4-a0fe-33ca191544d8');\n",
              "          const dataTable =\n",
              "            await google.colab.kernel.invokeFunction('convertToInteractive',\n",
              "                                                     [key], {});\n",
              "          if (!dataTable) return;\n",
              "\n",
              "          const docLinkHtml = 'Like what you see? Visit the ' +\n",
              "            '<a target=\"_blank\" href=https://colab.research.google.com/notebooks/data_table.ipynb>data table notebook</a>'\n",
              "            + ' to learn more about interactive tables.';\n",
              "          element.innerHTML = '';\n",
              "          dataTable['output_type'] = 'display_data';\n",
              "          await google.colab.output.renderOutput(dataTable, element);\n",
              "          const docLink = document.createElement('div');\n",
              "          docLink.innerHTML = docLinkHtml;\n",
              "          element.appendChild(docLink);\n",
              "        }\n",
              "      </script>\n",
              "    </div>\n",
              "  </div>\n",
              "  "
            ]
          },
          "metadata": {},
          "execution_count": 360
        }
      ]
    },
    {
      "cell_type": "code",
      "source": [
        "x_train, x_test, y_train, y_test = train_test_split(features, target, test_size=0.20,random_state=96)"
      ],
      "metadata": {
        "id": "iA1Qc9Vz5nH1"
      },
      "execution_count": 361,
      "outputs": []
    },
    {
      "cell_type": "code",
      "source": [
        "import pickle\n",
        "# # saved the trained model in file with given name\n",
        "pickle_out = open(\"Global_power_CaseStudy.pkl\",\"wb\") # name of my pickle file , wb -write\n",
        "pickle.dump(RF, pickle_out)\n",
        "pickle_out.close()"
      ],
      "metadata": {
        "id": "g7vRWbgIsvT8"
      },
      "execution_count": 362,
      "outputs": []
    },
    {
      "cell_type": "code",
      "source": [
        "# loading the pickled model\n",
        "pickle_in = open(\"Global_power_CaseStudy.pkl\",\"rb\") # rb -> read the pickel file\n",
        "trained_model = pickle.load(pickle_in)\n",
        "pd.DataFrame([trained_model.predict(x_test)[:],y_test[:]],index=[\"Predicted\",\"Original\"])"
      ],
      "metadata": {
        "colab": {
          "base_uri": "https://localhost:8080/",
          "height": 205
        },
        "id": "k1go8ZkptZNK",
        "outputId": "f767066d-81e4-4005-b4eb-2907bca3ee84"
      },
      "execution_count": 363,
      "outputs": [
        {
          "output_type": "execute_result",
          "data": {
            "text/plain": [
              "                  0           1          2          3          4         5    \\\n",
              "Predicted  136.238095  604.864032  26.992143  21.207143  19.018873  9.738889   \n",
              "Original   120.000000  270.000000  24.000000  25.500000  10.000000  5.000000   \n",
              "\n",
              "                  6          7          8          9    ...       172  \\\n",
              "Predicted  100.014524  28.631587   8.569841  91.497619  ...  16.59154   \n",
              "Original   110.000000  30.000000  10.000000  99.000000  ...  12.00000   \n",
              "\n",
              "                  173          174         175         176        177  \\\n",
              "Predicted  129.338333  1267.709524  105.961302  265.465305   4.107778   \n",
              "Original   234.000000  1080.000000  100.000000  702.860000  15.000000   \n",
              "\n",
              "                  178        179       180         181  \n",
              "Predicted  474.916952  43.700635   6.68254  1140.82127  \n",
              "Original   540.000000  50.000000  11.20000  1000.00000  \n",
              "\n",
              "[2 rows x 182 columns]"
            ],
            "text/html": [
              "\n",
              "  <div id=\"df-6b249d02-881f-4b8a-b5cc-6e21bafc7ef2\">\n",
              "    <div class=\"colab-df-container\">\n",
              "      <div>\n",
              "<style scoped>\n",
              "    .dataframe tbody tr th:only-of-type {\n",
              "        vertical-align: middle;\n",
              "    }\n",
              "\n",
              "    .dataframe tbody tr th {\n",
              "        vertical-align: top;\n",
              "    }\n",
              "\n",
              "    .dataframe thead th {\n",
              "        text-align: right;\n",
              "    }\n",
              "</style>\n",
              "<table border=\"1\" class=\"dataframe\">\n",
              "  <thead>\n",
              "    <tr style=\"text-align: right;\">\n",
              "      <th></th>\n",
              "      <th>0</th>\n",
              "      <th>1</th>\n",
              "      <th>2</th>\n",
              "      <th>3</th>\n",
              "      <th>4</th>\n",
              "      <th>5</th>\n",
              "      <th>6</th>\n",
              "      <th>7</th>\n",
              "      <th>8</th>\n",
              "      <th>9</th>\n",
              "      <th>...</th>\n",
              "      <th>172</th>\n",
              "      <th>173</th>\n",
              "      <th>174</th>\n",
              "      <th>175</th>\n",
              "      <th>176</th>\n",
              "      <th>177</th>\n",
              "      <th>178</th>\n",
              "      <th>179</th>\n",
              "      <th>180</th>\n",
              "      <th>181</th>\n",
              "    </tr>\n",
              "  </thead>\n",
              "  <tbody>\n",
              "    <tr>\n",
              "      <th>Predicted</th>\n",
              "      <td>136.238095</td>\n",
              "      <td>604.864032</td>\n",
              "      <td>26.992143</td>\n",
              "      <td>21.207143</td>\n",
              "      <td>19.018873</td>\n",
              "      <td>9.738889</td>\n",
              "      <td>100.014524</td>\n",
              "      <td>28.631587</td>\n",
              "      <td>8.569841</td>\n",
              "      <td>91.497619</td>\n",
              "      <td>...</td>\n",
              "      <td>16.59154</td>\n",
              "      <td>129.338333</td>\n",
              "      <td>1267.709524</td>\n",
              "      <td>105.961302</td>\n",
              "      <td>265.465305</td>\n",
              "      <td>4.107778</td>\n",
              "      <td>474.916952</td>\n",
              "      <td>43.700635</td>\n",
              "      <td>6.68254</td>\n",
              "      <td>1140.82127</td>\n",
              "    </tr>\n",
              "    <tr>\n",
              "      <th>Original</th>\n",
              "      <td>120.000000</td>\n",
              "      <td>270.000000</td>\n",
              "      <td>24.000000</td>\n",
              "      <td>25.500000</td>\n",
              "      <td>10.000000</td>\n",
              "      <td>5.000000</td>\n",
              "      <td>110.000000</td>\n",
              "      <td>30.000000</td>\n",
              "      <td>10.000000</td>\n",
              "      <td>99.000000</td>\n",
              "      <td>...</td>\n",
              "      <td>12.00000</td>\n",
              "      <td>234.000000</td>\n",
              "      <td>1080.000000</td>\n",
              "      <td>100.000000</td>\n",
              "      <td>702.860000</td>\n",
              "      <td>15.000000</td>\n",
              "      <td>540.000000</td>\n",
              "      <td>50.000000</td>\n",
              "      <td>11.20000</td>\n",
              "      <td>1000.00000</td>\n",
              "    </tr>\n",
              "  </tbody>\n",
              "</table>\n",
              "<p>2 rows × 182 columns</p>\n",
              "</div>\n",
              "      <button class=\"colab-df-convert\" onclick=\"convertToInteractive('df-6b249d02-881f-4b8a-b5cc-6e21bafc7ef2')\"\n",
              "              title=\"Convert this dataframe to an interactive table.\"\n",
              "              style=\"display:none;\">\n",
              "        \n",
              "  <svg xmlns=\"http://www.w3.org/2000/svg\" height=\"24px\"viewBox=\"0 0 24 24\"\n",
              "       width=\"24px\">\n",
              "    <path d=\"M0 0h24v24H0V0z\" fill=\"none\"/>\n",
              "    <path d=\"M18.56 5.44l.94 2.06.94-2.06 2.06-.94-2.06-.94-.94-2.06-.94 2.06-2.06.94zm-11 1L8.5 8.5l.94-2.06 2.06-.94-2.06-.94L8.5 2.5l-.94 2.06-2.06.94zm10 10l.94 2.06.94-2.06 2.06-.94-2.06-.94-.94-2.06-.94 2.06-2.06.94z\"/><path d=\"M17.41 7.96l-1.37-1.37c-.4-.4-.92-.59-1.43-.59-.52 0-1.04.2-1.43.59L10.3 9.45l-7.72 7.72c-.78.78-.78 2.05 0 2.83L4 21.41c.39.39.9.59 1.41.59.51 0 1.02-.2 1.41-.59l7.78-7.78 2.81-2.81c.8-.78.8-2.07 0-2.86zM5.41 20L4 18.59l7.72-7.72 1.47 1.35L5.41 20z\"/>\n",
              "  </svg>\n",
              "      </button>\n",
              "      \n",
              "  <style>\n",
              "    .colab-df-container {\n",
              "      display:flex;\n",
              "      flex-wrap:wrap;\n",
              "      gap: 12px;\n",
              "    }\n",
              "\n",
              "    .colab-df-convert {\n",
              "      background-color: #E8F0FE;\n",
              "      border: none;\n",
              "      border-radius: 50%;\n",
              "      cursor: pointer;\n",
              "      display: none;\n",
              "      fill: #1967D2;\n",
              "      height: 32px;\n",
              "      padding: 0 0 0 0;\n",
              "      width: 32px;\n",
              "    }\n",
              "\n",
              "    .colab-df-convert:hover {\n",
              "      background-color: #E2EBFA;\n",
              "      box-shadow: 0px 1px 2px rgba(60, 64, 67, 0.3), 0px 1px 3px 1px rgba(60, 64, 67, 0.15);\n",
              "      fill: #174EA6;\n",
              "    }\n",
              "\n",
              "    [theme=dark] .colab-df-convert {\n",
              "      background-color: #3B4455;\n",
              "      fill: #D2E3FC;\n",
              "    }\n",
              "\n",
              "    [theme=dark] .colab-df-convert:hover {\n",
              "      background-color: #434B5C;\n",
              "      box-shadow: 0px 1px 3px 1px rgba(0, 0, 0, 0.15);\n",
              "      filter: drop-shadow(0px 1px 2px rgba(0, 0, 0, 0.3));\n",
              "      fill: #FFFFFF;\n",
              "    }\n",
              "  </style>\n",
              "\n",
              "      <script>\n",
              "        const buttonEl =\n",
              "          document.querySelector('#df-6b249d02-881f-4b8a-b5cc-6e21bafc7ef2 button.colab-df-convert');\n",
              "        buttonEl.style.display =\n",
              "          google.colab.kernel.accessAllowed ? 'block' : 'none';\n",
              "\n",
              "        async function convertToInteractive(key) {\n",
              "          const element = document.querySelector('#df-6b249d02-881f-4b8a-b5cc-6e21bafc7ef2');\n",
              "          const dataTable =\n",
              "            await google.colab.kernel.invokeFunction('convertToInteractive',\n",
              "                                                     [key], {});\n",
              "          if (!dataTable) return;\n",
              "\n",
              "          const docLinkHtml = 'Like what you see? Visit the ' +\n",
              "            '<a target=\"_blank\" href=https://colab.research.google.com/notebooks/data_table.ipynb>data table notebook</a>'\n",
              "            + ' to learn more about interactive tables.';\n",
              "          element.innerHTML = '';\n",
              "          dataTable['output_type'] = 'display_data';\n",
              "          await google.colab.output.renderOutput(dataTable, element);\n",
              "          const docLink = document.createElement('div');\n",
              "          docLink.innerHTML = docLinkHtml;\n",
              "          element.appendChild(docLink);\n",
              "        }\n",
              "      </script>\n",
              "    </div>\n",
              "  </div>\n",
              "  "
            ]
          },
          "metadata": {},
          "execution_count": 363
        }
      ]
    },
    {
      "cell_type": "markdown",
      "source": [
        "# Global Power as classification Problem"
      ],
      "metadata": {
        "id": "I2ZHeaWmNLNH"
      }
    },
    {
      "cell_type": "code",
      "source": [
        "df=Global_power.copy()\n",
        "df"
      ],
      "metadata": {
        "colab": {
          "base_uri": "https://localhost:8080/",
          "height": 488
        },
        "id": "0VbvVNOHKG9w",
        "outputId": "1ecf3853-a05d-43e7-fd32-2e0871bc5ddf"
      },
      "execution_count": 435,
      "outputs": [
        {
          "output_type": "execute_result",
          "data": {
            "text/plain": [
              "     capacity_mw  primary_fuel  other_fuel1  other_fuel2  geolocation_source  \\\n",
              "0            2.5           6.0          3.0          1.0                 1.0   \n",
              "1           98.0           1.0          3.0          1.0                 2.0   \n",
              "2           39.2           7.0          3.0          1.0                 2.0   \n",
              "3          135.0           2.0          3.0          1.0                 2.0   \n",
              "4         1800.0           1.0          2.0          1.0                 2.0   \n",
              "..           ...           ...          ...          ...                 ...   \n",
              "902       1600.0           1.0          2.0          1.0                 2.0   \n",
              "903          3.0           6.0          3.0          1.0                 0.0   \n",
              "904         25.5           7.0          3.0          1.0                 2.0   \n",
              "905         80.0           1.0          3.0          1.0                 2.0   \n",
              "906         16.5           7.0          3.0          1.0                 2.0   \n",
              "\n",
              "     generation_gwh_2014  generation_gwh_2015  generation_gwh_2016  \\\n",
              "0          -95739.819714       -497730.716285       -796333.679679   \n",
              "1          -95561.768130       -497404.511630       -795865.697521   \n",
              "2          -96296.152348       -500818.830595       -801288.975509   \n",
              "3             617.789264           843.747000           886.004428   \n",
              "4            3035.550000          5916.370000          6243.000000   \n",
              "..                   ...                  ...                  ...   \n",
              "902           522.961300             0.994875           233.596650   \n",
              "903        -96308.231890       -500657.391023       -801010.779522   \n",
              "904        -96326.993268       -500892.858549       -801399.623250   \n",
              "905        -95590.817827       -497442.773239       -795916.789995   \n",
              "906        -96339.139852       -500899.756921       -801405.622084   \n",
              "\n",
              "     generation_gwh_2017  generation_gwh_2018  generation_data_source  \n",
              "0         -603744.075885       -593225.850459                     1.0  \n",
              "1         -603309.891216       -592759.204507                     1.0  \n",
              "2         -607471.541986       -596872.211302                     1.0  \n",
              "3             663.774500           626.239128                     0.0  \n",
              "4            5385.579736          7279.000000                     0.0  \n",
              "..                   ...                  ...                     ...  \n",
              "902           865.400000           686.500000                     0.0  \n",
              "903       -607290.618935       -596709.694641                     1.0  \n",
              "904       -607566.826833       -596971.574955                     1.0  \n",
              "905       -603363.581022       -592819.513163                     1.0  \n",
              "906       -607578.847630       -596987.166372                     1.0  \n",
              "\n",
              "[907 rows x 11 columns]"
            ],
            "text/html": [
              "\n",
              "  <div id=\"df-5f5ef159-348f-45fb-8a35-8d25dd9fa84f\">\n",
              "    <div class=\"colab-df-container\">\n",
              "      <div>\n",
              "<style scoped>\n",
              "    .dataframe tbody tr th:only-of-type {\n",
              "        vertical-align: middle;\n",
              "    }\n",
              "\n",
              "    .dataframe tbody tr th {\n",
              "        vertical-align: top;\n",
              "    }\n",
              "\n",
              "    .dataframe thead th {\n",
              "        text-align: right;\n",
              "    }\n",
              "</style>\n",
              "<table border=\"1\" class=\"dataframe\">\n",
              "  <thead>\n",
              "    <tr style=\"text-align: right;\">\n",
              "      <th></th>\n",
              "      <th>capacity_mw</th>\n",
              "      <th>primary_fuel</th>\n",
              "      <th>other_fuel1</th>\n",
              "      <th>other_fuel2</th>\n",
              "      <th>geolocation_source</th>\n",
              "      <th>generation_gwh_2014</th>\n",
              "      <th>generation_gwh_2015</th>\n",
              "      <th>generation_gwh_2016</th>\n",
              "      <th>generation_gwh_2017</th>\n",
              "      <th>generation_gwh_2018</th>\n",
              "      <th>generation_data_source</th>\n",
              "    </tr>\n",
              "  </thead>\n",
              "  <tbody>\n",
              "    <tr>\n",
              "      <th>0</th>\n",
              "      <td>2.5</td>\n",
              "      <td>6.0</td>\n",
              "      <td>3.0</td>\n",
              "      <td>1.0</td>\n",
              "      <td>1.0</td>\n",
              "      <td>-95739.819714</td>\n",
              "      <td>-497730.716285</td>\n",
              "      <td>-796333.679679</td>\n",
              "      <td>-603744.075885</td>\n",
              "      <td>-593225.850459</td>\n",
              "      <td>1.0</td>\n",
              "    </tr>\n",
              "    <tr>\n",
              "      <th>1</th>\n",
              "      <td>98.0</td>\n",
              "      <td>1.0</td>\n",
              "      <td>3.0</td>\n",
              "      <td>1.0</td>\n",
              "      <td>2.0</td>\n",
              "      <td>-95561.768130</td>\n",
              "      <td>-497404.511630</td>\n",
              "      <td>-795865.697521</td>\n",
              "      <td>-603309.891216</td>\n",
              "      <td>-592759.204507</td>\n",
              "      <td>1.0</td>\n",
              "    </tr>\n",
              "    <tr>\n",
              "      <th>2</th>\n",
              "      <td>39.2</td>\n",
              "      <td>7.0</td>\n",
              "      <td>3.0</td>\n",
              "      <td>1.0</td>\n",
              "      <td>2.0</td>\n",
              "      <td>-96296.152348</td>\n",
              "      <td>-500818.830595</td>\n",
              "      <td>-801288.975509</td>\n",
              "      <td>-607471.541986</td>\n",
              "      <td>-596872.211302</td>\n",
              "      <td>1.0</td>\n",
              "    </tr>\n",
              "    <tr>\n",
              "      <th>3</th>\n",
              "      <td>135.0</td>\n",
              "      <td>2.0</td>\n",
              "      <td>3.0</td>\n",
              "      <td>1.0</td>\n",
              "      <td>2.0</td>\n",
              "      <td>617.789264</td>\n",
              "      <td>843.747000</td>\n",
              "      <td>886.004428</td>\n",
              "      <td>663.774500</td>\n",
              "      <td>626.239128</td>\n",
              "      <td>0.0</td>\n",
              "    </tr>\n",
              "    <tr>\n",
              "      <th>4</th>\n",
              "      <td>1800.0</td>\n",
              "      <td>1.0</td>\n",
              "      <td>2.0</td>\n",
              "      <td>1.0</td>\n",
              "      <td>2.0</td>\n",
              "      <td>3035.550000</td>\n",
              "      <td>5916.370000</td>\n",
              "      <td>6243.000000</td>\n",
              "      <td>5385.579736</td>\n",
              "      <td>7279.000000</td>\n",
              "      <td>0.0</td>\n",
              "    </tr>\n",
              "    <tr>\n",
              "      <th>...</th>\n",
              "      <td>...</td>\n",
              "      <td>...</td>\n",
              "      <td>...</td>\n",
              "      <td>...</td>\n",
              "      <td>...</td>\n",
              "      <td>...</td>\n",
              "      <td>...</td>\n",
              "      <td>...</td>\n",
              "      <td>...</td>\n",
              "      <td>...</td>\n",
              "      <td>...</td>\n",
              "    </tr>\n",
              "    <tr>\n",
              "      <th>902</th>\n",
              "      <td>1600.0</td>\n",
              "      <td>1.0</td>\n",
              "      <td>2.0</td>\n",
              "      <td>1.0</td>\n",
              "      <td>2.0</td>\n",
              "      <td>522.961300</td>\n",
              "      <td>0.994875</td>\n",
              "      <td>233.596650</td>\n",
              "      <td>865.400000</td>\n",
              "      <td>686.500000</td>\n",
              "      <td>0.0</td>\n",
              "    </tr>\n",
              "    <tr>\n",
              "      <th>903</th>\n",
              "      <td>3.0</td>\n",
              "      <td>6.0</td>\n",
              "      <td>3.0</td>\n",
              "      <td>1.0</td>\n",
              "      <td>0.0</td>\n",
              "      <td>-96308.231890</td>\n",
              "      <td>-500657.391023</td>\n",
              "      <td>-801010.779522</td>\n",
              "      <td>-607290.618935</td>\n",
              "      <td>-596709.694641</td>\n",
              "      <td>1.0</td>\n",
              "    </tr>\n",
              "    <tr>\n",
              "      <th>904</th>\n",
              "      <td>25.5</td>\n",
              "      <td>7.0</td>\n",
              "      <td>3.0</td>\n",
              "      <td>1.0</td>\n",
              "      <td>2.0</td>\n",
              "      <td>-96326.993268</td>\n",
              "      <td>-500892.858549</td>\n",
              "      <td>-801399.623250</td>\n",
              "      <td>-607566.826833</td>\n",
              "      <td>-596971.574955</td>\n",
              "      <td>1.0</td>\n",
              "    </tr>\n",
              "    <tr>\n",
              "      <th>905</th>\n",
              "      <td>80.0</td>\n",
              "      <td>1.0</td>\n",
              "      <td>3.0</td>\n",
              "      <td>1.0</td>\n",
              "      <td>2.0</td>\n",
              "      <td>-95590.817827</td>\n",
              "      <td>-497442.773239</td>\n",
              "      <td>-795916.789995</td>\n",
              "      <td>-603363.581022</td>\n",
              "      <td>-592819.513163</td>\n",
              "      <td>1.0</td>\n",
              "    </tr>\n",
              "    <tr>\n",
              "      <th>906</th>\n",
              "      <td>16.5</td>\n",
              "      <td>7.0</td>\n",
              "      <td>3.0</td>\n",
              "      <td>1.0</td>\n",
              "      <td>2.0</td>\n",
              "      <td>-96339.139852</td>\n",
              "      <td>-500899.756921</td>\n",
              "      <td>-801405.622084</td>\n",
              "      <td>-607578.847630</td>\n",
              "      <td>-596987.166372</td>\n",
              "      <td>1.0</td>\n",
              "    </tr>\n",
              "  </tbody>\n",
              "</table>\n",
              "<p>907 rows × 11 columns</p>\n",
              "</div>\n",
              "      <button class=\"colab-df-convert\" onclick=\"convertToInteractive('df-5f5ef159-348f-45fb-8a35-8d25dd9fa84f')\"\n",
              "              title=\"Convert this dataframe to an interactive table.\"\n",
              "              style=\"display:none;\">\n",
              "        \n",
              "  <svg xmlns=\"http://www.w3.org/2000/svg\" height=\"24px\"viewBox=\"0 0 24 24\"\n",
              "       width=\"24px\">\n",
              "    <path d=\"M0 0h24v24H0V0z\" fill=\"none\"/>\n",
              "    <path d=\"M18.56 5.44l.94 2.06.94-2.06 2.06-.94-2.06-.94-.94-2.06-.94 2.06-2.06.94zm-11 1L8.5 8.5l.94-2.06 2.06-.94-2.06-.94L8.5 2.5l-.94 2.06-2.06.94zm10 10l.94 2.06.94-2.06 2.06-.94-2.06-.94-.94-2.06-.94 2.06-2.06.94z\"/><path d=\"M17.41 7.96l-1.37-1.37c-.4-.4-.92-.59-1.43-.59-.52 0-1.04.2-1.43.59L10.3 9.45l-7.72 7.72c-.78.78-.78 2.05 0 2.83L4 21.41c.39.39.9.59 1.41.59.51 0 1.02-.2 1.41-.59l7.78-7.78 2.81-2.81c.8-.78.8-2.07 0-2.86zM5.41 20L4 18.59l7.72-7.72 1.47 1.35L5.41 20z\"/>\n",
              "  </svg>\n",
              "      </button>\n",
              "      \n",
              "  <style>\n",
              "    .colab-df-container {\n",
              "      display:flex;\n",
              "      flex-wrap:wrap;\n",
              "      gap: 12px;\n",
              "    }\n",
              "\n",
              "    .colab-df-convert {\n",
              "      background-color: #E8F0FE;\n",
              "      border: none;\n",
              "      border-radius: 50%;\n",
              "      cursor: pointer;\n",
              "      display: none;\n",
              "      fill: #1967D2;\n",
              "      height: 32px;\n",
              "      padding: 0 0 0 0;\n",
              "      width: 32px;\n",
              "    }\n",
              "\n",
              "    .colab-df-convert:hover {\n",
              "      background-color: #E2EBFA;\n",
              "      box-shadow: 0px 1px 2px rgba(60, 64, 67, 0.3), 0px 1px 3px 1px rgba(60, 64, 67, 0.15);\n",
              "      fill: #174EA6;\n",
              "    }\n",
              "\n",
              "    [theme=dark] .colab-df-convert {\n",
              "      background-color: #3B4455;\n",
              "      fill: #D2E3FC;\n",
              "    }\n",
              "\n",
              "    [theme=dark] .colab-df-convert:hover {\n",
              "      background-color: #434B5C;\n",
              "      box-shadow: 0px 1px 3px 1px rgba(0, 0, 0, 0.15);\n",
              "      filter: drop-shadow(0px 1px 2px rgba(0, 0, 0, 0.3));\n",
              "      fill: #FFFFFF;\n",
              "    }\n",
              "  </style>\n",
              "\n",
              "      <script>\n",
              "        const buttonEl =\n",
              "          document.querySelector('#df-5f5ef159-348f-45fb-8a35-8d25dd9fa84f button.colab-df-convert');\n",
              "        buttonEl.style.display =\n",
              "          google.colab.kernel.accessAllowed ? 'block' : 'none';\n",
              "\n",
              "        async function convertToInteractive(key) {\n",
              "          const element = document.querySelector('#df-5f5ef159-348f-45fb-8a35-8d25dd9fa84f');\n",
              "          const dataTable =\n",
              "            await google.colab.kernel.invokeFunction('convertToInteractive',\n",
              "                                                     [key], {});\n",
              "          if (!dataTable) return;\n",
              "\n",
              "          const docLinkHtml = 'Like what you see? Visit the ' +\n",
              "            '<a target=\"_blank\" href=https://colab.research.google.com/notebooks/data_table.ipynb>data table notebook</a>'\n",
              "            + ' to learn more about interactive tables.';\n",
              "          element.innerHTML = '';\n",
              "          dataTable['output_type'] = 'display_data';\n",
              "          await google.colab.output.renderOutput(dataTable, element);\n",
              "          const docLink = document.createElement('div');\n",
              "          docLink.innerHTML = docLinkHtml;\n",
              "          element.appendChild(docLink);\n",
              "        }\n",
              "      </script>\n",
              "    </div>\n",
              "  </div>\n",
              "  "
            ]
          },
          "metadata": {},
          "execution_count": 435
        }
      ]
    },
    {
      "cell_type": "code",
      "source": [
        "df.primary_fuel=df.primary_fuel.map( {0:'Biomass', 1: 'Coal', 2: 'Gas',3: 'Hydro', 4: 'Nuclear',5: 'Oil',6: 'Solar',7: 'Wind'})\n",
        "df"
      ],
      "metadata": {
        "colab": {
          "base_uri": "https://localhost:8080/",
          "height": 488
        },
        "id": "zKk7dEesfTDe",
        "outputId": "5057c370-6f47-4270-be56-26ceee21a942"
      },
      "execution_count": 437,
      "outputs": [
        {
          "output_type": "execute_result",
          "data": {
            "text/plain": [
              "     capacity_mw primary_fuel  other_fuel1  other_fuel2  geolocation_source  \\\n",
              "0            2.5        Solar          3.0          1.0                 1.0   \n",
              "1           98.0         Coal          3.0          1.0                 2.0   \n",
              "2           39.2         Wind          3.0          1.0                 2.0   \n",
              "3          135.0          Gas          3.0          1.0                 2.0   \n",
              "4         1800.0         Coal          2.0          1.0                 2.0   \n",
              "..           ...          ...          ...          ...                 ...   \n",
              "902       1600.0         Coal          2.0          1.0                 2.0   \n",
              "903          3.0        Solar          3.0          1.0                 0.0   \n",
              "904         25.5         Wind          3.0          1.0                 2.0   \n",
              "905         80.0         Coal          3.0          1.0                 2.0   \n",
              "906         16.5         Wind          3.0          1.0                 2.0   \n",
              "\n",
              "     generation_gwh_2014  generation_gwh_2015  generation_gwh_2016  \\\n",
              "0          -95739.819714       -497730.716285       -796333.679679   \n",
              "1          -95561.768130       -497404.511630       -795865.697521   \n",
              "2          -96296.152348       -500818.830595       -801288.975509   \n",
              "3             617.789264           843.747000           886.004428   \n",
              "4            3035.550000          5916.370000          6243.000000   \n",
              "..                   ...                  ...                  ...   \n",
              "902           522.961300             0.994875           233.596650   \n",
              "903        -96308.231890       -500657.391023       -801010.779522   \n",
              "904        -96326.993268       -500892.858549       -801399.623250   \n",
              "905        -95590.817827       -497442.773239       -795916.789995   \n",
              "906        -96339.139852       -500899.756921       -801405.622084   \n",
              "\n",
              "     generation_gwh_2017  generation_gwh_2018  generation_data_source  \n",
              "0         -603744.075885       -593225.850459                     1.0  \n",
              "1         -603309.891216       -592759.204507                     1.0  \n",
              "2         -607471.541986       -596872.211302                     1.0  \n",
              "3             663.774500           626.239128                     0.0  \n",
              "4            5385.579736          7279.000000                     0.0  \n",
              "..                   ...                  ...                     ...  \n",
              "902           865.400000           686.500000                     0.0  \n",
              "903       -607290.618935       -596709.694641                     1.0  \n",
              "904       -607566.826833       -596971.574955                     1.0  \n",
              "905       -603363.581022       -592819.513163                     1.0  \n",
              "906       -607578.847630       -596987.166372                     1.0  \n",
              "\n",
              "[907 rows x 11 columns]"
            ],
            "text/html": [
              "\n",
              "  <div id=\"df-21f109eb-06ae-41d2-b5ba-64604d74f45c\">\n",
              "    <div class=\"colab-df-container\">\n",
              "      <div>\n",
              "<style scoped>\n",
              "    .dataframe tbody tr th:only-of-type {\n",
              "        vertical-align: middle;\n",
              "    }\n",
              "\n",
              "    .dataframe tbody tr th {\n",
              "        vertical-align: top;\n",
              "    }\n",
              "\n",
              "    .dataframe thead th {\n",
              "        text-align: right;\n",
              "    }\n",
              "</style>\n",
              "<table border=\"1\" class=\"dataframe\">\n",
              "  <thead>\n",
              "    <tr style=\"text-align: right;\">\n",
              "      <th></th>\n",
              "      <th>capacity_mw</th>\n",
              "      <th>primary_fuel</th>\n",
              "      <th>other_fuel1</th>\n",
              "      <th>other_fuel2</th>\n",
              "      <th>geolocation_source</th>\n",
              "      <th>generation_gwh_2014</th>\n",
              "      <th>generation_gwh_2015</th>\n",
              "      <th>generation_gwh_2016</th>\n",
              "      <th>generation_gwh_2017</th>\n",
              "      <th>generation_gwh_2018</th>\n",
              "      <th>generation_data_source</th>\n",
              "    </tr>\n",
              "  </thead>\n",
              "  <tbody>\n",
              "    <tr>\n",
              "      <th>0</th>\n",
              "      <td>2.5</td>\n",
              "      <td>Solar</td>\n",
              "      <td>3.0</td>\n",
              "      <td>1.0</td>\n",
              "      <td>1.0</td>\n",
              "      <td>-95739.819714</td>\n",
              "      <td>-497730.716285</td>\n",
              "      <td>-796333.679679</td>\n",
              "      <td>-603744.075885</td>\n",
              "      <td>-593225.850459</td>\n",
              "      <td>1.0</td>\n",
              "    </tr>\n",
              "    <tr>\n",
              "      <th>1</th>\n",
              "      <td>98.0</td>\n",
              "      <td>Coal</td>\n",
              "      <td>3.0</td>\n",
              "      <td>1.0</td>\n",
              "      <td>2.0</td>\n",
              "      <td>-95561.768130</td>\n",
              "      <td>-497404.511630</td>\n",
              "      <td>-795865.697521</td>\n",
              "      <td>-603309.891216</td>\n",
              "      <td>-592759.204507</td>\n",
              "      <td>1.0</td>\n",
              "    </tr>\n",
              "    <tr>\n",
              "      <th>2</th>\n",
              "      <td>39.2</td>\n",
              "      <td>Wind</td>\n",
              "      <td>3.0</td>\n",
              "      <td>1.0</td>\n",
              "      <td>2.0</td>\n",
              "      <td>-96296.152348</td>\n",
              "      <td>-500818.830595</td>\n",
              "      <td>-801288.975509</td>\n",
              "      <td>-607471.541986</td>\n",
              "      <td>-596872.211302</td>\n",
              "      <td>1.0</td>\n",
              "    </tr>\n",
              "    <tr>\n",
              "      <th>3</th>\n",
              "      <td>135.0</td>\n",
              "      <td>Gas</td>\n",
              "      <td>3.0</td>\n",
              "      <td>1.0</td>\n",
              "      <td>2.0</td>\n",
              "      <td>617.789264</td>\n",
              "      <td>843.747000</td>\n",
              "      <td>886.004428</td>\n",
              "      <td>663.774500</td>\n",
              "      <td>626.239128</td>\n",
              "      <td>0.0</td>\n",
              "    </tr>\n",
              "    <tr>\n",
              "      <th>4</th>\n",
              "      <td>1800.0</td>\n",
              "      <td>Coal</td>\n",
              "      <td>2.0</td>\n",
              "      <td>1.0</td>\n",
              "      <td>2.0</td>\n",
              "      <td>3035.550000</td>\n",
              "      <td>5916.370000</td>\n",
              "      <td>6243.000000</td>\n",
              "      <td>5385.579736</td>\n",
              "      <td>7279.000000</td>\n",
              "      <td>0.0</td>\n",
              "    </tr>\n",
              "    <tr>\n",
              "      <th>...</th>\n",
              "      <td>...</td>\n",
              "      <td>...</td>\n",
              "      <td>...</td>\n",
              "      <td>...</td>\n",
              "      <td>...</td>\n",
              "      <td>...</td>\n",
              "      <td>...</td>\n",
              "      <td>...</td>\n",
              "      <td>...</td>\n",
              "      <td>...</td>\n",
              "      <td>...</td>\n",
              "    </tr>\n",
              "    <tr>\n",
              "      <th>902</th>\n",
              "      <td>1600.0</td>\n",
              "      <td>Coal</td>\n",
              "      <td>2.0</td>\n",
              "      <td>1.0</td>\n",
              "      <td>2.0</td>\n",
              "      <td>522.961300</td>\n",
              "      <td>0.994875</td>\n",
              "      <td>233.596650</td>\n",
              "      <td>865.400000</td>\n",
              "      <td>686.500000</td>\n",
              "      <td>0.0</td>\n",
              "    </tr>\n",
              "    <tr>\n",
              "      <th>903</th>\n",
              "      <td>3.0</td>\n",
              "      <td>Solar</td>\n",
              "      <td>3.0</td>\n",
              "      <td>1.0</td>\n",
              "      <td>0.0</td>\n",
              "      <td>-96308.231890</td>\n",
              "      <td>-500657.391023</td>\n",
              "      <td>-801010.779522</td>\n",
              "      <td>-607290.618935</td>\n",
              "      <td>-596709.694641</td>\n",
              "      <td>1.0</td>\n",
              "    </tr>\n",
              "    <tr>\n",
              "      <th>904</th>\n",
              "      <td>25.5</td>\n",
              "      <td>Wind</td>\n",
              "      <td>3.0</td>\n",
              "      <td>1.0</td>\n",
              "      <td>2.0</td>\n",
              "      <td>-96326.993268</td>\n",
              "      <td>-500892.858549</td>\n",
              "      <td>-801399.623250</td>\n",
              "      <td>-607566.826833</td>\n",
              "      <td>-596971.574955</td>\n",
              "      <td>1.0</td>\n",
              "    </tr>\n",
              "    <tr>\n",
              "      <th>905</th>\n",
              "      <td>80.0</td>\n",
              "      <td>Coal</td>\n",
              "      <td>3.0</td>\n",
              "      <td>1.0</td>\n",
              "      <td>2.0</td>\n",
              "      <td>-95590.817827</td>\n",
              "      <td>-497442.773239</td>\n",
              "      <td>-795916.789995</td>\n",
              "      <td>-603363.581022</td>\n",
              "      <td>-592819.513163</td>\n",
              "      <td>1.0</td>\n",
              "    </tr>\n",
              "    <tr>\n",
              "      <th>906</th>\n",
              "      <td>16.5</td>\n",
              "      <td>Wind</td>\n",
              "      <td>3.0</td>\n",
              "      <td>1.0</td>\n",
              "      <td>2.0</td>\n",
              "      <td>-96339.139852</td>\n",
              "      <td>-500899.756921</td>\n",
              "      <td>-801405.622084</td>\n",
              "      <td>-607578.847630</td>\n",
              "      <td>-596987.166372</td>\n",
              "      <td>1.0</td>\n",
              "    </tr>\n",
              "  </tbody>\n",
              "</table>\n",
              "<p>907 rows × 11 columns</p>\n",
              "</div>\n",
              "      <button class=\"colab-df-convert\" onclick=\"convertToInteractive('df-21f109eb-06ae-41d2-b5ba-64604d74f45c')\"\n",
              "              title=\"Convert this dataframe to an interactive table.\"\n",
              "              style=\"display:none;\">\n",
              "        \n",
              "  <svg xmlns=\"http://www.w3.org/2000/svg\" height=\"24px\"viewBox=\"0 0 24 24\"\n",
              "       width=\"24px\">\n",
              "    <path d=\"M0 0h24v24H0V0z\" fill=\"none\"/>\n",
              "    <path d=\"M18.56 5.44l.94 2.06.94-2.06 2.06-.94-2.06-.94-.94-2.06-.94 2.06-2.06.94zm-11 1L8.5 8.5l.94-2.06 2.06-.94-2.06-.94L8.5 2.5l-.94 2.06-2.06.94zm10 10l.94 2.06.94-2.06 2.06-.94-2.06-.94-.94-2.06-.94 2.06-2.06.94z\"/><path d=\"M17.41 7.96l-1.37-1.37c-.4-.4-.92-.59-1.43-.59-.52 0-1.04.2-1.43.59L10.3 9.45l-7.72 7.72c-.78.78-.78 2.05 0 2.83L4 21.41c.39.39.9.59 1.41.59.51 0 1.02-.2 1.41-.59l7.78-7.78 2.81-2.81c.8-.78.8-2.07 0-2.86zM5.41 20L4 18.59l7.72-7.72 1.47 1.35L5.41 20z\"/>\n",
              "  </svg>\n",
              "      </button>\n",
              "      \n",
              "  <style>\n",
              "    .colab-df-container {\n",
              "      display:flex;\n",
              "      flex-wrap:wrap;\n",
              "      gap: 12px;\n",
              "    }\n",
              "\n",
              "    .colab-df-convert {\n",
              "      background-color: #E8F0FE;\n",
              "      border: none;\n",
              "      border-radius: 50%;\n",
              "      cursor: pointer;\n",
              "      display: none;\n",
              "      fill: #1967D2;\n",
              "      height: 32px;\n",
              "      padding: 0 0 0 0;\n",
              "      width: 32px;\n",
              "    }\n",
              "\n",
              "    .colab-df-convert:hover {\n",
              "      background-color: #E2EBFA;\n",
              "      box-shadow: 0px 1px 2px rgba(60, 64, 67, 0.3), 0px 1px 3px 1px rgba(60, 64, 67, 0.15);\n",
              "      fill: #174EA6;\n",
              "    }\n",
              "\n",
              "    [theme=dark] .colab-df-convert {\n",
              "      background-color: #3B4455;\n",
              "      fill: #D2E3FC;\n",
              "    }\n",
              "\n",
              "    [theme=dark] .colab-df-convert:hover {\n",
              "      background-color: #434B5C;\n",
              "      box-shadow: 0px 1px 3px 1px rgba(0, 0, 0, 0.15);\n",
              "      filter: drop-shadow(0px 1px 2px rgba(0, 0, 0, 0.3));\n",
              "      fill: #FFFFFF;\n",
              "    }\n",
              "  </style>\n",
              "\n",
              "      <script>\n",
              "        const buttonEl =\n",
              "          document.querySelector('#df-21f109eb-06ae-41d2-b5ba-64604d74f45c button.colab-df-convert');\n",
              "        buttonEl.style.display =\n",
              "          google.colab.kernel.accessAllowed ? 'block' : 'none';\n",
              "\n",
              "        async function convertToInteractive(key) {\n",
              "          const element = document.querySelector('#df-21f109eb-06ae-41d2-b5ba-64604d74f45c');\n",
              "          const dataTable =\n",
              "            await google.colab.kernel.invokeFunction('convertToInteractive',\n",
              "                                                     [key], {});\n",
              "          if (!dataTable) return;\n",
              "\n",
              "          const docLinkHtml = 'Like what you see? Visit the ' +\n",
              "            '<a target=\"_blank\" href=https://colab.research.google.com/notebooks/data_table.ipynb>data table notebook</a>'\n",
              "            + ' to learn more about interactive tables.';\n",
              "          element.innerHTML = '';\n",
              "          dataTable['output_type'] = 'display_data';\n",
              "          await google.colab.output.renderOutput(dataTable, element);\n",
              "          const docLink = document.createElement('div');\n",
              "          docLink.innerHTML = docLinkHtml;\n",
              "          element.appendChild(docLink);\n",
              "        }\n",
              "      </script>\n",
              "    </div>\n",
              "  </div>\n",
              "  "
            ]
          },
          "metadata": {},
          "execution_count": 437
        }
      ]
    },
    {
      "cell_type": "code",
      "source": [
        "## skewness in the data\n",
        "df.skew().sort_values(ascending=False)"
      ],
      "metadata": {
        "colab": {
          "base_uri": "https://localhost:8080/"
        },
        "id": "YlcgDTGZnsp8",
        "outputId": "f3368cae-9f10-4756-bca3-1dff289ac924"
      },
      "execution_count": 438,
      "outputs": [
        {
          "output_type": "execute_result",
          "data": {
            "text/plain": [
              "capacity_mw                3.123576\n",
              "generation_data_source    -0.019880\n",
              "generation_gwh_2014       -0.282116\n",
              "generation_gwh_2015       -0.292036\n",
              "generation_gwh_2018       -0.292129\n",
              "generation_gwh_2017       -0.292162\n",
              "generation_gwh_2016       -0.292293\n",
              "other_fuel1               -1.626786\n",
              "geolocation_source        -1.920302\n",
              "other_fuel2              -30.116441\n",
              "dtype: float64"
            ]
          },
          "metadata": {},
          "execution_count": 438
        }
      ]
    },
    {
      "cell_type": "code",
      "source": [
        "df.drop('other_fuel2',axis=1,inplace=True)\n",
        "df.skew().sort_values(ascending=False)"
      ],
      "metadata": {
        "colab": {
          "base_uri": "https://localhost:8080/"
        },
        "id": "0fcmXWlmoNwM",
        "outputId": "ea624381-af87-40cd-d882-c549b174a1ff"
      },
      "execution_count": 440,
      "outputs": [
        {
          "output_type": "execute_result",
          "data": {
            "text/plain": [
              "capacity_mw               3.123576\n",
              "generation_data_source   -0.019880\n",
              "generation_gwh_2014      -0.282116\n",
              "generation_gwh_2015      -0.292036\n",
              "generation_gwh_2018      -0.292129\n",
              "generation_gwh_2017      -0.292162\n",
              "generation_gwh_2016      -0.292293\n",
              "other_fuel1              -1.626786\n",
              "geolocation_source       -1.920302\n",
              "dtype: float64"
            ]
          },
          "metadata": {},
          "execution_count": 440
        }
      ]
    },
    {
      "cell_type": "code",
      "source": [
        "### Sepreating independent and dependent variable\n",
        "features = df.drop([\"primary_fuel\"],axis=1)\n",
        "target = df[\"primary_fuel\"]"
      ],
      "metadata": {
        "id": "v5wMHJgHoieB"
      },
      "execution_count": 442,
      "outputs": []
    },
    {
      "cell_type": "markdown",
      "source": [
        "# Feature Selection"
      ],
      "metadata": {
        "id": "C5g5szOqpCKZ"
      }
    },
    {
      "cell_type": "code",
      "source": [
        "from sklearn.ensemble import ExtraTreesClassifier\n",
        "clf = ExtraTreesClassifier(random_state=42)\n",
        "clf.fit(features, target)\n",
        "feature_important = pd.DataFrame(zip(features.columns.tolist(), clf.feature_importances_ * 100), columns=['Feature', 'Importance'])\n",
        "feature_important"
      ],
      "metadata": {
        "colab": {
          "base_uri": "https://localhost:8080/",
          "height": 332
        },
        "id": "THr9cDfyo3oE",
        "outputId": "66e90838-5646-4230-efc8-08b8337fa7a1"
      },
      "execution_count": 443,
      "outputs": [
        {
          "output_type": "execute_result",
          "data": {
            "text/plain": [
              "                  Feature  Importance\n",
              "0             capacity_mw    8.348491\n",
              "1             other_fuel1   16.482517\n",
              "2      geolocation_source   13.623972\n",
              "3     generation_gwh_2014    8.742344\n",
              "4     generation_gwh_2015   12.773355\n",
              "5     generation_gwh_2016   13.931737\n",
              "6     generation_gwh_2017   11.584129\n",
              "7     generation_gwh_2018   12.827236\n",
              "8  generation_data_source    1.686218"
            ],
            "text/html": [
              "\n",
              "  <div id=\"df-78ffb292-bff1-4b49-a6f4-c2528b2e132b\">\n",
              "    <div class=\"colab-df-container\">\n",
              "      <div>\n",
              "<style scoped>\n",
              "    .dataframe tbody tr th:only-of-type {\n",
              "        vertical-align: middle;\n",
              "    }\n",
              "\n",
              "    .dataframe tbody tr th {\n",
              "        vertical-align: top;\n",
              "    }\n",
              "\n",
              "    .dataframe thead th {\n",
              "        text-align: right;\n",
              "    }\n",
              "</style>\n",
              "<table border=\"1\" class=\"dataframe\">\n",
              "  <thead>\n",
              "    <tr style=\"text-align: right;\">\n",
              "      <th></th>\n",
              "      <th>Feature</th>\n",
              "      <th>Importance</th>\n",
              "    </tr>\n",
              "  </thead>\n",
              "  <tbody>\n",
              "    <tr>\n",
              "      <th>0</th>\n",
              "      <td>capacity_mw</td>\n",
              "      <td>8.348491</td>\n",
              "    </tr>\n",
              "    <tr>\n",
              "      <th>1</th>\n",
              "      <td>other_fuel1</td>\n",
              "      <td>16.482517</td>\n",
              "    </tr>\n",
              "    <tr>\n",
              "      <th>2</th>\n",
              "      <td>geolocation_source</td>\n",
              "      <td>13.623972</td>\n",
              "    </tr>\n",
              "    <tr>\n",
              "      <th>3</th>\n",
              "      <td>generation_gwh_2014</td>\n",
              "      <td>8.742344</td>\n",
              "    </tr>\n",
              "    <tr>\n",
              "      <th>4</th>\n",
              "      <td>generation_gwh_2015</td>\n",
              "      <td>12.773355</td>\n",
              "    </tr>\n",
              "    <tr>\n",
              "      <th>5</th>\n",
              "      <td>generation_gwh_2016</td>\n",
              "      <td>13.931737</td>\n",
              "    </tr>\n",
              "    <tr>\n",
              "      <th>6</th>\n",
              "      <td>generation_gwh_2017</td>\n",
              "      <td>11.584129</td>\n",
              "    </tr>\n",
              "    <tr>\n",
              "      <th>7</th>\n",
              "      <td>generation_gwh_2018</td>\n",
              "      <td>12.827236</td>\n",
              "    </tr>\n",
              "    <tr>\n",
              "      <th>8</th>\n",
              "      <td>generation_data_source</td>\n",
              "      <td>1.686218</td>\n",
              "    </tr>\n",
              "  </tbody>\n",
              "</table>\n",
              "</div>\n",
              "      <button class=\"colab-df-convert\" onclick=\"convertToInteractive('df-78ffb292-bff1-4b49-a6f4-c2528b2e132b')\"\n",
              "              title=\"Convert this dataframe to an interactive table.\"\n",
              "              style=\"display:none;\">\n",
              "        \n",
              "  <svg xmlns=\"http://www.w3.org/2000/svg\" height=\"24px\"viewBox=\"0 0 24 24\"\n",
              "       width=\"24px\">\n",
              "    <path d=\"M0 0h24v24H0V0z\" fill=\"none\"/>\n",
              "    <path d=\"M18.56 5.44l.94 2.06.94-2.06 2.06-.94-2.06-.94-.94-2.06-.94 2.06-2.06.94zm-11 1L8.5 8.5l.94-2.06 2.06-.94-2.06-.94L8.5 2.5l-.94 2.06-2.06.94zm10 10l.94 2.06.94-2.06 2.06-.94-2.06-.94-.94-2.06-.94 2.06-2.06.94z\"/><path d=\"M17.41 7.96l-1.37-1.37c-.4-.4-.92-.59-1.43-.59-.52 0-1.04.2-1.43.59L10.3 9.45l-7.72 7.72c-.78.78-.78 2.05 0 2.83L4 21.41c.39.39.9.59 1.41.59.51 0 1.02-.2 1.41-.59l7.78-7.78 2.81-2.81c.8-.78.8-2.07 0-2.86zM5.41 20L4 18.59l7.72-7.72 1.47 1.35L5.41 20z\"/>\n",
              "  </svg>\n",
              "      </button>\n",
              "      \n",
              "  <style>\n",
              "    .colab-df-container {\n",
              "      display:flex;\n",
              "      flex-wrap:wrap;\n",
              "      gap: 12px;\n",
              "    }\n",
              "\n",
              "    .colab-df-convert {\n",
              "      background-color: #E8F0FE;\n",
              "      border: none;\n",
              "      border-radius: 50%;\n",
              "      cursor: pointer;\n",
              "      display: none;\n",
              "      fill: #1967D2;\n",
              "      height: 32px;\n",
              "      padding: 0 0 0 0;\n",
              "      width: 32px;\n",
              "    }\n",
              "\n",
              "    .colab-df-convert:hover {\n",
              "      background-color: #E2EBFA;\n",
              "      box-shadow: 0px 1px 2px rgba(60, 64, 67, 0.3), 0px 1px 3px 1px rgba(60, 64, 67, 0.15);\n",
              "      fill: #174EA6;\n",
              "    }\n",
              "\n",
              "    [theme=dark] .colab-df-convert {\n",
              "      background-color: #3B4455;\n",
              "      fill: #D2E3FC;\n",
              "    }\n",
              "\n",
              "    [theme=dark] .colab-df-convert:hover {\n",
              "      background-color: #434B5C;\n",
              "      box-shadow: 0px 1px 3px 1px rgba(0, 0, 0, 0.15);\n",
              "      filter: drop-shadow(0px 1px 2px rgba(0, 0, 0, 0.3));\n",
              "      fill: #FFFFFF;\n",
              "    }\n",
              "  </style>\n",
              "\n",
              "      <script>\n",
              "        const buttonEl =\n",
              "          document.querySelector('#df-78ffb292-bff1-4b49-a6f4-c2528b2e132b button.colab-df-convert');\n",
              "        buttonEl.style.display =\n",
              "          google.colab.kernel.accessAllowed ? 'block' : 'none';\n",
              "\n",
              "        async function convertToInteractive(key) {\n",
              "          const element = document.querySelector('#df-78ffb292-bff1-4b49-a6f4-c2528b2e132b');\n",
              "          const dataTable =\n",
              "            await google.colab.kernel.invokeFunction('convertToInteractive',\n",
              "                                                     [key], {});\n",
              "          if (!dataTable) return;\n",
              "\n",
              "          const docLinkHtml = 'Like what you see? Visit the ' +\n",
              "            '<a target=\"_blank\" href=https://colab.research.google.com/notebooks/data_table.ipynb>data table notebook</a>'\n",
              "            + ' to learn more about interactive tables.';\n",
              "          element.innerHTML = '';\n",
              "          dataTable['output_type'] = 'display_data';\n",
              "          await google.colab.output.renderOutput(dataTable, element);\n",
              "          const docLink = document.createElement('div');\n",
              "          docLink.innerHTML = docLinkHtml;\n",
              "          element.appendChild(docLink);\n",
              "        }\n",
              "      </script>\n",
              "    </div>\n",
              "  </div>\n",
              "  "
            ]
          },
          "metadata": {},
          "execution_count": 443
        }
      ]
    },
    {
      "cell_type": "code",
      "source": [
        "# Features importance plot\n",
        "plt.figure(figsize=[20,6])\n",
        "sns.barplot(data=feature_important, x='Feature', y='Importance')\n",
        "plt.title('Features Importance', weight='bold', fontsize=15)\n",
        "plt.xlabel('Feature', weight='bold', fontsize=10)\n",
        "plt.ylabel('Importance (%)', weight='bold', fontsize=10);"
      ],
      "metadata": {
        "colab": {
          "base_uri": "https://localhost:8080/",
          "height": 333
        },
        "id": "apL2tjTypMjF",
        "outputId": "dcbb221d-3e77-4659-a32e-371fd2b34ab6"
      },
      "execution_count": 444,
      "outputs": [
        {
          "output_type": "display_data",
          "data": {
            "text/plain": [
              "<Figure size 1440x432 with 1 Axes>"
            ],
            "image/png": "[encoded data removed]"
          },
          "metadata": {
            "needs_background": "light"
          }
        }
      ]
    },
    {
      "cell_type": "markdown",
      "source": [
        "### Will drop generation _data_source"
      ],
      "metadata": {
        "id": "kJZI3iMcpbQl"
      }
    },
    {
      "cell_type": "code",
      "source": [
        "### will drop the coumn as they have negligble impact on the prediction\n",
        "features.drop(['generation_data_source'], axis=1, inplace=True)"
      ],
      "metadata": {
        "id": "BHLyvNd3pZei"
      },
      "execution_count": 445,
      "outputs": []
    },
    {
      "cell_type": "markdown",
      "source": [
        "### Feature Scaling"
      ],
      "metadata": {
        "id": "GiRqLqgWputb"
      }
    },
    {
      "cell_type": "code",
      "source": [
        "from sklearn.preprocessing import StandardScaler\n",
        "for col in features.columns:\n",
        "    SC = StandardScaler()\n",
        "    features[col] = SC.fit_transform(features[col].values.reshape(-1, 1))"
      ],
      "metadata": {
        "id": "n77N0apspsAj"
      },
      "execution_count": 446,
      "outputs": []
    },
    {
      "cell_type": "code",
      "source": [
        "# Checking for Imbalace in the data\n",
        "round(target.value_counts(normalize=True) * 100, 2)"
      ],
      "metadata": {
        "colab": {
          "base_uri": "https://localhost:8080/"
        },
        "id": "a5VOX_l7pyeR",
        "outputId": "8181dfe1-b731-4011-d4af-4fe0cb246407"
      },
      "execution_count": 447,
      "outputs": [
        {
          "output_type": "execute_result",
          "data": {
            "text/plain": [
              "Coal       28.45\n",
              "Hydro      27.67\n",
              "Solar      14.00\n",
              "Wind       13.56\n",
              "Gas         7.61\n",
              "Biomass     5.51\n",
              "Oil         2.21\n",
              "Nuclear     0.99\n",
              "Name: primary_fuel, dtype: float64"
            ]
          },
          "metadata": {},
          "execution_count": 447
        }
      ]
    },
    {
      "cell_type": "code",
      "source": [
        "from imblearn.over_sampling import RandomOverSampler\n",
        "ROS = RandomOverSampler(random_state=42)\n",
        "ROS.fit(features, target)\n",
        "features_resampled, target_resampled = ROS.fit_resample(features,target)\n",
        "round(target_resampled.value_counts(normalize=True) * 100, 2)"
      ],
      "metadata": {
        "colab": {
          "base_uri": "https://localhost:8080/"
        },
        "id": "0RGeMFntp1RF",
        "outputId": "89452502-c828-42a8-edca-1bede335f7c9"
      },
      "execution_count": 448,
      "outputs": [
        {
          "output_type": "execute_result",
          "data": {
            "text/plain": [
              "Solar      12.5\n",
              "Coal       12.5\n",
              "Wind       12.5\n",
              "Gas        12.5\n",
              "Hydro      12.5\n",
              "Biomass    12.5\n",
              "Oil        12.5\n",
              "Nuclear    12.5\n",
              "Name: primary_fuel, dtype: float64"
            ]
          },
          "metadata": {},
          "execution_count": 448
        }
      ]
    },
    {
      "cell_type": "markdown",
      "source": [
        "# Machine Learning"
      ],
      "metadata": {
        "id": "ITNeKKeXqC64"
      }
    },
    {
      "cell_type": "code",
      "source": [
        "# sklearn modules for ML model selection\n",
        "from sklearn.model_selection import train_test_split  # import 'train_test_split'\n",
        "from sklearn.model_selection import GridSearchCV\n",
        "from sklearn.model_selection import RandomizedSearchCV\n",
        "from sklearn.model_selection import ShuffleSplit\n",
        "from sklearn.model_selection import KFold\n",
        "from sklearn.model_selection import cross_val_score\n",
        "\n",
        "# Libraries for data modelling\n",
        "from sklearn import svm, tree, linear_model, neighbors\n",
        "from sklearn.linear_model import LogisticRegression\n",
        "from sklearn.tree import DecisionTreeClassifier\n",
        "from sklearn.neighbors import KNeighborsClassifier\n",
        "from sklearn.naive_bayes import GaussianNB\n",
        "from sklearn.svm import SVC\n",
        "from sklearn.neighbors import KNeighborsClassifier\n",
        "from xgboost import XGBClassifier\n",
        "from sklearn.ensemble import RandomForestClassifier\n",
        "from xgboost import XGBClassifier\n",
        "from sklearn.ensemble import AdaBoostClassifier\n",
        "\n",
        "# sklearn modules for performance metrics\n",
        "from sklearn.metrics import confusion_matrix, classification_report, precision_recall_curve\n",
        "from sklearn.metrics import auc, roc_auc_score, roc_curve, recall_score, log_loss\n",
        "from sklearn.metrics import f1_score, accuracy_score, roc_auc_score, make_scorer\n",
        "from sklearn.metrics import average_precision_score"
      ],
      "metadata": {
        "id": "u52y0bmhp8x9"
      },
      "execution_count": 449,
      "outputs": []
    },
    {
      "cell_type": "markdown",
      "source": [
        "#Model building and Evaluation (Function)"
      ],
      "metadata": {
        "id": "7PcT7UjCqNcY"
      }
    },
    {
      "cell_type": "code",
      "source": [
        "def Model_Building(Features,target,model):\n",
        "  Maximum_Accuracy=0\n",
        "\n",
        "  test_size=[0.2,0.25,0.3]\n",
        "  for j in test_size:\n",
        "    for i in range(100):\n",
        "        x_train, x_test, y_train, y_test = train_test_split(Features, target, test_size=j,\n",
        "                                                            random_state=i)\n",
        "        model.fit(x_train,y_train)\n",
        "        pred= model.predict(x_test)\n",
        "        acc=accuracy_score(y_test,pred)\n",
        "        check=model.predict(x_train)\n",
        "        check_acc=accuracy_score(y_train,check)\n",
        "            \n",
        "        if acc>Maximum_Accuracy:\n",
        "          Maximum_Accuracy=acc\n",
        "          print(\"Test set accuracy\",Maximum_Accuracy,\"Train set accuracy\",check_acc,'Random state',i,'test_size',j)"
      ],
      "metadata": {
        "id": "F2ehtcDxqI5O"
      },
      "execution_count": 450,
      "outputs": []
    },
    {
      "cell_type": "markdown",
      "source": [
        "## Logistic Regression"
      ],
      "metadata": {
        "id": "AZN9rUbjqXWR"
      }
    },
    {
      "cell_type": "code",
      "source": [
        "Model_Building(features_resampled, target_resampled,LogisticRegression(solver=\"liblinear\", random_state=1))"
      ],
      "metadata": {
        "colab": {
          "base_uri": "https://localhost:8080/"
        },
        "id": "hOyQlgwiqYFP",
        "outputId": "c8470fd7-589b-449c-ad83-925af3e739ea"
      },
      "execution_count": 451,
      "outputs": [
        {
          "output_type": "stream",
          "name": "stdout",
          "text": [
            "Test set accuracy 0.5617433414043583 Train set accuracy 0.5439127801332526 Random state 0 test_size 0.2\n",
            "Test set accuracy 0.5665859564164649 Train set accuracy 0.5899454875832829 Random state 1 test_size 0.2\n",
            "Test set accuracy 0.6053268765133172 Train set accuracy 0.6020593579648698 Random state 2 test_size 0.2\n",
            "Test set accuracy 0.6368038740920097 Train set accuracy 0.5917625681405209 Random state 5 test_size 0.2\n"
          ]
        }
      ]
    },
    {
      "cell_type": "code",
      "source": [
        "# make predictions\n",
        "x_train, x_test, y_train, y_test = train_test_split(features_resampled, target_resampled, test_size=0.2,random_state=5)\n",
        "LR =LogisticRegression(solver=\"liblinear\", random_state=1)\n",
        "\n",
        "\n",
        "\n",
        "LR.fit(x_train, y_train)\n",
        "pred_LR = LR.predict(x_test)\n",
        "\n",
        "# calculate accuracy score\n",
        "LR_accuracy = accuracy_score(y_test, pred_LR)\n",
        "print('Accuracy of Logistic Regression: {:.2f}%'.format(LR_accuracy*100))\n",
        "\n",
        "#classification report\n",
        "from sklearn.metrics import classification_report\n",
        "report = classification_report(y_test,pred_LR)\n",
        "print(report)\n",
        "# Confusion Matrix\n",
        "from sklearn.metrics import confusion_matrix\n",
        " \n",
        "cm = confusion_matrix(y_test,pred_LR)\n",
        "sns.heatmap(cm, annot=True, fmt=\"d\", cbar=False, linewidths=0.1,cmap=\"Blues\")\n",
        "plt.title('Confusion matrix of the classifier', fontsize=20)\n",
        "plt.ylabel('Actual label', fontsize=12)\n",
        "plt.xlabel('Predicted label', fontsize=12)\n",
        "\n",
        "plt.show()\n",
        "\n",
        "#roc auc score\n",
        "from sklearn.metrics import roc_curve, roc_auc_score\n",
        "Lr_prob_pred=LR.predict_proba(x_test)\n",
        "Lr_Score=roc_auc_score(y_test, Lr_prob_pred, multi_class='ovr', average='weighted')\n",
        "print(\"ROC-AUC-Score\",Lr_Score)"
      ],
      "metadata": {
        "colab": {
          "base_uri": "https://localhost:8080/",
          "height": 679
        },
        "id": "zX84UK0Vslcj",
        "outputId": "24513bb5-9f5c-491f-ecf5-bc146275ff03"
      },
      "execution_count": 501,
      "outputs": [
        {
          "output_type": "stream",
          "name": "stdout",
          "text": [
            "Accuracy of Logistic Regression: 63.68%\n",
            "              precision    recall  f1-score   support\n",
            "\n",
            "     Biomass       0.45      0.98      0.61        42\n",
            "        Coal       0.74      0.60      0.67        48\n",
            "         Gas       1.00      0.10      0.18        51\n",
            "       Hydro       0.55      0.86      0.67        65\n",
            "     Nuclear       0.73      0.87      0.80        63\n",
            "         Oil       0.00      0.00      0.00        39\n",
            "       Solar       1.00      1.00      1.00        57\n",
            "        Wind       0.50      0.42      0.45        48\n",
            "\n",
            "    accuracy                           0.64       413\n",
            "   macro avg       0.62      0.60      0.55       413\n",
            "weighted avg       0.65      0.64      0.58       413\n",
            "\n"
          ]
        },
        {
          "output_type": "display_data",
          "data": {
            "text/plain": [
              "<Figure size 576x396 with 1 Axes>"
            ],
            "image/png": "[encoded data removed]"
          },
          "metadata": {}
        },
        {
          "output_type": "stream",
          "name": "stdout",
          "text": [
            "ROC-AUC-Score 0.9111432457950125\n"
          ]
        }
      ]
    },
    {
      "cell_type": "markdown",
      "source": [
        "## KNN Classifier"
      ],
      "metadata": {
        "id": "GYvIvwPPqsiE"
      }
    },
    {
      "cell_type": "code",
      "source": [
        "Model_Building(features_resampled, target_resampled,KNeighborsClassifier())"
      ],
      "metadata": {
        "colab": {
          "base_uri": "https://localhost:8080/"
        },
        "id": "vNh6_Hi9qeS3",
        "outputId": "f3f9f867-b56a-4aad-a44b-77da4d695b83"
      },
      "execution_count": 452,
      "outputs": [
        {
          "output_type": "stream",
          "name": "stdout",
          "text": [
            "Test set accuracy 0.8910411622276029 Train set accuracy 0.9273167777104785 Random state 0 test_size 0.2\n",
            "Test set accuracy 0.9031476997578692 Train set accuracy 0.9267110841913991 Random state 3 test_size 0.2\n",
            "Test set accuracy 0.9176755447941889 Train set accuracy 0.9321623258631133 Random state 6 test_size 0.2\n",
            "Test set accuracy 0.9225181598062954 Train set accuracy 0.9261053906723198 Random state 39 test_size 0.2\n",
            "Test set accuracy 0.9263565891472868 Train set accuracy 0.9231266149870802 Random state 39 test_size 0.25\n"
          ]
        }
      ]
    },
    {
      "cell_type": "code",
      "source": [
        "# make predictions\n",
        "x_train, x_test, y_train, y_test = train_test_split(features_resampled, target_resampled, test_size=0.25,random_state=39)\n",
        "KNN =KNeighborsClassifier()\n",
        "\n",
        "\n",
        "\n",
        "KNN.fit(x_train, y_train)\n",
        "pred_KNN = KNN.predict(x_test)\n",
        "\n",
        "# calculate accuracy score\n",
        "KNN_accuracy = accuracy_score(y_test, pred_KNN)\n",
        "print('Accuracy of KNN CLASSIFIER: {:.2f}%'.format(KNN_accuracy*100))\n",
        "\n",
        "#classification report\n",
        "from sklearn.metrics import classification_report\n",
        "report = classification_report(y_test,pred_KNN)\n",
        "print(report)\n",
        "# Confusion Matrix\n",
        "from sklearn.metrics import confusion_matrix\n",
        " \n",
        "cm = confusion_matrix(y_test,pred_KNN)\n",
        "sns.heatmap(cm, annot=True, fmt=\"d\", cbar=False, linewidths=0.1,cmap=\"Blues\")\n",
        "plt.title('Confusion matrix of the classifier', fontsize=20)\n",
        "plt.ylabel('Actual label', fontsize=12)\n",
        "plt.xlabel('Predicted label', fontsize=12)\n",
        "\n",
        "plt.show()\n",
        "\n",
        "#roc auc score\n",
        "from sklearn.metrics import roc_curve, roc_auc_score\n",
        "KNN_prob_pred=KNN.predict_proba(x_test)\n",
        "KNN_Score=roc_auc_score(y_test, KNN_prob_pred, multi_class='ovr', average='weighted')\n",
        "print(\"ROC-AUC-Score\",KNN_Score)"
      ],
      "metadata": {
        "colab": {
          "base_uri": "https://localhost:8080/",
          "height": 679
        },
        "id": "U_mBdHuOu2ug",
        "outputId": "b96bb1e8-ef80-4251-e731-d9f0473c1ced"
      },
      "execution_count": 502,
      "outputs": [
        {
          "output_type": "stream",
          "name": "stdout",
          "text": [
            "Accuracy of KNN CLASSIFIER: 92.64%\n",
            "              precision    recall  f1-score   support\n",
            "\n",
            "     Biomass       0.93      0.99      0.96        67\n",
            "        Coal       0.96      0.80      0.87        56\n",
            "         Gas       0.76      0.90      0.83        72\n",
            "       Hydro       0.91      0.69      0.79        59\n",
            "     Nuclear       0.96      1.00      0.98        55\n",
            "         Oil       0.93      1.00      0.96        67\n",
            "       Solar       1.00      1.00      1.00        76\n",
            "        Wind       1.00      0.98      0.99        64\n",
            "\n",
            "    accuracy                           0.93       516\n",
            "   macro avg       0.93      0.92      0.92       516\n",
            "weighted avg       0.93      0.93      0.92       516\n",
            "\n"
          ]
        },
        {
          "output_type": "display_data",
          "data": {
            "text/plain": [
              "<Figure size 576x396 with 1 Axes>"
            ],
            "image/png": "[encoded data removed]"
          },
          "metadata": {}
        },
        {
          "output_type": "stream",
          "name": "stdout",
          "text": [
            "ROC-AUC-Score 0.9859804868321544\n"
          ]
        }
      ]
    },
    {
      "cell_type": "markdown",
      "source": [
        "## Gaussian Naive Bayes "
      ],
      "metadata": {
        "id": "h8zJr2mFu6vS"
      }
    },
    {
      "cell_type": "code",
      "source": [
        "Model_Building(features_resampled, target_resampled,GaussianNB())"
      ],
      "metadata": {
        "colab": {
          "base_uri": "https://localhost:8080/"
        },
        "id": "K-PcjZlrquNu",
        "outputId": "a5903b2b-c4a5-4f44-f40e-6e4d50362dae"
      },
      "execution_count": 453,
      "outputs": [
        {
          "output_type": "stream",
          "name": "stdout",
          "text": [
            "Test set accuracy 0.6803874092009685 Train set accuracy 0.6614173228346457 Random state 0 test_size 0.2\n",
            "Test set accuracy 0.6852300242130751 Train set accuracy 0.6717141126589945 Random state 21 test_size 0.2\n",
            "Test set accuracy 0.6924939467312349 Train set accuracy 0.646274984857662 Random state 34 test_size 0.2\n",
            "Test set accuracy 0.711864406779661 Train set accuracy 0.6450635978195033 Random state 65 test_size 0.2\n"
          ]
        }
      ]
    },
    {
      "cell_type": "code",
      "source": [
        "# make predictions\n",
        "x_train, x_test, y_train, y_test = train_test_split(features_resampled, target_resampled, test_size=0.2,random_state=65)\n",
        "GNB =GaussianNB()\n",
        "\n",
        "GNB.fit(x_train, y_train)\n",
        "pred_GNB = GNB.predict(x_test)\n",
        "\n",
        "# calculate accuracy score\n",
        "GNB_accuracy = accuracy_score(y_test, pred_GNB)\n",
        "print('Accuracy of GUSSIAN NAIVE BAYES: {:.2f}%'.format(GNB_accuracy*100))\n",
        "\n",
        "#classification report\n",
        "from sklearn.metrics import classification_report\n",
        "report = classification_report(y_test,pred_GNB)\n",
        "print(report)\n",
        "# Confusion Matrix\n",
        "from sklearn.metrics import confusion_matrix\n",
        " \n",
        "cm = confusion_matrix(y_test,pred_GNB)\n",
        "sns.heatmap(cm, annot=True, fmt=\"d\", cbar=False, linewidths=0.1,cmap=\"Blues\")\n",
        "plt.title('Confusion matrix of the classifier', fontsize=20)\n",
        "plt.ylabel('Actual label', fontsize=12)\n",
        "plt.xlabel('Predicted label', fontsize=12)\n",
        "\n",
        "plt.show()\n",
        "\n",
        "#roc auc score\n",
        "from sklearn.metrics import roc_curve, roc_auc_score\n",
        "GNB_prob_pred=GNB.predict_proba(x_test)\n",
        "GNB_Score=roc_auc_score(y_test, GNB_prob_pred, multi_class='ovr', average='weighted')\n",
        "print(\"ROC-AUC-Score\",GNB_Score)"
      ],
      "metadata": {
        "colab": {
          "base_uri": "https://localhost:8080/",
          "height": 679
        },
        "id": "5OoH7oBavCHs",
        "outputId": "f5592c11-a5fa-4313-c4d8-5cb0d3c51896"
      },
      "execution_count": 503,
      "outputs": [
        {
          "output_type": "stream",
          "name": "stdout",
          "text": [
            "Accuracy of GUSSIAN NAIVE BAYES: 71.19%\n",
            "              precision    recall  f1-score   support\n",
            "\n",
            "     Biomass       0.60      1.00      0.75        53\n",
            "        Coal       0.78      0.63      0.70        57\n",
            "         Gas       0.00      0.00      0.00        45\n",
            "       Hydro       0.46      0.98      0.63        52\n",
            "     Nuclear       0.83      0.71      0.76        48\n",
            "         Oil       0.56      0.19      0.29        47\n",
            "       Solar       1.00      1.00      1.00        60\n",
            "        Wind       1.00      1.00      1.00        51\n",
            "\n",
            "    accuracy                           0.71       413\n",
            "   macro avg       0.65      0.69      0.64       413\n",
            "weighted avg       0.67      0.71      0.66       413\n",
            "\n"
          ]
        },
        {
          "output_type": "display_data",
          "data": {
            "text/plain": [
              "<Figure size 576x396 with 1 Axes>"
            ],
            "image/png": "[encoded data removed]"
          },
          "metadata": {}
        },
        {
          "output_type": "stream",
          "name": "stdout",
          "text": [
            "ROC-AUC-Score 0.9069988061599877\n"
          ]
        }
      ]
    },
    {
      "cell_type": "markdown",
      "source": [
        "## Random Forest Classifier"
      ],
      "metadata": {
        "id": "XKkZ3dTgvMi1"
      }
    },
    {
      "cell_type": "code",
      "source": [
        "Model_Building(features_resampled, target_resampled,RandomForestClassifier(random_state=42))"
      ],
      "metadata": {
        "colab": {
          "base_uri": "https://localhost:8080/"
        },
        "id": "37e_qb_-q4XY",
        "outputId": "fb465905-1987-48e8-b2b2-6924ca3b4584"
      },
      "execution_count": 454,
      "outputs": [
        {
          "output_type": "stream",
          "name": "stdout",
          "text": [
            "Test set accuracy 0.9636803874092009 Train set accuracy 1.0 Random state 0 test_size 0.2\n",
            "Test set accuracy 0.9733656174334141 Train set accuracy 1.0 Random state 3 test_size 0.2\n",
            "Test set accuracy 0.9782082324455206 Train set accuracy 1.0 Random state 6 test_size 0.2\n",
            "Test set accuracy 0.9830508474576272 Train set accuracy 1.0 Random state 7 test_size 0.2\n",
            "Test set accuracy 0.9878934624697336 Train set accuracy 1.0 Random state 13 test_size 0.2\n"
          ]
        }
      ]
    },
    {
      "cell_type": "code",
      "source": [
        "# make predictions\n",
        "x_train, x_test, y_train, y_test = train_test_split(features_resampled, target_resampled, test_size=0.2,random_state=13)\n",
        "RF =RandomForestClassifier(random_state=42)\n",
        "\n",
        "RF.fit(x_train, y_train)\n",
        "pred_RF = RF.predict(x_test)\n",
        "\n",
        "# calculate accuracy score\n",
        "RF_accuracy = accuracy_score(y_test, pred_RF)\n",
        "print('Accuracy of RANDOM FOREST: {:.2f}%'.format(RF_accuracy*100))\n",
        "\n",
        "#classification report\n",
        "from sklearn.metrics import classification_report\n",
        "report = classification_report(y_test,pred_RF)\n",
        "print(report)\n",
        "# Confusion Matrix\n",
        "from sklearn.metrics import confusion_matrix\n",
        " \n",
        "cm = confusion_matrix(y_test,pred_RF)\n",
        "sns.heatmap(cm, annot=True, fmt=\"d\", cbar=False, linewidths=0.1,cmap=\"Blues\")\n",
        "plt.title('Confusion matrix of the classifier', fontsize=20)\n",
        "plt.ylabel('Actual label', fontsize=12)\n",
        "plt.xlabel('Predicted label', fontsize=12)\n",
        "\n",
        "plt.show()\n",
        "\n",
        "#roc auc score\n",
        "from sklearn.metrics import roc_curve, roc_auc_score\n",
        "RF_prob_pred=RF.predict_proba(x_test)\n",
        "RF_Score=roc_auc_score(y_test, RF_prob_pred, multi_class='ovr', average='weighted')\n",
        "print(\"ROC-AUC-Score\",RF_Score)"
      ],
      "metadata": {
        "colab": {
          "base_uri": "https://localhost:8080/",
          "height": 679
        },
        "id": "areyIUlmvNcw",
        "outputId": "c2eb9f78-4830-42b1-9b49-d5a91d959827"
      },
      "execution_count": 504,
      "outputs": [
        {
          "output_type": "stream",
          "name": "stdout",
          "text": [
            "Accuracy of RANDOM FOREST: 98.79%\n",
            "              precision    recall  f1-score   support\n",
            "\n",
            "     Biomass       0.96      1.00      0.98        49\n",
            "        Coal       1.00      0.93      0.96        58\n",
            "         Gas       0.95      1.00      0.97        56\n",
            "       Hydro       1.00      0.97      0.99        37\n",
            "     Nuclear       1.00      1.00      1.00        41\n",
            "         Oil       1.00      1.00      1.00        64\n",
            "       Solar       1.00      1.00      1.00        51\n",
            "        Wind       1.00      1.00      1.00        57\n",
            "\n",
            "    accuracy                           0.99       413\n",
            "   macro avg       0.99      0.99      0.99       413\n",
            "weighted avg       0.99      0.99      0.99       413\n",
            "\n"
          ]
        },
        {
          "output_type": "display_data",
          "data": {
            "text/plain": [
              "<Figure size 576x396 with 1 Axes>"
            ],
            "image/png": "[encoded data removed]"
          },
          "metadata": {}
        },
        {
          "output_type": "stream",
          "name": "stdout",
          "text": [
            "ROC-AUC-Score 0.9997666159610535\n"
          ]
        }
      ]
    },
    {
      "cell_type": "markdown",
      "source": [
        "## Decision Tree Classifier"
      ],
      "metadata": {
        "id": "GJXVcAf6vUSm"
      }
    },
    {
      "cell_type": "code",
      "source": [
        "Model_Building(features_resampled, target_resampled,DecisionTreeClassifier(random_state=42))"
      ],
      "metadata": {
        "colab": {
          "base_uri": "https://localhost:8080/"
        },
        "id": "LljhS5g4q-iT",
        "outputId": "1be974da-fcca-4cd5-951c-095e75d18d73"
      },
      "execution_count": 455,
      "outputs": [
        {
          "output_type": "stream",
          "name": "stdout",
          "text": [
            "Test set accuracy 0.9515738498789347 Train set accuracy 1.0 Random state 0 test_size 0.2\n",
            "Test set accuracy 0.9539951573849879 Train set accuracy 1.0 Random state 2 test_size 0.2\n",
            "Test set accuracy 0.9661016949152542 Train set accuracy 1.0 Random state 3 test_size 0.2\n",
            "Test set accuracy 0.9685230024213075 Train set accuracy 1.0 Random state 7 test_size 0.2\n",
            "Test set accuracy 0.9782082324455206 Train set accuracy 1.0 Random state 13 test_size 0.2\n",
            "Test set accuracy 0.9806295399515739 Train set accuracy 1.0 Random state 22 test_size 0.2\n"
          ]
        }
      ]
    },
    {
      "cell_type": "code",
      "source": [
        "# make predictions\n",
        "x_train, x_test, y_train, y_test = train_test_split(features_resampled, target_resampled, test_size=0.2,random_state=22)\n",
        "DT =DecisionTreeClassifier(random_state=42)\n",
        "\n",
        "DT.fit(x_train, y_train)\n",
        "pred_DT = DT.predict(x_test)\n",
        "\n",
        "# calculate accuracy score\n",
        "DT_accuracy = accuracy_score(y_test, pred_DT)\n",
        "print('Accuracy of DECISION TREE: {:.2f}%'.format(DT_accuracy*100))\n",
        "\n",
        "#classification report\n",
        "from sklearn.metrics import classification_report\n",
        "report = classification_report(y_test,pred_DT)\n",
        "print(report)\n",
        "# Confusion Matrix\n",
        "from sklearn.metrics import confusion_matrix\n",
        " \n",
        "cm = confusion_matrix(y_test,pred_DT)\n",
        "sns.heatmap(cm, annot=True, fmt=\"d\", cbar=False, linewidths=0.1,cmap=\"Blues\")\n",
        "plt.title('Confusion matrix of the classifier', fontsize=20)\n",
        "plt.ylabel('Actual label', fontsize=12)\n",
        "plt.xlabel('Predicted label', fontsize=12)\n",
        "\n",
        "plt.show()\n",
        "\n",
        "#roc auc score\n",
        "from sklearn.metrics import roc_curve, roc_auc_score\n",
        "DT_prob_pred=DT.predict_proba(x_test)\n",
        "DT_Score=roc_auc_score(y_test, DT_prob_pred, multi_class='ovr', average='weighted')\n",
        "print(\"ROC-AUC-Score\",DT_Score)"
      ],
      "metadata": {
        "colab": {
          "base_uri": "https://localhost:8080/",
          "height": 679
        },
        "id": "wjvGf_mTvVLC",
        "outputId": "52cc42b6-f690-40ac-980b-7ea2f31c2a9b"
      },
      "execution_count": 505,
      "outputs": [
        {
          "output_type": "stream",
          "name": "stdout",
          "text": [
            "Accuracy of DECISION TREE: 98.06%\n",
            "              precision    recall  f1-score   support\n",
            "\n",
            "     Biomass       0.98      1.00      0.99        49\n",
            "        Coal       1.00      0.92      0.96        38\n",
            "         Gas       0.91      1.00      0.95        60\n",
            "       Hydro       1.00      0.91      0.95        56\n",
            "     Nuclear       1.00      1.00      1.00        61\n",
            "         Oil       0.98      1.00      0.99        41\n",
            "       Solar       1.00      1.00      1.00        55\n",
            "        Wind       1.00      1.00      1.00        53\n",
            "\n",
            "    accuracy                           0.98       413\n",
            "   macro avg       0.98      0.98      0.98       413\n",
            "weighted avg       0.98      0.98      0.98       413\n",
            "\n"
          ]
        },
        {
          "output_type": "display_data",
          "data": {
            "text/plain": [
              "<Figure size 576x396 with 1 Axes>"
            ],
            "image/png": "[encoded data removed]"
          },
          "metadata": {}
        },
        {
          "output_type": "stream",
          "name": "stdout",
          "text": [
            "ROC-AUC-Score 0.9887837040354631\n"
          ]
        }
      ]
    },
    {
      "cell_type": "markdown",
      "source": [
        "## ADA Boost Classifier"
      ],
      "metadata": {
        "id": "8iaGDYU7vV4F"
      }
    },
    {
      "cell_type": "code",
      "source": [
        "Model_Building(features_resampled, target_resampled,AdaBoostClassifier())"
      ],
      "metadata": {
        "colab": {
          "base_uri": "https://localhost:8080/"
        },
        "id": "F44yEAuKrGHp",
        "outputId": "537e37ba-7d7e-481c-9434-a74953086d61"
      },
      "execution_count": 456,
      "outputs": [
        {
          "output_type": "stream",
          "name": "stdout",
          "text": [
            "Test set accuracy 0.3365617433414044 Train set accuracy 0.3840096910963053 Random state 0 test_size 0.2\n",
            "Test set accuracy 0.3486682808716707 Train set accuracy 0.3809812235009085 Random state 1 test_size 0.2\n",
            "Test set accuracy 0.36319612590799033 Train set accuracy 0.3779527559055118 Random state 2 test_size 0.2\n",
            "Test set accuracy 0.3922518159806295 Train set accuracy 0.3706844336765597 Random state 3 test_size 0.2\n",
            "Test set accuracy 0.3946731234866828 Train set accuracy 0.3700787401574803 Random state 6 test_size 0.2\n",
            "Test set accuracy 0.4019370460048426 Train set accuracy 0.36826165960024226 Random state 10 test_size 0.2\n",
            "Test set accuracy 0.4067796610169492 Train set accuracy 0.4463961235614779 Random state 25 test_size 0.2\n",
            "Test set accuracy 0.4188861985472155 Train set accuracy 0.36402180496668685 Random state 33 test_size 0.2\n",
            "Test set accuracy 0.5230024213075061 Train set accuracy 0.4912174439733495 Random state 34 test_size 0.2\n"
          ]
        }
      ]
    },
    {
      "cell_type": "code",
      "source": [
        "# make predictions\n",
        "x_train, x_test, y_train, y_test = train_test_split(features_resampled, target_resampled, test_size=0.2,random_state=34)\n",
        "ADA =AdaBoostClassifier()\n",
        "\n",
        "ADA.fit(x_train, y_train)\n",
        "pred_ADA = ADA.predict(x_test)\n",
        "\n",
        "# calculate accuracy score\n",
        "ADA_accuracy = accuracy_score(y_test, pred_ADA)\n",
        "print('Accuracy of ADA BOOST CLASSIFIER: {:.2f}%'.format(ADA_accuracy*100))\n",
        "\n",
        "#classification report\n",
        "from sklearn.metrics import classification_report\n",
        "report = classification_report(y_test,pred_ADA)\n",
        "print(report)\n",
        "# Confusion Matrix\n",
        "from sklearn.metrics import confusion_matrix\n",
        " \n",
        "cm = confusion_matrix(y_test,pred_ADA)\n",
        "sns.heatmap(cm, annot=True, fmt=\"d\", cbar=False, linewidths=0.1,cmap=\"Blues\")\n",
        "plt.title('Confusion matrix of the classifier', fontsize=20)\n",
        "plt.ylabel('Actual label', fontsize=12)\n",
        "plt.xlabel('Predicted label', fontsize=12)\n",
        "\n",
        "plt.show()\n",
        "\n",
        "#roc auc score\n",
        "from sklearn.metrics import roc_curve, roc_auc_score\n",
        "ADA_prob_pred=ADA.predict_proba(x_test)\n",
        "ADA_Score=roc_auc_score(y_test, ADA_prob_pred, multi_class='ovr', average='weighted')\n",
        "print(\"ROC-AUC-Score\",ADA_Score)"
      ],
      "metadata": {
        "colab": {
          "base_uri": "https://localhost:8080/",
          "height": 679
        },
        "id": "RfBFjjO4v3Vg",
        "outputId": "c2279cea-e6f3-4a03-82fd-1a3a672f9ffe"
      },
      "execution_count": 506,
      "outputs": [
        {
          "output_type": "stream",
          "name": "stdout",
          "text": [
            "Accuracy of ADA BOOST CLASSIFIER: 52.30%\n",
            "              precision    recall  f1-score   support\n",
            "\n",
            "     Biomass       0.74      0.96      0.84        57\n",
            "        Coal       0.00      0.00      0.00        42\n",
            "         Gas       0.00      0.00      0.00        52\n",
            "       Hydro       0.26      1.00      0.41        61\n",
            "     Nuclear       0.00      0.00      0.00        61\n",
            "         Oil       0.00      0.00      0.00        39\n",
            "       Solar       1.00      0.98      0.99        45\n",
            "        Wind       1.00      1.00      1.00        56\n",
            "\n",
            "    accuracy                           0.52       413\n",
            "   macro avg       0.37      0.49      0.40       413\n",
            "weighted avg       0.38      0.52      0.42       413\n",
            "\n"
          ]
        },
        {
          "output_type": "display_data",
          "data": {
            "text/plain": [
              "<Figure size 576x396 with 1 Axes>"
            ],
            "image/png": "[encoded data removed]"
          },
          "metadata": {}
        },
        {
          "output_type": "stream",
          "name": "stdout",
          "text": [
            "ROC-AUC-Score 0.7904892977165845\n"
          ]
        }
      ]
    },
    {
      "cell_type": "markdown",
      "source": [
        "## Support Vector Machine"
      ],
      "metadata": {
        "id": "gp9tKoHkv_fn"
      }
    },
    {
      "cell_type": "code",
      "source": [
        "Model_Building(features_resampled, target_resampled,SVC())"
      ],
      "metadata": {
        "colab": {
          "base_uri": "https://localhost:8080/"
        },
        "id": "siU1Yj-arffM",
        "outputId": "da8e0a70-1416-4eaf-cde8-08311c902d3f"
      },
      "execution_count": 457,
      "outputs": [
        {
          "output_type": "stream",
          "name": "stdout",
          "text": [
            "Test set accuracy 0.5811138014527845 Train set accuracy 0.5639006662628709 Random state 0 test_size 0.2\n",
            "Test set accuracy 0.5835351089588378 Train set accuracy 0.562083585705633 Random state 2 test_size 0.2\n",
            "Test set accuracy 0.6029055690072639 Train set accuracy 0.5693519079345851 Random state 5 test_size 0.2\n",
            "Test set accuracy 0.6053268765133172 Train set accuracy 0.5578437310720775 Random state 27 test_size 0.2\n",
            "Test set accuracy 0.6077481840193705 Train set accuracy 0.5560266505148395 Random state 61 test_size 0.2\n",
            "Test set accuracy 0.6101694915254238 Train set accuracy 0.5548152634766808 Random state 65 test_size 0.2\n",
            "Test set accuracy 0.6104651162790697 Train set accuracy 0.5516795865633075 Random state 61 test_size 0.25\n"
          ]
        }
      ]
    },
    {
      "cell_type": "code",
      "source": [
        "# make predictions\n",
        "x_train, x_test, y_train, y_test = train_test_split(features_resampled, target_resampled, test_size=0.25,random_state=61)\n",
        "SVM =SVC()\n",
        "\n",
        "SVM.fit(x_train, y_train)\n",
        "pred_SVM = SVM.predict(x_test)\n",
        "\n",
        "# calculate accuracy score\n",
        "SVM_accuracy = accuracy_score(y_test, pred_SVM)\n",
        "print('Accuracy of SUPPORT VECTOR MACHINE: {:.2f}%'.format(SVM_accuracy*100))\n",
        "\n",
        "#classification report\n",
        "from sklearn.metrics import classification_report\n",
        "report = classification_report(y_test,pred_SVM)\n",
        "print(report)\n",
        "# Confusion Matrix\n",
        "from sklearn.metrics import confusion_matrix\n",
        " \n",
        "cm = confusion_matrix(y_test,pred_SVM)\n",
        "sns.heatmap(cm, annot=True, fmt=\"d\", cbar=False, linewidths=0.1,cmap=\"Blues\")\n",
        "plt.title('Confusion matrix of the classifier', fontsize=20)\n",
        "plt.ylabel('Actual label', fontsize=12)\n",
        "plt.xlabel('Predicted label', fontsize=12)\n",
        "\n",
        "plt.show()\n",
        "\n",
        "## SVM DOESNOT SUPPORT AUC CURVE"
      ],
      "metadata": {
        "colab": {
          "base_uri": "https://localhost:8080/",
          "height": 662
        },
        "id": "NGPF3MYjruvR",
        "outputId": "48a577d8-3906-4390-9189-64ca225e9523"
      },
      "execution_count": 508,
      "outputs": [
        {
          "output_type": "stream",
          "name": "stdout",
          "text": [
            "Accuracy of SUPPORT VECTOR MACHINE: 61.05%\n",
            "              precision    recall  f1-score   support\n",
            "\n",
            "     Biomass       0.45      1.00      0.62        66\n",
            "        Coal       0.86      0.77      0.81        62\n",
            "         Gas       0.37      0.25      0.30        64\n",
            "       Hydro       0.50      0.84      0.62        79\n",
            "     Nuclear       0.69      0.57      0.62        58\n",
            "         Oil       1.00      0.08      0.15        60\n",
            "       Solar       1.00      0.97      0.99        75\n",
            "        Wind       0.80      0.15      0.26        52\n",
            "\n",
            "    accuracy                           0.61       516\n",
            "   macro avg       0.71      0.58      0.55       516\n",
            "weighted avg       0.70      0.61      0.57       516\n",
            "\n"
          ]
        },
        {
          "output_type": "display_data",
          "data": {
            "text/plain": [
              "<Figure size 576x396 with 1 Axes>"
            ],
            "image/png": "[encoded data removed]"
          },
          "metadata": {}
        }
      ]
    },
    {
      "cell_type": "markdown",
      "source": [
        "##  Random Forest has the maximum auc_score we will perform hyper parametric tunning to get better result on it\n",
        "### Hyper Parametric Tuning on Random Forest\n",
        "\n",
        "\n",
        "##Can also go ahead with these too 1. Decision Tree 2. KNN"
      ],
      "metadata": {
        "id": "1H19ruW34IMx"
      }
    },
    {
      "cell_type": "code",
      "source": [
        "%%time\n",
        "\n",
        "x_train, x_test, y_train, y_test = train_test_split(features_resampled, target_resampled, test_size=0.2,random_state=13)\n",
        "rf = RandomForestClassifier(random_state=5)\n",
        "\n",
        "estimators = [int(x) for x in np.linspace(start=10, stop=150, num=15)]\n",
        "depth = [int(x) for x in np.linspace(start=10, stop=150, num=15)]\n",
        "param_grid = {    'n_estimators': estimators,\n",
        "                  'max_depth': depth\n",
        "              }\n",
        "\n",
        "grid_rf = GridSearchCV(rf,\n",
        "                        param_grid=param_grid,\n",
        "                        scoring=\"accuracy\",\n",
        "                        cv=5)\n",
        "\n",
        "grid_fit = grid_rf.fit(x_train, y_train)\n",
        "rf_opt = grid_fit.best_estimator_\n",
        "\n",
        "\n",
        "print(\"best estimator: \" + str(grid_rf.best_estimator_))\n",
        "print(\"best params: \" + str(grid_rf.best_params_))\n",
        "print(\"best score:\", grid_rf.best_score_)"
      ],
      "metadata": {
        "colab": {
          "base_uri": "https://localhost:8080/"
        },
        "id": "tq7AMT6KwLfv",
        "outputId": "b9c3324e-3393-4a10-e760-35bf6ee59351"
      },
      "execution_count": 514,
      "outputs": [
        {
          "output_type": "stream",
          "name": "stdout",
          "text": [
            "best estimator: RandomForestClassifier(max_depth=20, n_estimators=90, random_state=5)\n",
            "best params: {'max_depth': 20, 'n_estimators': 90}\n",
            "best score: 0.9660844090451342\n",
            "CPU times: user 4min 12s, sys: 1.36 s, total: 4min 14s\n",
            "Wall time: 4min 14s\n"
          ]
        }
      ]
    },
    {
      "cell_type": "code",
      "source": [
        "# make predictions\n",
        "\n",
        "pred_rf = grid_rf.predict(x_test)\n",
        "\n",
        "# calculate accuracy score\n",
        "logit_accuracy = accuracy_score(y_test, pred_rf)\n",
        "print('Accuracy of Random Forest Classifier: {:.2f}%'.format(logit_accuracy*100))\n",
        "\n",
        "#classification report\n",
        "from sklearn.metrics import classification_report\n",
        "report = classification_report(y_test,pred_rf)\n",
        "print(report)"
      ],
      "metadata": {
        "colab": {
          "base_uri": "https://localhost:8080/"
        },
        "id": "xKZu9lFs4fBW",
        "outputId": "a75db779-8609-4a99-a44f-28905015349d"
      },
      "execution_count": 515,
      "outputs": [
        {
          "output_type": "stream",
          "name": "stdout",
          "text": [
            "Accuracy of Random Forest Classifier: 98.79%\n",
            "              precision    recall  f1-score   support\n",
            "\n",
            "     Biomass       0.98      1.00      0.99        49\n",
            "        Coal       1.00      0.93      0.96        58\n",
            "         Gas       0.93      1.00      0.97        56\n",
            "       Hydro       1.00      0.97      0.99        37\n",
            "     Nuclear       1.00      1.00      1.00        41\n",
            "         Oil       1.00      1.00      1.00        64\n",
            "       Solar       1.00      1.00      1.00        51\n",
            "        Wind       1.00      1.00      1.00        57\n",
            "\n",
            "    accuracy                           0.99       413\n",
            "   macro avg       0.99      0.99      0.99       413\n",
            "weighted avg       0.99      0.99      0.99       413\n",
            "\n"
          ]
        }
      ]
    },
    {
      "cell_type": "code",
      "source": [
        "# Confusion Matrix\n",
        "from sklearn.metrics import confusion_matrix\n",
        " \n",
        "cm = confusion_matrix(y_test,pred_rf)\n",
        "sns.heatmap(cm, annot=True, fmt=\"d\", cbar=False, linewidths=0.1,cmap=\"Blues\")\n",
        "plt.title('Confusion matrix of the classifier', fontsize=20)\n",
        "plt.ylabel('Actual label', fontsize=12)\n",
        "plt.xlabel('Predicted label', fontsize=12)\n",
        "\n",
        "plt.show()"
      ],
      "metadata": {
        "colab": {
          "base_uri": "https://localhost:8080/",
          "height": 384
        },
        "id": "Htk-Lhly4pZy",
        "outputId": "285c9d81-a6f5-4ba7-d347-5b2b569e91a8"
      },
      "execution_count": 516,
      "outputs": [
        {
          "output_type": "display_data",
          "data": {
            "text/plain": [
              "<Figure size 576x396 with 1 Axes>"
            ],
            "image/png": "[encoded data removed]"
          },
          "metadata": {}
        }
      ]
    },
    {
      "cell_type": "code",
      "source": [
        "#roc auc score\n",
        "from sklearn.metrics import roc_curve, roc_auc_score\n",
        "y_prob_pred_cnb=grid_rf.predict_proba(x_test)\n",
        "Score=roc_auc_score(y_test, y_prob_pred_cnb, multi_class='ovr', average='weighted')\n",
        "print(\"ROC-AUC-Score\",Score)"
      ],
      "metadata": {
        "colab": {
          "base_uri": "https://localhost:8080/"
        },
        "id": "C-Ntb-hE4uGS",
        "outputId": "7db5970e-c5af-492e-e5c5-7d36917a3663"
      },
      "execution_count": 517,
      "outputs": [
        {
          "output_type": "stream",
          "name": "stdout",
          "text": [
            "ROC-AUC-Score 0.999782429085265\n"
          ]
        }
      ]
    },
    {
      "cell_type": "markdown",
      "source": [
        "# Creating a pickle file"
      ],
      "metadata": {
        "id": "rYYizuHR5Ctu"
      }
    },
    {
      "cell_type": "code",
      "source": [
        "import pickle\n",
        "# # saved the trained model in file with given name\n",
        "pickle_out = open(\"loan_Case_Study.pkl\",\"wb\") # name of my pickle file , wb -write\n",
        "pickle.dump(grid_rf, pickle_out)\n",
        "pickle_out.close()\n",
        "# loading the pickeled model\n",
        "pickle_in = open(\"loan_Case_Study.pkl\",\"rb\") # rb -> read the pickel file\n",
        "trained_model = pickle.load(pickle_in)\n",
        "pd.DataFrame([trained_model.predict(x_test)[:],y_test[:]],index=[\"Predicted\",\"Original\"])"
      ],
      "metadata": {
        "colab": {
          "base_uri": "https://localhost:8080/",
          "height": 205
        },
        "id": "prSLasHc5Bkf",
        "outputId": "bb046a7d-eebd-4ac7-80a7-a41aa89edc24"
      },
      "execution_count": 518,
      "outputs": [
        {
          "output_type": "execute_result",
          "data": {
            "text/plain": [
              "               0    1    2        3     4        5        6    7        8    \\\n",
              "Predicted  Biomass  Gas  Oil  Nuclear  Coal  Nuclear  Nuclear  Oil  Biomass   \n",
              "Original   Biomass  Gas  Oil  Nuclear  Coal  Nuclear  Nuclear  Oil  Biomass   \n",
              "\n",
              "             9    ...   403      404  405    406      407   408      409  \\\n",
              "Predicted  Solar  ...  Wind  Nuclear  Oil  Hydro  Biomass  Coal  Nuclear   \n",
              "Original   Solar  ...  Wind  Nuclear  Oil  Hydro     Coal  Coal  Nuclear   \n",
              "\n",
              "               410      411      412  \n",
              "Predicted  Biomass  Nuclear  Nuclear  \n",
              "Original   Biomass  Nuclear  Nuclear  \n",
              "\n",
              "[2 rows x 413 columns]"
            ],
            "text/html": [
              "\n",
              "  <div id=\"df-eaf77dcd-59b8-4b78-8b41-552788103d37\">\n",
              "    <div class=\"colab-df-container\">\n",
              "      <div>\n",
              "<style scoped>\n",
              "    .dataframe tbody tr th:only-of-type {\n",
              "        vertical-align: middle;\n",
              "    }\n",
              "\n",
              "    .dataframe tbody tr th {\n",
              "        vertical-align: top;\n",
              "    }\n",
              "\n",
              "    .dataframe thead th {\n",
              "        text-align: right;\n",
              "    }\n",
              "</style>\n",
              "<table border=\"1\" class=\"dataframe\">\n",
              "  <thead>\n",
              "    <tr style=\"text-align: right;\">\n",
              "      <th></th>\n",
              "      <th>0</th>\n",
              "      <th>1</th>\n",
              "      <th>2</th>\n",
              "      <th>3</th>\n",
              "      <th>4</th>\n",
              "      <th>5</th>\n",
              "      <th>6</th>\n",
              "      <th>7</th>\n",
              "      <th>8</th>\n",
              "      <th>9</th>\n",
              "      <th>...</th>\n",
              "      <th>403</th>\n",
              "      <th>404</th>\n",
              "      <th>405</th>\n",
              "      <th>406</th>\n",
              "      <th>407</th>\n",
              "      <th>408</th>\n",
              "      <th>409</th>\n",
              "      <th>410</th>\n",
              "      <th>411</th>\n",
              "      <th>412</th>\n",
              "    </tr>\n",
              "  </thead>\n",
              "  <tbody>\n",
              "    <tr>\n",
              "      <th>Predicted</th>\n",
              "      <td>Biomass</td>\n",
              "      <td>Gas</td>\n",
              "      <td>Oil</td>\n",
              "      <td>Nuclear</td>\n",
              "      <td>Coal</td>\n",
              "      <td>Nuclear</td>\n",
              "      <td>Nuclear</td>\n",
              "      <td>Oil</td>\n",
              "      <td>Biomass</td>\n",
              "      <td>Solar</td>\n",
              "      <td>...</td>\n",
              "      <td>Wind</td>\n",
              "      <td>Nuclear</td>\n",
              "      <td>Oil</td>\n",
              "      <td>Hydro</td>\n",
              "      <td>Biomass</td>\n",
              "      <td>Coal</td>\n",
              "      <td>Nuclear</td>\n",
              "      <td>Biomass</td>\n",
              "      <td>Nuclear</td>\n",
              "      <td>Nuclear</td>\n",
              "    </tr>\n",
              "    <tr>\n",
              "      <th>Original</th>\n",
              "      <td>Biomass</td>\n",
              "      <td>Gas</td>\n",
              "      <td>Oil</td>\n",
              "      <td>Nuclear</td>\n",
              "      <td>Coal</td>\n",
              "      <td>Nuclear</td>\n",
              "      <td>Nuclear</td>\n",
              "      <td>Oil</td>\n",
              "      <td>Biomass</td>\n",
              "      <td>Solar</td>\n",
              "      <td>...</td>\n",
              "      <td>Wind</td>\n",
              "      <td>Nuclear</td>\n",
              "      <td>Oil</td>\n",
              "      <td>Hydro</td>\n",
              "      <td>Coal</td>\n",
              "      <td>Coal</td>\n",
              "      <td>Nuclear</td>\n",
              "      <td>Biomass</td>\n",
              "      <td>Nuclear</td>\n",
              "      <td>Nuclear</td>\n",
              "    </tr>\n",
              "  </tbody>\n",
              "</table>\n",
              "<p>2 rows × 413 columns</p>\n",
              "</div>\n",
              "      <button class=\"colab-df-convert\" onclick=\"convertToInteractive('df-eaf77dcd-59b8-4b78-8b41-552788103d37')\"\n",
              "              title=\"Convert this dataframe to an interactive table.\"\n",
              "              style=\"display:none;\">\n",
              "        \n",
              "  <svg xmlns=\"http://www.w3.org/2000/svg\" height=\"24px\"viewBox=\"0 0 24 24\"\n",
              "       width=\"24px\">\n",
              "    <path d=\"M0 0h24v24H0V0z\" fill=\"none\"/>\n",
              "    <path d=\"M18.56 5.44l.94 2.06.94-2.06 2.06-.94-2.06-.94-.94-2.06-.94 2.06-2.06.94zm-11 1L8.5 8.5l.94-2.06 2.06-.94-2.06-.94L8.5 2.5l-.94 2.06-2.06.94zm10 10l.94 2.06.94-2.06 2.06-.94-2.06-.94-.94-2.06-.94 2.06-2.06.94z\"/><path d=\"M17.41 7.96l-1.37-1.37c-.4-.4-.92-.59-1.43-.59-.52 0-1.04.2-1.43.59L10.3 9.45l-7.72 7.72c-.78.78-.78 2.05 0 2.83L4 21.41c.39.39.9.59 1.41.59.51 0 1.02-.2 1.41-.59l7.78-7.78 2.81-2.81c.8-.78.8-2.07 0-2.86zM5.41 20L4 18.59l7.72-7.72 1.47 1.35L5.41 20z\"/>\n",
              "  </svg>\n",
              "      </button>\n",
              "      \n",
              "  <style>\n",
              "    .colab-df-container {\n",
              "      display:flex;\n",
              "      flex-wrap:wrap;\n",
              "      gap: 12px;\n",
              "    }\n",
              "\n",
              "    .colab-df-convert {\n",
              "      background-color: #E8F0FE;\n",
              "      border: none;\n",
              "      border-radius: 50%;\n",
              "      cursor: pointer;\n",
              "      display: none;\n",
              "      fill: #1967D2;\n",
              "      height: 32px;\n",
              "      padding: 0 0 0 0;\n",
              "      width: 32px;\n",
              "    }\n",
              "\n",
              "    .colab-df-convert:hover {\n",
              "      background-color: #E2EBFA;\n",
              "      box-shadow: 0px 1px 2px rgba(60, 64, 67, 0.3), 0px 1px 3px 1px rgba(60, 64, 67, 0.15);\n",
              "      fill: #174EA6;\n",
              "    }\n",
              "\n",
              "    [theme=dark] .colab-df-convert {\n",
              "      background-color: #3B4455;\n",
              "      fill: #D2E3FC;\n",
              "    }\n",
              "\n",
              "    [theme=dark] .colab-df-convert:hover {\n",
              "      background-color: #434B5C;\n",
              "      box-shadow: 0px 1px 3px 1px rgba(0, 0, 0, 0.15);\n",
              "      filter: drop-shadow(0px 1px 2px rgba(0, 0, 0, 0.3));\n",
              "      fill: #FFFFFF;\n",
              "    }\n",
              "  </style>\n",
              "\n",
              "      <script>\n",
              "        const buttonEl =\n",
              "          document.querySelector('#df-eaf77dcd-59b8-4b78-8b41-552788103d37 button.colab-df-convert');\n",
              "        buttonEl.style.display =\n",
              "          google.colab.kernel.accessAllowed ? 'block' : 'none';\n",
              "\n",
              "        async function convertToInteractive(key) {\n",
              "          const element = document.querySelector('#df-eaf77dcd-59b8-4b78-8b41-552788103d37');\n",
              "          const dataTable =\n",
              "            await google.colab.kernel.invokeFunction('convertToInteractive',\n",
              "                                                     [key], {});\n",
              "          if (!dataTable) return;\n",
              "\n",
              "          const docLinkHtml = 'Like what you see? Visit the ' +\n",
              "            '<a target=\"_blank\" href=https://colab.research.google.com/notebooks/data_table.ipynb>data table notebook</a>'\n",
              "            + ' to learn more about interactive tables.';\n",
              "          element.innerHTML = '';\n",
              "          dataTable['output_type'] = 'display_data';\n",
              "          await google.colab.output.renderOutput(dataTable, element);\n",
              "          const docLink = document.createElement('div');\n",
              "          docLink.innerHTML = docLinkHtml;\n",
              "          element.appendChild(docLink);\n",
              "        }\n",
              "      </script>\n",
              "    </div>\n",
              "  </div>\n",
              "  "
            ]
          },
          "metadata": {},
          "execution_count": 518
        }
      ]
    },
    {
      "cell_type": "markdown",
      "source": [
        "# Completed case study of Global Power\n",
        "# 1. Regression problem for capacity_mw\n",
        "# 2. Classification  problem for Primary_fuel"
      ],
      "metadata": {
        "id": "19pkRWCy_lD-"
      }
    }
  ]
}